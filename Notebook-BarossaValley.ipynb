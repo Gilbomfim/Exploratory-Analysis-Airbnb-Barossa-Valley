{
    "metadata": {
        "kernelspec": {
            "name": "SQL",
            "display_name": "SQL",
            "language": "sql"
        },
        "language_info": {
            "name": "sql",
            "version": ""
        }
    },
    "nbformat_minor": 2,
    "nbformat": 4,
    "cells": [
        {
            "cell_type": "markdown",
            "source": [
                "**EXPLORATORY ANALYSIS ON AIRBNB BAROSSA VALLEY DATASET**"
            ],
            "metadata": {
                "azdata_cell_guid": "4a80198f-e098-46b1-b6b9-cc1fc98d75fd",
                "language": ""
            },
            "attachments": {}
        },
        {
            "cell_type": "markdown",
            "source": [
                "**<span lang=\"EN-AU\" style=\"font-size: 10.5pt; font-family: &quot;Calibri(Body)&quot;, serif; color: black;\">What to expect from this project?</span>**\n",
                "\n",
                "<span lang=\"EN-AU\" style=\"font-size: 10.5pt; font-family: &quot;Calibri(Body)&quot;, serif; color: black;\">-Data Cleaning and Pre-processing</span>\n",
                "\n",
                "<span lang=\"EN-AU\" style=\"font-size: 10.5pt; font-family: &quot;Calibri(Body)&quot;, serif; color: black;\">-Statistical Analysis</span>\n",
                "\n",
                "<span lang=\"EN-AU\" style=\"font-size: 10.5pt; font-family: &quot;Calibri(Body)&quot;, serif; color: black;\">-Exploratory Analysis</span>"
            ],
            "metadata": {
                "azdata_cell_guid": "6b256b4e-c2d7-4d94-8240-936c969cd9a2"
            },
            "attachments": {}
        },
        {
            "cell_type": "markdown",
            "source": [
                "**<span lang=\"EN-AU\" style=\"font-size:\n",
                "10.5pt;font-family:&quot;Calibri(Body)&quot;,serif;mso-fareast-font-family:&quot;Times New Roman&quot;;\n",
                "mso-bidi-font-family:&quot;Segoe UI&quot;;color:black;mso-color-alt:windowtext;\n",
                "mso-ansi-language:EN-AU;mso-fareast-language:PT-BR\">Context</span>**\n",
                "\n",
                "<span lang=\"EN-AU\" style=\"font-size:10.5pt;\n",
                "font-family:&quot;Calibri(Body)&quot;,serif;mso-fareast-font-family:&quot;Times New Roman&quot;;\n",
                "mso-bidi-font-family:&quot;Segoe UI&quot;;color:black;mso-color-alt:windowtext;\n",
                "mso-ansi-language:EN-AU;mso-fareast-language:PT-BR\">In this project, we aim to use SQL to clean and analyze the Airbnb Barossa Valley dataset, a popular tourist destination known for its picturesque landscapes, renowned wineries, and rich cultural heritage. We will focus on different aspects such as the most popular types of properties, average rental prices, and busiest seasons for tourism. By gaining a deeper understanding of the Airbnb rental market in the Barossa Valley, we hope to provide valuable insights for property owners, tourists, and other stakeholders interested in the region. Additionally, identifying patterns and trends in the market will provide valuable information for those looking to invest in or enter the Barossa Valley property market on Airbnb.</span>\n",
                "\n",
                "<span style=\"font-size: 10.5pt; color: black; font-family: &quot;Calibri(Body)&quot;, serif;\"><b>Actions we will take in this project:</b></span>\n",
                "\n",
                "<span lang=\"EN-AU\" style=\"font-size:10.5pt;\n",
                "font-family:&quot;Calibri(Body)&quot;,serif;mso-fareast-font-family:&quot;Times New Roman&quot;;\n",
                "mso-bidi-font-family:&quot;Segoe UI&quot;;color:black;mso-color-alt:windowtext;\n",
                "mso-ansi-language:EN-AU;mso-fareast-language:PT-BR\">-Clean and organize the dataset using SQL</span>\n",
                "\n",
                "<span style=\"color: black; font-family: &quot;Calibri(Body)&quot;, serif; font-size: 10.5pt;\">-Analyze the most popular types of properties available for rent</span>\n",
                "\n",
                "<span lang=\"EN-AU\" style=\"font-size:10.5pt;\n",
                "font-family:&quot;Calibri(Body)&quot;,serif;mso-fareast-font-family:&quot;Times New Roman&quot;;\n",
                "mso-bidi-font-family:&quot;Segoe UI&quot;;color:black;mso-color-alt:windowtext;\n",
                "mso-ansi-language:EN-AU;mso-fareast-language:PT-BR\">-Determine the average rental prices for properties in the Barossa Valley</span>\n",
                "\n",
                "<span lang=\"EN-AU\" style=\"font-size:10.5pt;\n",
                "font-family:&quot;Calibri(Body)&quot;,serif;mso-fareast-font-family:&quot;Times New Roman&quot;;\n",
                "mso-bidi-font-family:&quot;Segoe UI&quot;;color:black;mso-color-alt:windowtext;\n",
                "mso-ansi-language:EN-AU;mso-fareast-language:PT-BR\">-Determine the financial performance for Airbnb properties in the Barossa Valley<br></span>\n",
                "\n",
                "<span lang=\"EN-AU\" style=\"font-size:10.5pt;\n",
                "font-family:&quot;Calibri(Body)&quot;,serif;mso-fareast-font-family:&quot;Times New Roman&quot;;\n",
                "mso-bidi-font-family:&quot;Segoe UI&quot;;color:black;mso-color-alt:windowtext;\n",
                "mso-ansi-language:EN-AU;mso-fareast-language:PT-BR\">-Determine the financial performance for Airbnb hosts in the Barossa Valley<br></span>\n",
                "\n",
                "<span style=\"color: black; font-family: &quot;Calibri(Body)&quot;, serif; font-size: 10.5pt;\">-Investigate patterns and trends in the Barossa Valley property market on Airbnb</span>\n",
                "\n",
                "<span lang=\"EN-AU\" style=\"font-size:10.5pt;\n",
                "font-family:&quot;Calibri(Body)&quot;,serif;mso-fareast-font-family:&quot;Times New Roman&quot;;\n",
                "mso-bidi-font-family:&quot;Segoe UI&quot;;color:black;mso-color-alt:windowtext;\n",
                "mso-ansi-language:EN-AU;mso-fareast-language:PT-BR\">-Provide valuable insights for property owners, tourists, and other stakeholders interested in the region.</span>\n",
                "\n",
                "<span lang=\"EN-AU\" style=\"font-size:10.5pt;\n",
                "font-family:&quot;Calibri(Body)&quot;,serif;mso-fareast-font-family:&quot;Times New Roman&quot;;\n",
                "mso-bidi-font-family:&quot;Segoe UI&quot;;color:black;mso-color-alt:windowtext;\n",
                "mso-ansi-language:EN-AU;mso-fareast-language:PT-BR\">-Identify opportunities for investment in the Barossa Valley property market on Airbnb.</span>"
            ],
            "metadata": {
                "azdata_cell_guid": "0edb51bd-79d8-4409-af9f-d9fed5ede212"
            },
            "attachments": {}
        },
        {
            "cell_type": "markdown",
            "source": [
                "**<span style=\"font-size:10.5pt;font-family:&quot;Calibri body&quot;,serif;mso-fareast-font-family:\n",
                "&quot;Times New Roman&quot;;mso-bidi-font-family:&quot;Segoe UI&quot;;color:black;mso-fareast-language:\n",
                "PT-BR\">Table of Contents</span>**\n",
                "\n",
                "<span style=\"font-size: 10.5pt; font-family: &quot;Calibri body&quot;, serif; color: black;\">1.<span style=\"font-variant-numeric: normal; font-variant-east-asian: normal; font-stretch: normal; font-size: 7pt; line-height: normal; font-family: &quot;Times New Roman&quot;;\">&nbsp;&nbsp;&nbsp;&nbsp;&nbsp; </span></span> **<span style=\"font-size:10.5pt;font-family:\n",
                "&quot;Calibri body&quot;,serif;mso-fareast-font-family:&quot;Times New Roman&quot;;mso-bidi-font-family:\n",
                "&quot;Segoe UI&quot;;color:black;mso-fareast-language:PT-BR\">Data Quality Check and Cleaning</span>**\n",
                "\n",
                " <span lang=\"EN-AU\" style=\"font-size:10.5pt;font-family:&quot;Calibri body&quot;,serif;mso-fareast-font-family:\n",
                "&quot;Times New Roman&quot;;mso-bidi-font-family:&quot;Segoe UI&quot;;color:black;mso-ansi-language:\n",
                "EN-AU;mso-fareast-language:PT-BR\">&nbsp;Diagnosticing data issues | Dropping columns&nbsp; | Dropping missing values</span>\n",
                "\n",
                "<span style=\"font-size: 10.5pt; font-family: &quot;Calibri body&quot;, serif; color: black;\">2.<span style=\"font-variant-numeric: normal; font-variant-east-asian: normal; font-stretch: normal; font-size: 7pt; line-height: normal; font-family: &quot;Times New Roman&quot;;\">&nbsp;&nbsp;&nbsp;&nbsp;&nbsp; </span></span> **<span style=\"font-size:10.5pt;font-family:\n",
                "&quot;Calibri body&quot;,serif;mso-fareast-font-family:&quot;Times New Roman&quot;;mso-bidi-font-family:\n",
                "&quot;Segoe UI&quot;;color:black;mso-fareast-language:PT-BR\">Descriptive Analysis</span>**\n",
                "\n",
                "<span lang=\"EN-AU\" style=\"font-size:10.5pt;font-family:&quot;Calibri body&quot;,serif;mso-fareast-font-family:\n",
                "&quot;Times New Roman&quot;;mso-bidi-font-family:&quot;Segoe UI&quot;;color:black;mso-ansi-language:\n",
                "EN-AU;mso-fareast-language:PT-BR\">Summary statistic of price|&nbsp; Frequency table of rental price&nbsp;</span> \n",
                "\n",
                "<span style=\"font-size:10.5pt;font-family:&quot;Calibri body&quot;,serif;mso-fareast-font-family:\n",
                "&quot;Calibri body&quot;;mso-bidi-font-family:&quot;Calibri body&quot;;color:black;mso-fareast-language:\n",
                "PT-BR\">3.<span style=\"font-variant-numeric: normal; font-variant-east-asian: normal; font-stretch: normal; font-size: 7pt; line-height: normal; font-family: &quot;Times New Roman&quot;;\">&nbsp;&nbsp;&nbsp;&nbsp;&nbsp; </span></span> **<span style=\"font-size:10.5pt;font-family:\n",
                "&quot;Calibri body&quot;,serif;mso-fareast-font-family:&quot;Times New Roman&quot;;mso-bidi-font-family:\n",
                "&quot;Segoe UI&quot;;color:black;mso-fareast-language:PT-BR\">Exploratory Analysis</span>**\n",
                "\n",
                "<span style=\"font-size: 10.5pt; font-family: &quot;Calibri body&quot;, serif; color: black;\">The best locations to invest| The best types of properties</span>\n",
                "\n",
                "<span style=\"color: rgb(0, 0, 0); font-family: &quot;Calibri body&quot;, serif;\">|B</span><span style=\"font-size: 10.5pt; color: black; font-family: &quot;Calibri(Body)&quot;, serif;\">ehavior of the best hosts in the market</span><span style=\"color: rgb(0, 0, 0); font-family: &quot;Calibri body&quot;, serif;\">| Properties under $100</span>\n",
                "\n",
                "<span style=\"font-size: 10.5pt; font-family: &quot;Calibri body&quot;, serif; color: black;\">4.<span style=\"font-variant-numeric: normal; font-variant-east-asian: normal; font-stretch: normal; font-size: 7pt; line-height: normal; font-family: &quot;Times New Roman&quot;;\">&nbsp;&nbsp;&nbsp;&nbsp;&nbsp; </span></span> **<span style=\"font-size:10.5pt;font-family:\n",
                "&quot;Calibri body&quot;,serif;mso-fareast-font-family:&quot;Times New Roman&quot;;mso-bidi-font-family:\n",
                "&quot;Segoe UI&quot;;color:black;mso-fareast-language:PT-BR\">Conclusion</span>**\n",
                "\n",
                "<span style=\"font-size:10.5pt;font-family:&quot;Calibri body&quot;,serif;mso-fareast-font-family:\n",
                "&quot;Calibri body&quot;;mso-bidi-font-family:&quot;Calibri body&quot;;color:black;mso-fareast-language:\n",
                "PT-BR\">5.<span style=\"font-variant-numeric: normal; font-variant-east-asian: normal; font-stretch: normal; font-size: 7pt; line-height: normal; font-family: &quot;Times New Roman&quot;;\">&nbsp;&nbsp;&nbsp;&nbsp;&nbsp; </span></span> **<span style=\"font-size:10.5pt;font-family:\n",
                "&quot;Calibri body&quot;,serif;mso-fareast-font-family:&quot;Times New Roman&quot;;mso-bidi-font-family:\n",
                "&quot;Segoe UI&quot;;color:black;mso-fareast-language:PT-BR\">References</span>**"
            ],
            "metadata": {
                "azdata_cell_guid": "8fdc8d89-118c-4200-b64b-579a284515b6"
            },
            "attachments": {}
        },
        {
            "cell_type": "markdown",
            "source": [
                "**DATA QUALITY CHECK AND CLEANING THE DATASET**"
            ],
            "metadata": {
                "azdata_cell_guid": "21b99ff0-b428-42aa-a0c1-41dd04a3a298"
            },
            "attachments": {}
        },
        {
            "cell_type": "code",
            "source": [
                "-- AN OVERVIEW OF BAROSSA VALLEY AIRBNB DATASET, THE FIRST 20 ROWS.\r\n",
                "select TOP(20)*\r\n",
                "FROM [listings (1)]"
            ],
            "metadata": {
                "azdata_cell_guid": "fee58223-431a-43c1-969f-abd6b091d051",
                "language": "sql",
                "tags": []
            },
            "outputs": [
                {
                    "output_type": "display_data",
                    "data": {
                        "text/html": "(20 rows affected)"
                    },
                    "metadata": {}
                },
                {
                    "output_type": "display_data",
                    "data": {
                        "text/html": "Total execution time: 00:00:00.061"
                    },
                    "metadata": {}
                },
                {
                    "output_type": "execute_result",
                    "execution_count": 130,
                    "data": {
                        "application/vnd.dataresource+json": {
                            "schema": {
                                "fields": [
                                    {
                                        "name": "id"
                                    },
                                    {
                                        "name": "name"
                                    },
                                    {
                                        "name": "host_id"
                                    },
                                    {
                                        "name": "host_name"
                                    },
                                    {
                                        "name": "neighbourhood"
                                    },
                                    {
                                        "name": "latitude"
                                    },
                                    {
                                        "name": "longitude"
                                    },
                                    {
                                        "name": "room_type"
                                    },
                                    {
                                        "name": "price"
                                    },
                                    {
                                        "name": "minimum_nights"
                                    },
                                    {
                                        "name": "number_of_reviews"
                                    },
                                    {
                                        "name": "last_review"
                                    },
                                    {
                                        "name": "reviews_per_month"
                                    },
                                    {
                                        "name": "calculated_host_listings_count"
                                    },
                                    {
                                        "name": "availability_365"
                                    },
                                    {
                                        "name": "number_of_reviews_ltm"
                                    }
                                ]
                            },
                            "data": [
                                {
                                    "0": "1125097",
                                    "1": "Strathlyn Coach House Barossa",
                                    "2": "6172214",
                                    "3": "Heather",
                                    "4": "Angaston",
                                    "5": "-3449389",
                                    "6": "13902942",
                                    "7": "Entire home/apt",
                                    "8": "254",
                                    "9": "2",
                                    "10": "166",
                                    "11": "2022-09-19",
                                    "12": "151",
                                    "13": "3",
                                    "14": "302",
                                    "15": "24"
                                },
                                {
                                    "0": "1133195",
                                    "1": "Strathlyn Lemon Tree Spa  Barossa",
                                    "2": "6172214",
                                    "3": "Heather",
                                    "4": "Penrice",
                                    "5": "-3449403",
                                    "6": "13903202",
                                    "7": "Entire home/apt",
                                    "8": "236",
                                    "9": "2",
                                    "10": "59",
                                    "11": "2022-09-04",
                                    "12": "61",
                                    "13": "3",
                                    "14": "323",
                                    "15": "14"
                                },
                                {
                                    "0": "1133236",
                                    "1": "Strathlyn Spa Garden Suites Barossa",
                                    "2": "6172214",
                                    "3": "Heather",
                                    "4": "Penrice",
                                    "5": "-3449356",
                                    "6": "13903221",
                                    "7": "Private room",
                                    "8": "260",
                                    "9": "1",
                                    "10": "49",
                                    "11": "2022-09-18",
                                    "12": "47",
                                    "13": "3",
                                    "14": "318",
                                    "15": "15"
                                },
                                {
                                    "0": "1178384",
                                    "1": "Country cottage getaway",
                                    "2": "2122575",
                                    "3": "Tanya",
                                    "4": "Nuriootpa",
                                    "5": "-3446694",
                                    "6": "1389936",
                                    "7": "Private room",
                                    "8": "104",
                                    "9": "1",
                                    "10": "0",
                                    "11": "NULL",
                                    "12": "NULL",
                                    "13": "1",
                                    "14": "335",
                                    "15": "0"
                                },
                                {
                                    "0": "1710462",
                                    "1": "Shea-Oak Log Studio Shed",
                                    "2": "6645956",
                                    "3": "Kylie And Tom",
                                    "4": "Shea-Oak Log",
                                    "5": "-3451049",
                                    "6": "13881731",
                                    "7": "Entire home/apt",
                                    "8": "102",
                                    "9": "2",
                                    "10": "497",
                                    "11": "2022-09-06",
                                    "12": "459",
                                    "13": "1",
                                    "14": "330",
                                    "15": "30"
                                },
                                {
                                    "0": "1787389",
                                    "1": "Barossa Valley Apt 1 offers 2 bedrooms 2 bathroom",
                                    "2": "9380091",
                                    "3": "Kym",
                                    "4": "Tanunda",
                                    "5": "-3452835",
                                    "6": "13895364",
                                    "7": "Entire home/apt",
                                    "8": "400",
                                    "9": "2",
                                    "10": "17",
                                    "11": "2020-12-04",
                                    "12": "21",
                                    "13": "17",
                                    "14": "50",
                                    "15": "0"
                                },
                                {
                                    "0": "2028951",
                                    "1": "2 bedrooms with Woodfire, Barossa Country Cottages",
                                    "2": "10421165",
                                    "3": "Mark And Fiona",
                                    "4": "Lyndoch",
                                    "5": "-3460374",
                                    "6": "13888348",
                                    "7": "Entire home/apt",
                                    "8": "209",
                                    "9": "2",
                                    "10": "8",
                                    "11": "2022-09-05",
                                    "12": "145",
                                    "13": "2",
                                    "14": "309",
                                    "15": "8"
                                },
                                {
                                    "0": "2327616",
                                    "1": "Gawler River Farm B and B.",
                                    "2": "6713275",
                                    "3": "Bill",
                                    "4": "Gawler River",
                                    "5": "-3460563",
                                    "6": "13864823",
                                    "7": "Entire home/apt",
                                    "8": "90",
                                    "9": "1",
                                    "10": "125",
                                    "11": "2022-09-21",
                                    "12": "135",
                                    "13": "1",
                                    "14": "343",
                                    "15": "29"
                                },
                                {
                                    "0": "2567051",
                                    "1": "The Miners Cottage Barossa Valley",
                                    "2": "10726293",
                                    "3": "Rebecca",
                                    "4": "Cockatoo Valley",
                                    "5": "-3463884",
                                    "6": "13884564",
                                    "7": "Private room",
                                    "8": "210",
                                    "9": "2",
                                    "10": "31",
                                    "11": "2022-08-22",
                                    "12": "32",
                                    "13": "1",
                                    "14": "267",
                                    "15": "5"
                                },
                                {
                                    "0": "3506622",
                                    "1": "A nice room in a big 4 b/room house",
                                    "2": "17656515",
                                    "3": "Andrew",
                                    "4": "Buchfelde",
                                    "5": "-3461874",
                                    "6": "13873199",
                                    "7": "Private room",
                                    "8": "85",
                                    "9": "1",
                                    "10": "0",
                                    "11": "NULL",
                                    "12": "NULL",
                                    "13": "1",
                                    "14": "365",
                                    "15": "0"
                                },
                                {
                                    "0": "5289072",
                                    "1": "Mt McKenzie Raspberry Farm",
                                    "2": "27321203",
                                    "3": "Phillip",
                                    "4": "Flaxman Valley",
                                    "5": "-3456405",
                                    "6": "13907988",
                                    "7": "Entire home/apt",
                                    "8": "200",
                                    "9": "3",
                                    "10": "119",
                                    "11": "2022-08-24",
                                    "12": "141",
                                    "13": "1",
                                    "14": "134",
                                    "15": "20"
                                },
                                {
                                    "0": "5426792",
                                    "1": "\"The Shed\"",
                                    "2": "28149709",
                                    "3": "Andrew & Belinda",
                                    "4": "Nuriootpa",
                                    "5": "-3446397",
                                    "6": "13900191",
                                    "7": "Entire home/apt",
                                    "8": "63",
                                    "9": "1",
                                    "10": "138",
                                    "11": "2022-09-11",
                                    "12": "166",
                                    "13": "1",
                                    "14": "219",
                                    "15": "15"
                                },
                                {
                                    "0": "5537173",
                                    "1": "1837 Barossa Luxury  Vineyard Cottage S Australia",
                                    "2": "28712482",
                                    "3": "Nelly",
                                    "4": "Lyndoch",
                                    "5": "-3458347",
                                    "6": "13886353",
                                    "7": "Entire home/apt",
                                    "8": "425",
                                    "9": "2",
                                    "10": "34",
                                    "11": "2022-09-17",
                                    "12": "70",
                                    "13": "3",
                                    "14": "303",
                                    "15": "11"
                                },
                                {
                                    "0": "6157653",
                                    "1": "Barossa Barn Bed & Breakfast",
                                    "2": "31945359",
                                    "3": "Julie",
                                    "4": "Penrice",
                                    "5": "-344877",
                                    "6": "13904407",
                                    "7": "Entire home/apt",
                                    "8": "277",
                                    "9": "2",
                                    "10": "28",
                                    "11": "2022-04-19",
                                    "12": "32",
                                    "13": "1",
                                    "14": "80",
                                    "15": "3"
                                },
                                {
                                    "0": "6170279",
                                    "1": "Little Para Cottage",
                                    "2": "32013001",
                                    "3": "Wendy",
                                    "4": "Tanunda",
                                    "5": "-3451062",
                                    "6": "13897196",
                                    "7": "Entire home/apt",
                                    "8": "206",
                                    "9": "2",
                                    "10": "160",
                                    "11": "2022-09-11",
                                    "12": "177",
                                    "13": "1",
                                    "14": "6",
                                    "15": "16"
                                },
                                {
                                    "0": "6170887",
                                    "1": "Elderton Wines Guest House",
                                    "2": "32017867",
                                    "3": "Elderton",
                                    "4": "Nuriootpa",
                                    "5": "-3447628",
                                    "6": "13899761",
                                    "7": "Entire home/apt",
                                    "8": "350",
                                    "9": "1",
                                    "10": "30",
                                    "11": "2022-08-08",
                                    "12": "34",
                                    "13": "1",
                                    "14": "214",
                                    "15": "4"
                                },
                                {
                                    "0": "6296823",
                                    "1": "Cosy 2-bedroom Cottage in the heart of the Barossa",
                                    "2": "32743215",
                                    "3": "Veritas Retreat Barossa",
                                    "4": "Tanunda",
                                    "5": "-3450314",
                                    "6": "13895909",
                                    "7": "Entire home/apt",
                                    "8": "290",
                                    "9": "2",
                                    "10": "80",
                                    "11": "2022-09-19",
                                    "12": "89",
                                    "13": "2",
                                    "14": "270",
                                    "15": "11"
                                },
                                {
                                    "0": "6861247",
                                    "1": "Rustic on 13th",
                                    "2": "35954891",
                                    "3": "Kirsten",
                                    "4": "Buchfelde",
                                    "5": "-3460501",
                                    "6": "13874353",
                                    "7": "Entire home/apt",
                                    "8": "239",
                                    "9": "4",
                                    "10": "46",
                                    "11": "2022-05-05",
                                    "12": "63",
                                    "13": "1",
                                    "14": "152",
                                    "15": "2"
                                },
                                {
                                    "0": "7055506",
                                    "1": "Vineyard Cottage - Under the Vines",
                                    "2": "10626104",
                                    "3": "Karen",
                                    "4": "Nuriootpa",
                                    "5": "-3450166",
                                    "6": "13899752",
                                    "7": "Entire home/apt",
                                    "8": "243",
                                    "9": "2",
                                    "10": "180",
                                    "11": "2021-10-17",
                                    "12": "207",
                                    "13": "2",
                                    "14": "0",
                                    "15": "1"
                                },
                                {
                                    "0": "7297171",
                                    "1": "Pembury Chase Barossa Valley",
                                    "2": "26147078",
                                    "3": "Jonathan And Kate",
                                    "4": "Angaston",
                                    "5": "-3450182",
                                    "6": "1390374",
                                    "7": "Private room",
                                    "8": "95",
                                    "9": "1",
                                    "10": "150",
                                    "11": "2019-04-28",
                                    "12": "174",
                                    "13": "6",
                                    "14": "0",
                                    "15": "0"
                                }
                            ]
                        },
                        "text/html": "<table><tr><th>id</th><th>name</th><th>host_id</th><th>host_name</th><th>neighbourhood</th><th>latitude</th><th>longitude</th><th>room_type</th><th>price</th><th>minimum_nights</th><th>number_of_reviews</th><th>last_review</th><th>reviews_per_month</th><th>calculated_host_listings_count</th><th>availability_365</th><th>number_of_reviews_ltm</th></tr><tr><td>1125097</td><td>Strathlyn Coach House Barossa</td><td>6172214</td><td>Heather</td><td>Angaston</td><td>-3449389</td><td>13902942</td><td>Entire home/apt</td><td>254</td><td>2</td><td>166</td><td>2022-09-19</td><td>151</td><td>3</td><td>302</td><td>24</td></tr><tr><td>1133195</td><td>Strathlyn Lemon Tree Spa  Barossa</td><td>6172214</td><td>Heather</td><td>Penrice</td><td>-3449403</td><td>13903202</td><td>Entire home/apt</td><td>236</td><td>2</td><td>59</td><td>2022-09-04</td><td>61</td><td>3</td><td>323</td><td>14</td></tr><tr><td>1133236</td><td>Strathlyn Spa Garden Suites Barossa</td><td>6172214</td><td>Heather</td><td>Penrice</td><td>-3449356</td><td>13903221</td><td>Private room</td><td>260</td><td>1</td><td>49</td><td>2022-09-18</td><td>47</td><td>3</td><td>318</td><td>15</td></tr><tr><td>1178384</td><td>Country cottage getaway</td><td>2122575</td><td>Tanya</td><td>Nuriootpa</td><td>-3446694</td><td>1389936</td><td>Private room</td><td>104</td><td>1</td><td>0</td><td>NULL</td><td>NULL</td><td>1</td><td>335</td><td>0</td></tr><tr><td>1710462</td><td>Shea-Oak Log Studio Shed</td><td>6645956</td><td>Kylie And Tom</td><td>Shea-Oak Log</td><td>-3451049</td><td>13881731</td><td>Entire home/apt</td><td>102</td><td>2</td><td>497</td><td>2022-09-06</td><td>459</td><td>1</td><td>330</td><td>30</td></tr><tr><td>1787389</td><td>Barossa Valley Apt 1 offers 2 bedrooms 2 bathroom</td><td>9380091</td><td>Kym</td><td>Tanunda</td><td>-3452835</td><td>13895364</td><td>Entire home/apt</td><td>400</td><td>2</td><td>17</td><td>2020-12-04</td><td>21</td><td>17</td><td>50</td><td>0</td></tr><tr><td>2028951</td><td>2 bedrooms with Woodfire, Barossa Country Cottages</td><td>10421165</td><td>Mark And Fiona</td><td>Lyndoch</td><td>-3460374</td><td>13888348</td><td>Entire home/apt</td><td>209</td><td>2</td><td>8</td><td>2022-09-05</td><td>145</td><td>2</td><td>309</td><td>8</td></tr><tr><td>2327616</td><td>Gawler River Farm B and B.</td><td>6713275</td><td>Bill</td><td>Gawler River</td><td>-3460563</td><td>13864823</td><td>Entire home/apt</td><td>90</td><td>1</td><td>125</td><td>2022-09-21</td><td>135</td><td>1</td><td>343</td><td>29</td></tr><tr><td>2567051</td><td>The Miners Cottage Barossa Valley</td><td>10726293</td><td>Rebecca</td><td>Cockatoo Valley</td><td>-3463884</td><td>13884564</td><td>Private room</td><td>210</td><td>2</td><td>31</td><td>2022-08-22</td><td>32</td><td>1</td><td>267</td><td>5</td></tr><tr><td>3506622</td><td>A nice room in a big 4 b/room house</td><td>17656515</td><td>Andrew</td><td>Buchfelde</td><td>-3461874</td><td>13873199</td><td>Private room</td><td>85</td><td>1</td><td>0</td><td>NULL</td><td>NULL</td><td>1</td><td>365</td><td>0</td></tr><tr><td>5289072</td><td>Mt McKenzie Raspberry Farm</td><td>27321203</td><td>Phillip</td><td>Flaxman Valley</td><td>-3456405</td><td>13907988</td><td>Entire home/apt</td><td>200</td><td>3</td><td>119</td><td>2022-08-24</td><td>141</td><td>1</td><td>134</td><td>20</td></tr><tr><td>5426792</td><td>&quot;The Shed&quot;</td><td>28149709</td><td>Andrew &amp; Belinda</td><td>Nuriootpa</td><td>-3446397</td><td>13900191</td><td>Entire home/apt</td><td>63</td><td>1</td><td>138</td><td>2022-09-11</td><td>166</td><td>1</td><td>219</td><td>15</td></tr><tr><td>5537173</td><td>1837 Barossa Luxury  Vineyard Cottage S Australia</td><td>28712482</td><td>Nelly</td><td>Lyndoch</td><td>-3458347</td><td>13886353</td><td>Entire home/apt</td><td>425</td><td>2</td><td>34</td><td>2022-09-17</td><td>70</td><td>3</td><td>303</td><td>11</td></tr><tr><td>6157653</td><td>Barossa Barn Bed &amp; Breakfast</td><td>31945359</td><td>Julie</td><td>Penrice</td><td>-344877</td><td>13904407</td><td>Entire home/apt</td><td>277</td><td>2</td><td>28</td><td>2022-04-19</td><td>32</td><td>1</td><td>80</td><td>3</td></tr><tr><td>6170279</td><td>Little Para Cottage</td><td>32013001</td><td>Wendy</td><td>Tanunda</td><td>-3451062</td><td>13897196</td><td>Entire home/apt</td><td>206</td><td>2</td><td>160</td><td>2022-09-11</td><td>177</td><td>1</td><td>6</td><td>16</td></tr><tr><td>6170887</td><td>Elderton Wines Guest House</td><td>32017867</td><td>Elderton</td><td>Nuriootpa</td><td>-3447628</td><td>13899761</td><td>Entire home/apt</td><td>350</td><td>1</td><td>30</td><td>2022-08-08</td><td>34</td><td>1</td><td>214</td><td>4</td></tr><tr><td>6296823</td><td>Cosy 2-bedroom Cottage in the heart of the Barossa</td><td>32743215</td><td>Veritas Retreat Barossa</td><td>Tanunda</td><td>-3450314</td><td>13895909</td><td>Entire home/apt</td><td>290</td><td>2</td><td>80</td><td>2022-09-19</td><td>89</td><td>2</td><td>270</td><td>11</td></tr><tr><td>6861247</td><td>Rustic on 13th</td><td>35954891</td><td>Kirsten</td><td>Buchfelde</td><td>-3460501</td><td>13874353</td><td>Entire home/apt</td><td>239</td><td>4</td><td>46</td><td>2022-05-05</td><td>63</td><td>1</td><td>152</td><td>2</td></tr><tr><td>7055506</td><td>Vineyard Cottage - Under the Vines</td><td>10626104</td><td>Karen</td><td>Nuriootpa</td><td>-3450166</td><td>13899752</td><td>Entire home/apt</td><td>243</td><td>2</td><td>180</td><td>2021-10-17</td><td>207</td><td>2</td><td>0</td><td>1</td></tr><tr><td>7297171</td><td>Pembury Chase Barossa Valley</td><td>26147078</td><td>Jonathan And Kate</td><td>Angaston</td><td>-3450182</td><td>1390374</td><td>Private room</td><td>95</td><td>1</td><td>150</td><td>2019-04-28</td><td>174</td><td>6</td><td>0</td><td>0</td></tr></table>"
                    },
                    "metadata": {}
                }
            ],
            "execution_count": 130
        },
        {
            "cell_type": "code",
            "source": [
                "--INSPECTING THE DUPLICATES ON THE PRYMARY KEY COLUMN \"ID\".\r\n",
                "-- Verifying if there is only one unique id for each property in the list. \r\n",
                "SELECT COUNT(DISTINCT id)as 'Unique rows',\r\n",
                "COUNT(*) as 'Total Rows'\r\n",
                "FROM [listings (1)]"
            ],
            "metadata": {
                "azdata_cell_guid": "d07b3c5d-4746-4744-90b2-6b87a1f876ee",
                "language": "sql",
                "tags": []
            },
            "outputs": [
                {
                    "output_type": "display_data",
                    "data": {
                        "text/html": "(1 row affected)"
                    },
                    "metadata": {}
                },
                {
                    "output_type": "display_data",
                    "data": {
                        "text/html": "Total execution time: 00:00:00.009"
                    },
                    "metadata": {}
                },
                {
                    "output_type": "execute_result",
                    "execution_count": 131,
                    "data": {
                        "application/vnd.dataresource+json": {
                            "schema": {
                                "fields": [
                                    {
                                        "name": "Unique rows"
                                    },
                                    {
                                        "name": "Total Rows"
                                    }
                                ]
                            },
                            "data": [
                                {
                                    "0": "324",
                                    "1": "324"
                                }
                            ]
                        },
                        "text/html": "<table><tr><th>Unique rows</th><th>Total Rows</th></tr><tr><td>324</td><td>324</td></tr></table>"
                    },
                    "metadata": {}
                }
            ],
            "execution_count": 131
        },
        {
            "cell_type": "code",
            "source": [
                "--CHECKING THE NULL VALUES ON THE DATASET.\r\n",
                "--Percentage of null values on reviews_per_month, price, availability_365,neighbourhood.\r\n",
                "SELECT ROUND((COUNT(CASE WHEN reviews_per_month IS NULL THEN 1 END) * 100.0) / COUNT(*),2) as reviews_per_month_null_percentage,\r\n",
                "       (COUNT(CASE WHEN  price IS NULL THEN 1 END) * 100.0) / COUNT(*) as price_null_percentage,\r\n",
                "       (COUNT(CASE WHEN availability_365 IS NULL THEN 1 END) * 100.0) / COUNT(*) as availability_365_null_percentage,\r\n",
                "       (COUNT(CASE WHEN neighbourhood IS NULL THEN 1 END) * 100.0) / COUNT(*) as neighbourhood_null_percentage\r\n",
                "FROM [listings (1)]\r\n",
                "\r\n",
                ""
            ],
            "metadata": {
                "language": "sql",
                "azdata_cell_guid": "391686e8-14e7-420c-afe9-6d508e7cd9d3",
                "tags": []
            },
            "outputs": [
                {
                    "output_type": "display_data",
                    "data": {
                        "text/html": "Warning: Null value is eliminated by an aggregate or other SET operation."
                    },
                    "metadata": {}
                },
                {
                    "output_type": "display_data",
                    "data": {
                        "text/html": "(1 row affected)"
                    },
                    "metadata": {}
                },
                {
                    "output_type": "display_data",
                    "data": {
                        "text/html": "Total execution time: 00:00:00.019"
                    },
                    "metadata": {}
                },
                {
                    "output_type": "execute_result",
                    "execution_count": 132,
                    "data": {
                        "application/vnd.dataresource+json": {
                            "schema": {
                                "fields": [
                                    {
                                        "name": "reviews_per_month_null_percentage"
                                    },
                                    {
                                        "name": "price_null_percentage"
                                    },
                                    {
                                        "name": "availability_365_null_percentage"
                                    },
                                    {
                                        "name": "neighbourhood_null_percentage"
                                    }
                                ]
                            },
                            "data": [
                                {
                                    "0": "11.730000000000",
                                    "1": "0.000000000000",
                                    "2": "0.000000000000",
                                    "3": "0.000000000000"
                                }
                            ]
                        },
                        "text/html": "<table><tr><th>reviews_per_month_null_percentage</th><th>price_null_percentage</th><th>availability_365_null_percentage</th><th>neighbourhood_null_percentage</th></tr><tr><td>11.730000000000</td><td>0.000000000000</td><td>0.000000000000</td><td>0.000000000000</td></tr></table>"
                    },
                    "metadata": {}
                }
            ],
            "execution_count": 132
        },
        {
            "cell_type": "markdown",
            "source": [
                "**Comments:** The \"reviews per month\" feature in our analysis has a null value rate of 11.73%, which is greater than the 5% acceptance rate we have set for our analysis. However, this does not significantly impact our overall analysis, and we will proceed with including it in our analysis. During the specific analysis of reviews, we will exclude properties with null values for this feature."
            ],
            "metadata": {
                "language": "sql",
                "azdata_cell_guid": "a5615c71-0f0c-410c-b415-75c1d791fea0"
            },
            "attachments": {}
        },
        {
            "cell_type": "markdown",
            "source": [
                "**2\\. DESCRIPTIVE ANALYSIS - SUMMARY STATISTICS**\n",
                "\n",
                "In order to gain a deeper understanding of the rental prices of properties in <span style=\"background-color: rgb(255, 255, 0);\">Barossa&nbsp;</span>  Valley, we will analyze the summary statistics and the table of frequencies including the mean, median, and standard deviation. These measures will give us a better idea of the distribution of prices in the region. With this information, we will be able to identify patterns and make more informed decisions about the real estate market in <mark>Baro</mark>ssa Valley. Understanding the distribution of prices will help us to better understand the prices of properties in the region and make better investment decisions."
            ],
            "metadata": {
                "language": "sql",
                "azdata_cell_guid": "37377c01-2de7-4f82-afb5-e5d403f6582a"
            },
            "attachments": {}
        },
        {
            "cell_type": "code",
            "source": [
                "-- OVERVIEW OF THE DATASET.\r\n",
                "SELECT *\r\n",
                "FROM [listings (1)]"
            ],
            "metadata": {
                "language": "sql",
                "azdata_cell_guid": "1f4725b3-0286-47b9-a2c3-f5389b88a76d",
                "tags": []
            },
            "outputs": [
                {
                    "output_type": "display_data",
                    "data": {
                        "text/html": "(324 rows affected)"
                    },
                    "metadata": {}
                },
                {
                    "output_type": "display_data",
                    "data": {
                        "text/html": "Total execution time: 00:00:00.040"
                    },
                    "metadata": {}
                },
                {
                    "output_type": "execute_result",
                    "execution_count": 133,
                    "data": {
                        "application/vnd.dataresource+json": {
                            "schema": {
                                "fields": [
                                    {
                                        "name": "id"
                                    },
                                    {
                                        "name": "name"
                                    },
                                    {
                                        "name": "host_id"
                                    },
                                    {
                                        "name": "host_name"
                                    },
                                    {
                                        "name": "neighbourhood"
                                    },
                                    {
                                        "name": "latitude"
                                    },
                                    {
                                        "name": "longitude"
                                    },
                                    {
                                        "name": "room_type"
                                    },
                                    {
                                        "name": "price"
                                    },
                                    {
                                        "name": "minimum_nights"
                                    },
                                    {
                                        "name": "number_of_reviews"
                                    },
                                    {
                                        "name": "last_review"
                                    },
                                    {
                                        "name": "reviews_per_month"
                                    },
                                    {
                                        "name": "calculated_host_listings_count"
                                    },
                                    {
                                        "name": "availability_365"
                                    },
                                    {
                                        "name": "number_of_reviews_ltm"
                                    }
                                ]
                            },
                            "data": [
                                {
                                    "0": "1125097",
                                    "1": "Strathlyn Coach House Barossa",
                                    "2": "6172214",
                                    "3": "Heather",
                                    "4": "Angaston",
                                    "5": "-3449389",
                                    "6": "13902942",
                                    "7": "Entire home/apt",
                                    "8": "254",
                                    "9": "2",
                                    "10": "166",
                                    "11": "2022-09-19",
                                    "12": "151",
                                    "13": "3",
                                    "14": "302",
                                    "15": "24"
                                },
                                {
                                    "0": "1133195",
                                    "1": "Strathlyn Lemon Tree Spa  Barossa",
                                    "2": "6172214",
                                    "3": "Heather",
                                    "4": "Penrice",
                                    "5": "-3449403",
                                    "6": "13903202",
                                    "7": "Entire home/apt",
                                    "8": "236",
                                    "9": "2",
                                    "10": "59",
                                    "11": "2022-09-04",
                                    "12": "61",
                                    "13": "3",
                                    "14": "323",
                                    "15": "14"
                                },
                                {
                                    "0": "1133236",
                                    "1": "Strathlyn Spa Garden Suites Barossa",
                                    "2": "6172214",
                                    "3": "Heather",
                                    "4": "Penrice",
                                    "5": "-3449356",
                                    "6": "13903221",
                                    "7": "Private room",
                                    "8": "260",
                                    "9": "1",
                                    "10": "49",
                                    "11": "2022-09-18",
                                    "12": "47",
                                    "13": "3",
                                    "14": "318",
                                    "15": "15"
                                },
                                {
                                    "0": "1178384",
                                    "1": "Country cottage getaway",
                                    "2": "2122575",
                                    "3": "Tanya",
                                    "4": "Nuriootpa",
                                    "5": "-3446694",
                                    "6": "1389936",
                                    "7": "Private room",
                                    "8": "104",
                                    "9": "1",
                                    "10": "0",
                                    "11": "NULL",
                                    "12": "NULL",
                                    "13": "1",
                                    "14": "335",
                                    "15": "0"
                                },
                                {
                                    "0": "1710462",
                                    "1": "Shea-Oak Log Studio Shed",
                                    "2": "6645956",
                                    "3": "Kylie And Tom",
                                    "4": "Shea-Oak Log",
                                    "5": "-3451049",
                                    "6": "13881731",
                                    "7": "Entire home/apt",
                                    "8": "102",
                                    "9": "2",
                                    "10": "497",
                                    "11": "2022-09-06",
                                    "12": "459",
                                    "13": "1",
                                    "14": "330",
                                    "15": "30"
                                },
                                {
                                    "0": "1787389",
                                    "1": "Barossa Valley Apt 1 offers 2 bedrooms 2 bathroom",
                                    "2": "9380091",
                                    "3": "Kym",
                                    "4": "Tanunda",
                                    "5": "-3452835",
                                    "6": "13895364",
                                    "7": "Entire home/apt",
                                    "8": "400",
                                    "9": "2",
                                    "10": "17",
                                    "11": "2020-12-04",
                                    "12": "21",
                                    "13": "17",
                                    "14": "50",
                                    "15": "0"
                                },
                                {
                                    "0": "2028951",
                                    "1": "2 bedrooms with Woodfire, Barossa Country Cottages",
                                    "2": "10421165",
                                    "3": "Mark And Fiona",
                                    "4": "Lyndoch",
                                    "5": "-3460374",
                                    "6": "13888348",
                                    "7": "Entire home/apt",
                                    "8": "209",
                                    "9": "2",
                                    "10": "8",
                                    "11": "2022-09-05",
                                    "12": "145",
                                    "13": "2",
                                    "14": "309",
                                    "15": "8"
                                },
                                {
                                    "0": "2327616",
                                    "1": "Gawler River Farm B and B.",
                                    "2": "6713275",
                                    "3": "Bill",
                                    "4": "Gawler River",
                                    "5": "-3460563",
                                    "6": "13864823",
                                    "7": "Entire home/apt",
                                    "8": "90",
                                    "9": "1",
                                    "10": "125",
                                    "11": "2022-09-21",
                                    "12": "135",
                                    "13": "1",
                                    "14": "343",
                                    "15": "29"
                                },
                                {
                                    "0": "2567051",
                                    "1": "The Miners Cottage Barossa Valley",
                                    "2": "10726293",
                                    "3": "Rebecca",
                                    "4": "Cockatoo Valley",
                                    "5": "-3463884",
                                    "6": "13884564",
                                    "7": "Private room",
                                    "8": "210",
                                    "9": "2",
                                    "10": "31",
                                    "11": "2022-08-22",
                                    "12": "32",
                                    "13": "1",
                                    "14": "267",
                                    "15": "5"
                                },
                                {
                                    "0": "3506622",
                                    "1": "A nice room in a big 4 b/room house",
                                    "2": "17656515",
                                    "3": "Andrew",
                                    "4": "Buchfelde",
                                    "5": "-3461874",
                                    "6": "13873199",
                                    "7": "Private room",
                                    "8": "85",
                                    "9": "1",
                                    "10": "0",
                                    "11": "NULL",
                                    "12": "NULL",
                                    "13": "1",
                                    "14": "365",
                                    "15": "0"
                                },
                                {
                                    "0": "5289072",
                                    "1": "Mt McKenzie Raspberry Farm",
                                    "2": "27321203",
                                    "3": "Phillip",
                                    "4": "Flaxman Valley",
                                    "5": "-3456405",
                                    "6": "13907988",
                                    "7": "Entire home/apt",
                                    "8": "200",
                                    "9": "3",
                                    "10": "119",
                                    "11": "2022-08-24",
                                    "12": "141",
                                    "13": "1",
                                    "14": "134",
                                    "15": "20"
                                },
                                {
                                    "0": "5426792",
                                    "1": "\"The Shed\"",
                                    "2": "28149709",
                                    "3": "Andrew & Belinda",
                                    "4": "Nuriootpa",
                                    "5": "-3446397",
                                    "6": "13900191",
                                    "7": "Entire home/apt",
                                    "8": "63",
                                    "9": "1",
                                    "10": "138",
                                    "11": "2022-09-11",
                                    "12": "166",
                                    "13": "1",
                                    "14": "219",
                                    "15": "15"
                                },
                                {
                                    "0": "5537173",
                                    "1": "1837 Barossa Luxury  Vineyard Cottage S Australia",
                                    "2": "28712482",
                                    "3": "Nelly",
                                    "4": "Lyndoch",
                                    "5": "-3458347",
                                    "6": "13886353",
                                    "7": "Entire home/apt",
                                    "8": "425",
                                    "9": "2",
                                    "10": "34",
                                    "11": "2022-09-17",
                                    "12": "70",
                                    "13": "3",
                                    "14": "303",
                                    "15": "11"
                                },
                                {
                                    "0": "6157653",
                                    "1": "Barossa Barn Bed & Breakfast",
                                    "2": "31945359",
                                    "3": "Julie",
                                    "4": "Penrice",
                                    "5": "-344877",
                                    "6": "13904407",
                                    "7": "Entire home/apt",
                                    "8": "277",
                                    "9": "2",
                                    "10": "28",
                                    "11": "2022-04-19",
                                    "12": "32",
                                    "13": "1",
                                    "14": "80",
                                    "15": "3"
                                },
                                {
                                    "0": "6170279",
                                    "1": "Little Para Cottage",
                                    "2": "32013001",
                                    "3": "Wendy",
                                    "4": "Tanunda",
                                    "5": "-3451062",
                                    "6": "13897196",
                                    "7": "Entire home/apt",
                                    "8": "206",
                                    "9": "2",
                                    "10": "160",
                                    "11": "2022-09-11",
                                    "12": "177",
                                    "13": "1",
                                    "14": "6",
                                    "15": "16"
                                },
                                {
                                    "0": "6170887",
                                    "1": "Elderton Wines Guest House",
                                    "2": "32017867",
                                    "3": "Elderton",
                                    "4": "Nuriootpa",
                                    "5": "-3447628",
                                    "6": "13899761",
                                    "7": "Entire home/apt",
                                    "8": "350",
                                    "9": "1",
                                    "10": "30",
                                    "11": "2022-08-08",
                                    "12": "34",
                                    "13": "1",
                                    "14": "214",
                                    "15": "4"
                                },
                                {
                                    "0": "6296823",
                                    "1": "Cosy 2-bedroom Cottage in the heart of the Barossa",
                                    "2": "32743215",
                                    "3": "Veritas Retreat Barossa",
                                    "4": "Tanunda",
                                    "5": "-3450314",
                                    "6": "13895909",
                                    "7": "Entire home/apt",
                                    "8": "290",
                                    "9": "2",
                                    "10": "80",
                                    "11": "2022-09-19",
                                    "12": "89",
                                    "13": "2",
                                    "14": "270",
                                    "15": "11"
                                },
                                {
                                    "0": "6861247",
                                    "1": "Rustic on 13th",
                                    "2": "35954891",
                                    "3": "Kirsten",
                                    "4": "Buchfelde",
                                    "5": "-3460501",
                                    "6": "13874353",
                                    "7": "Entire home/apt",
                                    "8": "239",
                                    "9": "4",
                                    "10": "46",
                                    "11": "2022-05-05",
                                    "12": "63",
                                    "13": "1",
                                    "14": "152",
                                    "15": "2"
                                },
                                {
                                    "0": "7055506",
                                    "1": "Vineyard Cottage - Under the Vines",
                                    "2": "10626104",
                                    "3": "Karen",
                                    "4": "Nuriootpa",
                                    "5": "-3450166",
                                    "6": "13899752",
                                    "7": "Entire home/apt",
                                    "8": "243",
                                    "9": "2",
                                    "10": "180",
                                    "11": "2021-10-17",
                                    "12": "207",
                                    "13": "2",
                                    "14": "0",
                                    "15": "1"
                                },
                                {
                                    "0": "7297171",
                                    "1": "Pembury Chase Barossa Valley",
                                    "2": "26147078",
                                    "3": "Jonathan And Kate",
                                    "4": "Angaston",
                                    "5": "-3450182",
                                    "6": "1390374",
                                    "7": "Private room",
                                    "8": "95",
                                    "9": "1",
                                    "10": "150",
                                    "11": "2019-04-28",
                                    "12": "174",
                                    "13": "6",
                                    "14": "0",
                                    "15": "0"
                                },
                                {
                                    "0": "8053447",
                                    "1": "Angels Place: Private Suite",
                                    "2": "42427624",
                                    "3": "Maryann",
                                    "4": "Tanunda",
                                    "5": "-3451719",
                                    "6": "13896402",
                                    "7": "Private room",
                                    "8": "165",
                                    "9": "1",
                                    "10": "82",
                                    "11": "2022-04-24",
                                    "12": "115",
                                    "13": "1",
                                    "14": "1",
                                    "15": "11"
                                },
                                {
                                    "0": "9264671",
                                    "1": "Barossa Idyll Studio -great for romantics",
                                    "2": "17055114",
                                    "3": "Tracey",
                                    "4": "Tanunda",
                                    "5": "-3452799",
                                    "6": "13895242",
                                    "7": "Private room",
                                    "8": "146",
                                    "9": "2",
                                    "10": "27",
                                    "11": "2021-04-22",
                                    "12": "34",
                                    "13": "4",
                                    "14": "173",
                                    "15": "0"
                                },
                                {
                                    "0": "9319789",
                                    "1": "Barossa Idyll -centre of town, breathtaking views",
                                    "2": "17055114",
                                    "3": "Tracey",
                                    "4": "Tanunda",
                                    "5": "-3452821",
                                    "6": "138953",
                                    "7": "Entire home/apt",
                                    "8": "757",
                                    "9": "1",
                                    "10": "80",
                                    "11": "2022-09-16",
                                    "12": "103",
                                    "13": "4",
                                    "14": "210",
                                    "15": "20"
                                },
                                {
                                    "0": "9319994",
                                    "1": "Barossa Idyll 3 beds - town centre, amazing views",
                                    "2": "17055114",
                                    "3": "Tracey",
                                    "4": "Tanunda",
                                    "5": "-3452935",
                                    "6": "13895426",
                                    "7": "Entire home/apt",
                                    "8": "413",
                                    "9": "2",
                                    "10": "54",
                                    "11": "2022-09-15",
                                    "12": "71",
                                    "13": "4",
                                    "14": "203",
                                    "15": "17"
                                },
                                {
                                    "0": "9453124",
                                    "1": "Barossa Idyll 4 beds - town centre, amazing views",
                                    "2": "17055114",
                                    "3": "Tracey",
                                    "4": "Tanunda",
                                    "5": "-3452906",
                                    "6": "13895436",
                                    "7": "Entire home/apt",
                                    "8": "651",
                                    "9": "1",
                                    "10": "29",
                                    "11": "2022-08-05",
                                    "12": "35",
                                    "13": "4",
                                    "14": "209",
                                    "15": "11"
                                },
                                {
                                    "0": "9714178",
                                    "1": "Barossa Bed & Breakfast",
                                    "2": "50149490",
                                    "3": "Yvette",
                                    "4": "Tanunda",
                                    "5": "-3452206",
                                    "6": "13896239",
                                    "7": "Entire home/apt",
                                    "8": "515",
                                    "9": "1",
                                    "10": "57",
                                    "11": "2022-09-10",
                                    "12": "73",
                                    "13": "1",
                                    "14": "217",
                                    "15": "25"
                                },
                                {
                                    "0": "9850994",
                                    "1": "Pembury Homestead - Barossa Valley- 3 bedrooms",
                                    "2": "26147078",
                                    "3": "Jonathan And Kate",
                                    "4": "Angaston",
                                    "5": "-3449908",
                                    "6": "13904063",
                                    "7": "Entire home/apt",
                                    "8": "120",
                                    "9": "1",
                                    "10": "7",
                                    "11": "2016-01-13",
                                    "12": "9",
                                    "13": "6",
                                    "14": "0",
                                    "15": "0"
                                },
                                {
                                    "0": "10285222",
                                    "1": "Barossa Dreams Ruby Suite full kitchen in Tanunda",
                                    "2": "9380091",
                                    "3": "Kym",
                                    "4": "Tanunda",
                                    "5": "-3452708",
                                    "6": "13895417",
                                    "7": "Entire home/apt",
                                    "8": "275",
                                    "9": "2",
                                    "10": "10",
                                    "11": "2020-03-18",
                                    "12": "12",
                                    "13": "17",
                                    "14": "4",
                                    "15": "0"
                                },
                                {
                                    "0": "10287444",
                                    "1": "Barossa Dreams - Diamond Suite perfect location",
                                    "2": "9380091",
                                    "3": "Kym",
                                    "4": "Tanunda",
                                    "5": "-3452686",
                                    "6": "13895383",
                                    "7": "Entire home/apt",
                                    "8": "350",
                                    "9": "2",
                                    "10": "16",
                                    "11": "2022-05-05",
                                    "12": "20",
                                    "13": "17",
                                    "14": "3",
                                    "15": "1"
                                },
                                {
                                    "0": "10298152",
                                    "1": "Barossa Best great location walk to cafe FREE WIFI",
                                    "2": "9380091",
                                    "3": "Kym",
                                    "4": "Tanunda",
                                    "5": "-3452603",
                                    "6": "13895667",
                                    "7": "Entire home/apt",
                                    "8": "350",
                                    "9": "2",
                                    "10": "31",
                                    "11": "2022-05-20",
                                    "12": "38",
                                    "13": "17",
                                    "14": "12",
                                    "15": "3"
                                },
                                {
                                    "0": "10348508",
                                    "1": "A Secret Garden great location Tanunda Free WIFI",
                                    "2": "9380091",
                                    "3": "Kym",
                                    "4": "Tanunda",
                                    "5": "-3452729",
                                    "6": "13895667",
                                    "7": "Entire home/apt",
                                    "8": "350",
                                    "9": "2",
                                    "10": "10",
                                    "11": "2021-05-05",
                                    "12": "13",
                                    "13": "17",
                                    "14": "16",
                                    "15": "0"
                                },
                                {
                                    "0": "10526299",
                                    "1": "Historic Kapunda School of Mines Homestay",
                                    "2": "54276241",
                                    "3": "Mark",
                                    "4": "Kapunda",
                                    "5": "-3434222",
                                    "6": "13891368",
                                    "7": "Entire home/apt",
                                    "8": "249",
                                    "9": "2",
                                    "10": "1",
                                    "11": "2022-07-06",
                                    "12": "38",
                                    "13": "1",
                                    "14": "155",
                                    "15": "1"
                                },
                                {
                                    "0": "10619599",
                                    "1": "Barossa Dreams - Sapphire Suite",
                                    "2": "9380091",
                                    "3": "Kym",
                                    "4": "Tanunda",
                                    "5": "-345274",
                                    "6": "1389535",
                                    "7": "Entire home/apt",
                                    "8": "275",
                                    "9": "1",
                                    "10": "2",
                                    "11": "2020-11-14",
                                    "12": "4",
                                    "13": "17",
                                    "14": "4",
                                    "15": "0"
                                },
                                {
                                    "0": "10634089",
                                    "1": "Barossa Dreams - Emerald Suite",
                                    "2": "9380091",
                                    "3": "Kym",
                                    "4": "Tanunda",
                                    "5": "-3452886",
                                    "6": "13895293",
                                    "7": "Private room",
                                    "8": "275",
                                    "9": "2",
                                    "10": "6",
                                    "11": "2017-10-30",
                                    "12": "7",
                                    "13": "17",
                                    "14": "4",
                                    "15": "0"
                                },
                                {
                                    "0": "10947532",
                                    "1": "The Stables",
                                    "2": "54950628",
                                    "3": "Kay",
                                    "4": "Tanunda",
                                    "5": "-3457022",
                                    "6": "13892651",
                                    "7": "Entire home/apt",
                                    "8": "187",
                                    "9": "2",
                                    "10": "308",
                                    "11": "2022-08-21",
                                    "12": "383",
                                    "13": "1",
                                    "14": "248",
                                    "15": "31"
                                },
                                {
                                    "0": "10971607",
                                    "1": "The Lodge Angaston",
                                    "2": "48092850",
                                    "3": "Robyn",
                                    "4": "Angaston",
                                    "5": "-345019",
                                    "6": "13904648",
                                    "7": "Entire home/apt",
                                    "8": "600",
                                    "9": "1",
                                    "10": "7",
                                    "11": "2018-04-01",
                                    "12": "9",
                                    "13": "3",
                                    "14": "362",
                                    "15": "0"
                                },
                                {
                                    "0": "11380095",
                                    "1": "Little House in the Barossa",
                                    "2": "59672772",
                                    "3": "John And Bianca",
                                    "4": "Nuriootpa",
                                    "5": "-3446257",
                                    "6": "13900982",
                                    "7": "Entire home/apt",
                                    "8": "170",
                                    "9": "3",
                                    "10": "44",
                                    "11": "2021-06-27",
                                    "12": "55",
                                    "13": "1",
                                    "14": "0",
                                    "15": "0"
                                },
                                {
                                    "0": "11428035",
                                    "1": "Tin House in Tanunda offers 3 bedrooms 2 bathrooms",
                                    "2": "9380091",
                                    "3": "Kym",
                                    "4": "Tanunda",
                                    "5": "-3452386",
                                    "6": "13895783",
                                    "7": "Entire home/apt",
                                    "8": "500",
                                    "9": "2",
                                    "10": "39",
                                    "11": "2022-01-03",
                                    "12": "49",
                                    "13": "17",
                                    "14": "269",
                                    "15": "1"
                                },
                                {
                                    "0": "11857399",
                                    "1": "Historic Angaston Masonic Lodge",
                                    "2": "48092850",
                                    "3": "Robyn",
                                    "4": "Angaston",
                                    "5": "-3450184",
                                    "6": "13904554",
                                    "7": "Entire home/apt",
                                    "8": "650",
                                    "9": "2",
                                    "10": "93",
                                    "11": "2021-10-30",
                                    "12": "126",
                                    "13": "3",
                                    "14": "362",
                                    "15": "1"
                                },
                                {
                                    "0": "11915715",
                                    "1": "The Cottage at Riverside Farm",
                                    "2": "308444810",
                                    "3": "Louise",
                                    "4": "Lyndoch",
                                    "5": "-3457135",
                                    "6": "13889655",
                                    "7": "Entire home/apt",
                                    "8": "269",
                                    "9": "2",
                                    "10": "36",
                                    "11": "2022-09-20",
                                    "12": "47",
                                    "13": "2",
                                    "14": "279",
                                    "15": "5"
                                },
                                {
                                    "0": "12191413",
                                    "1": "Barossa Millhouse",
                                    "2": "65531648",
                                    "3": "Jacqueline",
                                    "4": "Kapunda",
                                    "5": "-3433806",
                                    "6": "13891284",
                                    "7": "Entire home/apt",
                                    "8": "239",
                                    "9": "2",
                                    "10": "7",
                                    "11": "2022-07-14",
                                    "12": "10",
                                    "13": "2",
                                    "14": "322",
                                    "15": "5"
                                },
                                {
                                    "0": "12192423",
                                    "1": "A Barn in the Barossa",
                                    "2": "65531648",
                                    "3": "Jacqueline",
                                    "4": "Kapunda",
                                    "5": "-3434313",
                                    "6": "13892219",
                                    "7": "Entire home/apt",
                                    "8": "250",
                                    "9": "2",
                                    "10": "84",
                                    "11": "2022-08-29",
                                    "12": "108",
                                    "13": "2",
                                    "14": "330",
                                    "15": "16"
                                },
                                {
                                    "0": "12460712",
                                    "1": "'THE CHURCH' Guest Home Gawler/Barossa Region",
                                    "2": "67427615",
                                    "3": "Karen",
                                    "4": "Hewett",
                                    "5": "-3458739",
                                    "6": "13874417",
                                    "7": "Entire home/apt",
                                    "8": "228",
                                    "9": "2",
                                    "10": "46",
                                    "11": "2022-07-10",
                                    "12": "63",
                                    "13": "1",
                                    "14": "160",
                                    "15": "6"
                                },
                                {
                                    "0": "12856765",
                                    "1": "Angaston by the Winter Creek",
                                    "2": "48092850",
                                    "3": "Robyn",
                                    "4": "Angaston",
                                    "5": "-3450152",
                                    "6": "13904956",
                                    "7": "Entire home/apt",
                                    "8": "750",
                                    "9": "2",
                                    "10": "150",
                                    "11": "2022-07-25",
                                    "12": "195",
                                    "13": "3",
                                    "14": "340",
                                    "15": "10"
                                },
                                {
                                    "0": "12906285",
                                    "1": "Retro Barossa Style",
                                    "2": "22786354",
                                    "3": "Rebekah",
                                    "4": "Angaston",
                                    "5": "-3450898",
                                    "6": "13904504",
                                    "7": "Entire home/apt",
                                    "8": "157",
                                    "9": "2",
                                    "10": "161",
                                    "11": "2022-09-03",
                                    "12": "239",
                                    "13": "1",
                                    "14": "258",
                                    "15": "31"
                                },
                                {
                                    "0": "14031240",
                                    "1": "Barossa Vineyard Cottages",
                                    "2": "2425103",
                                    "3": "Sandra",
                                    "4": "Bethany",
                                    "5": "-3453891",
                                    "6": "13897053",
                                    "7": "Hotel room",
                                    "8": "330",
                                    "9": "999",
                                    "10": "21",
                                    "11": "2022-06-26",
                                    "12": "29",
                                    "13": "2",
                                    "14": "80",
                                    "15": "6"
                                },
                                {
                                    "0": "14080027",
                                    "1": "Barossa Glen - Henri's Cottage - Bed and Breakfast",
                                    "2": "84633251",
                                    "3": "Henri",
                                    "4": "Sandy Creek",
                                    "5": "-345818",
                                    "6": "13883223",
                                    "7": "Entire home/apt",
                                    "8": "290",
                                    "9": "2",
                                    "10": "119",
                                    "11": "2022-09-16",
                                    "12": "181",
                                    "13": "2",
                                    "14": "313",
                                    "15": "33"
                                },
                                {
                                    "0": "14377105",
                                    "1": "Lambert Estate Retreat",
                                    "2": "88244555",
                                    "3": "James",
                                    "4": "Angaston",
                                    "5": "-3450782",
                                    "6": "13903909",
                                    "7": "Entire home/apt",
                                    "8": "280",
                                    "9": "1",
                                    "10": "29",
                                    "11": "2022-08-28",
                                    "12": "39",
                                    "13": "1",
                                    "14": "300",
                                    "15": "6"
                                },
                                {
                                    "0": "14697430",
                                    "1": "Lemke Cottage,Moculta, Barossa Valley",
                                    "2": "34978411",
                                    "3": "John",
                                    "4": "Moculta",
                                    "5": "-3446621",
                                    "6": "1391186",
                                    "7": "Entire home/apt",
                                    "8": "210",
                                    "9": "2",
                                    "10": "51",
                                    "11": "2022-09-10",
                                    "12": "105",
                                    "13": "1",
                                    "14": "213",
                                    "15": "6"
                                },
                                {
                                    "0": "14827811",
                                    "1": "Barossa Valley Apt 4 offers 2 bedrooms 2 bathroom",
                                    "2": "9380091",
                                    "3": "Kym",
                                    "4": "Tanunda",
                                    "5": "-3452814",
                                    "6": "13895356",
                                    "7": "Entire home/apt",
                                    "8": "400",
                                    "9": "1",
                                    "10": "4",
                                    "11": "2022-08-21",
                                    "12": "9",
                                    "13": "17",
                                    "14": "54",
                                    "15": "2"
                                },
                                {
                                    "0": "14828790",
                                    "1": "Luxury Affordable Barossa. West Wing 1 Bedroom.",
                                    "2": "6402384",
                                    "3": "Alicia",
                                    "4": "Angaston",
                                    "5": "-3450053",
                                    "6": "13904458",
                                    "7": "Entire home/apt",
                                    "8": "327",
                                    "9": "2",
                                    "10": "21",
                                    "11": "2022-04-10",
                                    "12": "29",
                                    "13": "2",
                                    "14": "116",
                                    "15": "1"
                                },
                                {
                                    "0": "14842846",
                                    "1": "Barossa Valley Apt 3 offers 2 bedrooms 2 bathroom",
                                    "2": "9380091",
                                    "3": "Kym",
                                    "4": "Tanunda",
                                    "5": "-3452702",
                                    "6": "13895253",
                                    "7": "Entire home/apt",
                                    "8": "379",
                                    "9": "1",
                                    "10": "0",
                                    "11": "NULL",
                                    "12": "NULL",
                                    "13": "17",
                                    "14": "58",
                                    "15": "0"
                                },
                                {
                                    "0": "14843749",
                                    "1": "Barossa Valley Apt 2 offers 2 bedrooms 2 bathroom",
                                    "2": "9380091",
                                    "3": "Kym",
                                    "4": "Tanunda",
                                    "5": "-3452836",
                                    "6": "13895221",
                                    "7": "Entire home/apt",
                                    "8": "400",
                                    "9": "2",
                                    "10": "10",
                                    "11": "2021-04-05",
                                    "12": "14",
                                    "13": "17",
                                    "14": "53",
                                    "15": "0"
                                },
                                {
                                    "0": "14844379",
                                    "1": "Luxury Affordable Barossa. West Wing 2 Bedrooms.",
                                    "2": "6402384",
                                    "3": "Alicia",
                                    "4": "Angaston",
                                    "5": "-3449891",
                                    "6": "13904441",
                                    "7": "Entire home/apt",
                                    "8": "497",
                                    "9": "2",
                                    "10": "4",
                                    "11": "2017-02-23",
                                    "12": "6",
                                    "13": "2",
                                    "14": "114",
                                    "15": "0"
                                },
                                {
                                    "0": "14969874",
                                    "1": "Barossa Valley Dreams Home for up to 17 people",
                                    "2": "9380091",
                                    "3": "Kym",
                                    "4": "Tanunda",
                                    "5": "-3452914",
                                    "6": "1389519",
                                    "7": "Entire home/apt",
                                    "8": "1414",
                                    "9": "2",
                                    "10": "19",
                                    "11": "2022-07-17",
                                    "12": "28",
                                    "13": "17",
                                    "14": "42",
                                    "15": "3"
                                },
                                {
                                    "0": "15526317",
                                    "1": "The Coach House",
                                    "2": "99836662",
                                    "3": "Karen",
                                    "4": "Concordia",
                                    "5": "-3459442",
                                    "6": "13874945",
                                    "7": "Entire home/apt",
                                    "8": "199",
                                    "9": "1",
                                    "10": "445",
                                    "11": "2022-09-06",
                                    "12": "622",
                                    "13": "2",
                                    "14": "265",
                                    "15": "92"
                                },
                                {
                                    "0": "15579249",
                                    "1": "Casa Rossa - modern Barossa home with vineyard",
                                    "2": "14870315",
                                    "3": "Maria",
                                    "4": "Lyndoch",
                                    "5": "-3459863",
                                    "6": "13887511",
                                    "7": "Entire home/apt",
                                    "8": "351",
                                    "9": "2",
                                    "10": "101",
                                    "11": "2022-08-15",
                                    "12": "149",
                                    "13": "1",
                                    "14": "320",
                                    "15": "31"
                                },
                                {
                                    "0": "15811271",
                                    "1": "The Art Box home gallery stay",
                                    "2": "102130451",
                                    "3": "Anthea",
                                    "4": "Angaston",
                                    "5": "-3449457",
                                    "6": "13905402",
                                    "7": "Private room",
                                    "8": "80",
                                    "9": "1",
                                    "10": "51",
                                    "11": "2021-11-13",
                                    "12": "96",
                                    "13": "1",
                                    "14": "0",
                                    "15": "3"
                                },
                                {
                                    "0": "16519738",
                                    "1": "Old Mill Cottage",
                                    "2": "108616729",
                                    "3": "Yvonne And Glenn",
                                    "4": "Kapunda",
                                    "5": "-3433922",
                                    "6": "13890943",
                                    "7": "Entire home/apt",
                                    "8": "200",
                                    "9": "2",
                                    "10": "85",
                                    "11": "2022-09-18",
                                    "12": "124",
                                    "13": "1",
                                    "14": "71",
                                    "15": "56"
                                },
                                {
                                    "0": "16693931",
                                    "1": "Go Go's, Eden Valley the Garden of Grapes and Gums",
                                    "2": "20429065",
                                    "3": "Karine",
                                    "4": "Eden Valley",
                                    "5": "-3464114",
                                    "6": "13909734",
                                    "7": "Entire home/apt",
                                    "8": "181",
                                    "9": "2",
                                    "10": "51",
                                    "11": "2022-08-23",
                                    "12": "74",
                                    "13": "1",
                                    "14": "164",
                                    "15": "11"
                                },
                                {
                                    "0": "16795559",
                                    "1": "Barossa Valley Farm Cottage - Buckbury End Farm",
                                    "2": "111640794",
                                    "3": "John & Jess",
                                    "4": "Sandy Creek",
                                    "5": "-345685",
                                    "6": "13883272",
                                    "7": "Entire home/apt",
                                    "8": "146",
                                    "9": "2",
                                    "10": "286",
                                    "11": "2022-09-12",
                                    "12": "423",
                                    "13": "1",
                                    "14": "278",
                                    "15": "44"
                                },
                                {
                                    "0": "16948670",
                                    "1": "1881 Courthouse,  Studio",
                                    "2": "33964673",
                                    "3": "Natalie",
                                    "4": "Buchfelde",
                                    "5": "-3459589",
                                    "6": "13874597",
                                    "7": "Entire home/apt",
                                    "8": "153",
                                    "9": "1",
                                    "10": "270",
                                    "11": "2022-08-19",
                                    "12": "395",
                                    "13": "3",
                                    "14": "299",
                                    "15": "21"
                                },
                                {
                                    "0": "17287788",
                                    "1": "The Old Manse Shed, Barossa Valley",
                                    "2": "76253619",
                                    "3": "Tracy",
                                    "4": "Light Pass",
                                    "5": "-3446935",
                                    "6": "13902272",
                                    "7": "Entire home/apt",
                                    "8": "155",
                                    "9": "2",
                                    "10": "63",
                                    "11": "2022-04-13",
                                    "12": "93",
                                    "13": "1",
                                    "14": "1",
                                    "15": "4"
                                },
                                {
                                    "0": "17558728",
                                    "1": "Seppeltsfield Vineyard Cottage. Luxury & Privacy.",
                                    "2": "77871395",
                                    "3": "Jodie",
                                    "4": "Marananga",
                                    "5": "-3449022",
                                    "6": "13891001",
                                    "7": "Entire home/apt",
                                    "8": "858",
                                    "9": "2",
                                    "10": "2",
                                    "11": "2021-06-13",
                                    "12": "12",
                                    "13": "2",
                                    "14": "263",
                                    "15": "0"
                                },
                                {
                                    "0": "17720616",
                                    "1": "Indulge and Relax Tanunda",
                                    "2": "23229905",
                                    "3": "Cathy",
                                    "4": "Tanunda",
                                    "5": "-345199",
                                    "6": "13896494",
                                    "7": "Entire home/apt",
                                    "8": "231",
                                    "9": "1",
                                    "10": "180",
                                    "11": "2022-09-18",
                                    "12": "285",
                                    "13": "1",
                                    "14": "295",
                                    "15": "49"
                                },
                                {
                                    "0": "17737018",
                                    "1": "The Stables at 1860 Wine Country Cottages",
                                    "2": "97913320",
                                    "3": "Renate",
                                    "4": "Springton",
                                    "5": "-3472248",
                                    "6": "13906794",
                                    "7": "Entire home/apt",
                                    "8": "195",
                                    "9": "3",
                                    "10": "0",
                                    "11": "NULL",
                                    "12": "NULL",
                                    "13": "1",
                                    "14": "0",
                                    "15": "0"
                                },
                                {
                                    "0": "17862552",
                                    "1": "\"LiebenGott\" - Luxury 4 bedroom, central location",
                                    "2": "10112369",
                                    "3": "Jason",
                                    "4": "Tanunda",
                                    "5": "-3451015",
                                    "6": "13897783",
                                    "7": "Entire home/apt",
                                    "8": "331",
                                    "9": "1",
                                    "10": "117",
                                    "11": "2022-09-04",
                                    "12": "182",
                                    "13": "1",
                                    "14": "310",
                                    "15": "31"
                                },
                                {
                                    "0": "17963507",
                                    "1": "The Writer's Studio, Barossa",
                                    "2": "12063415",
                                    "3": "Lesley Ann",
                                    "4": "Tanunda",
                                    "5": "-3452511",
                                    "6": "13896518",
                                    "7": "Entire home/apt",
                                    "8": "149",
                                    "9": "2",
                                    "10": "322",
                                    "11": "2022-09-19",
                                    "12": "485",
                                    "13": "1",
                                    "14": "134",
                                    "15": "56"
                                },
                                {
                                    "0": "17980547",
                                    "1": "Martinsell Cottage Barossa Valley",
                                    "2": "123514866",
                                    "3": "Peter And Marijan",
                                    "4": "Mount Crawford",
                                    "5": "-3465127537934336",
                                    "6": "13897805500252160",
                                    "7": "Entire home/apt",
                                    "8": "145",
                                    "9": "2",
                                    "10": "174",
                                    "11": "2022-09-18",
                                    "12": "264",
                                    "13": "2",
                                    "14": "297",
                                    "15": "39"
                                },
                                {
                                    "0": "18276899",
                                    "1": "Historic home on 65 acres in top Barossa location",
                                    "2": "32743215",
                                    "3": "Veritas Retreat Barossa",
                                    "4": "Tanunda",
                                    "5": "-3450639",
                                    "6": "13896237",
                                    "7": "Entire home/apt",
                                    "8": "345",
                                    "9": "2",
                                    "10": "42",
                                    "11": "2022-09-11",
                                    "12": "65",
                                    "13": "2",
                                    "14": "267",
                                    "15": "18"
                                },
                                {
                                    "0": "18798879",
                                    "1": "Hill House Angaston",
                                    "2": "98267463",
                                    "3": "Mark",
                                    "4": "Angaston",
                                    "5": "-3450284",
                                    "6": "13904411",
                                    "7": "Private room",
                                    "8": "150",
                                    "9": "2",
                                    "10": "58",
                                    "11": "2022-09-18",
                                    "12": "93",
                                    "13": "1",
                                    "14": "119",
                                    "15": "17"
                                },
                                {
                                    "0": "19817750",
                                    "1": "Country Retreat on the edge of Barossa Valley",
                                    "2": "139798846",
                                    "3": "Maureen",
                                    "4": "Mount Pleasant",
                                    "5": "-3477475",
                                    "6": "13904702",
                                    "7": "Entire home/apt",
                                    "8": "315",
                                    "9": "2",
                                    "10": "79",
                                    "11": "2022-09-12",
                                    "12": "129",
                                    "13": "1",
                                    "14": "91",
                                    "15": "12"
                                },
                                {
                                    "0": "20002372",
                                    "1": "Boongarrie Luxury Tent - privacy, luxury, nature",
                                    "2": "15326510",
                                    "3": "Kate",
                                    "4": "Flaxman Valley",
                                    "5": "-3461",
                                    "6": "13906722",
                                    "7": "Entire home/apt",
                                    "8": "263",
                                    "9": "2",
                                    "10": "184",
                                    "11": "2022-09-11",
                                    "12": "313",
                                    "13": "1",
                                    "14": "319",
                                    "15": "66"
                                },
                                {
                                    "0": "20057093",
                                    "1": "Miriam's Cottage self contained Bed and Breakfast",
                                    "2": "142521667",
                                    "3": "Alicia",
                                    "4": "Tanunda",
                                    "5": "-3451922",
                                    "6": "13896131",
                                    "7": "Entire home/apt",
                                    "8": "292",
                                    "9": "2",
                                    "10": "116",
                                    "11": "2022-09-21",
                                    "12": "199",
                                    "13": "1",
                                    "14": "252",
                                    "15": "32"
                                },
                                {
                                    "0": "20079805",
                                    "1": "Azalea Cedar-Rose Barossa Vineyard Views Villa",
                                    "2": "11110185",
                                    "3": "Suzie",
                                    "4": "Lyndoch",
                                    "5": "-3460384",
                                    "6": "13889156",
                                    "7": "Entire home/apt",
                                    "8": "419",
                                    "9": "2",
                                    "10": "53",
                                    "11": "2022-09-19",
                                    "12": "86",
                                    "13": "2",
                                    "14": "272",
                                    "15": "11"
                                },
                                {
                                    "0": "20144446",
                                    "1": "Jasmine's Cottage Barossa Valley Vineyard Views",
                                    "2": "11110185",
                                    "3": "Suzie",
                                    "4": "Lyndoch",
                                    "5": "-3460458",
                                    "6": "13889126",
                                    "7": "Entire home/apt",
                                    "8": "311",
                                    "9": "2",
                                    "10": "56",
                                    "11": "2022-09-20",
                                    "12": "92",
                                    "13": "2",
                                    "14": "301",
                                    "15": "19"
                                },
                                {
                                    "0": "20175507",
                                    "1": "Your complete Barossa experience for up to 16",
                                    "2": "9380091",
                                    "3": "Kym",
                                    "4": "Tanunda",
                                    "5": "-3452852",
                                    "6": "13895372",
                                    "7": "Entire home/apt",
                                    "8": "1920",
                                    "9": "1",
                                    "10": "3",
                                    "11": "2020-06-28",
                                    "12": "6",
                                    "13": "17",
                                    "14": "28",
                                    "15": "0"
                                },
                                {
                                    "0": "20176443",
                                    "1": "Barossa Dreams and Apartments perfect for groups",
                                    "2": "9380091",
                                    "3": "Kym",
                                    "4": "Tanunda",
                                    "5": "-3452656",
                                    "6": "13895249",
                                    "7": "Entire home/apt",
                                    "8": "2800",
                                    "9": "1",
                                    "10": "0",
                                    "11": "NULL",
                                    "12": "NULL",
                                    "13": "17",
                                    "14": "0",
                                    "15": "0"
                                },
                                {
                                    "0": "20400581",
                                    "1": "Cantik Cottage",
                                    "2": "76200578",
                                    "3": "Justin & Lucy",
                                    "4": "Buchfelde",
                                    "5": "-3460891",
                                    "6": "13873975",
                                    "7": "Entire home/apt",
                                    "8": "121",
                                    "9": "2",
                                    "10": "154",
                                    "11": "2022-09-19",
                                    "12": "272",
                                    "13": "1",
                                    "14": "1",
                                    "15": "41"
                                },
                                {
                                    "0": "21481807",
                                    "1": "Pinecone Ridge, Barossa - a rural retreat",
                                    "2": "156029245",
                                    "3": "Anne",
                                    "4": "Angaston",
                                    "5": "-3451496",
                                    "6": "13904008",
                                    "7": "Entire home/apt",
                                    "8": "434",
                                    "9": "2",
                                    "10": "76",
                                    "11": "2022-09-15",
                                    "12": "189",
                                    "13": "1",
                                    "14": "258",
                                    "15": "19"
                                },
                                {
                                    "0": "21636564",
                                    "1": "Pembury Cottage ~ Angaston,  Great location in the Barossa  Valley",
                                    "2": "26147078",
                                    "3": "Jonathan And Kate",
                                    "4": "Angaston",
                                    "5": "-3450094",
                                    "6": "13905146",
                                    "7": "Entire home/apt",
                                    "8": "281",
                                    "9": "2",
                                    "10": "140",
                                    "11": "2022-09-12",
                                    "12": "238",
                                    "13": "6",
                                    "14": "301",
                                    "15": "32"
                                },
                                {
                                    "0": "21884875",
                                    "1": "Luxury In Langmeil Estate",
                                    "2": "159654113",
                                    "3": "Pauline",
                                    "4": "Tanunda",
                                    "5": "-3451356",
                                    "6": "13896883",
                                    "7": "Entire home/apt",
                                    "8": "302",
                                    "9": "2",
                                    "10": "162",
                                    "11": "2022-09-18",
                                    "12": "279",
                                    "13": "1",
                                    "14": "280",
                                    "15": "33"
                                },
                                {
                                    "0": "22294732",
                                    "1": "Hutton Vale Farm - Hutch Hilton",
                                    "2": "106868811",
                                    "3": "Jan",
                                    "4": "Angaston",
                                    "5": "-3452053",
                                    "6": "13910934",
                                    "7": "Entire home/apt",
                                    "8": "490",
                                    "9": "1",
                                    "10": "62",
                                    "11": "2022-09-13",
                                    "12": "111",
                                    "13": "2",
                                    "14": "271",
                                    "15": "16"
                                },
                                {
                                    "0": "22309764",
                                    "1": "Discovery Parks - Barossa 3 Bedroom House",
                                    "2": "163098800",
                                    "3": "Barossa",
                                    "4": "Tanunda",
                                    "5": "-3453202",
                                    "6": "13895014",
                                    "7": "Entire home/apt",
                                    "8": "424",
                                    "9": "2",
                                    "10": "16",
                                    "11": "2022-04-29",
                                    "12": "28",
                                    "13": "1",
                                    "14": "263",
                                    "15": "4"
                                },
                                {
                                    "0": "22439114",
                                    "1": "Candlepine Holiday House, Gawler SA",
                                    "2": "71411970",
                                    "3": "Mike And Annie",
                                    "4": "Hewett",
                                    "5": "-3459271",
                                    "6": "13874581",
                                    "7": "Entire home/apt",
                                    "8": "175",
                                    "9": "2",
                                    "10": "6",
                                    "11": "2022-05-05",
                                    "12": "13",
                                    "13": "1",
                                    "14": "217",
                                    "15": "2"
                                },
                                {
                                    "0": "22602973",
                                    "1": "Jesmond Dene - Barossa",
                                    "2": "121293939",
                                    "3": "Richard",
                                    "4": "Angaston",
                                    "5": "-3450589",
                                    "6": "13904655",
                                    "7": "Entire home/apt",
                                    "8": "190",
                                    "9": "2",
                                    "10": "14",
                                    "11": "2022-05-07",
                                    "12": "35",
                                    "13": "1",
                                    "14": "345",
                                    "15": "8"
                                },
                                {
                                    "0": "22604785",
                                    "1": "Old Barossa Valley Inn & Bakery House..Get it all!",
                                    "2": "92198370",
                                    "3": "Heather",
                                    "4": "Lyndoch",
                                    "5": "-3460358",
                                    "6": "13888701",
                                    "7": "Entire home/apt",
                                    "8": "199",
                                    "9": "2",
                                    "10": "124",
                                    "11": "2022-09-20",
                                    "12": "222",
                                    "13": "2",
                                    "14": "150",
                                    "15": "28"
                                },
                                {
                                    "0": "22636387",
                                    "1": "Martinsell Manor  Barossa Valley South Australia",
                                    "2": "123514866",
                                    "3": "Peter And Marijan",
                                    "4": "Mount Crawford",
                                    "5": "-3468339",
                                    "6": "13897258",
                                    "7": "Private room",
                                    "8": "390",
                                    "9": "2",
                                    "10": "28",
                                    "11": "2022-07-10",
                                    "12": "61",
                                    "13": "2",
                                    "14": "332",
                                    "15": "11"
                                },
                                {
                                    "0": "22794701",
                                    "1": "Linfield Cottage",
                                    "2": "68592337",
                                    "3": "Deb",
                                    "4": "Williamstown",
                                    "5": "-3468024",
                                    "6": "13888156",
                                    "7": "Entire home/apt",
                                    "8": "340",
                                    "9": "2",
                                    "10": "10",
                                    "11": "2022-09-04",
                                    "12": "19",
                                    "13": "1",
                                    "14": "109",
                                    "15": "3"
                                },
                                {
                                    "0": "22855141",
                                    "1": "WHISTLER VINEYARD RETREAT",
                                    "2": "111063419",
                                    "3": "Sally",
                                    "4": "Tanunda",
                                    "5": "-3449014",
                                    "6": "13895693",
                                    "7": "Entire home/apt",
                                    "8": "290",
                                    "9": "2",
                                    "10": "70",
                                    "11": "2022-08-15",
                                    "12": "127",
                                    "13": "1",
                                    "14": "28",
                                    "15": "17"
                                },
                                {
                                    "0": "23129296",
                                    "1": "Angel's Rest, Barossa",
                                    "2": "171879991",
                                    "3": "Dennis",
                                    "4": "Moculta",
                                    "5": "-3440945",
                                    "6": "13912577",
                                    "7": "Entire home/apt",
                                    "8": "110",
                                    "9": "1",
                                    "10": "88",
                                    "11": "2022-08-20",
                                    "12": "158",
                                    "13": "1",
                                    "14": "139",
                                    "15": "19"
                                },
                                {
                                    "0": "24173232",
                                    "1": "The Entertainer in the hub of Barossa!",
                                    "2": "142166512",
                                    "3": "Monica",
                                    "4": "Tanunda",
                                    "5": "-3451149",
                                    "6": "13897461",
                                    "7": "Entire home/apt",
                                    "8": "950",
                                    "9": "2",
                                    "10": "30",
                                    "11": "2020-03-23",
                                    "12": "66",
                                    "13": "1",
                                    "14": "78",
                                    "15": "0"
                                },
                                {
                                    "0": "24813904",
                                    "1": "Ambrosia Holiday Home 5 bedrooms 2 1/2 bathrooms",
                                    "2": "9380091",
                                    "3": "Kym",
                                    "4": "Tanunda",
                                    "5": "-3452454",
                                    "6": "13895933",
                                    "7": "Entire home/apt",
                                    "8": "850",
                                    "9": "2",
                                    "10": "25",
                                    "11": "2020-12-23",
                                    "12": "48",
                                    "13": "17",
                                    "14": "294",
                                    "15": "0"
                                },
                                {
                                    "0": "25086405",
                                    "1": "Villa Maria Barossa Luxury Guesthouse",
                                    "2": "189642977",
                                    "3": "Tuoi",
                                    "4": "Tanunda",
                                    "5": "-3452569",
                                    "6": "13895538",
                                    "7": "Entire home/apt",
                                    "8": "500",
                                    "9": "2",
                                    "10": "18",
                                    "11": "2022-09-05",
                                    "12": "35",
                                    "13": "1",
                                    "14": "239",
                                    "15": "6"
                                },
                                {
                                    "0": "25893345",
                                    "1": "Barossa Dreams great location for up to 15",
                                    "2": "9380091",
                                    "3": "Kym",
                                    "4": "Tanunda",
                                    "5": "-3452685",
                                    "6": "13895211",
                                    "7": "Entire home/apt",
                                    "8": "1500",
                                    "9": "2",
                                    "10": "3",
                                    "11": "2021-03-07",
                                    "12": "9",
                                    "13": "17",
                                    "14": "1",
                                    "15": "0"
                                },
                                {
                                    "0": "25903419",
                                    "1": "1881 Courthouse, Judge's Chamber",
                                    "2": "33964673",
                                    "3": "Natalie",
                                    "4": "Buchfelde",
                                    "5": "-3459702",
                                    "6": "13874652",
                                    "7": "Entire home/apt",
                                    "8": "156",
                                    "9": "1",
                                    "10": "405",
                                    "11": "2022-09-15",
                                    "12": "783",
                                    "13": "3",
                                    "14": "307",
                                    "15": "107"
                                },
                                {
                                    "0": "25915403",
                                    "1": "Barossa Valley Rest, Restore and Explore",
                                    "2": "181411319",
                                    "3": "Crystal",
                                    "4": "Lyndoch",
                                    "5": "-3460286",
                                    "6": "13887898",
                                    "7": "Entire home/apt",
                                    "8": "207",
                                    "9": "2",
                                    "10": "239",
                                    "11": "2022-08-29",
                                    "12": "615",
                                    "13": "1",
                                    "14": "10",
                                    "15": "79"
                                },
                                {
                                    "0": "25916821",
                                    "1": "Barossa Valley’s Captain Rodda’s Cottage",
                                    "2": "129160994",
                                    "3": "Christina",
                                    "4": "Angaston",
                                    "5": "-3449131",
                                    "6": "13904817",
                                    "7": "Entire home/apt",
                                    "8": "400",
                                    "9": "1",
                                    "10": "14",
                                    "11": "2022-08-20",
                                    "12": "29",
                                    "13": "1",
                                    "14": "101",
                                    "15": "5"
                                },
                                {
                                    "0": "25928338",
                                    "1": "Sharay’s Barossa Sanctuary",
                                    "2": "40008394",
                                    "3": "Sarah",
                                    "4": "Tanunda",
                                    "5": "-3452209",
                                    "6": "13896149",
                                    "7": "Entire home/apt",
                                    "8": "350",
                                    "9": "2",
                                    "10": "127",
                                    "11": "2022-09-04",
                                    "12": "248",
                                    "13": "1",
                                    "14": "266",
                                    "15": "39"
                                },
                                {
                                    "0": "26009146",
                                    "1": "The Barn - a little bit rustic, a little bit luxe",
                                    "2": "22589842",
                                    "3": "Carolyn",
                                    "4": "Moculta",
                                    "5": "-34475",
                                    "6": "13905824",
                                    "7": "Entire home/apt",
                                    "8": "174",
                                    "9": "1",
                                    "10": "209",
                                    "11": "2022-09-10",
                                    "12": "410",
                                    "13": "1",
                                    "14": "185",
                                    "15": "54"
                                },
                                {
                                    "0": "26143659",
                                    "1": "Cameron St Cottage - Walk To Main Street!",
                                    "2": "63693332",
                                    "3": "GaryLeonie",
                                    "4": "Buchfelde",
                                    "5": "-3459757",
                                    "6": "13874341",
                                    "7": "Entire home/apt",
                                    "8": "189",
                                    "9": "2",
                                    "10": "20",
                                    "11": "2022-09-18",
                                    "12": "57",
                                    "13": "5",
                                    "14": "171",
                                    "15": "4"
                                },
                                {
                                    "0": "26403678",
                                    "1": "29 Jane",
                                    "2": "198551256",
                                    "3": "Tuoi",
                                    "4": "Tanunda",
                                    "5": "-3452608",
                                    "6": "13895368",
                                    "7": "Entire home/apt",
                                    "8": "300",
                                    "9": "1",
                                    "10": "116",
                                    "11": "2022-09-04",
                                    "12": "226",
                                    "13": "1",
                                    "14": "228",
                                    "15": "31"
                                },
                                {
                                    "0": "27065195",
                                    "1": "Woodland Cottage",
                                    "2": "203661825",
                                    "3": "Francis",
                                    "4": "Mount Crawford",
                                    "5": "-3475231",
                                    "6": "13899368",
                                    "7": "Entire home/apt",
                                    "8": "110",
                                    "9": "1",
                                    "10": "207",
                                    "11": "2022-08-28",
                                    "12": "410",
                                    "13": "1",
                                    "14": "321",
                                    "15": "54"
                                },
                                {
                                    "0": "27271141",
                                    "1": "Red Gum Retreat  with wood fire & free wifi",
                                    "2": "205436375",
                                    "3": "Erika",
                                    "4": "Williamstown",
                                    "5": "-3466435",
                                    "6": "13888963",
                                    "7": "Entire home/apt",
                                    "8": "150",
                                    "9": "2",
                                    "10": "59",
                                    "11": "2022-06-13",
                                    "12": "120",
                                    "13": "1",
                                    "14": "119",
                                    "15": "9"
                                },
                                {
                                    "0": "27409406",
                                    "1": "The Dairyman Barossa .. The Chaff House",
                                    "2": "206287989",
                                    "3": "Michael",
                                    "4": "Williamstown",
                                    "5": "-3462504",
                                    "6": "13892017",
                                    "7": "Entire home/apt",
                                    "8": "285",
                                    "9": "2",
                                    "10": "14",
                                    "11": "2022-07-30",
                                    "12": "42",
                                    "13": "2",
                                    "14": "307",
                                    "15": "6"
                                },
                                {
                                    "0": "27409837",
                                    "1": "The Dairyman Barossa ....Dairyman's Cottage",
                                    "2": "206287989",
                                    "3": "Michael",
                                    "4": "Williamstown",
                                    "5": "-3462274",
                                    "6": "13892182",
                                    "7": "Entire home/apt",
                                    "8": "315",
                                    "9": "2",
                                    "10": "18",
                                    "11": "2022-08-06",
                                    "12": "50",
                                    "13": "2",
                                    "14": "282",
                                    "15": "4"
                                },
                                {
                                    "0": "27814606",
                                    "1": "1837 Barossa Luxury Vineyard Cottage. S Australia",
                                    "2": "28712482",
                                    "3": "Nelly",
                                    "4": "Lyndoch",
                                    "5": "-3458534",
                                    "6": "13886528",
                                    "7": "Entire home/apt",
                                    "8": "413",
                                    "9": "2",
                                    "10": "17",
                                    "11": "2022-07-17",
                                    "12": "35",
                                    "13": "3",
                                    "14": "267",
                                    "15": "4"
                                },
                                {
                                    "0": "28843427",
                                    "1": "Fechner Place★Barossa Studio★ 1 Bed★Breakfast★Wine",
                                    "2": "103407726",
                                    "3": "Karina",
                                    "4": "Tanunda",
                                    "5": "-3451408",
                                    "6": "13895995",
                                    "7": "Entire home/apt",
                                    "8": "285",
                                    "9": "2",
                                    "10": "80",
                                    "11": "2022-05-29",
                                    "12": "222",
                                    "13": "1",
                                    "14": "328",
                                    "15": "20"
                                },
                                {
                                    "0": "28881088",
                                    "1": "Gawler Townhouse 1 Bedroom Queen Bed",
                                    "2": "38878329",
                                    "3": "Andrew",
                                    "4": "Concordia",
                                    "5": "-3459423",
                                    "6": "13874956",
                                    "7": "Entire home/apt",
                                    "8": "215",
                                    "9": "1",
                                    "10": "232",
                                    "11": "2022-08-26",
                                    "12": "480",
                                    "13": "6",
                                    "14": "320",
                                    "15": "63"
                                },
                                {
                                    "0": "29170994",
                                    "1": "Barossa Valley Studio",
                                    "2": "64599221",
                                    "3": "Darren",
                                    "4": "Angaston",
                                    "5": "-3450638",
                                    "6": "13905093",
                                    "7": "Entire home/apt",
                                    "8": "106",
                                    "9": "1",
                                    "10": "167",
                                    "11": "2022-08-28",
                                    "12": "366",
                                    "13": "1",
                                    "14": "166",
                                    "15": "20"
                                },
                                {
                                    "0": "29192273",
                                    "1": "Purpose-built Holiday Retreat",
                                    "2": "69307468",
                                    "3": "Cory",
                                    "4": "Tanunda",
                                    "5": "-3453171",
                                    "6": "13895427",
                                    "7": "Entire home/apt",
                                    "8": "257",
                                    "9": "2",
                                    "10": "146",
                                    "11": "2022-09-04",
                                    "12": "351",
                                    "13": "1",
                                    "14": "304",
                                    "15": "47"
                                },
                                {
                                    "0": "29250289",
                                    "1": "Walnut Cottage, Angaston",
                                    "2": "86995031",
                                    "3": "Lydia",
                                    "4": "Angaston",
                                    "5": "-3450457",
                                    "6": "13904457",
                                    "7": "Entire home/apt",
                                    "8": "211",
                                    "9": "1",
                                    "10": "19",
                                    "11": "2022-08-29",
                                    "12": "53",
                                    "13": "2",
                                    "14": "264",
                                    "15": "11"
                                },
                                {
                                    "0": "29323401",
                                    "1": "1910 Murray in the heart of Tanunda",
                                    "2": "36772813",
                                    "3": "Leonie",
                                    "4": "Tanunda",
                                    "5": "-3451949",
                                    "6": "13896546",
                                    "7": "Entire home/apt",
                                    "8": "500",
                                    "9": "2",
                                    "10": "90",
                                    "11": "2022-09-12",
                                    "12": "193",
                                    "13": "1",
                                    "14": "7",
                                    "15": "15"
                                },
                                {
                                    "0": "29557043",
                                    "1": "1837 Barossa Luxury  Vineyard  Cottage  Hideaway",
                                    "2": "28712482",
                                    "3": "Nelly",
                                    "4": "Lyndoch",
                                    "5": "-3458202",
                                    "6": "13886204",
                                    "7": "Entire home/apt",
                                    "8": "413",
                                    "9": "2",
                                    "10": "21",
                                    "11": "2022-05-30",
                                    "12": "44",
                                    "13": "3",
                                    "14": "296",
                                    "15": "6"
                                },
                                {
                                    "0": "29665883",
                                    "1": "10a on Elizabeth",
                                    "2": "223133750",
                                    "3": "Jodie",
                                    "4": "Tanunda",
                                    "5": "-3452246",
                                    "6": "13895845",
                                    "7": "Entire home/apt",
                                    "8": "306",
                                    "9": "2",
                                    "10": "156",
                                    "11": "2022-09-18",
                                    "12": "330",
                                    "13": "1",
                                    "14": "275",
                                    "15": "37"
                                },
                                {
                                    "0": "29783445",
                                    "1": "Fig Tree Cottage,  A charming 2 bedroom cottage. Historic 1843 cottage in the heart of Angaston.",
                                    "2": "26147078",
                                    "3": "Jonathan And Kate",
                                    "4": "Angaston",
                                    "5": "-3449908",
                                    "6": "1390428",
                                    "7": "Entire home/apt",
                                    "8": "272",
                                    "9": "2",
                                    "10": "99",
                                    "11": "2022-09-15",
                                    "12": "215",
                                    "13": "6",
                                    "14": "295",
                                    "15": "28"
                                },
                                {
                                    "0": "29975093",
                                    "1": "JOHANN'S COTTAGE~ located in the heart of Tanunda",
                                    "2": "220350000",
                                    "3": "Tanya & Mark",
                                    "4": "Tanunda",
                                    "5": "-3452628",
                                    "6": "13895455",
                                    "7": "Entire home/apt",
                                    "8": "188",
                                    "9": "2",
                                    "10": "62",
                                    "11": "2022-08-28",
                                    "12": "137",
                                    "13": "1",
                                    "14": "201",
                                    "15": "23"
                                },
                                {
                                    "0": "30094352",
                                    "1": "The Rusty Olive",
                                    "2": "225677521",
                                    "3": "Sue And Mike",
                                    "4": "Angaston",
                                    "5": "-3450245",
                                    "6": "13905257",
                                    "7": "Entire home/apt",
                                    "8": "251",
                                    "9": "2",
                                    "10": "92",
                                    "11": "2022-04-25",
                                    "12": "203",
                                    "13": "1",
                                    "14": "1",
                                    "15": "13"
                                },
                                {
                                    "0": "30724902",
                                    "1": "Petras House",
                                    "2": "229977210",
                                    "3": "Sibylle",
                                    "4": "Light Pass",
                                    "5": "-3445861",
                                    "6": "13902638",
                                    "7": "Entire home/apt",
                                    "8": "190",
                                    "9": "1",
                                    "10": "117",
                                    "11": "2022-09-11",
                                    "12": "260",
                                    "13": "1",
                                    "14": "328",
                                    "15": "32"
                                },
                                {
                                    "0": "31336642",
                                    "1": "Meander Retreat - relax in the country",
                                    "2": "93219392",
                                    "3": "Evelyn",
                                    "4": "Eden Valley",
                                    "5": "-3468704",
                                    "6": "13909036",
                                    "7": "Entire home/apt",
                                    "8": "180",
                                    "9": "2",
                                    "10": "33",
                                    "11": "2022-07-12",
                                    "12": "94",
                                    "13": "1",
                                    "14": "325",
                                    "15": "6"
                                },
                                {
                                    "0": "31364857",
                                    "1": "barossa studio 57 accommodation",
                                    "2": "234888505",
                                    "3": "Murnane",
                                    "4": "Tanunda",
                                    "5": "-345155",
                                    "6": "13896574",
                                    "7": "Entire home/apt",
                                    "8": "191",
                                    "9": "2",
                                    "10": "152",
                                    "11": "2022-09-17",
                                    "12": "345",
                                    "13": "1",
                                    "14": "297",
                                    "15": "47"
                                },
                                {
                                    "0": "31598469",
                                    "1": "The Villas - Barossa. Peace. Beauty. Simplicity.",
                                    "2": "233968367",
                                    "3": "Grant And Cathy",
                                    "4": "Marananga",
                                    "5": "-3448413",
                                    "6": "13893598",
                                    "7": "Entire home/apt",
                                    "8": "575",
                                    "9": "2",
                                    "10": "30",
                                    "11": "2022-08-01",
                                    "12": "73",
                                    "13": "1",
                                    "14": "320",
                                    "15": "15"
                                },
                                {
                                    "0": "31963378",
                                    "1": "Strothers Farm House ~ Angaston, Barossa Valley",
                                    "2": "239660458",
                                    "3": "Sue",
                                    "4": "Moculta",
                                    "5": "-3448898",
                                    "6": "13905637",
                                    "7": "Entire home/apt",
                                    "8": "270",
                                    "9": "2",
                                    "10": "49",
                                    "11": "2022-09-18",
                                    "12": "113",
                                    "13": "1",
                                    "14": "158",
                                    "15": "21"
                                },
                                {
                                    "0": "32426520",
                                    "1": "1849 Victoria Flour Mill Counting House",
                                    "2": "33964673",
                                    "3": "Natalie",
                                    "4": "Buchfelde",
                                    "5": "-3459906",
                                    "6": "13874396",
                                    "7": "Entire home/apt",
                                    "8": "145",
                                    "9": "1",
                                    "10": "194",
                                    "11": "2022-09-08",
                                    "12": "450",
                                    "13": "3",
                                    "14": "318",
                                    "15": "70"
                                },
                                {
                                    "0": "32551818",
                                    "1": "Barossa Bliss",
                                    "2": "244624080",
                                    "3": "Ben",
                                    "4": "Nuriootpa",
                                    "5": "-3446731",
                                    "6": "13898425",
                                    "7": "Entire home/apt",
                                    "8": "150",
                                    "9": "2",
                                    "10": "76",
                                    "11": "2022-08-18",
                                    "12": "185",
                                    "13": "1",
                                    "14": "116",
                                    "15": "11"
                                },
                                {
                                    "0": "32789383",
                                    "1": "Wings Barossa Bird & Bush Retreat - Barossa Region",
                                    "2": "246654848",
                                    "3": "Graeme & Fleur",
                                    "4": "Mount Crawford",
                                    "5": "-3469142",
                                    "6": "13903562",
                                    "7": "Entire home/apt",
                                    "8": "270",
                                    "9": "2",
                                    "10": "58",
                                    "11": "2022-08-07",
                                    "12": "149",
                                    "13": "2",
                                    "14": "335",
                                    "15": "22"
                                },
                                {
                                    "0": "32964524",
                                    "1": "Wings Barossa Bird & Bush Retreat",
                                    "2": "246654848",
                                    "3": "Graeme & Fleur",
                                    "4": "Mount Crawford",
                                    "5": "-3468958",
                                    "6": "13903468",
                                    "7": "Entire home/apt",
                                    "8": "270",
                                    "9": "2",
                                    "10": "13",
                                    "11": "2022-07-31",
                                    "12": "55",
                                    "13": "2",
                                    "14": "335",
                                    "15": "9"
                                },
                                {
                                    "0": "33539267",
                                    "1": "The Chapel",
                                    "2": "26147078",
                                    "3": "Jonathan And Kate",
                                    "4": "Lyndoch",
                                    "5": "-3460192",
                                    "6": "13888495",
                                    "7": "Entire home/apt",
                                    "8": "301",
                                    "9": "2",
                                    "10": "157",
                                    "11": "2022-09-10",
                                    "12": "377",
                                    "13": "6",
                                    "14": "270",
                                    "15": "60"
                                },
                                {
                                    "0": "33663235",
                                    "1": "Lucy's House",
                                    "2": "253714714",
                                    "3": "Steve",
                                    "4": "Marananga",
                                    "5": "-3448627",
                                    "6": "13894349",
                                    "7": "Entire home/apt",
                                    "8": "260",
                                    "9": "2",
                                    "10": "17",
                                    "11": "2022-07-03",
                                    "12": "47",
                                    "13": "1",
                                    "14": "205",
                                    "15": "4"
                                },
                                {
                                    "0": "33718568",
                                    "1": "Henris Cottage",
                                    "2": "84633251",
                                    "3": "Henri",
                                    "4": "Sandy Creek",
                                    "5": "-3458186",
                                    "6": "13883327",
                                    "7": "Private room",
                                    "8": "286",
                                    "9": "2",
                                    "10": "0",
                                    "11": "NULL",
                                    "12": "NULL",
                                    "13": "2",
                                    "14": "174",
                                    "15": "0"
                                },
                                {
                                    "0": "33885699",
                                    "1": "The Loft",
                                    "2": "85556067",
                                    "3": "Tracy",
                                    "4": "Tanunda",
                                    "5": "-3452836",
                                    "6": "13895616",
                                    "7": "Entire home/apt",
                                    "8": "321",
                                    "9": "2",
                                    "10": "200",
                                    "11": "2022-09-04",
                                    "12": "484",
                                    "13": "1",
                                    "14": "276",
                                    "15": "54"
                                },
                                {
                                    "0": "33968239",
                                    "1": "The Clyde Greenock",
                                    "2": "255507745",
                                    "3": "Janine",
                                    "4": "Marananga",
                                    "5": "-3445982",
                                    "6": "13893486",
                                    "7": "Entire home/apt",
                                    "8": "414",
                                    "9": "2",
                                    "10": "10",
                                    "11": "2022-06-13",
                                    "12": "30",
                                    "13": "2",
                                    "14": "175",
                                    "15": "2"
                                },
                                {
                                    "0": "34104638",
                                    "1": "Bali in the Barossa",
                                    "2": "257523028",
                                    "3": "Karen",
                                    "4": "Buchfelde",
                                    "5": "-3460679",
                                    "6": "13873841",
                                    "7": "Entire home/apt",
                                    "8": "210",
                                    "9": "1",
                                    "10": "136",
                                    "11": "2022-09-04",
                                    "12": "330",
                                    "13": "1",
                                    "14": "342",
                                    "15": "33"
                                },
                                {
                                    "0": "34661591",
                                    "1": "'In The Vines' Guest Cottage, Barossa Valley SA",
                                    "2": "261496601",
                                    "3": "Josie & Andrew",
                                    "4": "Light Pass",
                                    "5": "-3447415",
                                    "6": "13903569",
                                    "7": "Entire home/apt",
                                    "8": "239",
                                    "9": "2",
                                    "10": "75",
                                    "11": "2022-07-14",
                                    "12": "185",
                                    "13": "1",
                                    "14": "262",
                                    "15": "16"
                                },
                                {
                                    "0": "34732524",
                                    "1": "Ten on French",
                                    "2": "86995031",
                                    "3": "Lydia",
                                    "4": "Angaston",
                                    "5": "-3450478",
                                    "6": "13904587",
                                    "7": "Entire home/apt",
                                    "8": "184",
                                    "9": "2",
                                    "10": "32",
                                    "11": "2022-09-04",
                                    "12": "80",
                                    "13": "2",
                                    "14": "295",
                                    "15": "18"
                                },
                                {
                                    "0": "34756758",
                                    "1": "Mataro Cottage Tanunda - Stunning Accomodation",
                                    "2": "262121622",
                                    "3": "Jerry",
                                    "4": "Tanunda",
                                    "5": "-3452454",
                                    "6": "1389534",
                                    "7": "Entire home/apt",
                                    "8": "300",
                                    "9": "2",
                                    "10": "22",
                                    "11": "2022-08-28",
                                    "12": "72",
                                    "13": "5",
                                    "14": "222",
                                    "15": "7"
                                },
                                {
                                    "0": "34783741",
                                    "1": "Angaston Mews Grenache Apartment - Barossa Valley",
                                    "2": "262121622",
                                    "3": "Jerry",
                                    "4": "Angaston",
                                    "5": "-34499",
                                    "6": "13905222",
                                    "7": "Entire home/apt",
                                    "8": "226",
                                    "9": "2",
                                    "10": "5",
                                    "11": "2022-04-18",
                                    "12": "16",
                                    "13": "5",
                                    "14": "314",
                                    "15": "2"
                                },
                                {
                                    "0": "34785651",
                                    "1": "Angaston Mews Shiraz Apartment - Barossa Valley",
                                    "2": "262121622",
                                    "3": "Jerry",
                                    "4": "Angaston",
                                    "5": "-3450061",
                                    "6": "1390506",
                                    "7": "Entire home/apt",
                                    "8": "226",
                                    "9": "2",
                                    "10": "2",
                                    "11": "2022-06-14",
                                    "12": "9",
                                    "13": "5",
                                    "14": "330",
                                    "15": "1"
                                },
                                {
                                    "0": "34787869",
                                    "1": "Angaston Mews Riesling Apartment - Barossa Valley",
                                    "2": "262121622",
                                    "3": "Jerry",
                                    "4": "Angaston",
                                    "5": "-3449906",
                                    "6": "13905118",
                                    "7": "Entire home/apt",
                                    "8": "229",
                                    "9": "2",
                                    "10": "5",
                                    "11": "2022-04-21",
                                    "12": "14",
                                    "13": "5",
                                    "14": "316",
                                    "15": "1"
                                },
                                {
                                    "0": "34788045",
                                    "1": "Angaston Mews Chardonnay Apartment - Barossa",
                                    "2": "262121622",
                                    "3": "Jerry",
                                    "4": "Angaston",
                                    "5": "-3449949",
                                    "6": "1390519",
                                    "7": "Entire home/apt",
                                    "8": "229",
                                    "9": "2",
                                    "10": "5",
                                    "11": "2022-03-12",
                                    "12": "12",
                                    "13": "5",
                                    "14": "314",
                                    "15": "3"
                                },
                                {
                                    "0": "34914043",
                                    "1": "JHA Stone Cellar",
                                    "2": "106868811",
                                    "3": "Jan",
                                    "4": "Angaston",
                                    "5": "-345083",
                                    "6": "13910477",
                                    "7": "Entire home/apt",
                                    "8": "790",
                                    "9": "1",
                                    "10": "15",
                                    "11": "2022-02-12",
                                    "12": "38",
                                    "13": "2",
                                    "14": "228",
                                    "15": "5"
                                },
                                {
                                    "0": "35021213",
                                    "1": "Tomfoolery Winemaker's Cottage - Barossa Valley",
                                    "2": "263832331",
                                    "3": "Sarah",
                                    "4": "Light Pass",
                                    "5": "-3447432",
                                    "6": "13903661",
                                    "7": "Entire home/apt",
                                    "8": "479",
                                    "9": "2",
                                    "10": "72",
                                    "11": "2022-08-21",
                                    "12": "181",
                                    "13": "1",
                                    "14": "316",
                                    "15": "28"
                                },
                                {
                                    "0": "35356801",
                                    "1": "Williamstown Bed and Breakfast",
                                    "2": "265939095",
                                    "3": "Dianne",
                                    "4": "Williamstown",
                                    "5": "-3467037",
                                    "6": "13889143",
                                    "7": "Entire home/apt",
                                    "8": "250",
                                    "9": "2",
                                    "10": "29",
                                    "11": "2022-08-20",
                                    "12": "74",
                                    "13": "1",
                                    "14": "304",
                                    "15": "12"
                                },
                                {
                                    "0": "35617858",
                                    "1": "Lindsay House Homestead",
                                    "2": "257562725",
                                    "3": "Jasmine",
                                    "4": "Angaston",
                                    "5": "-3450249",
                                    "6": "13904108",
                                    "7": "Entire home/apt",
                                    "8": "874",
                                    "9": "2",
                                    "10": "36",
                                    "11": "2022-07-11",
                                    "12": "99",
                                    "13": "4",
                                    "14": "298",
                                    "15": "18"
                                },
                                {
                                    "0": "35660705",
                                    "1": "Barossa Valley Gundaroo - we offer 1 night stays",
                                    "2": "85597526",
                                    "3": "Tracy",
                                    "4": "Mount Crawford",
                                    "5": "-3477143",
                                    "6": "13897557",
                                    "7": "Entire home/apt",
                                    "8": "164",
                                    "9": "1",
                                    "10": "361",
                                    "11": "2022-09-20",
                                    "12": "911",
                                    "13": "1",
                                    "14": "300",
                                    "15": "115"
                                },
                                {
                                    "0": "35887791",
                                    "1": "Barossa Valley Hilltop Indulgence",
                                    "2": "73273148",
                                    "3": "Tricia",
                                    "4": "Marananga",
                                    "5": "-3445686",
                                    "6": "13891976",
                                    "7": "Entire home/apt",
                                    "8": "350",
                                    "9": "2",
                                    "10": "3",
                                    "11": "2019-10-12",
                                    "12": "8",
                                    "13": "1",
                                    "14": "179",
                                    "15": "0"
                                },
                                {
                                    "0": "36162973",
                                    "1": "Delightful private room in heritage home",
                                    "2": "271985916",
                                    "3": "Mary",
                                    "4": "Buchfelde",
                                    "5": "-3460591",
                                    "6": "13874732",
                                    "7": "Private room",
                                    "8": "90",
                                    "9": "1",
                                    "10": "134",
                                    "11": "2022-09-14",
                                    "12": "345",
                                    "13": "1",
                                    "14": "129",
                                    "15": "52"
                                },
                                {
                                    "0": "36184899",
                                    "1": "Ironstone on Jollytown",
                                    "2": "192564481",
                                    "3": "Brooke & Peter",
                                    "4": "Lyndoch",
                                    "5": "-3460337",
                                    "6": "13887968",
                                    "7": "Entire home/apt",
                                    "8": "255",
                                    "9": "2",
                                    "10": "233",
                                    "11": "2022-09-19",
                                    "12": "752",
                                    "13": "1",
                                    "14": "16",
                                    "15": "95"
                                },
                                {
                                    "0": "36464062",
                                    "1": "The Kirche - Luxury Vineyard Accommodation",
                                    "2": "274161665",
                                    "3": "Virginia And Charlie",
                                    "4": "Bethany",
                                    "5": "-3455993",
                                    "6": "13896579",
                                    "7": "Entire home/apt",
                                    "8": "795",
                                    "9": "2",
                                    "10": "1",
                                    "11": "2022-08-08",
                                    "12": "67",
                                    "13": "1",
                                    "14": "317",
                                    "15": "1"
                                },
                                {
                                    "0": "36498929",
                                    "1": "Tal Haus - In the heart of the Barossa Valley",
                                    "2": "49747343",
                                    "3": "Maz",
                                    "4": "Tanunda",
                                    "5": "-3452264",
                                    "6": "13896292",
                                    "7": "Entire home/apt",
                                    "8": "187",
                                    "9": "1",
                                    "10": "310",
                                    "11": "2022-09-19",
                                    "12": "832",
                                    "13": "1",
                                    "14": "239",
                                    "15": "112"
                                },
                                {
                                    "0": "36774681",
                                    "1": "Rogasch Cottage",
                                    "2": "276432130",
                                    "3": "Scott",
                                    "4": "Tanunda",
                                    "5": "-3452729",
                                    "6": "13895226",
                                    "7": "Entire home/apt",
                                    "8": "507",
                                    "9": "2",
                                    "10": "187",
                                    "11": "2022-09-17",
                                    "12": "522",
                                    "13": "1",
                                    "14": "187",
                                    "15": "81"
                                },
                                {
                                    "0": "37021014",
                                    "1": "'Allawah' Barossa, Luxury accommodation in Tanunda",
                                    "2": "99672311",
                                    "3": "Tracy",
                                    "4": "Tanunda",
                                    "5": "-3452732",
                                    "6": "13895677",
                                    "7": "Entire home/apt",
                                    "8": "350",
                                    "9": "2",
                                    "10": "57",
                                    "11": "2022-09-12",
                                    "12": "163",
                                    "13": "1",
                                    "14": "224",
                                    "15": "28"
                                },
                                {
                                    "0": "37468647",
                                    "1": "Gawler Townhouse 3 Bedroom",
                                    "2": "38878329",
                                    "3": "Andrew",
                                    "4": "Hewett",
                                    "5": "-3459406",
                                    "6": "13874947",
                                    "7": "Entire home/apt",
                                    "8": "464",
                                    "9": "1",
                                    "10": "31",
                                    "11": "2022-07-31",
                                    "12": "87",
                                    "13": "6",
                                    "14": "355",
                                    "15": "12"
                                },
                                {
                                    "0": "37689356",
                                    "1": "CASALE Barossa Valley - Bed & Breakfast",
                                    "2": "284867983",
                                    "3": "Rosa",
                                    "4": "Nuriootpa",
                                    "5": "-3446845",
                                    "6": "13895749",
                                    "7": "Entire home/apt",
                                    "8": "305",
                                    "9": "1",
                                    "10": "58",
                                    "11": "2022-09-06",
                                    "12": "167",
                                    "13": "1",
                                    "14": "326",
                                    "15": "19"
                                },
                                {
                                    "0": "37733817",
                                    "1": "Ruby’s Residence: LOCATION - cozy - WIFI - netflix",
                                    "2": "165561239",
                                    "3": "Marlovisa",
                                    "4": "Tanunda",
                                    "5": "-3452301",
                                    "6": "13895934",
                                    "7": "Entire home/apt",
                                    "8": "243",
                                    "9": "2",
                                    "10": "75",
                                    "11": "2022-09-11",
                                    "12": "207",
                                    "13": "2",
                                    "14": "269",
                                    "15": "37"
                                },
                                {
                                    "0": "37926946",
                                    "1": "Tamu Barossa",
                                    "2": "287327836",
                                    "3": "Bianca",
                                    "4": "Altona",
                                    "5": "-3459088",
                                    "6": "13891066",
                                    "7": "Entire home/apt",
                                    "8": "139",
                                    "9": "2",
                                    "10": "90",
                                    "11": "2022-08-30",
                                    "12": "249",
                                    "13": "1",
                                    "14": "117",
                                    "15": "28"
                                },
                                {
                                    "0": "38072313",
                                    "1": "Barossa Valley Vineyard House  8 Acres vineyard",
                                    "2": "297316869",
                                    "3": "Greenock Estate Wines",
                                    "4": "Nuriootpa",
                                    "5": "-3450385",
                                    "6": "13900742",
                                    "7": "Private room",
                                    "8": "130",
                                    "9": "1",
                                    "10": "0",
                                    "11": "NULL",
                                    "12": "NULL",
                                    "13": "1",
                                    "14": "0",
                                    "15": "0"
                                },
                                {
                                    "0": "38438917",
                                    "1": "Entire cottage, quiet, romantic, self contained",
                                    "2": "24432943",
                                    "3": "Alexandra",
                                    "4": "Angaston",
                                    "5": "-3450468",
                                    "6": "1390454",
                                    "7": "Entire home/apt",
                                    "8": "230",
                                    "9": "2",
                                    "10": "67",
                                    "11": "2022-09-16",
                                    "12": "186",
                                    "13": "1",
                                    "14": "305",
                                    "15": "25"
                                },
                                {
                                    "0": "38473930",
                                    "1": "Beautiful guest suite in the Barossa Valley",
                                    "2": "267461364",
                                    "3": "Natalie",
                                    "4": "Nuriootpa",
                                    "5": "-344655",
                                    "6": "13901189",
                                    "7": "Private room",
                                    "8": "110",
                                    "9": "2",
                                    "10": "39",
                                    "11": "2022-08-18",
                                    "12": "109",
                                    "13": "1",
                                    "14": "217",
                                    "15": "13"
                                },
                                {
                                    "0": "38557373",
                                    "1": "Greenock's Old Telegraph Station",
                                    "2": "120950528",
                                    "3": "Virginia",
                                    "4": "Greenock",
                                    "5": "-3445786",
                                    "6": "13892946",
                                    "7": "Entire home/apt",
                                    "8": "200",
                                    "9": "2",
                                    "10": "32",
                                    "11": "2022-07-11",
                                    "12": "97",
                                    "13": "1",
                                    "14": "229",
                                    "15": "15"
                                },
                                {
                                    "0": "38627334",
                                    "1": "Milk + Honey House",
                                    "2": "295010752",
                                    "3": "Alexandra",
                                    "4": "Penrice",
                                    "5": "-3448644",
                                    "6": "13904602",
                                    "7": "Entire home/apt",
                                    "8": "250",
                                    "9": "2",
                                    "10": "51",
                                    "11": "2022-09-04",
                                    "12": "145",
                                    "13": "1",
                                    "14": "266",
                                    "15": "21"
                                },
                                {
                                    "0": "38892821",
                                    "1": "QueenBed CosyHome_short walk to Train_near Barossa",
                                    "2": "31964383",
                                    "3": "Ben",
                                    "4": "Concordia",
                                    "5": "-3459525",
                                    "6": "13874996",
                                    "7": "Entire home/apt",
                                    "8": "108",
                                    "9": "2",
                                    "10": "105",
                                    "11": "2022-09-12",
                                    "12": "301",
                                    "13": "1",
                                    "14": "173",
                                    "15": "24"
                                },
                                {
                                    "0": "38914282",
                                    "1": "Tree Creeper Cottage, Kersbrook",
                                    "2": "298038628",
                                    "3": "Alan",
                                    "4": "Mount Crawford",
                                    "5": "-3473902",
                                    "6": "13891378",
                                    "7": "Entire home/apt",
                                    "8": "100",
                                    "9": "1",
                                    "10": "51",
                                    "11": "2022-09-17",
                                    "12": "162",
                                    "13": "1",
                                    "14": "69",
                                    "15": "14"
                                },
                                {
                                    "0": "39158378",
                                    "1": "Grace of Gawler - WiFi Netflix & train @ your door",
                                    "2": "78037905",
                                    "3": "Steph",
                                    "4": "Buchfelde",
                                    "5": "-3460631",
                                    "6": "13874402",
                                    "7": "Entire home/apt",
                                    "8": "140",
                                    "9": "1",
                                    "10": "147",
                                    "11": "2022-09-18",
                                    "12": "422",
                                    "13": "2",
                                    "14": "211",
                                    "15": "71"
                                },
                                {
                                    "0": "39265464",
                                    "1": "Lavender Cottage BAROSSA - LOCATION!",
                                    "2": "165561239",
                                    "3": "Marlovisa",
                                    "4": "Tanunda",
                                    "5": "-3452297",
                                    "6": "13895956",
                                    "7": "Entire home/apt",
                                    "8": "240",
                                    "9": "2",
                                    "10": "8",
                                    "11": "2021-01-09",
                                    "12": "32",
                                    "13": "2",
                                    "14": "190",
                                    "15": "0"
                                },
                                {
                                    "0": "40013760",
                                    "1": "Barossa Resort Style Living - New Listing Jan 2021",
                                    "2": "2215953",
                                    "3": "Steve",
                                    "4": "Tanunda",
                                    "5": "-3452431",
                                    "6": "13895589",
                                    "7": "Entire home/apt",
                                    "8": "750",
                                    "9": "4",
                                    "10": "6",
                                    "11": "2022-01-05",
                                    "12": "29",
                                    "13": "1",
                                    "14": "25",
                                    "15": "2"
                                },
                                {
                                    "0": "40212692",
                                    "1": "Biscay Cottage: enjoy the peace and quiet",
                                    "2": "2425103",
                                    "3": "Sandra",
                                    "4": "Bethany",
                                    "5": "-3453929",
                                    "6": "13896757",
                                    "7": "Entire home/apt",
                                    "8": "250",
                                    "9": "999",
                                    "10": "48",
                                    "11": "2022-09-18",
                                    "12": "181",
                                    "13": "2",
                                    "14": "69",
                                    "15": "25"
                                },
                                {
                                    "0": "40290859",
                                    "1": "Barossa Shiraz Estate The Barn",
                                    "2": "310538520",
                                    "3": "Julieanne",
                                    "4": "Lyndoch",
                                    "5": "-3459343",
                                    "6": "13887888",
                                    "7": "Private room",
                                    "8": "550",
                                    "9": "2",
                                    "10": "36",
                                    "11": "2022-09-05",
                                    "12": "111",
                                    "13": "2",
                                    "14": "249",
                                    "15": "24"
                                },
                                {
                                    "0": "40291757",
                                    "1": "Barossa Shiraz Estate The Vines",
                                    "2": "310538520",
                                    "3": "Julieanne",
                                    "4": "Lyndoch",
                                    "5": "-3459173",
                                    "6": "13887876",
                                    "7": "Private room",
                                    "8": "490",
                                    "9": "1",
                                    "10": "3",
                                    "11": "2022-05-01",
                                    "12": "10",
                                    "13": "2",
                                    "14": "232",
                                    "15": "1"
                                },
                                {
                                    "0": "40433136",
                                    "1": "King Deluxe Room",
                                    "2": "162433043",
                                    "3": "Danielle",
                                    "4": "Angaston",
                                    "5": "-3449315",
                                    "6": "13902876",
                                    "7": "Private room",
                                    "8": "145",
                                    "9": "1",
                                    "10": "1",
                                    "11": "2022-03-20",
                                    "12": "16",
                                    "13": "6",
                                    "14": "347",
                                    "15": "1"
                                },
                                {
                                    "0": "40433163",
                                    "1": "Standard Queen Room",
                                    "2": "162433043",
                                    "3": "Danielle",
                                    "4": "Angaston",
                                    "5": "-3449416",
                                    "6": "13902739",
                                    "7": "Private room",
                                    "8": "107",
                                    "9": "1",
                                    "10": "24",
                                    "11": "2022-08-14",
                                    "12": "71",
                                    "13": "6",
                                    "14": "350",
                                    "15": "20"
                                },
                                {
                                    "0": "40433180",
                                    "1": "Triple Room - Queen + Single",
                                    "2": "162433043",
                                    "3": "Danielle",
                                    "4": "Angaston",
                                    "5": "-3449417",
                                    "6": "13902892",
                                    "7": "Private room",
                                    "8": "135",
                                    "9": "1",
                                    "10": "1",
                                    "11": "2022-08-22",
                                    "12": "1",
                                    "13": "6",
                                    "14": "337",
                                    "15": "1"
                                },
                                {
                                    "0": "40433196",
                                    "1": "Family Room- Queen + 2 Singles",
                                    "2": "162433043",
                                    "3": "Danielle",
                                    "4": "Angaston",
                                    "5": "-3449403",
                                    "6": "13902731",
                                    "7": "Private room",
                                    "8": "145",
                                    "9": "1",
                                    "10": "6",
                                    "11": "2022-04-21",
                                    "12": "20",
                                    "13": "6",
                                    "14": "320",
                                    "15": "3"
                                },
                                {
                                    "0": "40433230",
                                    "1": "Family Room- 2 x Queens Room",
                                    "2": "162433043",
                                    "3": "Danielle",
                                    "4": "Angaston",
                                    "5": "-3449248",
                                    "6": "13902915",
                                    "7": "Private room",
                                    "8": "140",
                                    "9": "2",
                                    "10": "3",
                                    "11": "2022-08-15",
                                    "12": "42",
                                    "13": "6",
                                    "14": "309",
                                    "15": "3"
                                },
                                {
                                    "0": "40433247",
                                    "1": "Standard Twin Room",
                                    "2": "162433043",
                                    "3": "Danielle",
                                    "4": "Angaston",
                                    "5": "-3449462",
                                    "6": "13902856",
                                    "7": "Private room",
                                    "8": "105",
                                    "9": "1",
                                    "10": "2",
                                    "11": "2022-01-16",
                                    "12": "6",
                                    "13": "6",
                                    "14": "307",
                                    "15": "1"
                                },
                                {
                                    "0": "40433618",
                                    "1": "Vineyard Views",
                                    "2": "29148788",
                                    "3": "Karl",
                                    "4": "Angaston",
                                    "5": "-3453599",
                                    "6": "139039",
                                    "7": "Entire home/apt",
                                    "8": "233",
                                    "9": "2",
                                    "10": "141",
                                    "11": "2022-09-16",
                                    "12": "415",
                                    "13": "1",
                                    "14": "136",
                                    "15": "55"
                                },
                                {
                                    "0": "40710829",
                                    "1": "Pembury Mews",
                                    "2": "26147078",
                                    "3": "Jonathan And Kate",
                                    "4": "Angaston",
                                    "5": "-3450134",
                                    "6": "13903853",
                                    "7": "Private room",
                                    "8": "120",
                                    "9": "2",
                                    "10": "0",
                                    "11": "NULL",
                                    "12": "NULL",
                                    "13": "6",
                                    "14": "0",
                                    "15": "0"
                                },
                                {
                                    "0": "41405916",
                                    "1": "Triple Creek Guest House - Barossa Region",
                                    "2": "396529571",
                                    "3": "Dorham",
                                    "4": "Marananga",
                                    "5": "-3449844",
                                    "6": "13891357",
                                    "7": "Entire home/apt",
                                    "8": "650",
                                    "9": "1",
                                    "10": "107",
                                    "11": "2022-08-29",
                                    "12": "346",
                                    "13": "2",
                                    "14": "257",
                                    "15": "47"
                                },
                                {
                                    "0": "41480905",
                                    "1": "The Palms",
                                    "2": "63693332",
                                    "3": "GaryLeonie",
                                    "4": "Hewett",
                                    "5": "-345929",
                                    "6": "13874565",
                                    "7": "Entire home/apt",
                                    "8": "229",
                                    "9": "2",
                                    "10": "15",
                                    "11": "2022-04-10",
                                    "12": "48",
                                    "13": "5",
                                    "14": "305",
                                    "15": "7"
                                },
                                {
                                    "0": "41597034",
                                    "1": "Under the Vines....a Vineyard Escape!",
                                    "2": "10626104",
                                    "3": "Karen",
                                    "4": "Tanunda",
                                    "5": "-345047",
                                    "6": "1389971",
                                    "7": "Entire home/apt",
                                    "8": "290",
                                    "9": "2",
                                    "10": "67",
                                    "11": "2022-09-18",
                                    "12": "210",
                                    "13": "2",
                                    "14": "260",
                                    "15": "55"
                                },
                                {
                                    "0": "41804891",
                                    "1": "10 Murray  Tanunda  feel like a local",
                                    "2": "196783231",
                                    "3": "Louise",
                                    "4": "Tanunda",
                                    "5": "-3452674",
                                    "6": "13895273",
                                    "7": "Entire home/apt",
                                    "8": "768",
                                    "9": "2",
                                    "10": "98",
                                    "11": "2022-08-29",
                                    "12": "314",
                                    "13": "1",
                                    "14": "298",
                                    "15": "51"
                                },
                                {
                                    "0": "42163559",
                                    "1": "Casa Mia Angaston",
                                    "2": "50037088",
                                    "3": "Georgina",
                                    "4": "Angaston",
                                    "5": "-3450143",
                                    "6": "1390463",
                                    "7": "Entire home/apt",
                                    "8": "250",
                                    "9": "2",
                                    "10": "16",
                                    "11": "2022-08-30",
                                    "12": "186",
                                    "13": "1",
                                    "14": "332",
                                    "15": "16"
                                },
                                {
                                    "0": "42566492",
                                    "1": "Near Gawler Main St and start of Barossa",
                                    "2": "338081408",
                                    "3": "Sharen",
                                    "4": "Concordia",
                                    "5": "-3460119",
                                    "6": "1387623",
                                    "7": "Entire home/apt",
                                    "8": "128",
                                    "9": "4",
                                    "10": "78",
                                    "11": "2022-09-13",
                                    "12": "256",
                                    "13": "1",
                                    "14": "306",
                                    "15": "24"
                                },
                                {
                                    "0": "42649403",
                                    "1": "BnB on Barkey",
                                    "2": "123337181",
                                    "3": "Linda",
                                    "4": "Greenock",
                                    "5": "-3445488",
                                    "6": "1389318",
                                    "7": "Entire home/apt",
                                    "8": "132",
                                    "9": "2",
                                    "10": "37",
                                    "11": "2022-09-12",
                                    "12": "207",
                                    "13": "1",
                                    "14": "127",
                                    "15": "20"
                                },
                                {
                                    "0": "42653260",
                                    "1": "THE VINES   Mount Pleasant close to attractions.",
                                    "2": "175043828",
                                    "3": "Shari",
                                    "4": "Mount Pleasant",
                                    "5": "-3477893",
                                    "6": "13904251",
                                    "7": "Entire home/apt",
                                    "8": "105",
                                    "9": "1",
                                    "10": "71",
                                    "11": "2022-07-24",
                                    "12": "308",
                                    "13": "1",
                                    "14": "0",
                                    "15": "38"
                                },
                                {
                                    "0": "42667491",
                                    "1": "Elders Office",
                                    "2": "257562725",
                                    "3": "Jasmine",
                                    "4": "Angaston",
                                    "5": "-3450108",
                                    "6": "1390417",
                                    "7": "Entire home/apt",
                                    "8": "250",
                                    "9": "1",
                                    "10": "200",
                                    "11": "2022-09-15",
                                    "12": "647",
                                    "13": "4",
                                    "14": "251",
                                    "15": "76"
                                },
                                {
                                    "0": "42718676",
                                    "1": "Auction Shed",
                                    "2": "257562725",
                                    "3": "Jasmine",
                                    "4": "Angaston",
                                    "5": "-3450171",
                                    "6": "13904057",
                                    "7": "Entire home/apt",
                                    "8": "507",
                                    "9": "1",
                                    "10": "82",
                                    "11": "2022-09-05",
                                    "12": "328",
                                    "13": "4",
                                    "14": "291",
                                    "15": "51"
                                },
                                {
                                    "0": "43047801",
                                    "1": "Angas's Retreat - with Country views",
                                    "2": "241630453",
                                    "3": "Melissa",
                                    "4": "Angaston",
                                    "5": "-3449981",
                                    "6": "13904224",
                                    "7": "Entire home/apt",
                                    "8": "260",
                                    "9": "2",
                                    "10": "97",
                                    "11": "2022-09-18",
                                    "12": "351",
                                    "13": "1",
                                    "14": "101",
                                    "15": "44"
                                },
                                {
                                    "0": "43118837",
                                    "1": "Deluxe Couples Spa Cabin",
                                    "2": "20245136",
                                    "3": "Seppelts View",
                                    "4": "Marananga",
                                    "5": "-344884",
                                    "6": "1389235",
                                    "7": "Entire home/apt",
                                    "8": "312",
                                    "9": "1",
                                    "10": "34",
                                    "11": "2022-08-19",
                                    "12": "125",
                                    "13": "4",
                                    "14": "118",
                                    "15": "9"
                                },
                                {
                                    "0": "43128151",
                                    "1": "Couples Cabin",
                                    "2": "20245136",
                                    "3": "Seppelts View",
                                    "4": "Marananga",
                                    "5": "-3448836",
                                    "6": "13892286",
                                    "7": "Entire home/apt",
                                    "8": "190",
                                    "9": "1",
                                    "10": "48",
                                    "11": "2022-08-09",
                                    "12": "171",
                                    "13": "4",
                                    "14": "251",
                                    "15": "22"
                                },
                                {
                                    "0": "43128158",
                                    "1": "Family Cabin w/ Seperate Bunk Room",
                                    "2": "20245136",
                                    "3": "Seppelts View",
                                    "4": "Marananga",
                                    "5": "-3448651",
                                    "6": "13892349",
                                    "7": "Entire home/apt",
                                    "8": "208",
                                    "9": "1",
                                    "10": "10",
                                    "11": "2022-06-10",
                                    "12": "41",
                                    "13": "4",
                                    "14": "239",
                                    "15": "3"
                                },
                                {
                                    "0": "43329785",
                                    "1": "Cirillo Guest House",
                                    "2": "52348976",
                                    "3": "Annika",
                                    "4": "Nuriootpa",
                                    "5": "-3449419",
                                    "6": "13900969",
                                    "7": "Entire home/apt",
                                    "8": "420",
                                    "9": "2",
                                    "10": "54",
                                    "11": "2022-09-18",
                                    "12": "202",
                                    "13": "1",
                                    "14": "137",
                                    "15": "31"
                                },
                                {
                                    "0": "43366530",
                                    "1": "Tanunda Apartment",
                                    "2": "257562725",
                                    "3": "Jasmine",
                                    "4": "Tanunda",
                                    "5": "-3452706",
                                    "6": "13895728",
                                    "7": "Private room",
                                    "8": "220",
                                    "9": "1",
                                    "10": "136",
                                    "11": "2022-09-03",
                                    "12": "476",
                                    "13": "4",
                                    "14": "304",
                                    "15": "68"
                                },
                                {
                                    "0": "43646190",
                                    "1": "Gateway to the Barossa",
                                    "2": "348529669",
                                    "3": "Greg And Mary",
                                    "4": "Concordia",
                                    "5": "-3459905",
                                    "6": "13879915",
                                    "7": "Entire home/apt",
                                    "8": "150",
                                    "9": "2",
                                    "10": "26",
                                    "11": "2022-08-22",
                                    "12": "114",
                                    "13": "1",
                                    "14": "0",
                                    "15": "4"
                                },
                                {
                                    "0": "43913815",
                                    "1": "Gawler Townhouse 1 Bedroom",
                                    "2": "38878329",
                                    "3": "Andrew",
                                    "4": "Concordia",
                                    "5": "-3459617",
                                    "6": "13874998",
                                    "7": "Entire home/apt",
                                    "8": "207",
                                    "9": "1",
                                    "10": "115",
                                    "11": "2022-09-13",
                                    "12": "426",
                                    "13": "6",
                                    "14": "355",
                                    "15": "54"
                                },
                                {
                                    "0": "43950395",
                                    "1": "Gawler Townhouses 1 Bedroom (1a)",
                                    "2": "38878329",
                                    "3": "Andrew",
                                    "4": "Concordia",
                                    "5": "-3459618",
                                    "6": "13875144",
                                    "7": "Entire home/apt",
                                    "8": "197",
                                    "9": "1",
                                    "10": "9",
                                    "11": "2022-05-26",
                                    "12": "42",
                                    "13": "6",
                                    "14": "351",
                                    "15": "5"
                                },
                                {
                                    "0": "44450394",
                                    "1": "'Mattschoss House c1890' - Barossa comfort & style",
                                    "2": "359107874",
                                    "3": "Katelin",
                                    "4": "Tanunda",
                                    "5": "-3449547",
                                    "6": "13897399",
                                    "7": "Entire home/apt",
                                    "8": "350",
                                    "9": "2",
                                    "10": "20",
                                    "11": "2022-07-13",
                                    "12": "85",
                                    "13": "1",
                                    "14": "35",
                                    "15": "12"
                                },
                                {
                                    "0": "45084589",
                                    "1": "Redemption House",
                                    "2": "255318511",
                                    "3": "Ted & Kylie",
                                    "4": "Gawler River",
                                    "5": "-3462676",
                                    "6": "13861104",
                                    "7": "Entire home/apt",
                                    "8": "130",
                                    "9": "1",
                                    "10": "84",
                                    "11": "2022-07-02",
                                    "12": "350",
                                    "13": "1",
                                    "14": "230",
                                    "15": "35"
                                },
                                {
                                    "0": "45091753",
                                    "1": "Evanston Gardens - Close to Barossa Valley",
                                    "2": "1956923",
                                    "3": "Ted",
                                    "4": "Buchfelde",
                                    "5": "-3462707",
                                    "6": "13872112",
                                    "7": "Private room",
                                    "8": "80",
                                    "9": "2",
                                    "10": "17",
                                    "11": "2022-08-30",
                                    "12": "81",
                                    "13": "1",
                                    "14": "356",
                                    "15": "12"
                                },
                                {
                                    "0": "45092536",
                                    "1": "It's Bonza! Accessibility+comfort, Barossa Valley",
                                    "2": "26657441",
                                    "3": "Nelly Stan",
                                    "4": "Williamstown",
                                    "5": "-3465417",
                                    "6": "13888892",
                                    "7": "Entire home/apt",
                                    "8": "160",
                                    "9": "2",
                                    "10": "23",
                                    "11": "2022-08-03",
                                    "12": "260",
                                    "13": "1",
                                    "14": "296",
                                    "15": "23"
                                },
                                {
                                    "0": "45319838",
                                    "1": "Schomburgk Cottage- Gawler- private, cozy, unique.",
                                    "2": "179855375",
                                    "3": "Veronica",
                                    "4": "Buchfelde",
                                    "5": "-346129",
                                    "6": "13869825",
                                    "7": "Entire home/apt",
                                    "8": "140",
                                    "9": "2",
                                    "10": "0",
                                    "11": "NULL",
                                    "12": "NULL",
                                    "13": "1",
                                    "14": "128",
                                    "15": "0"
                                },
                                {
                                    "0": "45548496",
                                    "1": "Barossa Lofts & Wood Oven Pizza Restaurant",
                                    "2": "198156088",
                                    "3": "Jane",
                                    "4": "Springton",
                                    "5": "-3472354",
                                    "6": "13906653",
                                    "7": "Entire home/apt",
                                    "8": "420",
                                    "9": "2",
                                    "10": "2",
                                    "11": "2020-10-04",
                                    "12": "8",
                                    "13": "3",
                                    "14": "0",
                                    "15": "0"
                                },
                                {
                                    "0": "45555495",
                                    "1": "Wyndways",
                                    "2": "65827290",
                                    "3": "Hannah",
                                    "4": "Tanunda",
                                    "5": "-345235",
                                    "6": "1389528",
                                    "7": "Entire home/apt",
                                    "8": "250",
                                    "9": "2",
                                    "10": "53",
                                    "11": "2022-07-17",
                                    "12": "230",
                                    "13": "1",
                                    "14": "30",
                                    "15": "22"
                                },
                                {
                                    "0": "45693523",
                                    "1": "Old Barossa Valley Inn & Bakery-Entire Main House!",
                                    "2": "92198370",
                                    "3": "Heather",
                                    "4": "Lyndoch",
                                    "5": "-3460238",
                                    "6": "13888712",
                                    "7": "Entire home/apt",
                                    "8": "259",
                                    "9": "2",
                                    "10": "48",
                                    "11": "2022-08-22",
                                    "12": "204",
                                    "13": "2",
                                    "14": "151",
                                    "15": "23"
                                },
                                {
                                    "0": "45714238",
                                    "1": "Barossa Loft Stay & Wood Oven Pizza Restaurant",
                                    "2": "198156088",
                                    "3": "Jane",
                                    "4": "Springton",
                                    "5": "-3472339",
                                    "6": "13906674",
                                    "7": "Entire home/apt",
                                    "8": "165",
                                    "9": "1",
                                    "10": "32",
                                    "11": "2022-01-01",
                                    "12": "138",
                                    "13": "3",
                                    "14": "0",
                                    "15": "4"
                                },
                                {
                                    "0": "45714531",
                                    "1": "Barossa Double Lofts & Wood Oven Pizza Restaurant",
                                    "2": "198156088",
                                    "3": "Jane",
                                    "4": "Springton",
                                    "5": "-3472344",
                                    "6": "13906642",
                                    "7": "Entire home/apt",
                                    "8": "300",
                                    "9": "1",
                                    "10": "4",
                                    "11": "2022-01-14",
                                    "12": "22",
                                    "13": "3",
                                    "14": "0",
                                    "15": "3"
                                },
                                {
                                    "0": "45772254",
                                    "1": "Halletts Valley Hideaway",
                                    "2": "362336116",
                                    "3": "Charmaine",
                                    "4": "Tanunda",
                                    "5": "-3453838",
                                    "6": "13893566",
                                    "7": "Entire home/apt",
                                    "8": "280",
                                    "9": "2",
                                    "10": "110",
                                    "11": "2022-09-14",
                                    "12": "516",
                                    "13": "1",
                                    "14": "282",
                                    "15": "66"
                                },
                                {
                                    "0": "46126039",
                                    "1": "Kombi Camping with Gilbert",
                                    "2": "99836662",
                                    "3": "Karen",
                                    "4": "Kalbeeba",
                                    "5": "-3460124",
                                    "6": "13877322",
                                    "7": "Entire home/apt",
                                    "8": "220",
                                    "9": "2",
                                    "10": "1",
                                    "11": "2021-03-25",
                                    "12": "5",
                                    "13": "2",
                                    "14": "153",
                                    "15": "0"
                                },
                                {
                                    "0": "46128155",
                                    "1": "Seppeltsfield Vineyard Retreat - Barossa getaway",
                                    "2": "77871395",
                                    "3": "Jodie",
                                    "4": "Marananga",
                                    "5": "-3448836",
                                    "6": "13890805",
                                    "7": "Entire home/apt",
                                    "8": "746",
                                    "9": "2",
                                    "10": "20",
                                    "11": "2022-09-03",
                                    "12": "113",
                                    "13": "2",
                                    "14": "210",
                                    "15": "12"
                                },
                                {
                                    "0": "46129812",
                                    "1": "Chinner Cottage on Park",
                                    "2": "13831555",
                                    "3": "Lisa",
                                    "4": "Angaston",
                                    "5": "-3450476",
                                    "6": "13904405",
                                    "7": "Entire home/apt",
                                    "8": "210",
                                    "9": "2",
                                    "10": "12",
                                    "11": "2022-09-10",
                                    "12": "218",
                                    "13": "1",
                                    "14": "230",
                                    "15": "12"
                                },
                                {
                                    "0": "46929185",
                                    "1": "Parkview 5",
                                    "2": "63693332",
                                    "3": "GaryLeonie",
                                    "4": "Kalbeeba",
                                    "5": "-3460881",
                                    "6": "13874895",
                                    "7": "Entire home/apt",
                                    "8": "239",
                                    "9": "2",
                                    "10": "5",
                                    "11": "2022-04-25",
                                    "12": "24",
                                    "13": "5",
                                    "14": "135",
                                    "15": "2"
                                },
                                {
                                    "0": "47117855",
                                    "1": "Peaceful 2br cottage in the 🖤 of Angaston",
                                    "2": "5100298",
                                    "3": "Adele",
                                    "4": "Angaston",
                                    "5": "-3450362",
                                    "6": "13904832",
                                    "7": "Entire home/apt",
                                    "8": "221",
                                    "9": "2",
                                    "10": "43",
                                    "11": "2022-08-22",
                                    "12": "206",
                                    "13": "2",
                                    "14": "52",
                                    "15": "24"
                                },
                                {
                                    "0": "47449065",
                                    "1": "LYNDOCH GRAND VILLA IN BAROSSA VILLAGE SLEEPS 14",
                                    "2": "48998930",
                                    "3": "Darren",
                                    "4": "Lyndoch",
                                    "5": "-346008",
                                    "6": "13888878",
                                    "7": "Entire home/apt",
                                    "8": "681",
                                    "9": "2",
                                    "10": "15",
                                    "11": "2022-09-12",
                                    "12": "127",
                                    "13": "1",
                                    "14": "312",
                                    "15": "15"
                                },
                                {
                                    "0": "47478352",
                                    "1": "Teresa Garden Holiday Home",
                                    "2": "341812742",
                                    "3": "April",
                                    "4": "Tanunda",
                                    "5": "-3451047",
                                    "6": "13894969",
                                    "7": "Entire home/apt",
                                    "8": "345",
                                    "9": "2",
                                    "10": "29",
                                    "11": "2022-07-11",
                                    "12": "160",
                                    "13": "1",
                                    "14": "315",
                                    "15": "18"
                                },
                                {
                                    "0": "47925036",
                                    "1": "Whiterocks Tanunda short walk to resteraunts",
                                    "2": "53620255",
                                    "3": "Peter",
                                    "4": "Tanunda",
                                    "5": "-3452408",
                                    "6": "13895884",
                                    "7": "Entire home/apt",
                                    "8": "648",
                                    "9": "2",
                                    "10": "10",
                                    "11": "2022-09-12",
                                    "12": "151",
                                    "13": "1",
                                    "14": "310",
                                    "15": "10"
                                },
                                {
                                    "0": "47927838",
                                    "1": "Vintage Chic Home",
                                    "2": "325056755",
                                    "3": "Ian",
                                    "4": "Buchfelde",
                                    "5": "-3459727",
                                    "6": "13874474",
                                    "7": "Entire home/apt",
                                    "8": "140",
                                    "9": "2",
                                    "10": "55",
                                    "11": "2022-09-18",
                                    "12": "285",
                                    "13": "1",
                                    "14": "296",
                                    "15": "37"
                                },
                                {
                                    "0": "48061876",
                                    "1": "HISTORIC BAROSSA - 1890s 2 STOREY HAYLOFT",
                                    "2": "2660469",
                                    "3": "Mark And Fiona",
                                    "4": "Springton",
                                    "5": "-3470862",
                                    "6": "1390886",
                                    "7": "Entire home/apt",
                                    "8": "176",
                                    "9": "2",
                                    "10": "44",
                                    "11": "2022-09-18",
                                    "12": "267",
                                    "13": "2",
                                    "14": "304",
                                    "15": "37"
                                },
                                {
                                    "0": "48161724",
                                    "1": "The Cottage at Riverside Farm",
                                    "2": "308444810",
                                    "3": "Louise",
                                    "4": "Lyndoch",
                                    "5": "-3457871",
                                    "6": "13889575",
                                    "7": "Entire home/apt",
                                    "8": "269",
                                    "9": "2",
                                    "10": "1",
                                    "11": "2021-04-14",
                                    "12": "6",
                                    "13": "2",
                                    "14": "280",
                                    "15": "0"
                                },
                                {
                                    "0": "48248462",
                                    "1": "Peaceful 3br cottage in the 🖤 of Angaston",
                                    "2": "5100298",
                                    "3": "Adele",
                                    "4": "Angaston",
                                    "5": "-3450347",
                                    "6": "13904836",
                                    "7": "Entire home/apt",
                                    "8": "320",
                                    "9": "2",
                                    "10": "10",
                                    "11": "2022-07-10",
                                    "12": "55",
                                    "13": "2",
                                    "14": "52",
                                    "15": "7"
                                },
                                {
                                    "0": "48367802",
                                    "1": "Little Eden - See Barossa Valley & bring your pet",
                                    "2": "109279546",
                                    "3": "Mike",
                                    "4": "Eden Valley",
                                    "5": "-3464301",
                                    "6": "13909948",
                                    "7": "Entire home/apt",
                                    "8": "184",
                                    "9": "2",
                                    "10": "80",
                                    "11": "2022-09-02",
                                    "12": "426",
                                    "13": "1",
                                    "14": "312",
                                    "15": "43"
                                },
                                {
                                    "0": "48457019",
                                    "1": "Flaxman: historic Goat Square Cottages in Tanunda",
                                    "2": "132901790",
                                    "3": "Mary",
                                    "4": "Tanunda",
                                    "5": "-3452442",
                                    "6": "13895396",
                                    "7": "Entire home/apt",
                                    "8": "403",
                                    "9": "2",
                                    "10": "34",
                                    "11": "2022-09-20",
                                    "12": "212",
                                    "13": "3",
                                    "14": "312",
                                    "15": "27"
                                },
                                {
                                    "0": "48457377",
                                    "1": "Menge: historic Goat Square Cottages in Tanunda",
                                    "2": "132901790",
                                    "3": "Mary",
                                    "4": "Tanunda",
                                    "5": "-3452476",
                                    "6": "13895392",
                                    "7": "Entire home/apt",
                                    "8": "299",
                                    "9": "2",
                                    "10": "21",
                                    "11": "2022-09-15",
                                    "12": "135",
                                    "13": "3",
                                    "14": "281",
                                    "15": "17"
                                },
                                {
                                    "0": "48457650",
                                    "1": "Kavel: historic Goat Square Cottages in Tanunda",
                                    "2": "132901790",
                                    "3": "Mary",
                                    "4": "Tanunda",
                                    "5": "-3452296",
                                    "6": "13895549",
                                    "7": "Entire home/apt",
                                    "8": "288",
                                    "9": "2",
                                    "10": "25",
                                    "11": "2022-08-14",
                                    "12": "153",
                                    "13": "3",
                                    "14": "268",
                                    "15": "22"
                                },
                                {
                                    "0": "48507184",
                                    "1": "Gateway to the Barossa Valley.",
                                    "2": "70840103",
                                    "3": "Bronwyn",
                                    "4": "Concordia",
                                    "5": "-3459695",
                                    "6": "13877248",
                                    "7": "Entire home/apt",
                                    "8": "120",
                                    "9": "2",
                                    "10": "28",
                                    "11": "2022-09-18",
                                    "12": "157",
                                    "13": "1",
                                    "14": "151",
                                    "15": "19"
                                },
                                {
                                    "0": "48999138",
                                    "1": "The Station - luxury group accommodation",
                                    "2": "3524070",
                                    "3": "Bridget",
                                    "4": "Kapunda",
                                    "5": "-3434125",
                                    "6": "13890894",
                                    "7": "Entire home/apt",
                                    "8": "1500",
                                    "9": "2",
                                    "10": "21",
                                    "11": "2022-09-18",
                                    "12": "126",
                                    "13": "1",
                                    "14": "311",
                                    "15": "15"
                                },
                                {
                                    "0": "49064366",
                                    "1": "Kalimna House",
                                    "2": "133655329",
                                    "3": "Nick",
                                    "4": "Nuriootpa",
                                    "5": "-3446029",
                                    "6": "13900439",
                                    "7": "Entire home/apt",
                                    "8": "270",
                                    "9": "2",
                                    "10": "12",
                                    "11": "2022-08-21",
                                    "12": "69",
                                    "13": "1",
                                    "14": "0",
                                    "15": "6"
                                },
                                {
                                    "0": "49116056",
                                    "1": "Gawler Townhouses 1c",
                                    "2": "38878329",
                                    "3": "Andrew",
                                    "4": "Concordia",
                                    "5": "-3459454",
                                    "6": "13875083",
                                    "7": "Entire home/apt",
                                    "8": "185",
                                    "9": "1",
                                    "10": "17",
                                    "11": "2022-08-06",
                                    "12": "98",
                                    "13": "6",
                                    "14": "343",
                                    "15": "9"
                                },
                                {
                                    "0": "49197946",
                                    "1": "Barossa Valley Views Eco Farm Stay Angaston",
                                    "2": "52444929",
                                    "3": "Kirsten",
                                    "4": "Angaston",
                                    "5": "-3450534",
                                    "6": "13904097",
                                    "7": "Private room",
                                    "8": "170",
                                    "9": "2",
                                    "10": "12",
                                    "11": "2021-11-28",
                                    "12": "75",
                                    "13": "1",
                                    "14": "0",
                                    "15": "3"
                                },
                                {
                                    "0": "49200495",
                                    "1": "Possum Cottage",
                                    "2": "27083172",
                                    "3": "Nick",
                                    "4": "Tanunda",
                                    "5": "-3453145",
                                    "6": "13894868",
                                    "7": "Entire home/apt",
                                    "8": "227",
                                    "9": "1",
                                    "10": "136",
                                    "11": "2022-09-04",
                                    "12": "800",
                                    "13": "2",
                                    "14": "99",
                                    "15": "104"
                                },
                                {
                                    "0": "49448518",
                                    "1": "HISTORIC BAROSSA - 1890 STABLES WITH WOODFIRE",
                                    "2": "2660469",
                                    "3": "Mark And Fiona",
                                    "4": "Springton",
                                    "5": "-3470727",
                                    "6": "13908799",
                                    "7": "Entire home/apt",
                                    "8": "179",
                                    "9": "2",
                                    "10": "33",
                                    "11": "2022-09-21",
                                    "12": "200",
                                    "13": "2",
                                    "14": "308",
                                    "15": "22"
                                },
                                {
                                    "0": "49863533",
                                    "1": "CRUSH Guest Room & Ensuite-Hewitson Barossa Valley",
                                    "2": "402141220",
                                    "3": "Hewitson Winery",
                                    "4": "Tanunda",
                                    "5": "-3449649",
                                    "6": "13897872",
                                    "7": "Entire home/apt",
                                    "8": "255",
                                    "9": "1",
                                    "10": "85",
                                    "11": "2022-09-18",
                                    "12": "524",
                                    "13": "4",
                                    "14": "343",
                                    "15": "64"
                                },
                                {
                                    "0": "49865101",
                                    "1": "PRESS Guest Room & Ensuite-Hewitson Barossa Valley",
                                    "2": "402141220",
                                    "3": "Hewitson Winery",
                                    "4": "Nuriootpa",
                                    "5": "-3449466",
                                    "6": "13897793",
                                    "7": "Entire home/apt",
                                    "8": "255",
                                    "9": "1",
                                    "10": "81",
                                    "11": "2022-09-16",
                                    "12": "514",
                                    "13": "4",
                                    "14": "329",
                                    "15": "60"
                                },
                                {
                                    "0": "49910082",
                                    "1": "Auricht Cottage",
                                    "2": "6187392",
                                    "3": "Mai",
                                    "4": "Tanunda",
                                    "5": "-3450957",
                                    "6": "13896629",
                                    "7": "Private room",
                                    "8": "120",
                                    "9": "1",
                                    "10": "11",
                                    "11": "2022-01-08",
                                    "12": "69",
                                    "13": "1",
                                    "14": "0",
                                    "15": "6"
                                },
                                {
                                    "0": "49912569",
                                    "1": "THE WINERY SUITES - Hewitson Barossa Valley",
                                    "2": "402141220",
                                    "3": "Hewitson Winery",
                                    "4": "Nuriootpa",
                                    "5": "-3449469",
                                    "6": "13897754",
                                    "7": "Entire home/apt",
                                    "8": "774",
                                    "9": "2",
                                    "10": "3",
                                    "11": "2022-06-13",
                                    "12": "34",
                                    "13": "4",
                                    "14": "318",
                                    "15": "3"
                                },
                                {
                                    "0": "49913465",
                                    "1": "Rural retreat! 5 min to wineries / 10 min to town",
                                    "2": "9683914",
                                    "3": "Angela",
                                    "4": "Bethany",
                                    "5": "-3457072",
                                    "6": "13898764",
                                    "7": "Entire home/apt",
                                    "8": "1029",
                                    "9": "2",
                                    "10": "31",
                                    "11": "2022-08-13",
                                    "12": "227",
                                    "13": "1",
                                    "14": "85",
                                    "15": "30"
                                },
                                {
                                    "0": "49931720",
                                    "1": "Exclusive Barossa country lodge/retreat",
                                    "2": "8926804",
                                    "3": "Julie",
                                    "4": "Cockatoo Valley",
                                    "5": "-3461944",
                                    "6": "13883237",
                                    "7": "Entire home/apt",
                                    "8": "795",
                                    "9": "2",
                                    "10": "16",
                                    "11": "2022-08-28",
                                    "12": "123",
                                    "13": "1",
                                    "14": "284",
                                    "15": "15"
                                },
                                {
                                    "0": "50010309",
                                    "1": "Family Cabin",
                                    "2": "20245136",
                                    "3": "Seppelts View",
                                    "4": "Marananga",
                                    "5": "-3448919",
                                    "6": "13892346",
                                    "7": "Entire home/apt",
                                    "8": "197",
                                    "9": "1",
                                    "10": "16",
                                    "11": "2022-08-04",
                                    "12": "103",
                                    "13": "4",
                                    "14": "257",
                                    "15": "11"
                                },
                                {
                                    "0": "50141467",
                                    "1": "The Crescent",
                                    "2": "150886171",
                                    "3": "Penny",
                                    "4": "Nuriootpa",
                                    "5": "-344787",
                                    "6": "13899536",
                                    "7": "Entire home/apt",
                                    "8": "350",
                                    "9": "2",
                                    "10": "0",
                                    "11": "NULL",
                                    "12": "NULL",
                                    "13": "1",
                                    "14": "155",
                                    "15": "0"
                                },
                                {
                                    "0": "50248356",
                                    "1": "Barossa-Gabby's Holiday House-Wifi, Indoor fire",
                                    "2": "395027969",
                                    "3": "Gina",
                                    "4": "Nuriootpa",
                                    "5": "-3446797",
                                    "6": "13897201",
                                    "7": "Entire home/apt",
                                    "8": "480",
                                    "9": "2",
                                    "10": "31",
                                    "11": "2022-09-10",
                                    "12": "216",
                                    "13": "1",
                                    "14": "269",
                                    "15": "27"
                                },
                                {
                                    "0": "50527203",
                                    "1": "Basedow Haus\nBarossa Valley",
                                    "2": "408243200",
                                    "3": "Max",
                                    "4": "Tanunda",
                                    "5": "-3452588",
                                    "6": "13896365",
                                    "7": "Entire home/apt",
                                    "8": "690",
                                    "9": "2",
                                    "10": "19",
                                    "11": "2022-08-28",
                                    "12": "132",
                                    "13": "1",
                                    "14": "212",
                                    "15": "18"
                                },
                                {
                                    "0": "50530409",
                                    "1": "King Suite",
                                    "2": "63693332",
                                    "3": "GaryLeonie",
                                    "4": "Hewett",
                                    "5": "-3459314",
                                    "6": "13874679",
                                    "7": "Entire home/apt",
                                    "8": "225",
                                    "9": "2",
                                    "10": "10",
                                    "11": "2022-07-14",
                                    "12": "69",
                                    "13": "5",
                                    "14": "322",
                                    "15": "9"
                                },
                                {
                                    "0": "50581037",
                                    "1": "Barossa house in the vines & stunning valley view!",
                                    "2": "103898307",
                                    "3": "Anna And David",
                                    "4": "Marananga",
                                    "5": "-3449959",
                                    "6": "13894331",
                                    "7": "Entire home/apt",
                                    "8": "550",
                                    "9": "2",
                                    "10": "52",
                                    "11": "2022-09-16",
                                    "12": "432",
                                    "13": "1",
                                    "14": "320",
                                    "15": "52"
                                },
                                {
                                    "0": "50835494",
                                    "1": "Peace and serenity in the heart of the Barossa",
                                    "2": "410966448",
                                    "3": "Lisa",
                                    "4": "Tanunda",
                                    "5": "-3453955",
                                    "6": "13894362",
                                    "7": "Entire home/apt",
                                    "8": "325",
                                    "9": "1",
                                    "10": "34",
                                    "11": "2022-09-13",
                                    "12": "249",
                                    "13": "1",
                                    "14": "295",
                                    "15": "30"
                                },
                                {
                                    "0": "50946022",
                                    "1": "Magpie House",
                                    "2": "412005775",
                                    "3": "Sandy",
                                    "4": "Tanunda",
                                    "5": "-34523008",
                                    "6": "138960624",
                                    "7": "Entire home/apt",
                                    "8": "314",
                                    "9": "2",
                                    "10": "17",
                                    "11": "2022-08-22",
                                    "12": "202",
                                    "13": "1",
                                    "14": "154",
                                    "15": "17"
                                },
                                {
                                    "0": "50982705",
                                    "1": "Angaston Lodge  - 7 acres",
                                    "2": "412389155",
                                    "3": "Tony",
                                    "4": "Angaston",
                                    "5": "-34494112",
                                    "6": "139048144",
                                    "7": "Entire home/apt",
                                    "8": "286",
                                    "9": "2",
                                    "10": "0",
                                    "11": "NULL",
                                    "12": "NULL",
                                    "13": "1",
                                    "14": "317",
                                    "15": "0"
                                },
                                {
                                    "0": "51296366",
                                    "1": "The olde Hamilton shop, Between Clare and Barossa",
                                    "2": "261874745",
                                    "3": "Stella",
                                    "4": "Kapunda",
                                    "5": "-3421801",
                                    "6": "13887789",
                                    "7": "Entire home/apt",
                                    "8": "175",
                                    "9": "1",
                                    "10": "13",
                                    "11": "2022-06-22",
                                    "12": "100",
                                    "13": "1",
                                    "14": "333",
                                    "15": "12"
                                },
                                {
                                    "0": "51378316",
                                    "1": "Manor House - One Bedroom",
                                    "2": "383527612",
                                    "3": "Jean-Claude",
                                    "4": "Kapunda",
                                    "5": "-3423416",
                                    "6": "13897174",
                                    "7": "Entire home/apt",
                                    "8": "348",
                                    "9": "1",
                                    "10": "1",
                                    "11": "2022-07-05",
                                    "12": "38",
                                    "13": "7",
                                    "14": "322",
                                    "15": "1"
                                },
                                {
                                    "0": "51378839",
                                    "1": "Manor House - Two Bedrooms",
                                    "2": "383527612",
                                    "3": "Jean-Claude",
                                    "4": "Kapunda",
                                    "5": "-342344",
                                    "6": "13897292",
                                    "7": "Entire home/apt",
                                    "8": "464",
                                    "9": "1",
                                    "10": "2",
                                    "11": "2022-05-29",
                                    "12": "17",
                                    "13": "7",
                                    "14": "322",
                                    "15": "2"
                                },
                                {
                                    "0": "51379621",
                                    "1": "Manor House - Three Bedrooms",
                                    "2": "383527612",
                                    "3": "Jean-Claude",
                                    "4": "Kapunda",
                                    "5": "-3423294",
                                    "6": "13897206",
                                    "7": "Entire home/apt",
                                    "8": "580",
                                    "9": "1",
                                    "10": "1",
                                    "11": "2021-10-11",
                                    "12": "9",
                                    "13": "7",
                                    "14": "322",
                                    "15": "1"
                                },
                                {
                                    "0": "51394076",
                                    "1": "Heritage on King Street",
                                    "2": "63693332",
                                    "3": "GaryLeonie",
                                    "4": "Hewett",
                                    "5": "-345932",
                                    "6": "13874565",
                                    "7": "Entire home/apt",
                                    "8": "225",
                                    "9": "2",
                                    "10": "1",
                                    "11": "2021-12-09",
                                    "12": "10",
                                    "13": "5",
                                    "14": "263",
                                    "15": "1"
                                },
                                {
                                    "0": "51410334",
                                    "1": "Head Gardeners Cottage - One Bedroom - 1 night",
                                    "2": "383527612",
                                    "3": "Jean-Claude",
                                    "4": "Kapunda",
                                    "5": "-3423298",
                                    "6": "13897304",
                                    "7": "Private room",
                                    "8": "348",
                                    "9": "1",
                                    "10": "0",
                                    "11": "NULL",
                                    "12": "NULL",
                                    "13": "7",
                                    "14": "322",
                                    "15": "0"
                                },
                                {
                                    "0": "51410362",
                                    "1": "Head Gardeners Cottage - Three Bedroom",
                                    "2": "383527612",
                                    "3": "Jean-Claude",
                                    "4": "Kapunda",
                                    "5": "-3423212",
                                    "6": "13897269",
                                    "7": "Private room",
                                    "8": "580",
                                    "9": "1",
                                    "10": "3",
                                    "11": "2022-09-04",
                                    "12": "59",
                                    "13": "7",
                                    "14": "322",
                                    "15": "3"
                                },
                                {
                                    "0": "51410372",
                                    "1": "Head Gardeners Cottage - Two Bedroom - 1 night",
                                    "2": "383527612",
                                    "3": "Jean-Claude",
                                    "4": "Kapunda",
                                    "5": "-34233",
                                    "6": "13897263",
                                    "7": "Private room",
                                    "8": "464",
                                    "9": "1",
                                    "10": "0",
                                    "11": "NULL",
                                    "12": "NULL",
                                    "13": "7",
                                    "14": "322",
                                    "15": "0"
                                },
                                {
                                    "0": "51673748",
                                    "1": "Oscars at Marananga Cottages - Country Charm",
                                    "2": "275161574",
                                    "3": "Wendy",
                                    "4": "Marananga",
                                    "5": "-3448333",
                                    "6": "13893814",
                                    "7": "Entire home/apt",
                                    "8": "354",
                                    "9": "2",
                                    "10": "7",
                                    "11": "2022-08-21",
                                    "12": "54",
                                    "13": "1",
                                    "14": "309",
                                    "15": "5"
                                },
                                {
                                    "0": "51851038",
                                    "1": "★ Lochnagar Barossa ★  ✔ 3 En-suites ✔ Walking distance to wineries ✔",
                                    "2": "397924132",
                                    "3": "David And Ruth",
                                    "4": "Tanunda",
                                    "5": "-345119",
                                    "6": "13896443",
                                    "7": "Entire home/apt",
                                    "8": "409",
                                    "9": "2",
                                    "10": "10",
                                    "11": "2022-07-22",
                                    "12": "89",
                                    "13": "1",
                                    "14": "54",
                                    "15": "10"
                                },
                                {
                                    "0": "52173111",
                                    "1": "Barossa Valley Winemaker 3 Bedroom Tanunda Cottage",
                                    "2": "422357766",
                                    "3": "Brett",
                                    "4": "Tanunda",
                                    "5": "-3452254",
                                    "6": "13895537",
                                    "7": "Entire home/apt",
                                    "8": "332",
                                    "9": "2",
                                    "10": "28",
                                    "11": "2022-09-17",
                                    "12": "228",
                                    "13": "1",
                                    "14": "163",
                                    "15": "27"
                                },
                                {
                                    "0": "52195885",
                                    "1": "Complementary Bacon & Egg provisions provided :)",
                                    "2": "285235468",
                                    "3": "Kate",
                                    "4": "Tanunda",
                                    "5": "-34528956",
                                    "6": "138952384",
                                    "7": "Entire home/apt",
                                    "8": "289",
                                    "9": "2",
                                    "10": "41",
                                    "11": "2022-08-24",
                                    "12": "342",
                                    "13": "1",
                                    "14": "124",
                                    "15": "41"
                                },
                                {
                                    "0": "52293256",
                                    "1": "Kiron - Cottage in Kapunda, gateway to the Barossa",
                                    "2": "78037905",
                                    "3": "Steph",
                                    "4": "Kapunda",
                                    "5": "-34338912",
                                    "6": "138910224",
                                    "7": "Entire home/apt",
                                    "8": "160",
                                    "9": "2",
                                    "10": "23",
                                    "11": "2022-05-07",
                                    "12": "202",
                                    "13": "2",
                                    "14": "87",
                                    "15": "23"
                                },
                                {
                                    "0": "52410760",
                                    "1": "The Winemakers - Greenock",
                                    "2": "11027064",
                                    "3": "Wyndham",
                                    "4": "Greenock",
                                    "5": "-3445884",
                                    "6": "13893141",
                                    "7": "Entire home/apt",
                                    "8": "320",
                                    "9": "1",
                                    "10": "40",
                                    "11": "2022-09-11",
                                    "12": "353",
                                    "13": "2",
                                    "14": "72",
                                    "15": "40"
                                },
                                {
                                    "0": "52482939",
                                    "1": "Wilsford House - Barossa History & Modern Elegance",
                                    "2": "424812770",
                                    "3": "Melissa",
                                    "4": "Lyndoch",
                                    "5": "-3458893",
                                    "6": "13887763",
                                    "7": "Entire home/apt",
                                    "8": "800",
                                    "9": "2",
                                    "10": "3",
                                    "11": "2022-04-17",
                                    "12": "47",
                                    "13": "1",
                                    "14": "328",
                                    "15": "3"
                                },
                                {
                                    "0": "52866873",
                                    "1": "Escape to the country - ‘The Winemakers Bolthole’",
                                    "2": "11027064",
                                    "3": "Wyndham",
                                    "4": "Greenock",
                                    "5": "-3445872",
                                    "6": "13892955",
                                    "7": "Entire home/apt",
                                    "8": "330",
                                    "9": "1",
                                    "10": "6",
                                    "11": "2022-07-31",
                                    "12": "69",
                                    "13": "2",
                                    "14": "70",
                                    "15": "6"
                                },
                                {
                                    "0": "52923843",
                                    "1": "Benbullen Retreat",
                                    "2": "255507745",
                                    "3": "Janine",
                                    "4": "Angaston",
                                    "5": "-3454581",
                                    "6": "13902852",
                                    "7": "Entire home/apt",
                                    "8": "1886",
                                    "9": "2",
                                    "10": "3",
                                    "11": "2022-06-05",
                                    "12": "50",
                                    "13": "2",
                                    "14": "300",
                                    "15": "3"
                                },
                                {
                                    "0": "52941561",
                                    "1": "Unique Cottages Gawler-2 bedroom Settlers Cottage",
                                    "2": "52911779",
                                    "3": "Jacqui",
                                    "4": "Buchfelde",
                                    "5": "-3460709",
                                    "6": "13874812",
                                    "7": "Entire home/apt",
                                    "8": "271",
                                    "9": "1",
                                    "10": "3",
                                    "11": "2022-06-10",
                                    "12": "39",
                                    "13": "2",
                                    "14": "1",
                                    "15": "3"
                                },
                                {
                                    "0": "53055342",
                                    "1": "1 Small Batch Accommodation",
                                    "2": "326577506",
                                    "3": "Jon",
                                    "4": "Springton",
                                    "5": "-3470667",
                                    "6": "13908884",
                                    "7": "Entire home/apt",
                                    "8": "150",
                                    "9": "1",
                                    "10": "51",
                                    "11": "2022-09-04",
                                    "12": "490",
                                    "13": "2",
                                    "14": "64",
                                    "15": "51"
                                },
                                {
                                    "0": "53068838",
                                    "1": "1858 Barossa Accommodation entire farmhouse.",
                                    "2": "164905660",
                                    "3": "Melissa-Jane",
                                    "4": "Moculta",
                                    "5": "-3445957",
                                    "6": "1391106",
                                    "7": "Entire home/apt",
                                    "8": "837",
                                    "9": "2",
                                    "10": "22",
                                    "11": "2022-09-18",
                                    "12": "237",
                                    "13": "1",
                                    "14": "242",
                                    "15": "22"
                                },
                                {
                                    "0": "53101008",
                                    "1": "Barossa Breakaway",
                                    "2": "429874958",
                                    "3": "Matthew",
                                    "4": "Tanunda",
                                    "5": "-3452978",
                                    "6": "13895177",
                                    "7": "Entire home/apt",
                                    "8": "280",
                                    "9": "2",
                                    "10": "18",
                                    "11": "2022-09-18",
                                    "12": "196",
                                    "13": "1",
                                    "14": "120",
                                    "15": "18"
                                },
                                {
                                    "0": "53111469",
                                    "1": "BIRCHWOOD ON BRIDGE",
                                    "2": "78710746",
                                    "3": "Emma",
                                    "4": "Tanunda",
                                    "5": "-34519",
                                    "6": "13896138",
                                    "7": "Entire home/apt",
                                    "8": "464",
                                    "9": "2",
                                    "10": "42",
                                    "11": "2022-09-18",
                                    "12": "470",
                                    "13": "1",
                                    "14": "271",
                                    "15": "42"
                                },
                                {
                                    "0": "53157588",
                                    "1": "4 Bedroom Barossa Home with Large Garden and Pool",
                                    "2": "175822582",
                                    "3": "Josh",
                                    "4": "Light Pass",
                                    "5": "-3446445",
                                    "6": "13902354",
                                    "7": "Entire home/apt",
                                    "8": "895",
                                    "9": "2",
                                    "10": "6",
                                    "11": "2022-08-21",
                                    "12": "114",
                                    "13": "1",
                                    "14": "134",
                                    "15": "6"
                                },
                                {
                                    "0": "53207344",
                                    "1": "Hide away or enjoy the nearby Barossa",
                                    "2": "430748967",
                                    "3": "Trent",
                                    "4": "Tanunda",
                                    "5": "-3452294",
                                    "6": "13895382",
                                    "7": "Entire home/apt",
                                    "8": "253",
                                    "9": "2",
                                    "10": "17",
                                    "11": "2022-09-18",
                                    "12": "246",
                                    "13": "1",
                                    "14": "318",
                                    "15": "17"
                                },
                                {
                                    "0": "53245474",
                                    "1": "\"Topp House\" Retreat Barossa",
                                    "2": "431071310",
                                    "3": "Jessica",
                                    "4": "Bethany",
                                    "5": "-3453872",
                                    "6": "13896921",
                                    "7": "Entire home/apt",
                                    "8": "217",
                                    "9": "1",
                                    "10": "43",
                                    "11": "2022-09-20",
                                    "12": "581",
                                    "13": "1",
                                    "14": "330",
                                    "15": "43"
                                },
                                {
                                    "0": "53246772",
                                    "1": "Unique Cottages-Gawler Lovely 3 bedroom",
                                    "2": "52911779",
                                    "3": "Jacqui",
                                    "4": "Kalbeeba",
                                    "5": "-3460921",
                                    "6": "13875077",
                                    "7": "Entire home/apt",
                                    "8": "262",
                                    "9": "4",
                                    "10": "2",
                                    "11": "2022-01-07",
                                    "12": "22",
                                    "13": "2",
                                    "14": "55",
                                    "15": "2"
                                },
                                {
                                    "0": "53282576",
                                    "1": "Adorable country unit minutes from the Barossa....",
                                    "2": "44703607",
                                    "3": "Sue",
                                    "4": "Kalbeeba",
                                    "5": "-3462527",
                                    "6": "13875143",
                                    "7": "Entire home/apt",
                                    "8": "145",
                                    "9": "1",
                                    "10": "29",
                                    "11": "2022-09-15",
                                    "12": "284",
                                    "13": "1",
                                    "14": "339",
                                    "15": "29"
                                },
                                {
                                    "0": "53368442",
                                    "1": "Gawler Townhouses 1b",
                                    "2": "38878329",
                                    "3": "Andrew",
                                    "4": "Concordia",
                                    "5": "-3459412",
                                    "6": "13874956",
                                    "7": "Entire home/apt",
                                    "8": "196",
                                    "9": "1",
                                    "10": "12",
                                    "11": "2022-08-09",
                                    "12": "120",
                                    "13": "6",
                                    "14": "305",
                                    "15": "12"
                                },
                                {
                                    "0": "53498238",
                                    "1": "2 Small Batch Accommodation",
                                    "2": "326577506",
                                    "3": "Jon",
                                    "4": "Springton",
                                    "5": "-3470765",
                                    "6": "13908727",
                                    "7": "Entire home/apt",
                                    "8": "150",
                                    "9": "1",
                                    "10": "44",
                                    "11": "2022-09-04",
                                    "12": "447",
                                    "13": "2",
                                    "14": "66",
                                    "15": "44"
                                },
                                {
                                    "0": "53597878",
                                    "1": "Back bungalow",
                                    "2": "27083172",
                                    "3": "Nick",
                                    "4": "Tanunda",
                                    "5": "-34530572",
                                    "6": "138949776",
                                    "7": "Entire home/apt",
                                    "8": "176",
                                    "9": "1",
                                    "10": "76",
                                    "11": "2022-09-06",
                                    "12": "817",
                                    "13": "2",
                                    "14": "109",
                                    "15": "76"
                                },
                                {
                                    "0": "53817822",
                                    "1": "Spacious home in the heart of the Barossa!",
                                    "2": "223639320",
                                    "3": "Jane",
                                    "4": "Nuriootpa",
                                    "5": "-3447271",
                                    "6": "13899197",
                                    "7": "Private room",
                                    "8": "92",
                                    "9": "1",
                                    "10": "24",
                                    "11": "2022-08-29",
                                    "12": "272",
                                    "13": "1",
                                    "14": "327",
                                    "15": "24"
                                },
                                {
                                    "0": "54151696",
                                    "1": "Quiet Rural Retreat in beautiful wine country",
                                    "2": "439026671",
                                    "3": "Kate",
                                    "4": "Mount Crawford",
                                    "5": "-3472948",
                                    "6": "13896463",
                                    "7": "Entire home/apt",
                                    "8": "174",
                                    "9": "2",
                                    "10": "18",
                                    "11": "2022-09-05",
                                    "12": "394",
                                    "13": "1",
                                    "14": "320",
                                    "15": "18"
                                },
                                {
                                    "0": "54187049",
                                    "1": "The Red Door @ Barossa Valley ★Vineyard View★",
                                    "2": "439331891",
                                    "3": "Emma&Roger",
                                    "4": "Nuriootpa",
                                    "5": "-3447056",
                                    "6": "1389668",
                                    "7": "Entire home/apt",
                                    "8": "413",
                                    "9": "2",
                                    "10": "7",
                                    "11": "2022-08-08",
                                    "12": "108",
                                    "13": "8",
                                    "14": "58",
                                    "15": "7"
                                },
                                {
                                    "0": "542934522374568605",
                                    "1": "Ultimate Barossa Retreats massages, facials, relax",
                                    "2": "9380091",
                                    "3": "Kym",
                                    "4": "Tanunda",
                                    "5": "-3452691",
                                    "6": "13895414",
                                    "7": "Entire home/apt",
                                    "8": "300",
                                    "9": "2",
                                    "10": "0",
                                    "11": "NULL",
                                    "12": "NULL",
                                    "13": "17",
                                    "14": "6",
                                    "15": "0"
                                },
                                {
                                    "0": "563854793233301758",
                                    "1": "2 Bedroom Family Cottage - Sleeps up to 6",
                                    "2": "10421165",
                                    "3": "Mark And Fiona",
                                    "4": "Lyndoch",
                                    "5": "-3460339",
                                    "6": "13888237",
                                    "7": "Entire home/apt",
                                    "8": "209",
                                    "9": "2",
                                    "10": "7",
                                    "11": "2022-08-16",
                                    "12": "171",
                                    "13": "2",
                                    "14": "295",
                                    "15": "7"
                                },
                                {
                                    "0": "597299948635932099",
                                    "1": "Coachman's Cottage  (entire 2 Bedroom Cottage)",
                                    "2": "383527612",
                                    "3": "Jean-Claude",
                                    "4": "Kapunda",
                                    "5": "-3423344",
                                    "6": "13897347",
                                    "7": "Entire home/apt",
                                    "8": "986",
                                    "9": "1",
                                    "10": "0",
                                    "11": "NULL",
                                    "12": "NULL",
                                    "13": "7",
                                    "14": "341",
                                    "15": "0"
                                },
                                {
                                    "0": "598893796161066227",
                                    "1": "Sierra Madre - Idyllic stay in the heart of town.",
                                    "2": "91611833",
                                    "3": "Shannon",
                                    "4": "Tanunda",
                                    "5": "-34525080",
                                    "6": "138955568",
                                    "7": "Entire home/apt",
                                    "8": "493",
                                    "9": "2",
                                    "10": "25",
                                    "11": "2022-09-03",
                                    "12": "484",
                                    "13": "1",
                                    "14": "281",
                                    "15": "25"
                                },
                                {
                                    "0": "610466336457949581",
                                    "1": "McGill Vineyard Barossa",
                                    "2": "428181353",
                                    "3": "Tita",
                                    "4": "Penrice",
                                    "5": "-3448698",
                                    "6": "13903345",
                                    "7": "Entire home/apt",
                                    "8": "283",
                                    "9": "2",
                                    "10": "10",
                                    "11": "2022-09-09",
                                    "12": "250",
                                    "13": "1",
                                    "14": "321",
                                    "15": "10"
                                },
                                {
                                    "0": "611369443768980724",
                                    "1": "Neat & Tidy Home with Private Entertaining Area",
                                    "2": "455612017",
                                    "3": "Stacey",
                                    "4": "Angaston",
                                    "5": "-34508908",
                                    "6": "139043568",
                                    "7": "Entire home/apt",
                                    "8": "250",
                                    "9": "2",
                                    "10": "2",
                                    "11": "2022-07-08",
                                    "12": "59",
                                    "13": "1",
                                    "14": "143",
                                    "15": "2"
                                },
                                {
                                    "0": "622557982255835128",
                                    "1": "Camping with a little luxury",
                                    "2": "344402367",
                                    "3": "Lisa",
                                    "4": "Concordia",
                                    "5": "-34590872",
                                    "6": "138764944",
                                    "7": "Entire home/apt",
                                    "8": "110",
                                    "9": "1",
                                    "10": "4",
                                    "11": "2022-08-27",
                                    "12": "110",
                                    "13": "1",
                                    "14": "31",
                                    "15": "4"
                                },
                                {
                                    "0": "623438660532088604",
                                    "1": "Tanunda Abode - Two BR, Two Bath",
                                    "2": "27555575",
                                    "3": "Lisa",
                                    "4": "Tanunda",
                                    "5": "-3452669",
                                    "6": "13895563",
                                    "7": "Entire home/apt",
                                    "8": "315",
                                    "9": "2",
                                    "10": "12",
                                    "11": "2022-09-17",
                                    "12": "486",
                                    "13": "1",
                                    "14": "238",
                                    "15": "12"
                                },
                                {
                                    "0": "625072901481223153",
                                    "1": "Gorgeous stone cottage; stay & explore the Barossa",
                                    "2": "63139941",
                                    "3": "Charlotte",
                                    "4": "Angaston",
                                    "5": "-3450005",
                                    "6": "13904258",
                                    "7": "Entire home/apt",
                                    "8": "226",
                                    "9": "2",
                                    "10": "15",
                                    "11": "2022-09-18",
                                    "12": "437",
                                    "13": "1",
                                    "14": "337",
                                    "15": "15"
                                },
                                {
                                    "0": "634520727307763774",
                                    "1": "Mattner House Family Vacation Resort with Alpacas",
                                    "2": "460856186",
                                    "3": "Awesome",
                                    "4": "Altona",
                                    "5": "-3458813",
                                    "6": "13893308",
                                    "7": "Entire home/apt",
                                    "8": "1603",
                                    "9": "1",
                                    "10": "1",
                                    "11": "2022-09-04",
                                    "12": "1",
                                    "13": "4",
                                    "14": "327",
                                    "15": "1"
                                },
                                {
                                    "0": "637886639776162642",
                                    "1": "Deluxe Queen Room",
                                    "2": "461601857",
                                    "3": "The Wine",
                                    "4": "Tanunda",
                                    "5": "-3451565",
                                    "6": "13897143",
                                    "7": "Entire home/apt",
                                    "8": "227",
                                    "9": "1",
                                    "10": "3",
                                    "11": "2022-09-03",
                                    "12": "136",
                                    "13": "7",
                                    "14": "333",
                                    "15": "3"
                                },
                                {
                                    "0": "637906590837702599",
                                    "1": "Deluxe Twin Room",
                                    "2": "461601857",
                                    "3": "The Wine",
                                    "4": "Tanunda",
                                    "5": "-34515",
                                    "6": "13897133",
                                    "7": "Entire home/apt",
                                    "8": "244",
                                    "9": "1",
                                    "10": "0",
                                    "11": "NULL",
                                    "12": "NULL",
                                    "13": "7",
                                    "14": "344",
                                    "15": "0"
                                },
                                {
                                    "0": "637911090164505078",
                                    "1": "Double Room",
                                    "2": "461601857",
                                    "3": "The Wine",
                                    "4": "Tanunda",
                                    "5": "-345141",
                                    "6": "13897297",
                                    "7": "Entire home/apt",
                                    "8": "237",
                                    "9": "1",
                                    "10": "0",
                                    "11": "NULL",
                                    "12": "NULL",
                                    "13": "7",
                                    "14": "304",
                                    "15": "0"
                                },
                                {
                                    "0": "637920461053069878",
                                    "1": "Superior Queen Room",
                                    "2": "461601857",
                                    "3": "The Wine",
                                    "4": "Tanunda",
                                    "5": "-3451431",
                                    "6": "13897142",
                                    "7": "Entire home/apt",
                                    "8": "284",
                                    "9": "1",
                                    "10": "3",
                                    "11": "2022-09-02",
                                    "12": "176",
                                    "13": "7",
                                    "14": "344",
                                    "15": "3"
                                },
                                {
                                    "0": "637922201318817861",
                                    "1": "Superior Twin Room",
                                    "2": "461601857",
                                    "3": "The Wine",
                                    "4": "Tanunda",
                                    "5": "-3451436",
                                    "6": "13897158",
                                    "7": "Entire home/apt",
                                    "8": "247",
                                    "9": "1",
                                    "10": "0",
                                    "11": "NULL",
                                    "12": "NULL",
                                    "13": "7",
                                    "14": "331",
                                    "15": "0"
                                },
                                {
                                    "0": "637928149292994175",
                                    "1": "Accessible Room",
                                    "2": "461601857",
                                    "3": "The Wine",
                                    "4": "Tanunda",
                                    "5": "-345149",
                                    "6": "13897312",
                                    "7": "Entire home/apt",
                                    "8": "219",
                                    "9": "1",
                                    "10": "0",
                                    "11": "NULL",
                                    "12": "NULL",
                                    "13": "7",
                                    "14": "329",
                                    "15": "0"
                                },
                                {
                                    "0": "637931106243766297",
                                    "1": "Family Room",
                                    "2": "461601857",
                                    "3": "The Wine",
                                    "4": "Tanunda",
                                    "5": "-345135",
                                    "6": "13897279",
                                    "7": "Entire home/apt",
                                    "8": "296",
                                    "9": "1",
                                    "10": "2",
                                    "11": "2022-06-27",
                                    "12": "67",
                                    "13": "7",
                                    "14": "349",
                                    "15": "2"
                                },
                                {
                                    "0": "642268024740404371",
                                    "1": "Charming cottage in Angaston",
                                    "2": "461929112",
                                    "3": "Marilyn And Adam",
                                    "4": "Angaston",
                                    "5": "-345009",
                                    "6": "13905192",
                                    "7": "Entire home/apt",
                                    "8": "269",
                                    "9": "2",
                                    "10": "9",
                                    "11": "2022-09-18",
                                    "12": "314",
                                    "13": "1",
                                    "14": "326",
                                    "15": "9"
                                },
                                {
                                    "0": "646541825645212790",
                                    "1": "‘Apton Field’\n2 Br Cottage in the Barossa Valley",
                                    "2": "234210445",
                                    "3": "Song",
                                    "4": "Flaxman Valley",
                                    "5": "-3465128",
                                    "6": "1390623",
                                    "7": "Entire home/apt",
                                    "8": "190",
                                    "9": "2",
                                    "10": "5",
                                    "11": "2022-09-18",
                                    "12": "169",
                                    "13": "1",
                                    "14": "356",
                                    "15": "5"
                                },
                                {
                                    "0": "650373014543141159",
                                    "1": "Cosy Barossa Getaway - Beautiful, 3BR Retreat",
                                    "2": "149391451",
                                    "3": "Gingerbread-Haus",
                                    "4": "Tanunda",
                                    "5": "-345354560",
                                    "6": "13895152",
                                    "7": "Entire home/apt",
                                    "8": "226",
                                    "9": "2",
                                    "10": "7",
                                    "11": "2022-08-28",
                                    "12": "313",
                                    "13": "1",
                                    "14": "12",
                                    "15": "7"
                                },
                                {
                                    "0": "657633783007400043",
                                    "1": "Rocky House Pergola Resort",
                                    "2": "460856186",
                                    "3": "Awesome",
                                    "4": "Altona",
                                    "5": "-3459342",
                                    "6": "1389275",
                                    "7": "Entire home/apt",
                                    "8": "1021",
                                    "9": "1",
                                    "10": "3",
                                    "11": "2022-09-11",
                                    "12": "125",
                                    "13": "4",
                                    "14": "329",
                                    "15": "3"
                                },
                                {
                                    "0": "666183097301109965",
                                    "1": "Kraft Vintage House",
                                    "2": "460856186",
                                    "3": "Awesome",
                                    "4": "Altona",
                                    "5": "-3457409",
                                    "6": "13894291",
                                    "7": "Entire home/apt",
                                    "8": "891",
                                    "9": "1",
                                    "10": "3",
                                    "11": "2022-08-27",
                                    "12": "134",
                                    "13": "4",
                                    "14": "303",
                                    "15": "3"
                                },
                                {
                                    "0": "668396960497325094",
                                    "1": "Chateau Yaldara House",
                                    "2": "460856186",
                                    "3": "Awesome",
                                    "4": "Lyndoch",
                                    "5": "-3457667",
                                    "6": "138875",
                                    "7": "Entire home/apt",
                                    "8": "1367",
                                    "9": "1",
                                    "10": "1",
                                    "11": "2022-09-04",
                                    "12": "1",
                                    "13": "4",
                                    "14": "66",
                                    "15": "1"
                                },
                                {
                                    "0": "674136485566649262",
                                    "1": "Barossa on Sturt",
                                    "2": "462115682",
                                    "3": "Jane",
                                    "4": "Angaston",
                                    "5": "-3450535",
                                    "6": "13904759",
                                    "7": "Entire home/apt",
                                    "8": "330",
                                    "9": "1",
                                    "10": "7",
                                    "11": "2022-09-18",
                                    "12": "457",
                                    "13": "1",
                                    "14": "318",
                                    "15": "7"
                                },
                                {
                                    "0": "674946640582232212",
                                    "1": "Stoneleigh Cottage 1 - 2 night",
                                    "2": "88080137",
                                    "3": "Georgie",
                                    "4": "Angaston",
                                    "5": "-3449909",
                                    "6": "13904328",
                                    "7": "Entire home/apt",
                                    "8": "220",
                                    "9": "2",
                                    "10": "0",
                                    "11": "NULL",
                                    "12": "NULL",
                                    "13": "2",
                                    "14": "257",
                                    "15": "0"
                                },
                                {
                                    "0": "674946704428630052",
                                    "1": "Stoneleigh Cottage 2 - 2 night",
                                    "2": "88080137",
                                    "3": "Georgie",
                                    "4": "Angaston",
                                    "5": "-3450047",
                                    "6": "13904146",
                                    "7": "Entire home/apt",
                                    "8": "240",
                                    "9": "2",
                                    "10": "2",
                                    "11": "2022-09-11",
                                    "12": "136",
                                    "13": "2",
                                    "14": "294",
                                    "15": "2"
                                },
                                {
                                    "0": "679330074770382060",
                                    "1": "Spacious first floor just for you! Gawler SA",
                                    "2": "124017088",
                                    "3": "Michelle",
                                    "4": "Buchfelde",
                                    "5": "-34600043935694850",
                                    "6": "13873399348592640",
                                    "7": "Private room",
                                    "8": "75",
                                    "9": "1",
                                    "10": "4",
                                    "11": "2022-09-18",
                                    "12": "226",
                                    "13": "1",
                                    "14": "344",
                                    "15": "4"
                                },
                                {
                                    "0": "681601688514895701",
                                    "1": "Historic Adelaide Hills Beauty",
                                    "2": "472161981",
                                    "3": "Heather",
                                    "4": "Mount Pleasant",
                                    "5": "-348093984",
                                    "6": "1390106368",
                                    "7": "Entire home/apt",
                                    "8": "1105",
                                    "9": "1",
                                    "10": "0",
                                    "11": "NULL",
                                    "12": "NULL",
                                    "13": "6",
                                    "14": "365",
                                    "15": "0"
                                },
                                {
                                    "0": "685039112890901249",
                                    "1": "Horse Side Tiny House",
                                    "2": "154813436",
                                    "3": "Tiny Away",
                                    "4": "Kapunda",
                                    "5": "-3434379",
                                    "6": "13890676",
                                    "7": "Entire home/apt",
                                    "8": "191",
                                    "9": "1",
                                    "10": "0",
                                    "11": "NULL",
                                    "12": "NULL",
                                    "13": "1",
                                    "14": "47",
                                    "15": "0"
                                },
                                {
                                    "0": "692241142898358266",
                                    "1": "Situated in the beautiful Barossa Valley",
                                    "2": "474741294",
                                    "3": "Carl",
                                    "4": "Lyndoch",
                                    "5": "-3460035",
                                    "6": "13888431",
                                    "7": "Entire home/apt",
                                    "8": "175",
                                    "9": "2",
                                    "10": "0",
                                    "11": "NULL",
                                    "12": "NULL",
                                    "13": "1",
                                    "14": "298",
                                    "15": "0"
                                },
                                {
                                    "0": "701030563032420807",
                                    "1": "Ferment Suite - Hewitson Guest Suite",
                                    "2": "402141220",
                                    "3": "Hewitson Winery",
                                    "4": "Tanunda",
                                    "5": "-3449629",
                                    "6": "1389778",
                                    "7": "Entire home/apt",
                                    "8": "343",
                                    "9": "1",
                                    "10": "1",
                                    "11": "2022-09-11",
                                    "12": "1",
                                    "13": "4",
                                    "14": "345",
                                    "15": "1"
                                },
                                {
                                    "0": "702031267609659440",
                                    "1": "Comfy Studio 3 @ Blickinstal Barossa Valley Retreat",
                                    "2": "439331891",
                                    "3": "Emma&Roger",
                                    "4": "Bethany",
                                    "5": "-3455496",
                                    "6": "13897924",
                                    "7": "Entire home/apt",
                                    "8": "115",
                                    "9": "1",
                                    "10": "0",
                                    "11": "NULL",
                                    "12": "NULL",
                                    "13": "8",
                                    "14": "148",
                                    "15": "0"
                                },
                                {
                                    "0": "703395754090693752",
                                    "1": "Adorable Lodge 1 @ Blickinstal Retreat",
                                    "2": "439331891",
                                    "3": "Emma&Roger",
                                    "4": "Bethany",
                                    "5": "-3455427",
                                    "6": "13897873",
                                    "7": "Entire home/apt",
                                    "8": "138",
                                    "9": "1",
                                    "10": "0",
                                    "11": "NULL",
                                    "12": "NULL",
                                    "13": "8",
                                    "14": "143",
                                    "15": "0"
                                },
                                {
                                    "0": "703454945429923296",
                                    "1": "Vineyard View | Villa @ Blickinstal Retreat",
                                    "2": "439331891",
                                    "3": "Emma&Roger",
                                    "4": "Bethany",
                                    "5": "-3455355",
                                    "6": "138978",
                                    "7": "Entire home/apt",
                                    "8": "202",
                                    "9": "1",
                                    "10": "0",
                                    "11": "NULL",
                                    "12": "NULL",
                                    "13": "8",
                                    "14": "150",
                                    "15": "0"
                                },
                                {
                                    "0": "703872734491160951",
                                    "1": "Adorable Lodge 2 @ Blickinstal Retreat",
                                    "2": "439331891",
                                    "3": "Emma&Roger",
                                    "4": "Bethany",
                                    "5": "-3455361",
                                    "6": "1389776",
                                    "7": "Entire home/apt",
                                    "8": "138",
                                    "9": "1",
                                    "10": "0",
                                    "11": "NULL",
                                    "12": "NULL",
                                    "13": "8",
                                    "14": "135",
                                    "15": "0"
                                },
                                {
                                    "0": "703873092978064872",
                                    "1": "Comfy Studio 4 @ Blickinstal Barossa Valley Retreat",
                                    "2": "439331891",
                                    "3": "Emma&Roger",
                                    "4": "Bethany",
                                    "5": "-3455489",
                                    "6": "13897899",
                                    "7": "Entire home/apt",
                                    "8": "115",
                                    "9": "1",
                                    "10": "0",
                                    "11": "NULL",
                                    "12": "NULL",
                                    "13": "8",
                                    "14": "122",
                                    "15": "0"
                                },
                                {
                                    "0": "703873217398549559",
                                    "1": "Comfy Studio 5 @ Blickinstal Barossa Valley Retreat",
                                    "2": "439331891",
                                    "3": "Emma&Roger",
                                    "4": "Bethany",
                                    "5": "-3455286",
                                    "6": "13897781",
                                    "7": "Entire home/apt",
                                    "8": "115",
                                    "9": "1",
                                    "10": "0",
                                    "11": "NULL",
                                    "12": "NULL",
                                    "13": "8",
                                    "14": "135",
                                    "15": "0"
                                },
                                {
                                    "0": "703873326508107679",
                                    "1": "Comfy Studio 6 @ Blickinstal Barossa Valley Retreat",
                                    "2": "439331891",
                                    "3": "Emma&Roger",
                                    "4": "Bethany",
                                    "5": "-3455305",
                                    "6": "13897919",
                                    "7": "Entire home/apt",
                                    "8": "115",
                                    "9": "1",
                                    "10": "0",
                                    "11": "NULL",
                                    "12": "NULL",
                                    "13": "8",
                                    "14": "136",
                                    "15": "0"
                                },
                                {
                                    "0": "706793228615597287",
                                    "1": "The Winemaker's Haus",
                                    "2": "175722042",
                                    "3": "Alex",
                                    "4": "Tanunda",
                                    "5": "-345354560",
                                    "6": "13895152",
                                    "7": "Entire home/apt",
                                    "8": "223",
                                    "9": "2",
                                    "10": "0",
                                    "11": "NULL",
                                    "12": "NULL",
                                    "13": "1",
                                    "14": "198",
                                    "15": "0"
                                },
                                {
                                    "0": "710030719091093922",
                                    "1": "A perfect winery weekend-2BR, fireplace, shops!",
                                    "2": "417586028",
                                    "3": "Yannie Haus",
                                    "4": "Tanunda",
                                    "5": "-3452638",
                                    "6": "13895469",
                                    "7": "Entire home/apt",
                                    "8": "314",
                                    "9": "2",
                                    "10": "0",
                                    "11": "NULL",
                                    "12": "NULL",
                                    "13": "1",
                                    "14": "4",
                                    "15": "0"
                                },
                                {
                                    "0": "710524974978038346",
                                    "1": "Private room in historic homestead",
                                    "2": "472161981",
                                    "3": "Heather",
                                    "4": "Mount Pleasant",
                                    "5": "-3480901",
                                    "6": "13900962",
                                    "7": "Private room",
                                    "8": "235",
                                    "9": "1",
                                    "10": "0",
                                    "11": "NULL",
                                    "12": "NULL",
                                    "13": "6",
                                    "14": "365",
                                    "15": "0"
                                },
                                {
                                    "0": "710534038004136972",
                                    "1": "2 double bedrooms in historic villa",
                                    "2": "472161981",
                                    "3": "Heather",
                                    "4": "Mount Pleasant",
                                    "5": "-3481041",
                                    "6": "13900875",
                                    "7": "Shared room",
                                    "8": "288",
                                    "9": "1",
                                    "10": "0",
                                    "11": "NULL",
                                    "12": "NULL",
                                    "13": "6",
                                    "14": "365",
                                    "15": "0"
                                },
                                {
                                    "0": "710539443193386772",
                                    "1": "6 guests in 3 double bedroom historic house",
                                    "2": "472161981",
                                    "3": "Heather",
                                    "4": "Mount Pleasant",
                                    "5": "-3480939",
                                    "6": "13901149",
                                    "7": "Private room",
                                    "8": "432",
                                    "9": "1",
                                    "10": "0",
                                    "11": "NULL",
                                    "12": "NULL",
                                    "13": "6",
                                    "14": "365",
                                    "15": "0"
                                },
                                {
                                    "0": "710541909725452985",
                                    "1": "10 guest stay in historic homestead",
                                    "2": "472161981",
                                    "3": "Heather",
                                    "4": "Mount Pleasant",
                                    "5": "-348083",
                                    "6": "13900988",
                                    "7": "Private room",
                                    "8": "720",
                                    "9": "1",
                                    "10": "0",
                                    "11": "NULL",
                                    "12": "NULL",
                                    "13": "6",
                                    "14": "365",
                                    "15": "0"
                                },
                                {
                                    "0": "710542365151976842",
                                    "1": "8 guests , 4 double rooms in historic house",
                                    "2": "472161981",
                                    "3": "Heather",
                                    "4": "Mount Pleasant",
                                    "5": "-3480858",
                                    "6": "13901167",
                                    "7": "Private room",
                                    "8": "576",
                                    "9": "1",
                                    "10": "0",
                                    "11": "NULL",
                                    "12": "NULL",
                                    "13": "6",
                                    "14": "365",
                                    "15": "0"
                                },
                                {
                                    "0": "715277584798529221",
                                    "1": "Triple Creek Glamping Tent amongst Mataro Vineyard",
                                    "2": "396529571",
                                    "3": "Dorham",
                                    "4": "Marananga",
                                    "5": "-344990304",
                                    "6": "1389124608",
                                    "7": "Entire home/apt",
                                    "8": "303",
                                    "9": "1",
                                    "10": "0",
                                    "11": "NULL",
                                    "12": "NULL",
                                    "13": "2",
                                    "14": "365",
                                    "15": "0"
                                }
                            ]
                        },
                        "text/html": "<table><tr><th>id</th><th>name</th><th>host_id</th><th>host_name</th><th>neighbourhood</th><th>latitude</th><th>longitude</th><th>room_type</th><th>price</th><th>minimum_nights</th><th>number_of_reviews</th><th>last_review</th><th>reviews_per_month</th><th>calculated_host_listings_count</th><th>availability_365</th><th>number_of_reviews_ltm</th></tr><tr><td>1125097</td><td>Strathlyn Coach House Barossa</td><td>6172214</td><td>Heather</td><td>Angaston</td><td>-3449389</td><td>13902942</td><td>Entire home/apt</td><td>254</td><td>2</td><td>166</td><td>2022-09-19</td><td>151</td><td>3</td><td>302</td><td>24</td></tr><tr><td>1133195</td><td>Strathlyn Lemon Tree Spa  Barossa</td><td>6172214</td><td>Heather</td><td>Penrice</td><td>-3449403</td><td>13903202</td><td>Entire home/apt</td><td>236</td><td>2</td><td>59</td><td>2022-09-04</td><td>61</td><td>3</td><td>323</td><td>14</td></tr><tr><td>1133236</td><td>Strathlyn Spa Garden Suites Barossa</td><td>6172214</td><td>Heather</td><td>Penrice</td><td>-3449356</td><td>13903221</td><td>Private room</td><td>260</td><td>1</td><td>49</td><td>2022-09-18</td><td>47</td><td>3</td><td>318</td><td>15</td></tr><tr><td>1178384</td><td>Country cottage getaway</td><td>2122575</td><td>Tanya</td><td>Nuriootpa</td><td>-3446694</td><td>1389936</td><td>Private room</td><td>104</td><td>1</td><td>0</td><td>NULL</td><td>NULL</td><td>1</td><td>335</td><td>0</td></tr><tr><td>1710462</td><td>Shea-Oak Log Studio Shed</td><td>6645956</td><td>Kylie And Tom</td><td>Shea-Oak Log</td><td>-3451049</td><td>13881731</td><td>Entire home/apt</td><td>102</td><td>2</td><td>497</td><td>2022-09-06</td><td>459</td><td>1</td><td>330</td><td>30</td></tr><tr><td>1787389</td><td>Barossa Valley Apt 1 offers 2 bedrooms 2 bathroom</td><td>9380091</td><td>Kym</td><td>Tanunda</td><td>-3452835</td><td>13895364</td><td>Entire home/apt</td><td>400</td><td>2</td><td>17</td><td>2020-12-04</td><td>21</td><td>17</td><td>50</td><td>0</td></tr><tr><td>2028951</td><td>2 bedrooms with Woodfire, Barossa Country Cottages</td><td>10421165</td><td>Mark And Fiona</td><td>Lyndoch</td><td>-3460374</td><td>13888348</td><td>Entire home/apt</td><td>209</td><td>2</td><td>8</td><td>2022-09-05</td><td>145</td><td>2</td><td>309</td><td>8</td></tr><tr><td>2327616</td><td>Gawler River Farm B and B.</td><td>6713275</td><td>Bill</td><td>Gawler River</td><td>-3460563</td><td>13864823</td><td>Entire home/apt</td><td>90</td><td>1</td><td>125</td><td>2022-09-21</td><td>135</td><td>1</td><td>343</td><td>29</td></tr><tr><td>2567051</td><td>The Miners Cottage Barossa Valley</td><td>10726293</td><td>Rebecca</td><td>Cockatoo Valley</td><td>-3463884</td><td>13884564</td><td>Private room</td><td>210</td><td>2</td><td>31</td><td>2022-08-22</td><td>32</td><td>1</td><td>267</td><td>5</td></tr><tr><td>3506622</td><td>A nice room in a big 4 b/room house</td><td>17656515</td><td>Andrew</td><td>Buchfelde</td><td>-3461874</td><td>13873199</td><td>Private room</td><td>85</td><td>1</td><td>0</td><td>NULL</td><td>NULL</td><td>1</td><td>365</td><td>0</td></tr><tr><td>5289072</td><td>Mt McKenzie Raspberry Farm</td><td>27321203</td><td>Phillip</td><td>Flaxman Valley</td><td>-3456405</td><td>13907988</td><td>Entire home/apt</td><td>200</td><td>3</td><td>119</td><td>2022-08-24</td><td>141</td><td>1</td><td>134</td><td>20</td></tr><tr><td>5426792</td><td>&quot;The Shed&quot;</td><td>28149709</td><td>Andrew &amp; Belinda</td><td>Nuriootpa</td><td>-3446397</td><td>13900191</td><td>Entire home/apt</td><td>63</td><td>1</td><td>138</td><td>2022-09-11</td><td>166</td><td>1</td><td>219</td><td>15</td></tr><tr><td>5537173</td><td>1837 Barossa Luxury  Vineyard Cottage S Australia</td><td>28712482</td><td>Nelly</td><td>Lyndoch</td><td>-3458347</td><td>13886353</td><td>Entire home/apt</td><td>425</td><td>2</td><td>34</td><td>2022-09-17</td><td>70</td><td>3</td><td>303</td><td>11</td></tr><tr><td>6157653</td><td>Barossa Barn Bed &amp; Breakfast</td><td>31945359</td><td>Julie</td><td>Penrice</td><td>-344877</td><td>13904407</td><td>Entire home/apt</td><td>277</td><td>2</td><td>28</td><td>2022-04-19</td><td>32</td><td>1</td><td>80</td><td>3</td></tr><tr><td>6170279</td><td>Little Para Cottage</td><td>32013001</td><td>Wendy</td><td>Tanunda</td><td>-3451062</td><td>13897196</td><td>Entire home/apt</td><td>206</td><td>2</td><td>160</td><td>2022-09-11</td><td>177</td><td>1</td><td>6</td><td>16</td></tr><tr><td>6170887</td><td>Elderton Wines Guest House</td><td>32017867</td><td>Elderton</td><td>Nuriootpa</td><td>-3447628</td><td>13899761</td><td>Entire home/apt</td><td>350</td><td>1</td><td>30</td><td>2022-08-08</td><td>34</td><td>1</td><td>214</td><td>4</td></tr><tr><td>6296823</td><td>Cosy 2-bedroom Cottage in the heart of the Barossa</td><td>32743215</td><td>Veritas Retreat Barossa</td><td>Tanunda</td><td>-3450314</td><td>13895909</td><td>Entire home/apt</td><td>290</td><td>2</td><td>80</td><td>2022-09-19</td><td>89</td><td>2</td><td>270</td><td>11</td></tr><tr><td>6861247</td><td>Rustic on 13th</td><td>35954891</td><td>Kirsten</td><td>Buchfelde</td><td>-3460501</td><td>13874353</td><td>Entire home/apt</td><td>239</td><td>4</td><td>46</td><td>2022-05-05</td><td>63</td><td>1</td><td>152</td><td>2</td></tr><tr><td>7055506</td><td>Vineyard Cottage - Under the Vines</td><td>10626104</td><td>Karen</td><td>Nuriootpa</td><td>-3450166</td><td>13899752</td><td>Entire home/apt</td><td>243</td><td>2</td><td>180</td><td>2021-10-17</td><td>207</td><td>2</td><td>0</td><td>1</td></tr><tr><td>7297171</td><td>Pembury Chase Barossa Valley</td><td>26147078</td><td>Jonathan And Kate</td><td>Angaston</td><td>-3450182</td><td>1390374</td><td>Private room</td><td>95</td><td>1</td><td>150</td><td>2019-04-28</td><td>174</td><td>6</td><td>0</td><td>0</td></tr><tr><td>8053447</td><td>Angels Place: Private Suite</td><td>42427624</td><td>Maryann</td><td>Tanunda</td><td>-3451719</td><td>13896402</td><td>Private room</td><td>165</td><td>1</td><td>82</td><td>2022-04-24</td><td>115</td><td>1</td><td>1</td><td>11</td></tr><tr><td>9264671</td><td>Barossa Idyll Studio -great for romantics</td><td>17055114</td><td>Tracey</td><td>Tanunda</td><td>-3452799</td><td>13895242</td><td>Private room</td><td>146</td><td>2</td><td>27</td><td>2021-04-22</td><td>34</td><td>4</td><td>173</td><td>0</td></tr><tr><td>9319789</td><td>Barossa Idyll -centre of town, breathtaking views</td><td>17055114</td><td>Tracey</td><td>Tanunda</td><td>-3452821</td><td>138953</td><td>Entire home/apt</td><td>757</td><td>1</td><td>80</td><td>2022-09-16</td><td>103</td><td>4</td><td>210</td><td>20</td></tr><tr><td>9319994</td><td>Barossa Idyll 3 beds - town centre, amazing views</td><td>17055114</td><td>Tracey</td><td>Tanunda</td><td>-3452935</td><td>13895426</td><td>Entire home/apt</td><td>413</td><td>2</td><td>54</td><td>2022-09-15</td><td>71</td><td>4</td><td>203</td><td>17</td></tr><tr><td>9453124</td><td>Barossa Idyll 4 beds - town centre, amazing views</td><td>17055114</td><td>Tracey</td><td>Tanunda</td><td>-3452906</td><td>13895436</td><td>Entire home/apt</td><td>651</td><td>1</td><td>29</td><td>2022-08-05</td><td>35</td><td>4</td><td>209</td><td>11</td></tr><tr><td>9714178</td><td>Barossa Bed &amp; Breakfast</td><td>50149490</td><td>Yvette</td><td>Tanunda</td><td>-3452206</td><td>13896239</td><td>Entire home/apt</td><td>515</td><td>1</td><td>57</td><td>2022-09-10</td><td>73</td><td>1</td><td>217</td><td>25</td></tr><tr><td>9850994</td><td>Pembury Homestead - Barossa Valley- 3 bedrooms</td><td>26147078</td><td>Jonathan And Kate</td><td>Angaston</td><td>-3449908</td><td>13904063</td><td>Entire home/apt</td><td>120</td><td>1</td><td>7</td><td>2016-01-13</td><td>9</td><td>6</td><td>0</td><td>0</td></tr><tr><td>10285222</td><td>Barossa Dreams Ruby Suite full kitchen in Tanunda</td><td>9380091</td><td>Kym</td><td>Tanunda</td><td>-3452708</td><td>13895417</td><td>Entire home/apt</td><td>275</td><td>2</td><td>10</td><td>2020-03-18</td><td>12</td><td>17</td><td>4</td><td>0</td></tr><tr><td>10287444</td><td>Barossa Dreams - Diamond Suite perfect location</td><td>9380091</td><td>Kym</td><td>Tanunda</td><td>-3452686</td><td>13895383</td><td>Entire home/apt</td><td>350</td><td>2</td><td>16</td><td>2022-05-05</td><td>20</td><td>17</td><td>3</td><td>1</td></tr><tr><td>10298152</td><td>Barossa Best great location walk to cafe FREE WIFI</td><td>9380091</td><td>Kym</td><td>Tanunda</td><td>-3452603</td><td>13895667</td><td>Entire home/apt</td><td>350</td><td>2</td><td>31</td><td>2022-05-20</td><td>38</td><td>17</td><td>12</td><td>3</td></tr><tr><td>10348508</td><td>A Secret Garden great location Tanunda Free WIFI</td><td>9380091</td><td>Kym</td><td>Tanunda</td><td>-3452729</td><td>13895667</td><td>Entire home/apt</td><td>350</td><td>2</td><td>10</td><td>2021-05-05</td><td>13</td><td>17</td><td>16</td><td>0</td></tr><tr><td>10526299</td><td>Historic Kapunda School of Mines Homestay</td><td>54276241</td><td>Mark</td><td>Kapunda</td><td>-3434222</td><td>13891368</td><td>Entire home/apt</td><td>249</td><td>2</td><td>1</td><td>2022-07-06</td><td>38</td><td>1</td><td>155</td><td>1</td></tr><tr><td>10619599</td><td>Barossa Dreams - Sapphire Suite</td><td>9380091</td><td>Kym</td><td>Tanunda</td><td>-345274</td><td>1389535</td><td>Entire home/apt</td><td>275</td><td>1</td><td>2</td><td>2020-11-14</td><td>4</td><td>17</td><td>4</td><td>0</td></tr><tr><td>10634089</td><td>Barossa Dreams - Emerald Suite</td><td>9380091</td><td>Kym</td><td>Tanunda</td><td>-3452886</td><td>13895293</td><td>Private room</td><td>275</td><td>2</td><td>6</td><td>2017-10-30</td><td>7</td><td>17</td><td>4</td><td>0</td></tr><tr><td>10947532</td><td>The Stables</td><td>54950628</td><td>Kay</td><td>Tanunda</td><td>-3457022</td><td>13892651</td><td>Entire home/apt</td><td>187</td><td>2</td><td>308</td><td>2022-08-21</td><td>383</td><td>1</td><td>248</td><td>31</td></tr><tr><td>10971607</td><td>The Lodge Angaston</td><td>48092850</td><td>Robyn</td><td>Angaston</td><td>-345019</td><td>13904648</td><td>Entire home/apt</td><td>600</td><td>1</td><td>7</td><td>2018-04-01</td><td>9</td><td>3</td><td>362</td><td>0</td></tr><tr><td>11380095</td><td>Little House in the Barossa</td><td>59672772</td><td>John And Bianca</td><td>Nuriootpa</td><td>-3446257</td><td>13900982</td><td>Entire home/apt</td><td>170</td><td>3</td><td>44</td><td>2021-06-27</td><td>55</td><td>1</td><td>0</td><td>0</td></tr><tr><td>11428035</td><td>Tin House in Tanunda offers 3 bedrooms 2 bathrooms</td><td>9380091</td><td>Kym</td><td>Tanunda</td><td>-3452386</td><td>13895783</td><td>Entire home/apt</td><td>500</td><td>2</td><td>39</td><td>2022-01-03</td><td>49</td><td>17</td><td>269</td><td>1</td></tr><tr><td>11857399</td><td>Historic Angaston Masonic Lodge</td><td>48092850</td><td>Robyn</td><td>Angaston</td><td>-3450184</td><td>13904554</td><td>Entire home/apt</td><td>650</td><td>2</td><td>93</td><td>2021-10-30</td><td>126</td><td>3</td><td>362</td><td>1</td></tr><tr><td>11915715</td><td>The Cottage at Riverside Farm</td><td>308444810</td><td>Louise</td><td>Lyndoch</td><td>-3457135</td><td>13889655</td><td>Entire home/apt</td><td>269</td><td>2</td><td>36</td><td>2022-09-20</td><td>47</td><td>2</td><td>279</td><td>5</td></tr><tr><td>12191413</td><td>Barossa Millhouse</td><td>65531648</td><td>Jacqueline</td><td>Kapunda</td><td>-3433806</td><td>13891284</td><td>Entire home/apt</td><td>239</td><td>2</td><td>7</td><td>2022-07-14</td><td>10</td><td>2</td><td>322</td><td>5</td></tr><tr><td>12192423</td><td>A Barn in the Barossa</td><td>65531648</td><td>Jacqueline</td><td>Kapunda</td><td>-3434313</td><td>13892219</td><td>Entire home/apt</td><td>250</td><td>2</td><td>84</td><td>2022-08-29</td><td>108</td><td>2</td><td>330</td><td>16</td></tr><tr><td>12460712</td><td>'THE CHURCH' Guest Home Gawler/Barossa Region</td><td>67427615</td><td>Karen</td><td>Hewett</td><td>-3458739</td><td>13874417</td><td>Entire home/apt</td><td>228</td><td>2</td><td>46</td><td>2022-07-10</td><td>63</td><td>1</td><td>160</td><td>6</td></tr><tr><td>12856765</td><td>Angaston by the Winter Creek</td><td>48092850</td><td>Robyn</td><td>Angaston</td><td>-3450152</td><td>13904956</td><td>Entire home/apt</td><td>750</td><td>2</td><td>150</td><td>2022-07-25</td><td>195</td><td>3</td><td>340</td><td>10</td></tr><tr><td>12906285</td><td>Retro Barossa Style</td><td>22786354</td><td>Rebekah</td><td>Angaston</td><td>-3450898</td><td>13904504</td><td>Entire home/apt</td><td>157</td><td>2</td><td>161</td><td>2022-09-03</td><td>239</td><td>1</td><td>258</td><td>31</td></tr><tr><td>14031240</td><td>Barossa Vineyard Cottages</td><td>2425103</td><td>Sandra</td><td>Bethany</td><td>-3453891</td><td>13897053</td><td>Hotel room</td><td>330</td><td>999</td><td>21</td><td>2022-06-26</td><td>29</td><td>2</td><td>80</td><td>6</td></tr><tr><td>14080027</td><td>Barossa Glen - Henri's Cottage - Bed and Breakfast</td><td>84633251</td><td>Henri</td><td>Sandy Creek</td><td>-345818</td><td>13883223</td><td>Entire home/apt</td><td>290</td><td>2</td><td>119</td><td>2022-09-16</td><td>181</td><td>2</td><td>313</td><td>33</td></tr><tr><td>14377105</td><td>Lambert Estate Retreat</td><td>88244555</td><td>James</td><td>Angaston</td><td>-3450782</td><td>13903909</td><td>Entire home/apt</td><td>280</td><td>1</td><td>29</td><td>2022-08-28</td><td>39</td><td>1</td><td>300</td><td>6</td></tr><tr><td>14697430</td><td>Lemke Cottage,Moculta, Barossa Valley</td><td>34978411</td><td>John</td><td>Moculta</td><td>-3446621</td><td>1391186</td><td>Entire home/apt</td><td>210</td><td>2</td><td>51</td><td>2022-09-10</td><td>105</td><td>1</td><td>213</td><td>6</td></tr><tr><td>14827811</td><td>Barossa Valley Apt 4 offers 2 bedrooms 2 bathroom</td><td>9380091</td><td>Kym</td><td>Tanunda</td><td>-3452814</td><td>13895356</td><td>Entire home/apt</td><td>400</td><td>1</td><td>4</td><td>2022-08-21</td><td>9</td><td>17</td><td>54</td><td>2</td></tr><tr><td>14828790</td><td>Luxury Affordable Barossa. West Wing 1 Bedroom.</td><td>6402384</td><td>Alicia</td><td>Angaston</td><td>-3450053</td><td>13904458</td><td>Entire home/apt</td><td>327</td><td>2</td><td>21</td><td>2022-04-10</td><td>29</td><td>2</td><td>116</td><td>1</td></tr><tr><td>14842846</td><td>Barossa Valley Apt 3 offers 2 bedrooms 2 bathroom</td><td>9380091</td><td>Kym</td><td>Tanunda</td><td>-3452702</td><td>13895253</td><td>Entire home/apt</td><td>379</td><td>1</td><td>0</td><td>NULL</td><td>NULL</td><td>17</td><td>58</td><td>0</td></tr><tr><td>14843749</td><td>Barossa Valley Apt 2 offers 2 bedrooms 2 bathroom</td><td>9380091</td><td>Kym</td><td>Tanunda</td><td>-3452836</td><td>13895221</td><td>Entire home/apt</td><td>400</td><td>2</td><td>10</td><td>2021-04-05</td><td>14</td><td>17</td><td>53</td><td>0</td></tr><tr><td>14844379</td><td>Luxury Affordable Barossa. West Wing 2 Bedrooms.</td><td>6402384</td><td>Alicia</td><td>Angaston</td><td>-3449891</td><td>13904441</td><td>Entire home/apt</td><td>497</td><td>2</td><td>4</td><td>2017-02-23</td><td>6</td><td>2</td><td>114</td><td>0</td></tr><tr><td>14969874</td><td>Barossa Valley Dreams Home for up to 17 people</td><td>9380091</td><td>Kym</td><td>Tanunda</td><td>-3452914</td><td>1389519</td><td>Entire home/apt</td><td>1414</td><td>2</td><td>19</td><td>2022-07-17</td><td>28</td><td>17</td><td>42</td><td>3</td></tr><tr><td>15526317</td><td>The Coach House</td><td>99836662</td><td>Karen</td><td>Concordia</td><td>-3459442</td><td>13874945</td><td>Entire home/apt</td><td>199</td><td>1</td><td>445</td><td>2022-09-06</td><td>622</td><td>2</td><td>265</td><td>92</td></tr><tr><td>15579249</td><td>Casa Rossa - modern Barossa home with vineyard</td><td>14870315</td><td>Maria</td><td>Lyndoch</td><td>-3459863</td><td>13887511</td><td>Entire home/apt</td><td>351</td><td>2</td><td>101</td><td>2022-08-15</td><td>149</td><td>1</td><td>320</td><td>31</td></tr><tr><td>15811271</td><td>The Art Box home gallery stay</td><td>102130451</td><td>Anthea</td><td>Angaston</td><td>-3449457</td><td>13905402</td><td>Private room</td><td>80</td><td>1</td><td>51</td><td>2021-11-13</td><td>96</td><td>1</td><td>0</td><td>3</td></tr><tr><td>16519738</td><td>Old Mill Cottage</td><td>108616729</td><td>Yvonne And Glenn</td><td>Kapunda</td><td>-3433922</td><td>13890943</td><td>Entire home/apt</td><td>200</td><td>2</td><td>85</td><td>2022-09-18</td><td>124</td><td>1</td><td>71</td><td>56</td></tr><tr><td>16693931</td><td>Go Go's, Eden Valley the Garden of Grapes and Gums</td><td>20429065</td><td>Karine</td><td>Eden Valley</td><td>-3464114</td><td>13909734</td><td>Entire home/apt</td><td>181</td><td>2</td><td>51</td><td>2022-08-23</td><td>74</td><td>1</td><td>164</td><td>11</td></tr><tr><td>16795559</td><td>Barossa Valley Farm Cottage - Buckbury End Farm</td><td>111640794</td><td>John &amp; Jess</td><td>Sandy Creek</td><td>-345685</td><td>13883272</td><td>Entire home/apt</td><td>146</td><td>2</td><td>286</td><td>2022-09-12</td><td>423</td><td>1</td><td>278</td><td>44</td></tr><tr><td>16948670</td><td>1881 Courthouse,  Studio</td><td>33964673</td><td>Natalie</td><td>Buchfelde</td><td>-3459589</td><td>13874597</td><td>Entire home/apt</td><td>153</td><td>1</td><td>270</td><td>2022-08-19</td><td>395</td><td>3</td><td>299</td><td>21</td></tr><tr><td>17287788</td><td>The Old Manse Shed, Barossa Valley</td><td>76253619</td><td>Tracy</td><td>Light Pass</td><td>-3446935</td><td>13902272</td><td>Entire home/apt</td><td>155</td><td>2</td><td>63</td><td>2022-04-13</td><td>93</td><td>1</td><td>1</td><td>4</td></tr><tr><td>17558728</td><td>Seppeltsfield Vineyard Cottage. Luxury &amp; Privacy.</td><td>77871395</td><td>Jodie</td><td>Marananga</td><td>-3449022</td><td>13891001</td><td>Entire home/apt</td><td>858</td><td>2</td><td>2</td><td>2021-06-13</td><td>12</td><td>2</td><td>263</td><td>0</td></tr><tr><td>17720616</td><td>Indulge and Relax Tanunda</td><td>23229905</td><td>Cathy</td><td>Tanunda</td><td>-345199</td><td>13896494</td><td>Entire home/apt</td><td>231</td><td>1</td><td>180</td><td>2022-09-18</td><td>285</td><td>1</td><td>295</td><td>49</td></tr><tr><td>17737018</td><td>The Stables at 1860 Wine Country Cottages</td><td>97913320</td><td>Renate</td><td>Springton</td><td>-3472248</td><td>13906794</td><td>Entire home/apt</td><td>195</td><td>3</td><td>0</td><td>NULL</td><td>NULL</td><td>1</td><td>0</td><td>0</td></tr><tr><td>17862552</td><td>&quot;LiebenGott&quot; - Luxury 4 bedroom, central location</td><td>10112369</td><td>Jason</td><td>Tanunda</td><td>-3451015</td><td>13897783</td><td>Entire home/apt</td><td>331</td><td>1</td><td>117</td><td>2022-09-04</td><td>182</td><td>1</td><td>310</td><td>31</td></tr><tr><td>17963507</td><td>The Writer's Studio, Barossa</td><td>12063415</td><td>Lesley Ann</td><td>Tanunda</td><td>-3452511</td><td>13896518</td><td>Entire home/apt</td><td>149</td><td>2</td><td>322</td><td>2022-09-19</td><td>485</td><td>1</td><td>134</td><td>56</td></tr><tr><td>17980547</td><td>Martinsell Cottage Barossa Valley</td><td>123514866</td><td>Peter And Marijan</td><td>Mount Crawford</td><td>-3465127537934336</td><td>13897805500252160</td><td>Entire home/apt</td><td>145</td><td>2</td><td>174</td><td>2022-09-18</td><td>264</td><td>2</td><td>297</td><td>39</td></tr><tr><td>18276899</td><td>Historic home on 65 acres in top Barossa location</td><td>32743215</td><td>Veritas Retreat Barossa</td><td>Tanunda</td><td>-3450639</td><td>13896237</td><td>Entire home/apt</td><td>345</td><td>2</td><td>42</td><td>2022-09-11</td><td>65</td><td>2</td><td>267</td><td>18</td></tr><tr><td>18798879</td><td>Hill House Angaston</td><td>98267463</td><td>Mark</td><td>Angaston</td><td>-3450284</td><td>13904411</td><td>Private room</td><td>150</td><td>2</td><td>58</td><td>2022-09-18</td><td>93</td><td>1</td><td>119</td><td>17</td></tr><tr><td>19817750</td><td>Country Retreat on the edge of Barossa Valley</td><td>139798846</td><td>Maureen</td><td>Mount Pleasant</td><td>-3477475</td><td>13904702</td><td>Entire home/apt</td><td>315</td><td>2</td><td>79</td><td>2022-09-12</td><td>129</td><td>1</td><td>91</td><td>12</td></tr><tr><td>20002372</td><td>Boongarrie Luxury Tent - privacy, luxury, nature</td><td>15326510</td><td>Kate</td><td>Flaxman Valley</td><td>-3461</td><td>13906722</td><td>Entire home/apt</td><td>263</td><td>2</td><td>184</td><td>2022-09-11</td><td>313</td><td>1</td><td>319</td><td>66</td></tr><tr><td>20057093</td><td>Miriam's Cottage self contained Bed and Breakfast</td><td>142521667</td><td>Alicia</td><td>Tanunda</td><td>-3451922</td><td>13896131</td><td>Entire home/apt</td><td>292</td><td>2</td><td>116</td><td>2022-09-21</td><td>199</td><td>1</td><td>252</td><td>32</td></tr><tr><td>20079805</td><td>Azalea Cedar-Rose Barossa Vineyard Views Villa</td><td>11110185</td><td>Suzie</td><td>Lyndoch</td><td>-3460384</td><td>13889156</td><td>Entire home/apt</td><td>419</td><td>2</td><td>53</td><td>2022-09-19</td><td>86</td><td>2</td><td>272</td><td>11</td></tr><tr><td>20144446</td><td>Jasmine's Cottage Barossa Valley Vineyard Views</td><td>11110185</td><td>Suzie</td><td>Lyndoch</td><td>-3460458</td><td>13889126</td><td>Entire home/apt</td><td>311</td><td>2</td><td>56</td><td>2022-09-20</td><td>92</td><td>2</td><td>301</td><td>19</td></tr><tr><td>20175507</td><td>Your complete Barossa experience for up to 16</td><td>9380091</td><td>Kym</td><td>Tanunda</td><td>-3452852</td><td>13895372</td><td>Entire home/apt</td><td>1920</td><td>1</td><td>3</td><td>2020-06-28</td><td>6</td><td>17</td><td>28</td><td>0</td></tr><tr><td>20176443</td><td>Barossa Dreams and Apartments perfect for groups</td><td>9380091</td><td>Kym</td><td>Tanunda</td><td>-3452656</td><td>13895249</td><td>Entire home/apt</td><td>2800</td><td>1</td><td>0</td><td>NULL</td><td>NULL</td><td>17</td><td>0</td><td>0</td></tr><tr><td>20400581</td><td>Cantik Cottage</td><td>76200578</td><td>Justin &amp; Lucy</td><td>Buchfelde</td><td>-3460891</td><td>13873975</td><td>Entire home/apt</td><td>121</td><td>2</td><td>154</td><td>2022-09-19</td><td>272</td><td>1</td><td>1</td><td>41</td></tr><tr><td>21481807</td><td>Pinecone Ridge, Barossa - a rural retreat</td><td>156029245</td><td>Anne</td><td>Angaston</td><td>-3451496</td><td>13904008</td><td>Entire home/apt</td><td>434</td><td>2</td><td>76</td><td>2022-09-15</td><td>189</td><td>1</td><td>258</td><td>19</td></tr><tr><td>21636564</td><td>Pembury Cottage ~ Angaston,  Great location in the Barossa  Valley</td><td>26147078</td><td>Jonathan And Kate</td><td>Angaston</td><td>-3450094</td><td>13905146</td><td>Entire home/apt</td><td>281</td><td>2</td><td>140</td><td>2022-09-12</td><td>238</td><td>6</td><td>301</td><td>32</td></tr><tr><td>21884875</td><td>Luxury In Langmeil Estate</td><td>159654113</td><td>Pauline</td><td>Tanunda</td><td>-3451356</td><td>13896883</td><td>Entire home/apt</td><td>302</td><td>2</td><td>162</td><td>2022-09-18</td><td>279</td><td>1</td><td>280</td><td>33</td></tr><tr><td>22294732</td><td>Hutton Vale Farm - Hutch Hilton</td><td>106868811</td><td>Jan</td><td>Angaston</td><td>-3452053</td><td>13910934</td><td>Entire home/apt</td><td>490</td><td>1</td><td>62</td><td>2022-09-13</td><td>111</td><td>2</td><td>271</td><td>16</td></tr><tr><td>22309764</td><td>Discovery Parks - Barossa 3 Bedroom House</td><td>163098800</td><td>Barossa</td><td>Tanunda</td><td>-3453202</td><td>13895014</td><td>Entire home/apt</td><td>424</td><td>2</td><td>16</td><td>2022-04-29</td><td>28</td><td>1</td><td>263</td><td>4</td></tr><tr><td>22439114</td><td>Candlepine Holiday House, Gawler SA</td><td>71411970</td><td>Mike And Annie</td><td>Hewett</td><td>-3459271</td><td>13874581</td><td>Entire home/apt</td><td>175</td><td>2</td><td>6</td><td>2022-05-05</td><td>13</td><td>1</td><td>217</td><td>2</td></tr><tr><td>22602973</td><td>Jesmond Dene - Barossa</td><td>121293939</td><td>Richard</td><td>Angaston</td><td>-3450589</td><td>13904655</td><td>Entire home/apt</td><td>190</td><td>2</td><td>14</td><td>2022-05-07</td><td>35</td><td>1</td><td>345</td><td>8</td></tr><tr><td>22604785</td><td>Old Barossa Valley Inn &amp; Bakery House..Get it all!</td><td>92198370</td><td>Heather</td><td>Lyndoch</td><td>-3460358</td><td>13888701</td><td>Entire home/apt</td><td>199</td><td>2</td><td>124</td><td>2022-09-20</td><td>222</td><td>2</td><td>150</td><td>28</td></tr><tr><td>22636387</td><td>Martinsell Manor  Barossa Valley South Australia</td><td>123514866</td><td>Peter And Marijan</td><td>Mount Crawford</td><td>-3468339</td><td>13897258</td><td>Private room</td><td>390</td><td>2</td><td>28</td><td>2022-07-10</td><td>61</td><td>2</td><td>332</td><td>11</td></tr><tr><td>22794701</td><td>Linfield Cottage</td><td>68592337</td><td>Deb</td><td>Williamstown</td><td>-3468024</td><td>13888156</td><td>Entire home/apt</td><td>340</td><td>2</td><td>10</td><td>2022-09-04</td><td>19</td><td>1</td><td>109</td><td>3</td></tr><tr><td>22855141</td><td>WHISTLER VINEYARD RETREAT</td><td>111063419</td><td>Sally</td><td>Tanunda</td><td>-3449014</td><td>13895693</td><td>Entire home/apt</td><td>290</td><td>2</td><td>70</td><td>2022-08-15</td><td>127</td><td>1</td><td>28</td><td>17</td></tr><tr><td>23129296</td><td>Angel's Rest, Barossa</td><td>171879991</td><td>Dennis</td><td>Moculta</td><td>-3440945</td><td>13912577</td><td>Entire home/apt</td><td>110</td><td>1</td><td>88</td><td>2022-08-20</td><td>158</td><td>1</td><td>139</td><td>19</td></tr><tr><td>24173232</td><td>The Entertainer in the hub of Barossa!</td><td>142166512</td><td>Monica</td><td>Tanunda</td><td>-3451149</td><td>13897461</td><td>Entire home/apt</td><td>950</td><td>2</td><td>30</td><td>2020-03-23</td><td>66</td><td>1</td><td>78</td><td>0</td></tr><tr><td>24813904</td><td>Ambrosia Holiday Home 5 bedrooms 2 1/2 bathrooms</td><td>9380091</td><td>Kym</td><td>Tanunda</td><td>-3452454</td><td>13895933</td><td>Entire home/apt</td><td>850</td><td>2</td><td>25</td><td>2020-12-23</td><td>48</td><td>17</td><td>294</td><td>0</td></tr><tr><td>25086405</td><td>Villa Maria Barossa Luxury Guesthouse</td><td>189642977</td><td>Tuoi</td><td>Tanunda</td><td>-3452569</td><td>13895538</td><td>Entire home/apt</td><td>500</td><td>2</td><td>18</td><td>2022-09-05</td><td>35</td><td>1</td><td>239</td><td>6</td></tr><tr><td>25893345</td><td>Barossa Dreams great location for up to 15</td><td>9380091</td><td>Kym</td><td>Tanunda</td><td>-3452685</td><td>13895211</td><td>Entire home/apt</td><td>1500</td><td>2</td><td>3</td><td>2021-03-07</td><td>9</td><td>17</td><td>1</td><td>0</td></tr><tr><td>25903419</td><td>1881 Courthouse, Judge's Chamber</td><td>33964673</td><td>Natalie</td><td>Buchfelde</td><td>-3459702</td><td>13874652</td><td>Entire home/apt</td><td>156</td><td>1</td><td>405</td><td>2022-09-15</td><td>783</td><td>3</td><td>307</td><td>107</td></tr><tr><td>25915403</td><td>Barossa Valley Rest, Restore and Explore</td><td>181411319</td><td>Crystal</td><td>Lyndoch</td><td>-3460286</td><td>13887898</td><td>Entire home/apt</td><td>207</td><td>2</td><td>239</td><td>2022-08-29</td><td>615</td><td>1</td><td>10</td><td>79</td></tr><tr><td>25916821</td><td>Barossa Valley’s Captain Rodda’s Cottage</td><td>129160994</td><td>Christina</td><td>Angaston</td><td>-3449131</td><td>13904817</td><td>Entire home/apt</td><td>400</td><td>1</td><td>14</td><td>2022-08-20</td><td>29</td><td>1</td><td>101</td><td>5</td></tr><tr><td>25928338</td><td>Sharay’s Barossa Sanctuary</td><td>40008394</td><td>Sarah</td><td>Tanunda</td><td>-3452209</td><td>13896149</td><td>Entire home/apt</td><td>350</td><td>2</td><td>127</td><td>2022-09-04</td><td>248</td><td>1</td><td>266</td><td>39</td></tr><tr><td>26009146</td><td>The Barn - a little bit rustic, a little bit luxe</td><td>22589842</td><td>Carolyn</td><td>Moculta</td><td>-34475</td><td>13905824</td><td>Entire home/apt</td><td>174</td><td>1</td><td>209</td><td>2022-09-10</td><td>410</td><td>1</td><td>185</td><td>54</td></tr><tr><td>26143659</td><td>Cameron St Cottage - Walk To Main Street!</td><td>63693332</td><td>GaryLeonie</td><td>Buchfelde</td><td>-3459757</td><td>13874341</td><td>Entire home/apt</td><td>189</td><td>2</td><td>20</td><td>2022-09-18</td><td>57</td><td>5</td><td>171</td><td>4</td></tr><tr><td>26403678</td><td>29 Jane</td><td>198551256</td><td>Tuoi</td><td>Tanunda</td><td>-3452608</td><td>13895368</td><td>Entire home/apt</td><td>300</td><td>1</td><td>116</td><td>2022-09-04</td><td>226</td><td>1</td><td>228</td><td>31</td></tr><tr><td>27065195</td><td>Woodland Cottage</td><td>203661825</td><td>Francis</td><td>Mount Crawford</td><td>-3475231</td><td>13899368</td><td>Entire home/apt</td><td>110</td><td>1</td><td>207</td><td>2022-08-28</td><td>410</td><td>1</td><td>321</td><td>54</td></tr><tr><td>27271141</td><td>Red Gum Retreat  with wood fire &amp; free wifi</td><td>205436375</td><td>Erika</td><td>Williamstown</td><td>-3466435</td><td>13888963</td><td>Entire home/apt</td><td>150</td><td>2</td><td>59</td><td>2022-06-13</td><td>120</td><td>1</td><td>119</td><td>9</td></tr><tr><td>27409406</td><td>The Dairyman Barossa .. The Chaff House</td><td>206287989</td><td>Michael</td><td>Williamstown</td><td>-3462504</td><td>13892017</td><td>Entire home/apt</td><td>285</td><td>2</td><td>14</td><td>2022-07-30</td><td>42</td><td>2</td><td>307</td><td>6</td></tr><tr><td>27409837</td><td>The Dairyman Barossa ....Dairyman's Cottage</td><td>206287989</td><td>Michael</td><td>Williamstown</td><td>-3462274</td><td>13892182</td><td>Entire home/apt</td><td>315</td><td>2</td><td>18</td><td>2022-08-06</td><td>50</td><td>2</td><td>282</td><td>4</td></tr><tr><td>27814606</td><td>1837 Barossa Luxury Vineyard Cottage. S Australia</td><td>28712482</td><td>Nelly</td><td>Lyndoch</td><td>-3458534</td><td>13886528</td><td>Entire home/apt</td><td>413</td><td>2</td><td>17</td><td>2022-07-17</td><td>35</td><td>3</td><td>267</td><td>4</td></tr><tr><td>28843427</td><td>Fechner Place★Barossa Studio★ 1 Bed★Breakfast★Wine</td><td>103407726</td><td>Karina</td><td>Tanunda</td><td>-3451408</td><td>13895995</td><td>Entire home/apt</td><td>285</td><td>2</td><td>80</td><td>2022-05-29</td><td>222</td><td>1</td><td>328</td><td>20</td></tr><tr><td>28881088</td><td>Gawler Townhouse 1 Bedroom Queen Bed</td><td>38878329</td><td>Andrew</td><td>Concordia</td><td>-3459423</td><td>13874956</td><td>Entire home/apt</td><td>215</td><td>1</td><td>232</td><td>2022-08-26</td><td>480</td><td>6</td><td>320</td><td>63</td></tr><tr><td>29170994</td><td>Barossa Valley Studio</td><td>64599221</td><td>Darren</td><td>Angaston</td><td>-3450638</td><td>13905093</td><td>Entire home/apt</td><td>106</td><td>1</td><td>167</td><td>2022-08-28</td><td>366</td><td>1</td><td>166</td><td>20</td></tr><tr><td>29192273</td><td>Purpose-built Holiday Retreat</td><td>69307468</td><td>Cory</td><td>Tanunda</td><td>-3453171</td><td>13895427</td><td>Entire home/apt</td><td>257</td><td>2</td><td>146</td><td>2022-09-04</td><td>351</td><td>1</td><td>304</td><td>47</td></tr><tr><td>29250289</td><td>Walnut Cottage, Angaston</td><td>86995031</td><td>Lydia</td><td>Angaston</td><td>-3450457</td><td>13904457</td><td>Entire home/apt</td><td>211</td><td>1</td><td>19</td><td>2022-08-29</td><td>53</td><td>2</td><td>264</td><td>11</td></tr><tr><td>29323401</td><td>1910 Murray in the heart of Tanunda</td><td>36772813</td><td>Leonie</td><td>Tanunda</td><td>-3451949</td><td>13896546</td><td>Entire home/apt</td><td>500</td><td>2</td><td>90</td><td>2022-09-12</td><td>193</td><td>1</td><td>7</td><td>15</td></tr><tr><td>29557043</td><td>1837 Barossa Luxury  Vineyard  Cottage  Hideaway</td><td>28712482</td><td>Nelly</td><td>Lyndoch</td><td>-3458202</td><td>13886204</td><td>Entire home/apt</td><td>413</td><td>2</td><td>21</td><td>2022-05-30</td><td>44</td><td>3</td><td>296</td><td>6</td></tr><tr><td>29665883</td><td>10a on Elizabeth</td><td>223133750</td><td>Jodie</td><td>Tanunda</td><td>-3452246</td><td>13895845</td><td>Entire home/apt</td><td>306</td><td>2</td><td>156</td><td>2022-09-18</td><td>330</td><td>1</td><td>275</td><td>37</td></tr><tr><td>29783445</td><td>Fig Tree Cottage,  A charming 2 bedroom cottage. Historic 1843 cottage in the heart of Angaston.</td><td>26147078</td><td>Jonathan And Kate</td><td>Angaston</td><td>-3449908</td><td>1390428</td><td>Entire home/apt</td><td>272</td><td>2</td><td>99</td><td>2022-09-15</td><td>215</td><td>6</td><td>295</td><td>28</td></tr><tr><td>29975093</td><td>JOHANN'S COTTAGE~ located in the heart of Tanunda</td><td>220350000</td><td>Tanya &amp; Mark</td><td>Tanunda</td><td>-3452628</td><td>13895455</td><td>Entire home/apt</td><td>188</td><td>2</td><td>62</td><td>2022-08-28</td><td>137</td><td>1</td><td>201</td><td>23</td></tr><tr><td>30094352</td><td>The Rusty Olive</td><td>225677521</td><td>Sue And Mike</td><td>Angaston</td><td>-3450245</td><td>13905257</td><td>Entire home/apt</td><td>251</td><td>2</td><td>92</td><td>2022-04-25</td><td>203</td><td>1</td><td>1</td><td>13</td></tr><tr><td>30724902</td><td>Petras House</td><td>229977210</td><td>Sibylle</td><td>Light Pass</td><td>-3445861</td><td>13902638</td><td>Entire home/apt</td><td>190</td><td>1</td><td>117</td><td>2022-09-11</td><td>260</td><td>1</td><td>328</td><td>32</td></tr><tr><td>31336642</td><td>Meander Retreat - relax in the country</td><td>93219392</td><td>Evelyn</td><td>Eden Valley</td><td>-3468704</td><td>13909036</td><td>Entire home/apt</td><td>180</td><td>2</td><td>33</td><td>2022-07-12</td><td>94</td><td>1</td><td>325</td><td>6</td></tr><tr><td>31364857</td><td>barossa studio 57 accommodation</td><td>234888505</td><td>Murnane</td><td>Tanunda</td><td>-345155</td><td>13896574</td><td>Entire home/apt</td><td>191</td><td>2</td><td>152</td><td>2022-09-17</td><td>345</td><td>1</td><td>297</td><td>47</td></tr><tr><td>31598469</td><td>The Villas - Barossa. Peace. Beauty. Simplicity.</td><td>233968367</td><td>Grant And Cathy</td><td>Marananga</td><td>-3448413</td><td>13893598</td><td>Entire home/apt</td><td>575</td><td>2</td><td>30</td><td>2022-08-01</td><td>73</td><td>1</td><td>320</td><td>15</td></tr><tr><td>31963378</td><td>Strothers Farm House ~ Angaston, Barossa Valley</td><td>239660458</td><td>Sue</td><td>Moculta</td><td>-3448898</td><td>13905637</td><td>Entire home/apt</td><td>270</td><td>2</td><td>49</td><td>2022-09-18</td><td>113</td><td>1</td><td>158</td><td>21</td></tr><tr><td>32426520</td><td>1849 Victoria Flour Mill Counting House</td><td>33964673</td><td>Natalie</td><td>Buchfelde</td><td>-3459906</td><td>13874396</td><td>Entire home/apt</td><td>145</td><td>1</td><td>194</td><td>2022-09-08</td><td>450</td><td>3</td><td>318</td><td>70</td></tr><tr><td>32551818</td><td>Barossa Bliss</td><td>244624080</td><td>Ben</td><td>Nuriootpa</td><td>-3446731</td><td>13898425</td><td>Entire home/apt</td><td>150</td><td>2</td><td>76</td><td>2022-08-18</td><td>185</td><td>1</td><td>116</td><td>11</td></tr><tr><td>32789383</td><td>Wings Barossa Bird &amp; Bush Retreat - Barossa Region</td><td>246654848</td><td>Graeme &amp; Fleur</td><td>Mount Crawford</td><td>-3469142</td><td>13903562</td><td>Entire home/apt</td><td>270</td><td>2</td><td>58</td><td>2022-08-07</td><td>149</td><td>2</td><td>335</td><td>22</td></tr><tr><td>32964524</td><td>Wings Barossa Bird &amp; Bush Retreat</td><td>246654848</td><td>Graeme &amp; Fleur</td><td>Mount Crawford</td><td>-3468958</td><td>13903468</td><td>Entire home/apt</td><td>270</td><td>2</td><td>13</td><td>2022-07-31</td><td>55</td><td>2</td><td>335</td><td>9</td></tr><tr><td>33539267</td><td>The Chapel</td><td>26147078</td><td>Jonathan And Kate</td><td>Lyndoch</td><td>-3460192</td><td>13888495</td><td>Entire home/apt</td><td>301</td><td>2</td><td>157</td><td>2022-09-10</td><td>377</td><td>6</td><td>270</td><td>60</td></tr><tr><td>33663235</td><td>Lucy's House</td><td>253714714</td><td>Steve</td><td>Marananga</td><td>-3448627</td><td>13894349</td><td>Entire home/apt</td><td>260</td><td>2</td><td>17</td><td>2022-07-03</td><td>47</td><td>1</td><td>205</td><td>4</td></tr><tr><td>33718568</td><td>Henris Cottage</td><td>84633251</td><td>Henri</td><td>Sandy Creek</td><td>-3458186</td><td>13883327</td><td>Private room</td><td>286</td><td>2</td><td>0</td><td>NULL</td><td>NULL</td><td>2</td><td>174</td><td>0</td></tr><tr><td>33885699</td><td>The Loft</td><td>85556067</td><td>Tracy</td><td>Tanunda</td><td>-3452836</td><td>13895616</td><td>Entire home/apt</td><td>321</td><td>2</td><td>200</td><td>2022-09-04</td><td>484</td><td>1</td><td>276</td><td>54</td></tr><tr><td>33968239</td><td>The Clyde Greenock</td><td>255507745</td><td>Janine</td><td>Marananga</td><td>-3445982</td><td>13893486</td><td>Entire home/apt</td><td>414</td><td>2</td><td>10</td><td>2022-06-13</td><td>30</td><td>2</td><td>175</td><td>2</td></tr><tr><td>34104638</td><td>Bali in the Barossa</td><td>257523028</td><td>Karen</td><td>Buchfelde</td><td>-3460679</td><td>13873841</td><td>Entire home/apt</td><td>210</td><td>1</td><td>136</td><td>2022-09-04</td><td>330</td><td>1</td><td>342</td><td>33</td></tr><tr><td>34661591</td><td>'In The Vines' Guest Cottage, Barossa Valley SA</td><td>261496601</td><td>Josie &amp; Andrew</td><td>Light Pass</td><td>-3447415</td><td>13903569</td><td>Entire home/apt</td><td>239</td><td>2</td><td>75</td><td>2022-07-14</td><td>185</td><td>1</td><td>262</td><td>16</td></tr><tr><td>34732524</td><td>Ten on French</td><td>86995031</td><td>Lydia</td><td>Angaston</td><td>-3450478</td><td>13904587</td><td>Entire home/apt</td><td>184</td><td>2</td><td>32</td><td>2022-09-04</td><td>80</td><td>2</td><td>295</td><td>18</td></tr><tr><td>34756758</td><td>Mataro Cottage Tanunda - Stunning Accomodation</td><td>262121622</td><td>Jerry</td><td>Tanunda</td><td>-3452454</td><td>1389534</td><td>Entire home/apt</td><td>300</td><td>2</td><td>22</td><td>2022-08-28</td><td>72</td><td>5</td><td>222</td><td>7</td></tr><tr><td>34783741</td><td>Angaston Mews Grenache Apartment - Barossa Valley</td><td>262121622</td><td>Jerry</td><td>Angaston</td><td>-34499</td><td>13905222</td><td>Entire home/apt</td><td>226</td><td>2</td><td>5</td><td>2022-04-18</td><td>16</td><td>5</td><td>314</td><td>2</td></tr><tr><td>34785651</td><td>Angaston Mews Shiraz Apartment - Barossa Valley</td><td>262121622</td><td>Jerry</td><td>Angaston</td><td>-3450061</td><td>1390506</td><td>Entire home/apt</td><td>226</td><td>2</td><td>2</td><td>2022-06-14</td><td>9</td><td>5</td><td>330</td><td>1</td></tr><tr><td>34787869</td><td>Angaston Mews Riesling Apartment - Barossa Valley</td><td>262121622</td><td>Jerry</td><td>Angaston</td><td>-3449906</td><td>13905118</td><td>Entire home/apt</td><td>229</td><td>2</td><td>5</td><td>2022-04-21</td><td>14</td><td>5</td><td>316</td><td>1</td></tr><tr><td>34788045</td><td>Angaston Mews Chardonnay Apartment - Barossa</td><td>262121622</td><td>Jerry</td><td>Angaston</td><td>-3449949</td><td>1390519</td><td>Entire home/apt</td><td>229</td><td>2</td><td>5</td><td>2022-03-12</td><td>12</td><td>5</td><td>314</td><td>3</td></tr><tr><td>34914043</td><td>JHA Stone Cellar</td><td>106868811</td><td>Jan</td><td>Angaston</td><td>-345083</td><td>13910477</td><td>Entire home/apt</td><td>790</td><td>1</td><td>15</td><td>2022-02-12</td><td>38</td><td>2</td><td>228</td><td>5</td></tr><tr><td>35021213</td><td>Tomfoolery Winemaker's Cottage - Barossa Valley</td><td>263832331</td><td>Sarah</td><td>Light Pass</td><td>-3447432</td><td>13903661</td><td>Entire home/apt</td><td>479</td><td>2</td><td>72</td><td>2022-08-21</td><td>181</td><td>1</td><td>316</td><td>28</td></tr><tr><td>35356801</td><td>Williamstown Bed and Breakfast</td><td>265939095</td><td>Dianne</td><td>Williamstown</td><td>-3467037</td><td>13889143</td><td>Entire home/apt</td><td>250</td><td>2</td><td>29</td><td>2022-08-20</td><td>74</td><td>1</td><td>304</td><td>12</td></tr><tr><td>35617858</td><td>Lindsay House Homestead</td><td>257562725</td><td>Jasmine</td><td>Angaston</td><td>-3450249</td><td>13904108</td><td>Entire home/apt</td><td>874</td><td>2</td><td>36</td><td>2022-07-11</td><td>99</td><td>4</td><td>298</td><td>18</td></tr><tr><td>35660705</td><td>Barossa Valley Gundaroo - we offer 1 night stays</td><td>85597526</td><td>Tracy</td><td>Mount Crawford</td><td>-3477143</td><td>13897557</td><td>Entire home/apt</td><td>164</td><td>1</td><td>361</td><td>2022-09-20</td><td>911</td><td>1</td><td>300</td><td>115</td></tr><tr><td>35887791</td><td>Barossa Valley Hilltop Indulgence</td><td>73273148</td><td>Tricia</td><td>Marananga</td><td>-3445686</td><td>13891976</td><td>Entire home/apt</td><td>350</td><td>2</td><td>3</td><td>2019-10-12</td><td>8</td><td>1</td><td>179</td><td>0</td></tr><tr><td>36162973</td><td>Delightful private room in heritage home</td><td>271985916</td><td>Mary</td><td>Buchfelde</td><td>-3460591</td><td>13874732</td><td>Private room</td><td>90</td><td>1</td><td>134</td><td>2022-09-14</td><td>345</td><td>1</td><td>129</td><td>52</td></tr><tr><td>36184899</td><td>Ironstone on Jollytown</td><td>192564481</td><td>Brooke &amp; Peter</td><td>Lyndoch</td><td>-3460337</td><td>13887968</td><td>Entire home/apt</td><td>255</td><td>2</td><td>233</td><td>2022-09-19</td><td>752</td><td>1</td><td>16</td><td>95</td></tr><tr><td>36464062</td><td>The Kirche - Luxury Vineyard Accommodation</td><td>274161665</td><td>Virginia And Charlie</td><td>Bethany</td><td>-3455993</td><td>13896579</td><td>Entire home/apt</td><td>795</td><td>2</td><td>1</td><td>2022-08-08</td><td>67</td><td>1</td><td>317</td><td>1</td></tr><tr><td>36498929</td><td>Tal Haus - In the heart of the Barossa Valley</td><td>49747343</td><td>Maz</td><td>Tanunda</td><td>-3452264</td><td>13896292</td><td>Entire home/apt</td><td>187</td><td>1</td><td>310</td><td>2022-09-19</td><td>832</td><td>1</td><td>239</td><td>112</td></tr><tr><td>36774681</td><td>Rogasch Cottage</td><td>276432130</td><td>Scott</td><td>Tanunda</td><td>-3452729</td><td>13895226</td><td>Entire home/apt</td><td>507</td><td>2</td><td>187</td><td>2022-09-17</td><td>522</td><td>1</td><td>187</td><td>81</td></tr><tr><td>37021014</td><td>'Allawah' Barossa, Luxury accommodation in Tanunda</td><td>99672311</td><td>Tracy</td><td>Tanunda</td><td>-3452732</td><td>13895677</td><td>Entire home/apt</td><td>350</td><td>2</td><td>57</td><td>2022-09-12</td><td>163</td><td>1</td><td>224</td><td>28</td></tr><tr><td>37468647</td><td>Gawler Townhouse 3 Bedroom</td><td>38878329</td><td>Andrew</td><td>Hewett</td><td>-3459406</td><td>13874947</td><td>Entire home/apt</td><td>464</td><td>1</td><td>31</td><td>2022-07-31</td><td>87</td><td>6</td><td>355</td><td>12</td></tr><tr><td>37689356</td><td>CASALE Barossa Valley - Bed &amp; Breakfast</td><td>284867983</td><td>Rosa</td><td>Nuriootpa</td><td>-3446845</td><td>13895749</td><td>Entire home/apt</td><td>305</td><td>1</td><td>58</td><td>2022-09-06</td><td>167</td><td>1</td><td>326</td><td>19</td></tr><tr><td>37733817</td><td>Ruby’s Residence: LOCATION - cozy - WIFI - netflix</td><td>165561239</td><td>Marlovisa</td><td>Tanunda</td><td>-3452301</td><td>13895934</td><td>Entire home/apt</td><td>243</td><td>2</td><td>75</td><td>2022-09-11</td><td>207</td><td>2</td><td>269</td><td>37</td></tr><tr><td>37926946</td><td>Tamu Barossa</td><td>287327836</td><td>Bianca</td><td>Altona</td><td>-3459088</td><td>13891066</td><td>Entire home/apt</td><td>139</td><td>2</td><td>90</td><td>2022-08-30</td><td>249</td><td>1</td><td>117</td><td>28</td></tr><tr><td>38072313</td><td>Barossa Valley Vineyard House  8 Acres vineyard</td><td>297316869</td><td>Greenock Estate Wines</td><td>Nuriootpa</td><td>-3450385</td><td>13900742</td><td>Private room</td><td>130</td><td>1</td><td>0</td><td>NULL</td><td>NULL</td><td>1</td><td>0</td><td>0</td></tr><tr><td>38438917</td><td>Entire cottage, quiet, romantic, self contained</td><td>24432943</td><td>Alexandra</td><td>Angaston</td><td>-3450468</td><td>1390454</td><td>Entire home/apt</td><td>230</td><td>2</td><td>67</td><td>2022-09-16</td><td>186</td><td>1</td><td>305</td><td>25</td></tr><tr><td>38473930</td><td>Beautiful guest suite in the Barossa Valley</td><td>267461364</td><td>Natalie</td><td>Nuriootpa</td><td>-344655</td><td>13901189</td><td>Private room</td><td>110</td><td>2</td><td>39</td><td>2022-08-18</td><td>109</td><td>1</td><td>217</td><td>13</td></tr><tr><td>38557373</td><td>Greenock's Old Telegraph Station</td><td>120950528</td><td>Virginia</td><td>Greenock</td><td>-3445786</td><td>13892946</td><td>Entire home/apt</td><td>200</td><td>2</td><td>32</td><td>2022-07-11</td><td>97</td><td>1</td><td>229</td><td>15</td></tr><tr><td>38627334</td><td>Milk + Honey House</td><td>295010752</td><td>Alexandra</td><td>Penrice</td><td>-3448644</td><td>13904602</td><td>Entire home/apt</td><td>250</td><td>2</td><td>51</td><td>2022-09-04</td><td>145</td><td>1</td><td>266</td><td>21</td></tr><tr><td>38892821</td><td>QueenBed CosyHome_short walk to Train_near Barossa</td><td>31964383</td><td>Ben</td><td>Concordia</td><td>-3459525</td><td>13874996</td><td>Entire home/apt</td><td>108</td><td>2</td><td>105</td><td>2022-09-12</td><td>301</td><td>1</td><td>173</td><td>24</td></tr><tr><td>38914282</td><td>Tree Creeper Cottage, Kersbrook</td><td>298038628</td><td>Alan</td><td>Mount Crawford</td><td>-3473902</td><td>13891378</td><td>Entire home/apt</td><td>100</td><td>1</td><td>51</td><td>2022-09-17</td><td>162</td><td>1</td><td>69</td><td>14</td></tr><tr><td>39158378</td><td>Grace of Gawler - WiFi Netflix &amp; train @ your door</td><td>78037905</td><td>Steph</td><td>Buchfelde</td><td>-3460631</td><td>13874402</td><td>Entire home/apt</td><td>140</td><td>1</td><td>147</td><td>2022-09-18</td><td>422</td><td>2</td><td>211</td><td>71</td></tr><tr><td>39265464</td><td>Lavender Cottage BAROSSA - LOCATION!</td><td>165561239</td><td>Marlovisa</td><td>Tanunda</td><td>-3452297</td><td>13895956</td><td>Entire home/apt</td><td>240</td><td>2</td><td>8</td><td>2021-01-09</td><td>32</td><td>2</td><td>190</td><td>0</td></tr><tr><td>40013760</td><td>Barossa Resort Style Living - New Listing Jan 2021</td><td>2215953</td><td>Steve</td><td>Tanunda</td><td>-3452431</td><td>13895589</td><td>Entire home/apt</td><td>750</td><td>4</td><td>6</td><td>2022-01-05</td><td>29</td><td>1</td><td>25</td><td>2</td></tr><tr><td>40212692</td><td>Biscay Cottage: enjoy the peace and quiet</td><td>2425103</td><td>Sandra</td><td>Bethany</td><td>-3453929</td><td>13896757</td><td>Entire home/apt</td><td>250</td><td>999</td><td>48</td><td>2022-09-18</td><td>181</td><td>2</td><td>69</td><td>25</td></tr><tr><td>40290859</td><td>Barossa Shiraz Estate The Barn</td><td>310538520</td><td>Julieanne</td><td>Lyndoch</td><td>-3459343</td><td>13887888</td><td>Private room</td><td>550</td><td>2</td><td>36</td><td>2022-09-05</td><td>111</td><td>2</td><td>249</td><td>24</td></tr><tr><td>40291757</td><td>Barossa Shiraz Estate The Vines</td><td>310538520</td><td>Julieanne</td><td>Lyndoch</td><td>-3459173</td><td>13887876</td><td>Private room</td><td>490</td><td>1</td><td>3</td><td>2022-05-01</td><td>10</td><td>2</td><td>232</td><td>1</td></tr><tr><td>40433136</td><td>King Deluxe Room</td><td>162433043</td><td>Danielle</td><td>Angaston</td><td>-3449315</td><td>13902876</td><td>Private room</td><td>145</td><td>1</td><td>1</td><td>2022-03-20</td><td>16</td><td>6</td><td>347</td><td>1</td></tr><tr><td>40433163</td><td>Standard Queen Room</td><td>162433043</td><td>Danielle</td><td>Angaston</td><td>-3449416</td><td>13902739</td><td>Private room</td><td>107</td><td>1</td><td>24</td><td>2022-08-14</td><td>71</td><td>6</td><td>350</td><td>20</td></tr><tr><td>40433180</td><td>Triple Room - Queen + Single</td><td>162433043</td><td>Danielle</td><td>Angaston</td><td>-3449417</td><td>13902892</td><td>Private room</td><td>135</td><td>1</td><td>1</td><td>2022-08-22</td><td>1</td><td>6</td><td>337</td><td>1</td></tr><tr><td>40433196</td><td>Family Room- Queen + 2 Singles</td><td>162433043</td><td>Danielle</td><td>Angaston</td><td>-3449403</td><td>13902731</td><td>Private room</td><td>145</td><td>1</td><td>6</td><td>2022-04-21</td><td>20</td><td>6</td><td>320</td><td>3</td></tr><tr><td>40433230</td><td>Family Room- 2 x Queens Room</td><td>162433043</td><td>Danielle</td><td>Angaston</td><td>-3449248</td><td>13902915</td><td>Private room</td><td>140</td><td>2</td><td>3</td><td>2022-08-15</td><td>42</td><td>6</td><td>309</td><td>3</td></tr><tr><td>40433247</td><td>Standard Twin Room</td><td>162433043</td><td>Danielle</td><td>Angaston</td><td>-3449462</td><td>13902856</td><td>Private room</td><td>105</td><td>1</td><td>2</td><td>2022-01-16</td><td>6</td><td>6</td><td>307</td><td>1</td></tr><tr><td>40433618</td><td>Vineyard Views</td><td>29148788</td><td>Karl</td><td>Angaston</td><td>-3453599</td><td>139039</td><td>Entire home/apt</td><td>233</td><td>2</td><td>141</td><td>2022-09-16</td><td>415</td><td>1</td><td>136</td><td>55</td></tr><tr><td>40710829</td><td>Pembury Mews</td><td>26147078</td><td>Jonathan And Kate</td><td>Angaston</td><td>-3450134</td><td>13903853</td><td>Private room</td><td>120</td><td>2</td><td>0</td><td>NULL</td><td>NULL</td><td>6</td><td>0</td><td>0</td></tr><tr><td>41405916</td><td>Triple Creek Guest House - Barossa Region</td><td>396529571</td><td>Dorham</td><td>Marananga</td><td>-3449844</td><td>13891357</td><td>Entire home/apt</td><td>650</td><td>1</td><td>107</td><td>2022-08-29</td><td>346</td><td>2</td><td>257</td><td>47</td></tr><tr><td>41480905</td><td>The Palms</td><td>63693332</td><td>GaryLeonie</td><td>Hewett</td><td>-345929</td><td>13874565</td><td>Entire home/apt</td><td>229</td><td>2</td><td>15</td><td>2022-04-10</td><td>48</td><td>5</td><td>305</td><td>7</td></tr><tr><td>41597034</td><td>Under the Vines....a Vineyard Escape!</td><td>10626104</td><td>Karen</td><td>Tanunda</td><td>-345047</td><td>1389971</td><td>Entire home/apt</td><td>290</td><td>2</td><td>67</td><td>2022-09-18</td><td>210</td><td>2</td><td>260</td><td>55</td></tr><tr><td>41804891</td><td>10 Murray  Tanunda  feel like a local</td><td>196783231</td><td>Louise</td><td>Tanunda</td><td>-3452674</td><td>13895273</td><td>Entire home/apt</td><td>768</td><td>2</td><td>98</td><td>2022-08-29</td><td>314</td><td>1</td><td>298</td><td>51</td></tr><tr><td>42163559</td><td>Casa Mia Angaston</td><td>50037088</td><td>Georgina</td><td>Angaston</td><td>-3450143</td><td>1390463</td><td>Entire home/apt</td><td>250</td><td>2</td><td>16</td><td>2022-08-30</td><td>186</td><td>1</td><td>332</td><td>16</td></tr><tr><td>42566492</td><td>Near Gawler Main St and start of Barossa</td><td>338081408</td><td>Sharen</td><td>Concordia</td><td>-3460119</td><td>1387623</td><td>Entire home/apt</td><td>128</td><td>4</td><td>78</td><td>2022-09-13</td><td>256</td><td>1</td><td>306</td><td>24</td></tr><tr><td>42649403</td><td>BnB on Barkey</td><td>123337181</td><td>Linda</td><td>Greenock</td><td>-3445488</td><td>1389318</td><td>Entire home/apt</td><td>132</td><td>2</td><td>37</td><td>2022-09-12</td><td>207</td><td>1</td><td>127</td><td>20</td></tr><tr><td>42653260</td><td>THE VINES   Mount Pleasant close to attractions.</td><td>175043828</td><td>Shari</td><td>Mount Pleasant</td><td>-3477893</td><td>13904251</td><td>Entire home/apt</td><td>105</td><td>1</td><td>71</td><td>2022-07-24</td><td>308</td><td>1</td><td>0</td><td>38</td></tr><tr><td>42667491</td><td>Elders Office</td><td>257562725</td><td>Jasmine</td><td>Angaston</td><td>-3450108</td><td>1390417</td><td>Entire home/apt</td><td>250</td><td>1</td><td>200</td><td>2022-09-15</td><td>647</td><td>4</td><td>251</td><td>76</td></tr><tr><td>42718676</td><td>Auction Shed</td><td>257562725</td><td>Jasmine</td><td>Angaston</td><td>-3450171</td><td>13904057</td><td>Entire home/apt</td><td>507</td><td>1</td><td>82</td><td>2022-09-05</td><td>328</td><td>4</td><td>291</td><td>51</td></tr><tr><td>43047801</td><td>Angas's Retreat - with Country views</td><td>241630453</td><td>Melissa</td><td>Angaston</td><td>-3449981</td><td>13904224</td><td>Entire home/apt</td><td>260</td><td>2</td><td>97</td><td>2022-09-18</td><td>351</td><td>1</td><td>101</td><td>44</td></tr><tr><td>43118837</td><td>Deluxe Couples Spa Cabin</td><td>20245136</td><td>Seppelts View</td><td>Marananga</td><td>-344884</td><td>1389235</td><td>Entire home/apt</td><td>312</td><td>1</td><td>34</td><td>2022-08-19</td><td>125</td><td>4</td><td>118</td><td>9</td></tr><tr><td>43128151</td><td>Couples Cabin</td><td>20245136</td><td>Seppelts View</td><td>Marananga</td><td>-3448836</td><td>13892286</td><td>Entire home/apt</td><td>190</td><td>1</td><td>48</td><td>2022-08-09</td><td>171</td><td>4</td><td>251</td><td>22</td></tr><tr><td>43128158</td><td>Family Cabin w/ Seperate Bunk Room</td><td>20245136</td><td>Seppelts View</td><td>Marananga</td><td>-3448651</td><td>13892349</td><td>Entire home/apt</td><td>208</td><td>1</td><td>10</td><td>2022-06-10</td><td>41</td><td>4</td><td>239</td><td>3</td></tr><tr><td>43329785</td><td>Cirillo Guest House</td><td>52348976</td><td>Annika</td><td>Nuriootpa</td><td>-3449419</td><td>13900969</td><td>Entire home/apt</td><td>420</td><td>2</td><td>54</td><td>2022-09-18</td><td>202</td><td>1</td><td>137</td><td>31</td></tr><tr><td>43366530</td><td>Tanunda Apartment</td><td>257562725</td><td>Jasmine</td><td>Tanunda</td><td>-3452706</td><td>13895728</td><td>Private room</td><td>220</td><td>1</td><td>136</td><td>2022-09-03</td><td>476</td><td>4</td><td>304</td><td>68</td></tr><tr><td>43646190</td><td>Gateway to the Barossa</td><td>348529669</td><td>Greg And Mary</td><td>Concordia</td><td>-3459905</td><td>13879915</td><td>Entire home/apt</td><td>150</td><td>2</td><td>26</td><td>2022-08-22</td><td>114</td><td>1</td><td>0</td><td>4</td></tr><tr><td>43913815</td><td>Gawler Townhouse 1 Bedroom</td><td>38878329</td><td>Andrew</td><td>Concordia</td><td>-3459617</td><td>13874998</td><td>Entire home/apt</td><td>207</td><td>1</td><td>115</td><td>2022-09-13</td><td>426</td><td>6</td><td>355</td><td>54</td></tr><tr><td>43950395</td><td>Gawler Townhouses 1 Bedroom (1a)</td><td>38878329</td><td>Andrew</td><td>Concordia</td><td>-3459618</td><td>13875144</td><td>Entire home/apt</td><td>197</td><td>1</td><td>9</td><td>2022-05-26</td><td>42</td><td>6</td><td>351</td><td>5</td></tr><tr><td>44450394</td><td>'Mattschoss House c1890' - Barossa comfort &amp; style</td><td>359107874</td><td>Katelin</td><td>Tanunda</td><td>-3449547</td><td>13897399</td><td>Entire home/apt</td><td>350</td><td>2</td><td>20</td><td>2022-07-13</td><td>85</td><td>1</td><td>35</td><td>12</td></tr><tr><td>45084589</td><td>Redemption House</td><td>255318511</td><td>Ted &amp; Kylie</td><td>Gawler River</td><td>-3462676</td><td>13861104</td><td>Entire home/apt</td><td>130</td><td>1</td><td>84</td><td>2022-07-02</td><td>350</td><td>1</td><td>230</td><td>35</td></tr><tr><td>45091753</td><td>Evanston Gardens - Close to Barossa Valley</td><td>1956923</td><td>Ted</td><td>Buchfelde</td><td>-3462707</td><td>13872112</td><td>Private room</td><td>80</td><td>2</td><td>17</td><td>2022-08-30</td><td>81</td><td>1</td><td>356</td><td>12</td></tr><tr><td>45092536</td><td>It's Bonza! Accessibility+comfort, Barossa Valley</td><td>26657441</td><td>Nelly Stan</td><td>Williamstown</td><td>-3465417</td><td>13888892</td><td>Entire home/apt</td><td>160</td><td>2</td><td>23</td><td>2022-08-03</td><td>260</td><td>1</td><td>296</td><td>23</td></tr><tr><td>45319838</td><td>Schomburgk Cottage- Gawler- private, cozy, unique.</td><td>179855375</td><td>Veronica</td><td>Buchfelde</td><td>-346129</td><td>13869825</td><td>Entire home/apt</td><td>140</td><td>2</td><td>0</td><td>NULL</td><td>NULL</td><td>1</td><td>128</td><td>0</td></tr><tr><td>45548496</td><td>Barossa Lofts &amp; Wood Oven Pizza Restaurant</td><td>198156088</td><td>Jane</td><td>Springton</td><td>-3472354</td><td>13906653</td><td>Entire home/apt</td><td>420</td><td>2</td><td>2</td><td>2020-10-04</td><td>8</td><td>3</td><td>0</td><td>0</td></tr><tr><td>45555495</td><td>Wyndways</td><td>65827290</td><td>Hannah</td><td>Tanunda</td><td>-345235</td><td>1389528</td><td>Entire home/apt</td><td>250</td><td>2</td><td>53</td><td>2022-07-17</td><td>230</td><td>1</td><td>30</td><td>22</td></tr><tr><td>45693523</td><td>Old Barossa Valley Inn &amp; Bakery-Entire Main House!</td><td>92198370</td><td>Heather</td><td>Lyndoch</td><td>-3460238</td><td>13888712</td><td>Entire home/apt</td><td>259</td><td>2</td><td>48</td><td>2022-08-22</td><td>204</td><td>2</td><td>151</td><td>23</td></tr><tr><td>45714238</td><td>Barossa Loft Stay &amp; Wood Oven Pizza Restaurant</td><td>198156088</td><td>Jane</td><td>Springton</td><td>-3472339</td><td>13906674</td><td>Entire home/apt</td><td>165</td><td>1</td><td>32</td><td>2022-01-01</td><td>138</td><td>3</td><td>0</td><td>4</td></tr><tr><td>45714531</td><td>Barossa Double Lofts &amp; Wood Oven Pizza Restaurant</td><td>198156088</td><td>Jane</td><td>Springton</td><td>-3472344</td><td>13906642</td><td>Entire home/apt</td><td>300</td><td>1</td><td>4</td><td>2022-01-14</td><td>22</td><td>3</td><td>0</td><td>3</td></tr><tr><td>45772254</td><td>Halletts Valley Hideaway</td><td>362336116</td><td>Charmaine</td><td>Tanunda</td><td>-3453838</td><td>13893566</td><td>Entire home/apt</td><td>280</td><td>2</td><td>110</td><td>2022-09-14</td><td>516</td><td>1</td><td>282</td><td>66</td></tr><tr><td>46126039</td><td>Kombi Camping with Gilbert</td><td>99836662</td><td>Karen</td><td>Kalbeeba</td><td>-3460124</td><td>13877322</td><td>Entire home/apt</td><td>220</td><td>2</td><td>1</td><td>2021-03-25</td><td>5</td><td>2</td><td>153</td><td>0</td></tr><tr><td>46128155</td><td>Seppeltsfield Vineyard Retreat - Barossa getaway</td><td>77871395</td><td>Jodie</td><td>Marananga</td><td>-3448836</td><td>13890805</td><td>Entire home/apt</td><td>746</td><td>2</td><td>20</td><td>2022-09-03</td><td>113</td><td>2</td><td>210</td><td>12</td></tr><tr><td>46129812</td><td>Chinner Cottage on Park</td><td>13831555</td><td>Lisa</td><td>Angaston</td><td>-3450476</td><td>13904405</td><td>Entire home/apt</td><td>210</td><td>2</td><td>12</td><td>2022-09-10</td><td>218</td><td>1</td><td>230</td><td>12</td></tr><tr><td>46929185</td><td>Parkview 5</td><td>63693332</td><td>GaryLeonie</td><td>Kalbeeba</td><td>-3460881</td><td>13874895</td><td>Entire home/apt</td><td>239</td><td>2</td><td>5</td><td>2022-04-25</td><td>24</td><td>5</td><td>135</td><td>2</td></tr><tr><td>47117855</td><td>Peaceful 2br cottage in the 🖤 of Angaston</td><td>5100298</td><td>Adele</td><td>Angaston</td><td>-3450362</td><td>13904832</td><td>Entire home/apt</td><td>221</td><td>2</td><td>43</td><td>2022-08-22</td><td>206</td><td>2</td><td>52</td><td>24</td></tr><tr><td>47449065</td><td>LYNDOCH GRAND VILLA IN BAROSSA VILLAGE SLEEPS 14</td><td>48998930</td><td>Darren</td><td>Lyndoch</td><td>-346008</td><td>13888878</td><td>Entire home/apt</td><td>681</td><td>2</td><td>15</td><td>2022-09-12</td><td>127</td><td>1</td><td>312</td><td>15</td></tr><tr><td>47478352</td><td>Teresa Garden Holiday Home</td><td>341812742</td><td>April</td><td>Tanunda</td><td>-3451047</td><td>13894969</td><td>Entire home/apt</td><td>345</td><td>2</td><td>29</td><td>2022-07-11</td><td>160</td><td>1</td><td>315</td><td>18</td></tr><tr><td>47925036</td><td>Whiterocks Tanunda short walk to resteraunts</td><td>53620255</td><td>Peter</td><td>Tanunda</td><td>-3452408</td><td>13895884</td><td>Entire home/apt</td><td>648</td><td>2</td><td>10</td><td>2022-09-12</td><td>151</td><td>1</td><td>310</td><td>10</td></tr><tr><td>47927838</td><td>Vintage Chic Home</td><td>325056755</td><td>Ian</td><td>Buchfelde</td><td>-3459727</td><td>13874474</td><td>Entire home/apt</td><td>140</td><td>2</td><td>55</td><td>2022-09-18</td><td>285</td><td>1</td><td>296</td><td>37</td></tr><tr><td>48061876</td><td>HISTORIC BAROSSA - 1890s 2 STOREY HAYLOFT</td><td>2660469</td><td>Mark And Fiona</td><td>Springton</td><td>-3470862</td><td>1390886</td><td>Entire home/apt</td><td>176</td><td>2</td><td>44</td><td>2022-09-18</td><td>267</td><td>2</td><td>304</td><td>37</td></tr><tr><td>48161724</td><td>The Cottage at Riverside Farm</td><td>308444810</td><td>Louise</td><td>Lyndoch</td><td>-3457871</td><td>13889575</td><td>Entire home/apt</td><td>269</td><td>2</td><td>1</td><td>2021-04-14</td><td>6</td><td>2</td><td>280</td><td>0</td></tr><tr><td>48248462</td><td>Peaceful 3br cottage in the 🖤 of Angaston</td><td>5100298</td><td>Adele</td><td>Angaston</td><td>-3450347</td><td>13904836</td><td>Entire home/apt</td><td>320</td><td>2</td><td>10</td><td>2022-07-10</td><td>55</td><td>2</td><td>52</td><td>7</td></tr><tr><td>48367802</td><td>Little Eden - See Barossa Valley &amp; bring your pet</td><td>109279546</td><td>Mike</td><td>Eden Valley</td><td>-3464301</td><td>13909948</td><td>Entire home/apt</td><td>184</td><td>2</td><td>80</td><td>2022-09-02</td><td>426</td><td>1</td><td>312</td><td>43</td></tr><tr><td>48457019</td><td>Flaxman: historic Goat Square Cottages in Tanunda</td><td>132901790</td><td>Mary</td><td>Tanunda</td><td>-3452442</td><td>13895396</td><td>Entire home/apt</td><td>403</td><td>2</td><td>34</td><td>2022-09-20</td><td>212</td><td>3</td><td>312</td><td>27</td></tr><tr><td>48457377</td><td>Menge: historic Goat Square Cottages in Tanunda</td><td>132901790</td><td>Mary</td><td>Tanunda</td><td>-3452476</td><td>13895392</td><td>Entire home/apt</td><td>299</td><td>2</td><td>21</td><td>2022-09-15</td><td>135</td><td>3</td><td>281</td><td>17</td></tr><tr><td>48457650</td><td>Kavel: historic Goat Square Cottages in Tanunda</td><td>132901790</td><td>Mary</td><td>Tanunda</td><td>-3452296</td><td>13895549</td><td>Entire home/apt</td><td>288</td><td>2</td><td>25</td><td>2022-08-14</td><td>153</td><td>3</td><td>268</td><td>22</td></tr><tr><td>48507184</td><td>Gateway to the Barossa Valley.</td><td>70840103</td><td>Bronwyn</td><td>Concordia</td><td>-3459695</td><td>13877248</td><td>Entire home/apt</td><td>120</td><td>2</td><td>28</td><td>2022-09-18</td><td>157</td><td>1</td><td>151</td><td>19</td></tr><tr><td>48999138</td><td>The Station - luxury group accommodation</td><td>3524070</td><td>Bridget</td><td>Kapunda</td><td>-3434125</td><td>13890894</td><td>Entire home/apt</td><td>1500</td><td>2</td><td>21</td><td>2022-09-18</td><td>126</td><td>1</td><td>311</td><td>15</td></tr><tr><td>49064366</td><td>Kalimna House</td><td>133655329</td><td>Nick</td><td>Nuriootpa</td><td>-3446029</td><td>13900439</td><td>Entire home/apt</td><td>270</td><td>2</td><td>12</td><td>2022-08-21</td><td>69</td><td>1</td><td>0</td><td>6</td></tr><tr><td>49116056</td><td>Gawler Townhouses 1c</td><td>38878329</td><td>Andrew</td><td>Concordia</td><td>-3459454</td><td>13875083</td><td>Entire home/apt</td><td>185</td><td>1</td><td>17</td><td>2022-08-06</td><td>98</td><td>6</td><td>343</td><td>9</td></tr><tr><td>49197946</td><td>Barossa Valley Views Eco Farm Stay Angaston</td><td>52444929</td><td>Kirsten</td><td>Angaston</td><td>-3450534</td><td>13904097</td><td>Private room</td><td>170</td><td>2</td><td>12</td><td>2021-11-28</td><td>75</td><td>1</td><td>0</td><td>3</td></tr><tr><td>49200495</td><td>Possum Cottage</td><td>27083172</td><td>Nick</td><td>Tanunda</td><td>-3453145</td><td>13894868</td><td>Entire home/apt</td><td>227</td><td>1</td><td>136</td><td>2022-09-04</td><td>800</td><td>2</td><td>99</td><td>104</td></tr><tr><td>49448518</td><td>HISTORIC BAROSSA - 1890 STABLES WITH WOODFIRE</td><td>2660469</td><td>Mark And Fiona</td><td>Springton</td><td>-3470727</td><td>13908799</td><td>Entire home/apt</td><td>179</td><td>2</td><td>33</td><td>2022-09-21</td><td>200</td><td>2</td><td>308</td><td>22</td></tr><tr><td>49863533</td><td>CRUSH Guest Room &amp; Ensuite-Hewitson Barossa Valley</td><td>402141220</td><td>Hewitson Winery</td><td>Tanunda</td><td>-3449649</td><td>13897872</td><td>Entire home/apt</td><td>255</td><td>1</td><td>85</td><td>2022-09-18</td><td>524</td><td>4</td><td>343</td><td>64</td></tr><tr><td>49865101</td><td>PRESS Guest Room &amp; Ensuite-Hewitson Barossa Valley</td><td>402141220</td><td>Hewitson Winery</td><td>Nuriootpa</td><td>-3449466</td><td>13897793</td><td>Entire home/apt</td><td>255</td><td>1</td><td>81</td><td>2022-09-16</td><td>514</td><td>4</td><td>329</td><td>60</td></tr><tr><td>49910082</td><td>Auricht Cottage</td><td>6187392</td><td>Mai</td><td>Tanunda</td><td>-3450957</td><td>13896629</td><td>Private room</td><td>120</td><td>1</td><td>11</td><td>2022-01-08</td><td>69</td><td>1</td><td>0</td><td>6</td></tr><tr><td>49912569</td><td>THE WINERY SUITES - Hewitson Barossa Valley</td><td>402141220</td><td>Hewitson Winery</td><td>Nuriootpa</td><td>-3449469</td><td>13897754</td><td>Entire home/apt</td><td>774</td><td>2</td><td>3</td><td>2022-06-13</td><td>34</td><td>4</td><td>318</td><td>3</td></tr><tr><td>49913465</td><td>Rural retreat! 5 min to wineries / 10 min to town</td><td>9683914</td><td>Angela</td><td>Bethany</td><td>-3457072</td><td>13898764</td><td>Entire home/apt</td><td>1029</td><td>2</td><td>31</td><td>2022-08-13</td><td>227</td><td>1</td><td>85</td><td>30</td></tr><tr><td>49931720</td><td>Exclusive Barossa country lodge/retreat</td><td>8926804</td><td>Julie</td><td>Cockatoo Valley</td><td>-3461944</td><td>13883237</td><td>Entire home/apt</td><td>795</td><td>2</td><td>16</td><td>2022-08-28</td><td>123</td><td>1</td><td>284</td><td>15</td></tr><tr><td>50010309</td><td>Family Cabin</td><td>20245136</td><td>Seppelts View</td><td>Marananga</td><td>-3448919</td><td>13892346</td><td>Entire home/apt</td><td>197</td><td>1</td><td>16</td><td>2022-08-04</td><td>103</td><td>4</td><td>257</td><td>11</td></tr><tr><td>50141467</td><td>The Crescent</td><td>150886171</td><td>Penny</td><td>Nuriootpa</td><td>-344787</td><td>13899536</td><td>Entire home/apt</td><td>350</td><td>2</td><td>0</td><td>NULL</td><td>NULL</td><td>1</td><td>155</td><td>0</td></tr><tr><td>50248356</td><td>Barossa-Gabby's Holiday House-Wifi, Indoor fire</td><td>395027969</td><td>Gina</td><td>Nuriootpa</td><td>-3446797</td><td>13897201</td><td>Entire home/apt</td><td>480</td><td>2</td><td>31</td><td>2022-09-10</td><td>216</td><td>1</td><td>269</td><td>27</td></tr><tr><td>50527203</td><td>Basedow Haus\nBarossa Valley</td><td>408243200</td><td>Max</td><td>Tanunda</td><td>-3452588</td><td>13896365</td><td>Entire home/apt</td><td>690</td><td>2</td><td>19</td><td>2022-08-28</td><td>132</td><td>1</td><td>212</td><td>18</td></tr><tr><td>50530409</td><td>King Suite</td><td>63693332</td><td>GaryLeonie</td><td>Hewett</td><td>-3459314</td><td>13874679</td><td>Entire home/apt</td><td>225</td><td>2</td><td>10</td><td>2022-07-14</td><td>69</td><td>5</td><td>322</td><td>9</td></tr><tr><td>50581037</td><td>Barossa house in the vines &amp; stunning valley view!</td><td>103898307</td><td>Anna And David</td><td>Marananga</td><td>-3449959</td><td>13894331</td><td>Entire home/apt</td><td>550</td><td>2</td><td>52</td><td>2022-09-16</td><td>432</td><td>1</td><td>320</td><td>52</td></tr><tr><td>50835494</td><td>Peace and serenity in the heart of the Barossa</td><td>410966448</td><td>Lisa</td><td>Tanunda</td><td>-3453955</td><td>13894362</td><td>Entire home/apt</td><td>325</td><td>1</td><td>34</td><td>2022-09-13</td><td>249</td><td>1</td><td>295</td><td>30</td></tr><tr><td>50946022</td><td>Magpie House</td><td>412005775</td><td>Sandy</td><td>Tanunda</td><td>-34523008</td><td>138960624</td><td>Entire home/apt</td><td>314</td><td>2</td><td>17</td><td>2022-08-22</td><td>202</td><td>1</td><td>154</td><td>17</td></tr><tr><td>50982705</td><td>Angaston Lodge  - 7 acres</td><td>412389155</td><td>Tony</td><td>Angaston</td><td>-34494112</td><td>139048144</td><td>Entire home/apt</td><td>286</td><td>2</td><td>0</td><td>NULL</td><td>NULL</td><td>1</td><td>317</td><td>0</td></tr><tr><td>51296366</td><td>The olde Hamilton shop, Between Clare and Barossa</td><td>261874745</td><td>Stella</td><td>Kapunda</td><td>-3421801</td><td>13887789</td><td>Entire home/apt</td><td>175</td><td>1</td><td>13</td><td>2022-06-22</td><td>100</td><td>1</td><td>333</td><td>12</td></tr><tr><td>51378316</td><td>Manor House - One Bedroom</td><td>383527612</td><td>Jean-Claude</td><td>Kapunda</td><td>-3423416</td><td>13897174</td><td>Entire home/apt</td><td>348</td><td>1</td><td>1</td><td>2022-07-05</td><td>38</td><td>7</td><td>322</td><td>1</td></tr><tr><td>51378839</td><td>Manor House - Two Bedrooms</td><td>383527612</td><td>Jean-Claude</td><td>Kapunda</td><td>-342344</td><td>13897292</td><td>Entire home/apt</td><td>464</td><td>1</td><td>2</td><td>2022-05-29</td><td>17</td><td>7</td><td>322</td><td>2</td></tr><tr><td>51379621</td><td>Manor House - Three Bedrooms</td><td>383527612</td><td>Jean-Claude</td><td>Kapunda</td><td>-3423294</td><td>13897206</td><td>Entire home/apt</td><td>580</td><td>1</td><td>1</td><td>2021-10-11</td><td>9</td><td>7</td><td>322</td><td>1</td></tr><tr><td>51394076</td><td>Heritage on King Street</td><td>63693332</td><td>GaryLeonie</td><td>Hewett</td><td>-345932</td><td>13874565</td><td>Entire home/apt</td><td>225</td><td>2</td><td>1</td><td>2021-12-09</td><td>10</td><td>5</td><td>263</td><td>1</td></tr><tr><td>51410334</td><td>Head Gardeners Cottage - One Bedroom - 1 night</td><td>383527612</td><td>Jean-Claude</td><td>Kapunda</td><td>-3423298</td><td>13897304</td><td>Private room</td><td>348</td><td>1</td><td>0</td><td>NULL</td><td>NULL</td><td>7</td><td>322</td><td>0</td></tr><tr><td>51410362</td><td>Head Gardeners Cottage - Three Bedroom</td><td>383527612</td><td>Jean-Claude</td><td>Kapunda</td><td>-3423212</td><td>13897269</td><td>Private room</td><td>580</td><td>1</td><td>3</td><td>2022-09-04</td><td>59</td><td>7</td><td>322</td><td>3</td></tr><tr><td>51410372</td><td>Head Gardeners Cottage - Two Bedroom - 1 night</td><td>383527612</td><td>Jean-Claude</td><td>Kapunda</td><td>-34233</td><td>13897263</td><td>Private room</td><td>464</td><td>1</td><td>0</td><td>NULL</td><td>NULL</td><td>7</td><td>322</td><td>0</td></tr><tr><td>51673748</td><td>Oscars at Marananga Cottages - Country Charm</td><td>275161574</td><td>Wendy</td><td>Marananga</td><td>-3448333</td><td>13893814</td><td>Entire home/apt</td><td>354</td><td>2</td><td>7</td><td>2022-08-21</td><td>54</td><td>1</td><td>309</td><td>5</td></tr><tr><td>51851038</td><td>★ Lochnagar Barossa ★  ✔ 3 En-suites ✔ Walking distance to wineries ✔</td><td>397924132</td><td>David And Ruth</td><td>Tanunda</td><td>-345119</td><td>13896443</td><td>Entire home/apt</td><td>409</td><td>2</td><td>10</td><td>2022-07-22</td><td>89</td><td>1</td><td>54</td><td>10</td></tr><tr><td>52173111</td><td>Barossa Valley Winemaker 3 Bedroom Tanunda Cottage</td><td>422357766</td><td>Brett</td><td>Tanunda</td><td>-3452254</td><td>13895537</td><td>Entire home/apt</td><td>332</td><td>2</td><td>28</td><td>2022-09-17</td><td>228</td><td>1</td><td>163</td><td>27</td></tr><tr><td>52195885</td><td>Complementary Bacon &amp; Egg provisions provided :)</td><td>285235468</td><td>Kate</td><td>Tanunda</td><td>-34528956</td><td>138952384</td><td>Entire home/apt</td><td>289</td><td>2</td><td>41</td><td>2022-08-24</td><td>342</td><td>1</td><td>124</td><td>41</td></tr><tr><td>52293256</td><td>Kiron - Cottage in Kapunda, gateway to the Barossa</td><td>78037905</td><td>Steph</td><td>Kapunda</td><td>-34338912</td><td>138910224</td><td>Entire home/apt</td><td>160</td><td>2</td><td>23</td><td>2022-05-07</td><td>202</td><td>2</td><td>87</td><td>23</td></tr><tr><td>52410760</td><td>The Winemakers - Greenock</td><td>11027064</td><td>Wyndham</td><td>Greenock</td><td>-3445884</td><td>13893141</td><td>Entire home/apt</td><td>320</td><td>1</td><td>40</td><td>2022-09-11</td><td>353</td><td>2</td><td>72</td><td>40</td></tr><tr><td>52482939</td><td>Wilsford House - Barossa History &amp; Modern Elegance</td><td>424812770</td><td>Melissa</td><td>Lyndoch</td><td>-3458893</td><td>13887763</td><td>Entire home/apt</td><td>800</td><td>2</td><td>3</td><td>2022-04-17</td><td>47</td><td>1</td><td>328</td><td>3</td></tr><tr><td>52866873</td><td>Escape to the country - ‘The Winemakers Bolthole’</td><td>11027064</td><td>Wyndham</td><td>Greenock</td><td>-3445872</td><td>13892955</td><td>Entire home/apt</td><td>330</td><td>1</td><td>6</td><td>2022-07-31</td><td>69</td><td>2</td><td>70</td><td>6</td></tr><tr><td>52923843</td><td>Benbullen Retreat</td><td>255507745</td><td>Janine</td><td>Angaston</td><td>-3454581</td><td>13902852</td><td>Entire home/apt</td><td>1886</td><td>2</td><td>3</td><td>2022-06-05</td><td>50</td><td>2</td><td>300</td><td>3</td></tr><tr><td>52941561</td><td>Unique Cottages Gawler-2 bedroom Settlers Cottage</td><td>52911779</td><td>Jacqui</td><td>Buchfelde</td><td>-3460709</td><td>13874812</td><td>Entire home/apt</td><td>271</td><td>1</td><td>3</td><td>2022-06-10</td><td>39</td><td>2</td><td>1</td><td>3</td></tr><tr><td>53055342</td><td>1 Small Batch Accommodation</td><td>326577506</td><td>Jon</td><td>Springton</td><td>-3470667</td><td>13908884</td><td>Entire home/apt</td><td>150</td><td>1</td><td>51</td><td>2022-09-04</td><td>490</td><td>2</td><td>64</td><td>51</td></tr><tr><td>53068838</td><td>1858 Barossa Accommodation entire farmhouse.</td><td>164905660</td><td>Melissa-Jane</td><td>Moculta</td><td>-3445957</td><td>1391106</td><td>Entire home/apt</td><td>837</td><td>2</td><td>22</td><td>2022-09-18</td><td>237</td><td>1</td><td>242</td><td>22</td></tr><tr><td>53101008</td><td>Barossa Breakaway</td><td>429874958</td><td>Matthew</td><td>Tanunda</td><td>-3452978</td><td>13895177</td><td>Entire home/apt</td><td>280</td><td>2</td><td>18</td><td>2022-09-18</td><td>196</td><td>1</td><td>120</td><td>18</td></tr><tr><td>53111469</td><td>BIRCHWOOD ON BRIDGE</td><td>78710746</td><td>Emma</td><td>Tanunda</td><td>-34519</td><td>13896138</td><td>Entire home/apt</td><td>464</td><td>2</td><td>42</td><td>2022-09-18</td><td>470</td><td>1</td><td>271</td><td>42</td></tr><tr><td>53157588</td><td>4 Bedroom Barossa Home with Large Garden and Pool</td><td>175822582</td><td>Josh</td><td>Light Pass</td><td>-3446445</td><td>13902354</td><td>Entire home/apt</td><td>895</td><td>2</td><td>6</td><td>2022-08-21</td><td>114</td><td>1</td><td>134</td><td>6</td></tr><tr><td>53207344</td><td>Hide away or enjoy the nearby Barossa</td><td>430748967</td><td>Trent</td><td>Tanunda</td><td>-3452294</td><td>13895382</td><td>Entire home/apt</td><td>253</td><td>2</td><td>17</td><td>2022-09-18</td><td>246</td><td>1</td><td>318</td><td>17</td></tr><tr><td>53245474</td><td>&quot;Topp House&quot; Retreat Barossa</td><td>431071310</td><td>Jessica</td><td>Bethany</td><td>-3453872</td><td>13896921</td><td>Entire home/apt</td><td>217</td><td>1</td><td>43</td><td>2022-09-20</td><td>581</td><td>1</td><td>330</td><td>43</td></tr><tr><td>53246772</td><td>Unique Cottages-Gawler Lovely 3 bedroom</td><td>52911779</td><td>Jacqui</td><td>Kalbeeba</td><td>-3460921</td><td>13875077</td><td>Entire home/apt</td><td>262</td><td>4</td><td>2</td><td>2022-01-07</td><td>22</td><td>2</td><td>55</td><td>2</td></tr><tr><td>53282576</td><td>Adorable country unit minutes from the Barossa....</td><td>44703607</td><td>Sue</td><td>Kalbeeba</td><td>-3462527</td><td>13875143</td><td>Entire home/apt</td><td>145</td><td>1</td><td>29</td><td>2022-09-15</td><td>284</td><td>1</td><td>339</td><td>29</td></tr><tr><td>53368442</td><td>Gawler Townhouses 1b</td><td>38878329</td><td>Andrew</td><td>Concordia</td><td>-3459412</td><td>13874956</td><td>Entire home/apt</td><td>196</td><td>1</td><td>12</td><td>2022-08-09</td><td>120</td><td>6</td><td>305</td><td>12</td></tr><tr><td>53498238</td><td>2 Small Batch Accommodation</td><td>326577506</td><td>Jon</td><td>Springton</td><td>-3470765</td><td>13908727</td><td>Entire home/apt</td><td>150</td><td>1</td><td>44</td><td>2022-09-04</td><td>447</td><td>2</td><td>66</td><td>44</td></tr><tr><td>53597878</td><td>Back bungalow</td><td>27083172</td><td>Nick</td><td>Tanunda</td><td>-34530572</td><td>138949776</td><td>Entire home/apt</td><td>176</td><td>1</td><td>76</td><td>2022-09-06</td><td>817</td><td>2</td><td>109</td><td>76</td></tr><tr><td>53817822</td><td>Spacious home in the heart of the Barossa!</td><td>223639320</td><td>Jane</td><td>Nuriootpa</td><td>-3447271</td><td>13899197</td><td>Private room</td><td>92</td><td>1</td><td>24</td><td>2022-08-29</td><td>272</td><td>1</td><td>327</td><td>24</td></tr><tr><td>54151696</td><td>Quiet Rural Retreat in beautiful wine country</td><td>439026671</td><td>Kate</td><td>Mount Crawford</td><td>-3472948</td><td>13896463</td><td>Entire home/apt</td><td>174</td><td>2</td><td>18</td><td>2022-09-05</td><td>394</td><td>1</td><td>320</td><td>18</td></tr><tr><td>54187049</td><td>The Red Door @ Barossa Valley ★Vineyard View★</td><td>439331891</td><td>Emma&amp;Roger</td><td>Nuriootpa</td><td>-3447056</td><td>1389668</td><td>Entire home/apt</td><td>413</td><td>2</td><td>7</td><td>2022-08-08</td><td>108</td><td>8</td><td>58</td><td>7</td></tr><tr><td>542934522374568605</td><td>Ultimate Barossa Retreats massages, facials, relax</td><td>9380091</td><td>Kym</td><td>Tanunda</td><td>-3452691</td><td>13895414</td><td>Entire home/apt</td><td>300</td><td>2</td><td>0</td><td>NULL</td><td>NULL</td><td>17</td><td>6</td><td>0</td></tr><tr><td>563854793233301758</td><td>2 Bedroom Family Cottage - Sleeps up to 6</td><td>10421165</td><td>Mark And Fiona</td><td>Lyndoch</td><td>-3460339</td><td>13888237</td><td>Entire home/apt</td><td>209</td><td>2</td><td>7</td><td>2022-08-16</td><td>171</td><td>2</td><td>295</td><td>7</td></tr><tr><td>597299948635932099</td><td>Coachman's Cottage  (entire 2 Bedroom Cottage)</td><td>383527612</td><td>Jean-Claude</td><td>Kapunda</td><td>-3423344</td><td>13897347</td><td>Entire home/apt</td><td>986</td><td>1</td><td>0</td><td>NULL</td><td>NULL</td><td>7</td><td>341</td><td>0</td></tr><tr><td>598893796161066227</td><td>Sierra Madre - Idyllic stay in the heart of town.</td><td>91611833</td><td>Shannon</td><td>Tanunda</td><td>-34525080</td><td>138955568</td><td>Entire home/apt</td><td>493</td><td>2</td><td>25</td><td>2022-09-03</td><td>484</td><td>1</td><td>281</td><td>25</td></tr><tr><td>610466336457949581</td><td>McGill Vineyard Barossa</td><td>428181353</td><td>Tita</td><td>Penrice</td><td>-3448698</td><td>13903345</td><td>Entire home/apt</td><td>283</td><td>2</td><td>10</td><td>2022-09-09</td><td>250</td><td>1</td><td>321</td><td>10</td></tr><tr><td>611369443768980724</td><td>Neat &amp; Tidy Home with Private Entertaining Area</td><td>455612017</td><td>Stacey</td><td>Angaston</td><td>-34508908</td><td>139043568</td><td>Entire home/apt</td><td>250</td><td>2</td><td>2</td><td>2022-07-08</td><td>59</td><td>1</td><td>143</td><td>2</td></tr><tr><td>622557982255835128</td><td>Camping with a little luxury</td><td>344402367</td><td>Lisa</td><td>Concordia</td><td>-34590872</td><td>138764944</td><td>Entire home/apt</td><td>110</td><td>1</td><td>4</td><td>2022-08-27</td><td>110</td><td>1</td><td>31</td><td>4</td></tr><tr><td>623438660532088604</td><td>Tanunda Abode - Two BR, Two Bath</td><td>27555575</td><td>Lisa</td><td>Tanunda</td><td>-3452669</td><td>13895563</td><td>Entire home/apt</td><td>315</td><td>2</td><td>12</td><td>2022-09-17</td><td>486</td><td>1</td><td>238</td><td>12</td></tr><tr><td>625072901481223153</td><td>Gorgeous stone cottage; stay &amp; explore the Barossa</td><td>63139941</td><td>Charlotte</td><td>Angaston</td><td>-3450005</td><td>13904258</td><td>Entire home/apt</td><td>226</td><td>2</td><td>15</td><td>2022-09-18</td><td>437</td><td>1</td><td>337</td><td>15</td></tr><tr><td>634520727307763774</td><td>Mattner House Family Vacation Resort with Alpacas</td><td>460856186</td><td>Awesome</td><td>Altona</td><td>-3458813</td><td>13893308</td><td>Entire home/apt</td><td>1603</td><td>1</td><td>1</td><td>2022-09-04</td><td>1</td><td>4</td><td>327</td><td>1</td></tr><tr><td>637886639776162642</td><td>Deluxe Queen Room</td><td>461601857</td><td>The Wine</td><td>Tanunda</td><td>-3451565</td><td>13897143</td><td>Entire home/apt</td><td>227</td><td>1</td><td>3</td><td>2022-09-03</td><td>136</td><td>7</td><td>333</td><td>3</td></tr><tr><td>637906590837702599</td><td>Deluxe Twin Room</td><td>461601857</td><td>The Wine</td><td>Tanunda</td><td>-34515</td><td>13897133</td><td>Entire home/apt</td><td>244</td><td>1</td><td>0</td><td>NULL</td><td>NULL</td><td>7</td><td>344</td><td>0</td></tr><tr><td>637911090164505078</td><td>Double Room</td><td>461601857</td><td>The Wine</td><td>Tanunda</td><td>-345141</td><td>13897297</td><td>Entire home/apt</td><td>237</td><td>1</td><td>0</td><td>NULL</td><td>NULL</td><td>7</td><td>304</td><td>0</td></tr><tr><td>637920461053069878</td><td>Superior Queen Room</td><td>461601857</td><td>The Wine</td><td>Tanunda</td><td>-3451431</td><td>13897142</td><td>Entire home/apt</td><td>284</td><td>1</td><td>3</td><td>2022-09-02</td><td>176</td><td>7</td><td>344</td><td>3</td></tr><tr><td>637922201318817861</td><td>Superior Twin Room</td><td>461601857</td><td>The Wine</td><td>Tanunda</td><td>-3451436</td><td>13897158</td><td>Entire home/apt</td><td>247</td><td>1</td><td>0</td><td>NULL</td><td>NULL</td><td>7</td><td>331</td><td>0</td></tr><tr><td>637928149292994175</td><td>Accessible Room</td><td>461601857</td><td>The Wine</td><td>Tanunda</td><td>-345149</td><td>13897312</td><td>Entire home/apt</td><td>219</td><td>1</td><td>0</td><td>NULL</td><td>NULL</td><td>7</td><td>329</td><td>0</td></tr><tr><td>637931106243766297</td><td>Family Room</td><td>461601857</td><td>The Wine</td><td>Tanunda</td><td>-345135</td><td>13897279</td><td>Entire home/apt</td><td>296</td><td>1</td><td>2</td><td>2022-06-27</td><td>67</td><td>7</td><td>349</td><td>2</td></tr><tr><td>642268024740404371</td><td>Charming cottage in Angaston</td><td>461929112</td><td>Marilyn And Adam</td><td>Angaston</td><td>-345009</td><td>13905192</td><td>Entire home/apt</td><td>269</td><td>2</td><td>9</td><td>2022-09-18</td><td>314</td><td>1</td><td>326</td><td>9</td></tr><tr><td>646541825645212790</td><td>‘Apton Field’\n2 Br Cottage in the Barossa Valley</td><td>234210445</td><td>Song</td><td>Flaxman Valley</td><td>-3465128</td><td>1390623</td><td>Entire home/apt</td><td>190</td><td>2</td><td>5</td><td>2022-09-18</td><td>169</td><td>1</td><td>356</td><td>5</td></tr><tr><td>650373014543141159</td><td>Cosy Barossa Getaway - Beautiful, 3BR Retreat</td><td>149391451</td><td>Gingerbread-Haus</td><td>Tanunda</td><td>-345354560</td><td>13895152</td><td>Entire home/apt</td><td>226</td><td>2</td><td>7</td><td>2022-08-28</td><td>313</td><td>1</td><td>12</td><td>7</td></tr><tr><td>657633783007400043</td><td>Rocky House Pergola Resort</td><td>460856186</td><td>Awesome</td><td>Altona</td><td>-3459342</td><td>1389275</td><td>Entire home/apt</td><td>1021</td><td>1</td><td>3</td><td>2022-09-11</td><td>125</td><td>4</td><td>329</td><td>3</td></tr><tr><td>666183097301109965</td><td>Kraft Vintage House</td><td>460856186</td><td>Awesome</td><td>Altona</td><td>-3457409</td><td>13894291</td><td>Entire home/apt</td><td>891</td><td>1</td><td>3</td><td>2022-08-27</td><td>134</td><td>4</td><td>303</td><td>3</td></tr><tr><td>668396960497325094</td><td>Chateau Yaldara House</td><td>460856186</td><td>Awesome</td><td>Lyndoch</td><td>-3457667</td><td>138875</td><td>Entire home/apt</td><td>1367</td><td>1</td><td>1</td><td>2022-09-04</td><td>1</td><td>4</td><td>66</td><td>1</td></tr><tr><td>674136485566649262</td><td>Barossa on Sturt</td><td>462115682</td><td>Jane</td><td>Angaston</td><td>-3450535</td><td>13904759</td><td>Entire home/apt</td><td>330</td><td>1</td><td>7</td><td>2022-09-18</td><td>457</td><td>1</td><td>318</td><td>7</td></tr><tr><td>674946640582232212</td><td>Stoneleigh Cottage 1 - 2 night</td><td>88080137</td><td>Georgie</td><td>Angaston</td><td>-3449909</td><td>13904328</td><td>Entire home/apt</td><td>220</td><td>2</td><td>0</td><td>NULL</td><td>NULL</td><td>2</td><td>257</td><td>0</td></tr><tr><td>674946704428630052</td><td>Stoneleigh Cottage 2 - 2 night</td><td>88080137</td><td>Georgie</td><td>Angaston</td><td>-3450047</td><td>13904146</td><td>Entire home/apt</td><td>240</td><td>2</td><td>2</td><td>2022-09-11</td><td>136</td><td>2</td><td>294</td><td>2</td></tr><tr><td>679330074770382060</td><td>Spacious first floor just for you! Gawler SA</td><td>124017088</td><td>Michelle</td><td>Buchfelde</td><td>-34600043935694850</td><td>13873399348592640</td><td>Private room</td><td>75</td><td>1</td><td>4</td><td>2022-09-18</td><td>226</td><td>1</td><td>344</td><td>4</td></tr><tr><td>681601688514895701</td><td>Historic Adelaide Hills Beauty</td><td>472161981</td><td>Heather</td><td>Mount Pleasant</td><td>-348093984</td><td>1390106368</td><td>Entire home/apt</td><td>1105</td><td>1</td><td>0</td><td>NULL</td><td>NULL</td><td>6</td><td>365</td><td>0</td></tr><tr><td>685039112890901249</td><td>Horse Side Tiny House</td><td>154813436</td><td>Tiny Away</td><td>Kapunda</td><td>-3434379</td><td>13890676</td><td>Entire home/apt</td><td>191</td><td>1</td><td>0</td><td>NULL</td><td>NULL</td><td>1</td><td>47</td><td>0</td></tr><tr><td>692241142898358266</td><td>Situated in the beautiful Barossa Valley</td><td>474741294</td><td>Carl</td><td>Lyndoch</td><td>-3460035</td><td>13888431</td><td>Entire home/apt</td><td>175</td><td>2</td><td>0</td><td>NULL</td><td>NULL</td><td>1</td><td>298</td><td>0</td></tr><tr><td>701030563032420807</td><td>Ferment Suite - Hewitson Guest Suite</td><td>402141220</td><td>Hewitson Winery</td><td>Tanunda</td><td>-3449629</td><td>1389778</td><td>Entire home/apt</td><td>343</td><td>1</td><td>1</td><td>2022-09-11</td><td>1</td><td>4</td><td>345</td><td>1</td></tr><tr><td>702031267609659440</td><td>Comfy Studio 3 @ Blickinstal Barossa Valley Retreat</td><td>439331891</td><td>Emma&amp;Roger</td><td>Bethany</td><td>-3455496</td><td>13897924</td><td>Entire home/apt</td><td>115</td><td>1</td><td>0</td><td>NULL</td><td>NULL</td><td>8</td><td>148</td><td>0</td></tr><tr><td>703395754090693752</td><td>Adorable Lodge 1 @ Blickinstal Retreat</td><td>439331891</td><td>Emma&amp;Roger</td><td>Bethany</td><td>-3455427</td><td>13897873</td><td>Entire home/apt</td><td>138</td><td>1</td><td>0</td><td>NULL</td><td>NULL</td><td>8</td><td>143</td><td>0</td></tr><tr><td>703454945429923296</td><td>Vineyard View | Villa @ Blickinstal Retreat</td><td>439331891</td><td>Emma&amp;Roger</td><td>Bethany</td><td>-3455355</td><td>138978</td><td>Entire home/apt</td><td>202</td><td>1</td><td>0</td><td>NULL</td><td>NULL</td><td>8</td><td>150</td><td>0</td></tr><tr><td>703872734491160951</td><td>Adorable Lodge 2 @ Blickinstal Retreat</td><td>439331891</td><td>Emma&amp;Roger</td><td>Bethany</td><td>-3455361</td><td>1389776</td><td>Entire home/apt</td><td>138</td><td>1</td><td>0</td><td>NULL</td><td>NULL</td><td>8</td><td>135</td><td>0</td></tr><tr><td>703873092978064872</td><td>Comfy Studio 4 @ Blickinstal Barossa Valley Retreat</td><td>439331891</td><td>Emma&amp;Roger</td><td>Bethany</td><td>-3455489</td><td>13897899</td><td>Entire home/apt</td><td>115</td><td>1</td><td>0</td><td>NULL</td><td>NULL</td><td>8</td><td>122</td><td>0</td></tr><tr><td>703873217398549559</td><td>Comfy Studio 5 @ Blickinstal Barossa Valley Retreat</td><td>439331891</td><td>Emma&amp;Roger</td><td>Bethany</td><td>-3455286</td><td>13897781</td><td>Entire home/apt</td><td>115</td><td>1</td><td>0</td><td>NULL</td><td>NULL</td><td>8</td><td>135</td><td>0</td></tr><tr><td>703873326508107679</td><td>Comfy Studio 6 @ Blickinstal Barossa Valley Retreat</td><td>439331891</td><td>Emma&amp;Roger</td><td>Bethany</td><td>-3455305</td><td>13897919</td><td>Entire home/apt</td><td>115</td><td>1</td><td>0</td><td>NULL</td><td>NULL</td><td>8</td><td>136</td><td>0</td></tr><tr><td>706793228615597287</td><td>The Winemaker's Haus</td><td>175722042</td><td>Alex</td><td>Tanunda</td><td>-345354560</td><td>13895152</td><td>Entire home/apt</td><td>223</td><td>2</td><td>0</td><td>NULL</td><td>NULL</td><td>1</td><td>198</td><td>0</td></tr><tr><td>710030719091093922</td><td>A perfect winery weekend-2BR, fireplace, shops!</td><td>417586028</td><td>Yannie Haus</td><td>Tanunda</td><td>-3452638</td><td>13895469</td><td>Entire home/apt</td><td>314</td><td>2</td><td>0</td><td>NULL</td><td>NULL</td><td>1</td><td>4</td><td>0</td></tr><tr><td>710524974978038346</td><td>Private room in historic homestead</td><td>472161981</td><td>Heather</td><td>Mount Pleasant</td><td>-3480901</td><td>13900962</td><td>Private room</td><td>235</td><td>1</td><td>0</td><td>NULL</td><td>NULL</td><td>6</td><td>365</td><td>0</td></tr><tr><td>710534038004136972</td><td>2 double bedrooms in historic villa</td><td>472161981</td><td>Heather</td><td>Mount Pleasant</td><td>-3481041</td><td>13900875</td><td>Shared room</td><td>288</td><td>1</td><td>0</td><td>NULL</td><td>NULL</td><td>6</td><td>365</td><td>0</td></tr><tr><td>710539443193386772</td><td>6 guests in 3 double bedroom historic house</td><td>472161981</td><td>Heather</td><td>Mount Pleasant</td><td>-3480939</td><td>13901149</td><td>Private room</td><td>432</td><td>1</td><td>0</td><td>NULL</td><td>NULL</td><td>6</td><td>365</td><td>0</td></tr><tr><td>710541909725452985</td><td>10 guest stay in historic homestead</td><td>472161981</td><td>Heather</td><td>Mount Pleasant</td><td>-348083</td><td>13900988</td><td>Private room</td><td>720</td><td>1</td><td>0</td><td>NULL</td><td>NULL</td><td>6</td><td>365</td><td>0</td></tr><tr><td>710542365151976842</td><td>8 guests , 4 double rooms in historic house</td><td>472161981</td><td>Heather</td><td>Mount Pleasant</td><td>-3480858</td><td>13901167</td><td>Private room</td><td>576</td><td>1</td><td>0</td><td>NULL</td><td>NULL</td><td>6</td><td>365</td><td>0</td></tr><tr><td>715277584798529221</td><td>Triple Creek Glamping Tent amongst Mataro Vineyard</td><td>396529571</td><td>Dorham</td><td>Marananga</td><td>-344990304</td><td>1389124608</td><td>Entire home/apt</td><td>303</td><td>1</td><td>0</td><td>NULL</td><td>NULL</td><td>2</td><td>365</td><td>0</td></tr></table>"
                    },
                    "metadata": {}
                }
            ],
            "execution_count": 133
        },
        {
            "cell_type": "markdown",
            "source": [
                "**<u>\\-Summary Statistics of the data properties rent price</u>**"
            ],
            "metadata": {
                "language": "sql",
                "azdata_cell_guid": "9759fdce-2c3a-47f3-805b-471515583716"
            },
            "attachments": {}
        },
        {
            "cell_type": "code",
            "source": [
                "--SUMMARY STATISTICS OF RENT PRICE.  \r\n",
                "SELECT SUM(price) as sum_price,\r\n",
                "AVG(price) as mean_price,\r\n",
                "MAX(price) as max_price,\r\n",
                "MIN(price) as min_price,\r\n",
                "VAR(price) as variance_price,\r\n",
                "STDEV(price) as standart_dev_price,\r\n",
                "MAX(price)- MIN(price) as range_price\r\n",
                "FROM [listings (1)]\r\n",
                ""
            ],
            "metadata": {
                "azdata_cell_guid": "8683c1b4-97cc-47c4-89ee-ea3252b5c92e",
                "language": "sql",
                "tags": []
            },
            "outputs": [
                {
                    "output_type": "display_data",
                    "data": {
                        "text/html": "(1 row affected)"
                    },
                    "metadata": {}
                },
                {
                    "output_type": "display_data",
                    "data": {
                        "text/html": "Total execution time: 00:00:00.014"
                    },
                    "metadata": {}
                },
                {
                    "output_type": "execute_result",
                    "execution_count": 134,
                    "data": {
                        "application/vnd.dataresource+json": {
                            "schema": {
                                "fields": [
                                    {
                                        "name": "sum_price"
                                    },
                                    {
                                        "name": "mean_price"
                                    },
                                    {
                                        "name": "max_price"
                                    },
                                    {
                                        "name": "min_price"
                                    },
                                    {
                                        "name": "variance_price"
                                    },
                                    {
                                        "name": "standart_dev_price"
                                    },
                                    {
                                        "name": "range_price"
                                    }
                                ]
                            },
                            "data": [
                                {
                                    "0": "111062",
                                    "1": "342",
                                    "2": "2800",
                                    "3": "63",
                                    "4": "91814,76432366318",
                                    "5": "303,0095119359509",
                                    "6": "2737"
                                }
                            ]
                        },
                        "text/html": "<table><tr><th>sum_price</th><th>mean_price</th><th>max_price</th><th>min_price</th><th>variance_price</th><th>standart_dev_price</th><th>range_price</th></tr><tr><td>111062</td><td>342</td><td>2800</td><td>63</td><td>91814,76432366318</td><td>303,0095119359509</td><td>2737</td></tr></table>"
                    },
                    "metadata": {}
                }
            ],
            "execution_count": 134
        },
        {
            "cell_type": "code",
            "source": [
                "--INTERQUATILE RANGE AND MEDIAN OF RENT PRICE \r\n",
                "SELECT TOP(1) price,\r\n",
                "PERCENTILE_CONT(0.25) WITHIN GROUP (ORDER BY price) OVER() AS first_quartile,\r\n",
                "PERCENTILE_CONT(0.5) WITHIN GROUP (ORDER BY price) OVER() AS median_price,\r\n",
                "PERCENTILE_CONT(0.75) WITHIN GROUP (ORDER BY price) OVER() AS third_quartile\r\n",
                "FROM [listings (1)]\r\n",
                "GROUP BY price;"
            ],
            "metadata": {
                "language": "sql",
                "azdata_cell_guid": "05491161-fd03-4dc7-b1b7-75556c71c955",
                "tags": []
            },
            "outputs": [
                {
                    "output_type": "display_data",
                    "data": {
                        "text/html": "(1 row affected)"
                    },
                    "metadata": {}
                },
                {
                    "output_type": "display_data",
                    "data": {
                        "text/html": "Total execution time: 00:00:00.033"
                    },
                    "metadata": {}
                },
                {
                    "output_type": "execute_result",
                    "execution_count": 135,
                    "data": {
                        "application/vnd.dataresource+json": {
                            "schema": {
                                "fields": [
                                    {
                                        "name": "price"
                                    },
                                    {
                                        "name": "first_quartile"
                                    },
                                    {
                                        "name": "median_price"
                                    },
                                    {
                                        "name": "third_quartile"
                                    }
                                ]
                            },
                            "data": [
                                {
                                    "0": "63",
                                    "1": "190,75",
                                    "2": "271,5",
                                    "3": "424,25"
                                }
                            ]
                        },
                        "text/html": "<table><tr><th>price</th><th>first_quartile</th><th>median_price</th><th>third_quartile</th></tr><tr><td>63</td><td>190,75</td><td>271,5</td><td>424,25</td></tr></table>"
                    },
                    "metadata": {}
                }
            ],
            "execution_count": 135
        },
        {
            "cell_type": "markdown",
            "source": [
                "**<u>\\-Frequency table of the properties rent price</u>**"
            ],
            "metadata": {
                "language": "sql",
                "azdata_cell_guid": "7aa8d3be-9a19-46c8-8679-38fcdf2eba81"
            },
            "attachments": {}
        },
        {
            "cell_type": "markdown",
            "source": [
                "**Comments:** As a result, the distribution of the data is right-skewed, with the majority of the values concentrated on the lower end and a few outliers on the higher end. The mean is greater than the median. Additionally, the interquartile range (IQR) is $233.50, indicating that 50% of the data is concentrated between $190.75 and $424.25."
            ],
            "metadata": {
                "language": "sql",
                "azdata_cell_guid": "c2302886-fbff-4c08-b970-13152a99e3a9"
            },
            "attachments": {}
        },
        {
            "cell_type": "code",
            "source": [
                "-- FREQUENCY TABLE OF THE PRICE RENT AIRBNB AT BAROSSA VALLEY.\r\n",
                "WITH frequency_Table AS (\r\n",
                "    SELECT\r\n",
                "      CASE \r\n",
                "        WHEN price < 150 THEN '0-150'\r\n",
                "        WHEN price BETWEEN 151 AND 300 THEN '151-300'\r\n",
                "        WHEN price BETWEEN 301 AND 450 THEN '301-450'\r\n",
                "        WHEN price BETWEEN 451 AND 600 THEN '451-600'\r\n",
                "        WHEN price BETWEEN 601 AND 750 THEN '601-750'\r\n",
                "        WHEN price BETWEEN 751 AND 900 THEN '751-900'\r\n",
                "        WHEN price BETWEEN 901 AND 1050 THEN '901-1050'\r\n",
                "        WHEN price BETWEEN 1051 AND 1200 THEN '1051-1200'\r\n",
                "        WHEN price BETWEEN 1201 AND 1500 THEN '1201-1500'\r\n",
                "        WHEN price > 1500 THEN '>= 1500'\r\n",
                "        ELSE 'Other'\r\n",
                "      END AS price_range,\r\n",
                "        COUNT(*) as frequency\r\n",
                "    FROM [listings (1)]\r\n",
                "    GROUP BY price\r\n",
                ")\r\n",
                "-- IT WAS NOT POSSIBLE SORT THE CREATED RANGE COLUMN ABOVE (price_range) BECAUSE '0-150' IT IS STRING DATA TYPE. SO I CREATED OTHER COLUMN WITH THE CORRECT SORT ORDER.\r\n",
                "SELECT price_range, \r\n",
                "SUM(frequency) as count_freq,\r\n",
                "CASE \r\n",
                "    WHEN price_range = '0-150' THEN 1\r\n",
                "    WHEN price_range = '151-300' THEN 2\r\n",
                "    WHEN price_range = '301-450' THEN 3\r\n",
                "    WHEN price_range = '451-600' THEN 4\r\n",
                "    WHEN price_range = '601-750' THEN 5\r\n",
                "    WHEN price_range = '751-900' THEN 6\r\n",
                "    WHEN price_range = '901-1050' THEN 7\r\n",
                "    WHEN price_range = '1051-1200' THEN 8\r\n",
                "     WHEN price_range = '1201-1500' THEN 9\r\n",
                "    WHEN price_range = '>= 1500' THEN 10\r\n",
                "    ELSE 11\r\n",
                "  END AS sort_order\r\n",
                "FROM frequency_Table\r\n",
                "GROUP BY price_range\r\n",
                "ORDER BY sort_order;"
            ],
            "metadata": {
                "language": "sql",
                "azdata_cell_guid": "9a4f5d37-efd1-4f32-8e8a-94b43ae3e3df",
                "tags": []
            },
            "outputs": [
                {
                    "output_type": "display_data",
                    "data": {
                        "text/html": "(11 rows affected)"
                    },
                    "metadata": {}
                },
                {
                    "output_type": "display_data",
                    "data": {
                        "text/html": "Total execution time: 00:00:00.020"
                    },
                    "metadata": {}
                },
                {
                    "output_type": "execute_result",
                    "execution_count": 136,
                    "data": {
                        "application/vnd.dataresource+json": {
                            "schema": {
                                "fields": [
                                    {
                                        "name": "price_range"
                                    },
                                    {
                                        "name": "count_freq"
                                    },
                                    {
                                        "name": "sort_order"
                                    }
                                ]
                            },
                            "data": [
                                {
                                    "0": "0-150",
                                    "1": "50",
                                    "2": "1"
                                },
                                {
                                    "0": "151-300",
                                    "1": "150",
                                    "2": "2"
                                },
                                {
                                    "0": "301-450",
                                    "1": "59",
                                    "2": "3"
                                },
                                {
                                    "0": "451-600",
                                    "1": "23",
                                    "2": "4"
                                },
                                {
                                    "0": "601-750",
                                    "1": "10",
                                    "2": "5"
                                },
                                {
                                    "0": "751-900",
                                    "1": "13",
                                    "2": "6"
                                },
                                {
                                    "0": "901-1050",
                                    "1": "4",
                                    "2": "7"
                                },
                                {
                                    "0": "1051-1200",
                                    "1": "1",
                                    "2": "8"
                                },
                                {
                                    "0": "1201-1500",
                                    "1": "4",
                                    "2": "9"
                                },
                                {
                                    "0": ">= 1500",
                                    "1": "4",
                                    "2": "10"
                                },
                                {
                                    "0": "Other",
                                    "1": "6",
                                    "2": "11"
                                }
                            ]
                        },
                        "text/html": "<table><tr><th>price_range</th><th>count_freq</th><th>sort_order</th></tr><tr><td>0-150</td><td>50</td><td>1</td></tr><tr><td>151-300</td><td>150</td><td>2</td></tr><tr><td>301-450</td><td>59</td><td>3</td></tr><tr><td>451-600</td><td>23</td><td>4</td></tr><tr><td>601-750</td><td>10</td><td>5</td></tr><tr><td>751-900</td><td>13</td><td>6</td></tr><tr><td>901-1050</td><td>4</td><td>7</td></tr><tr><td>1051-1200</td><td>1</td><td>8</td></tr><tr><td>1201-1500</td><td>4</td><td>9</td></tr><tr><td>&gt;= 1500</td><td>4</td><td>10</td></tr><tr><td>Other</td><td>6</td><td>11</td></tr></table>"
                    },
                    "metadata": {}
                }
            ],
            "execution_count": 136
        },
        {
            "cell_type": "markdown",
            "source": [
                "**Comments:** In summary, the analysis of the price distribution of properties in <mark><mark><mark>Baro</mark></mark></mark>ssa Valley suggests a wide availability of fair-cost options for accommodation. The data shows that the majority of properties, 79.93%, have a price range that falls between $0 to $450 per night, with 46% of the properties having a price range between $150 to $300 per night. The average price of rent in <mark><mark><mark><mark><mark>Baro</mark></mark></mark></mark></mark>ssa Valley is $342 per night, which is considered as a fair price for accommodation. This indicates that <mark><mark><mark><mark><mark><mark><mark><mark><mark>Baro</mark></mark></mark></mark></mark></mark></mark></mark></mark>ssa Valley is a destination where visitors can find a variety of fair-cost options for accommodation and budget travelers can also find suitable options. Also, it is worth noting that while there are only a few properties that have a high cost, costing more than $1500 per night, they should not be considered as typical prices in <mark><mark><mark><mark><mark><mark>Ba<mark>ro</mark></mark></mark></mark></mark></mark></mark><mark>ssa</mark> Valley."
            ],
            "metadata": {
                "language": "sql",
                "azdata_cell_guid": "41370a52-9c06-44b1-96d2-fdf0b677a900"
            },
            "attachments": {}
        },
        {
            "cell_type": "markdown",
            "source": [
                "**3\\. EXPLORATORY ANALYSIS**"
            ],
            "metadata": {
                "azdata_cell_guid": "3f9d40ed-5a86-4f77-a7c3-ce7e13105577"
            },
            "attachments": {}
        },
        {
            "cell_type": "markdown",
            "source": [
                "**<u>\\- Exploring the best regions for a investment in the Barossa Valley rental market on Airbnb.</u>**"
            ],
            "metadata": {
                "azdata_cell_guid": "d2443d83-b536-45de-8165-2b4536878c9e"
            },
            "attachments": {}
        },
        {
            "cell_type": "markdown",
            "source": [
                "**<u>\\-Count of listings per neighbourhood</u>**"
            ],
            "metadata": {
                "azdata_cell_guid": "4d2c340a-d534-4d56-ada0-93001a9c5eee"
            },
            "attachments": {}
        },
        {
            "cell_type": "code",
            "source": [
                "--INVESTIGATING THE QUANTITY OF LISTINGS PER NEIHGBOURHOOD\r\n",
                "SELECT neighbourhood,\r\n",
                "COUNT(id) as listings_count\r\n",
                "FROM [listings (1)]\r\n",
                "GROUP BY neighbourhood\r\n",
                "ORDER BY listings_count DESC"
            ],
            "metadata": {
                "azdata_cell_guid": "79ed97c8-5bf3-4b3c-a11e-d4fb2cb35dd7",
                "language": "sql",
                "tags": []
            },
            "outputs": [
                {
                    "output_type": "display_data",
                    "data": {
                        "text/html": "(26 rows affected)"
                    },
                    "metadata": {}
                },
                {
                    "output_type": "display_data",
                    "data": {
                        "text/html": "Total execution time: 00:00:00.010"
                    },
                    "metadata": {}
                },
                {
                    "output_type": "execute_result",
                    "execution_count": 137,
                    "data": {
                        "application/vnd.dataresource+json": {
                            "schema": {
                                "fields": [
                                    {
                                        "name": "neighbourhood"
                                    },
                                    {
                                        "name": "listings_count"
                                    }
                                ]
                            },
                            "data": [
                                {
                                    "0": "Tanunda",
                                    "1": "89"
                                },
                                {
                                    "0": "Angaston",
                                    "1": "53"
                                },
                                {
                                    "0": "Lyndoch",
                                    "1": "21"
                                },
                                {
                                    "0": "Nuriootpa",
                                    "1": "17"
                                },
                                {
                                    "0": "Kapunda",
                                    "1": "15"
                                },
                                {
                                    "0": "Buchfelde",
                                    "1": "15"
                                },
                                {
                                    "0": "Marananga",
                                    "1": "14"
                                },
                                {
                                    "0": "Bethany",
                                    "1": "12"
                                },
                                {
                                    "0": "Concordia",
                                    "1": "11"
                                },
                                {
                                    "0": "Mount Crawford",
                                    "1": "8"
                                },
                                {
                                    "0": "Mount Pleasant",
                                    "1": "8"
                                },
                                {
                                    "0": "Springton",
                                    "1": "8"
                                },
                                {
                                    "0": "Williamstown",
                                    "1": "6"
                                },
                                {
                                    "0": "Hewett",
                                    "1": "6"
                                },
                                {
                                    "0": "Moculta",
                                    "1": "5"
                                },
                                {
                                    "0": "Light Pass",
                                    "1": "5"
                                },
                                {
                                    "0": "Penrice",
                                    "1": "5"
                                },
                                {
                                    "0": "Kalbeeba",
                                    "1": "4"
                                },
                                {
                                    "0": "Altona",
                                    "1": "4"
                                },
                                {
                                    "0": "Greenock",
                                    "1": "4"
                                },
                                {
                                    "0": "Eden Valley",
                                    "1": "3"
                                },
                                {
                                    "0": "Flaxman Valley",
                                    "1": "3"
                                },
                                {
                                    "0": "Sandy Creek",
                                    "1": "3"
                                },
                                {
                                    "0": "Gawler River",
                                    "1": "2"
                                },
                                {
                                    "0": "Cockatoo Valley",
                                    "1": "2"
                                },
                                {
                                    "0": "Shea-Oak Log",
                                    "1": "1"
                                }
                            ]
                        },
                        "text/html": "<table><tr><th>neighbourhood</th><th>listings_count</th></tr><tr><td>Tanunda</td><td>89</td></tr><tr><td>Angaston</td><td>53</td></tr><tr><td>Lyndoch</td><td>21</td></tr><tr><td>Nuriootpa</td><td>17</td></tr><tr><td>Kapunda</td><td>15</td></tr><tr><td>Buchfelde</td><td>15</td></tr><tr><td>Marananga</td><td>14</td></tr><tr><td>Bethany</td><td>12</td></tr><tr><td>Concordia</td><td>11</td></tr><tr><td>Mount Crawford</td><td>8</td></tr><tr><td>Mount Pleasant</td><td>8</td></tr><tr><td>Springton</td><td>8</td></tr><tr><td>Williamstown</td><td>6</td></tr><tr><td>Hewett</td><td>6</td></tr><tr><td>Moculta</td><td>5</td></tr><tr><td>Light Pass</td><td>5</td></tr><tr><td>Penrice</td><td>5</td></tr><tr><td>Kalbeeba</td><td>4</td></tr><tr><td>Altona</td><td>4</td></tr><tr><td>Greenock</td><td>4</td></tr><tr><td>Eden Valley</td><td>3</td></tr><tr><td>Flaxman Valley</td><td>3</td></tr><tr><td>Sandy Creek</td><td>3</td></tr><tr><td>Gawler River</td><td>2</td></tr><tr><td>Cockatoo Valley</td><td>2</td></tr><tr><td>Shea-Oak Log</td><td>1</td></tr></table>"
                    },
                    "metadata": {
                        "azdata_chartOptions": {
                            "type": "horizontalBar",
                            "dataDirection": "vertical",
                            "columnsAsLabels": true,
                            "labelFirstColumn": true,
                            "legendPosition": "bottom"
                        }
                    }
                }
            ],
            "execution_count": 137
        },
        {
            "cell_type": "markdown",
            "source": [
                "**<u>\\-Average price per Neighbourhood</u>**"
            ],
            "metadata": {
                "language": "sql",
                "azdata_cell_guid": "a9ad8835-9d72-4015-9aab-36ff43b94f6d"
            },
            "attachments": {}
        },
        {
            "cell_type": "code",
            "source": [
                "--INVESTIGATING THE AVERAGE PRICE AND NUMBER OF PROPERTIES LISTED PER NEIHGBOURHOOD \r\n",
                "SELECT neighbourhood,\r\n",
                "AVG(price) as avg_price,\r\n",
                "count(id) as count_listings\r\n",
                "FROM [listings (1)]\r\n",
                "GROUP BY neighbourhood\r\n",
                "ORDER BY count_listings DESC"
            ],
            "metadata": {
                "language": "sql",
                "azdata_cell_guid": "5eb4fcf7-eb1b-44dc-b803-1ff60e549a18",
                "tags": []
            },
            "outputs": [
                {
                    "output_type": "display_data",
                    "data": {
                        "text/html": "(26 rows affected)"
                    },
                    "metadata": {}
                },
                {
                    "output_type": "display_data",
                    "data": {
                        "text/html": "Total execution time: 00:00:00.030"
                    },
                    "metadata": {}
                },
                {
                    "output_type": "execute_result",
                    "execution_count": 5,
                    "data": {
                        "application/vnd.dataresource+json": {
                            "schema": {
                                "fields": [
                                    {
                                        "name": "neighbourhood"
                                    },
                                    {
                                        "name": "avg_price"
                                    },
                                    {
                                        "name": "count_listings"
                                    }
                                ]
                            },
                            "data": [
                                {
                                    "0": "Tanunda",
                                    "1": "416",
                                    "2": "89"
                                },
                                {
                                    "0": "Angaston",
                                    "1": "313",
                                    "2": "53"
                                },
                                {
                                    "0": "Lyndoch",
                                    "1": "408",
                                    "2": "21"
                                },
                                {
                                    "0": "Nuriootpa",
                                    "1": "275",
                                    "2": "17"
                                },
                                {
                                    "0": "Kapunda",
                                    "1": "448",
                                    "2": "15"
                                },
                                {
                                    "0": "Buchfelde",
                                    "1": "148",
                                    "2": "15"
                                },
                                {
                                    "0": "Marananga",
                                    "1": "426",
                                    "2": "14"
                                },
                                {
                                    "0": "Bethany",
                                    "1": "296",
                                    "2": "12"
                                },
                                {
                                    "0": "Concordia",
                                    "1": "165",
                                    "2": "11"
                                },
                                {
                                    "0": "Mount Crawford",
                                    "1": "202",
                                    "2": "8"
                                },
                                {
                                    "0": "Mount Pleasant",
                                    "1": "472",
                                    "2": "8"
                                },
                                {
                                    "0": "Springton",
                                    "1": "216",
                                    "2": "8"
                                },
                                {
                                    "0": "Williamstown",
                                    "1": "250",
                                    "2": "6"
                                },
                                {
                                    "0": "Hewett",
                                    "1": "257",
                                    "2": "6"
                                },
                                {
                                    "0": "Moculta",
                                    "1": "320",
                                    "2": "5"
                                },
                                {
                                    "0": "Light Pass",
                                    "1": "391",
                                    "2": "5"
                                },
                                {
                                    "0": "Penrice",
                                    "1": "261",
                                    "2": "5"
                                },
                                {
                                    "0": "Kalbeeba",
                                    "1": "216",
                                    "2": "4"
                                },
                                {
                                    "0": "Altona",
                                    "1": "913",
                                    "2": "4"
                                },
                                {
                                    "0": "Greenock",
                                    "1": "245",
                                    "2": "4"
                                },
                                {
                                    "0": "Eden Valley",
                                    "1": "181",
                                    "2": "3"
                                },
                                {
                                    "0": "Flaxman Valley",
                                    "1": "217",
                                    "2": "3"
                                },
                                {
                                    "0": "Sandy Creek",
                                    "1": "240",
                                    "2": "3"
                                },
                                {
                                    "0": "Gawler River",
                                    "1": "110",
                                    "2": "2"
                                },
                                {
                                    "0": "Cockatoo Valley",
                                    "1": "502",
                                    "2": "2"
                                },
                                {
                                    "0": "Shea-Oak Log",
                                    "1": "102",
                                    "2": "1"
                                }
                            ]
                        },
                        "text/html": "<table><tr><th>neighbourhood</th><th>avg_price</th><th>count_listings</th></tr><tr><td>Tanunda</td><td>416</td><td>89</td></tr><tr><td>Angaston</td><td>313</td><td>53</td></tr><tr><td>Lyndoch</td><td>408</td><td>21</td></tr><tr><td>Nuriootpa</td><td>275</td><td>17</td></tr><tr><td>Kapunda</td><td>448</td><td>15</td></tr><tr><td>Buchfelde</td><td>148</td><td>15</td></tr><tr><td>Marananga</td><td>426</td><td>14</td></tr><tr><td>Bethany</td><td>296</td><td>12</td></tr><tr><td>Concordia</td><td>165</td><td>11</td></tr><tr><td>Mount Crawford</td><td>202</td><td>8</td></tr><tr><td>Mount Pleasant</td><td>472</td><td>8</td></tr><tr><td>Springton</td><td>216</td><td>8</td></tr><tr><td>Williamstown</td><td>250</td><td>6</td></tr><tr><td>Hewett</td><td>257</td><td>6</td></tr><tr><td>Moculta</td><td>320</td><td>5</td></tr><tr><td>Light Pass</td><td>391</td><td>5</td></tr><tr><td>Penrice</td><td>261</td><td>5</td></tr><tr><td>Kalbeeba</td><td>216</td><td>4</td></tr><tr><td>Altona</td><td>913</td><td>4</td></tr><tr><td>Greenock</td><td>245</td><td>4</td></tr><tr><td>Eden Valley</td><td>181</td><td>3</td></tr><tr><td>Flaxman Valley</td><td>217</td><td>3</td></tr><tr><td>Sandy Creek</td><td>240</td><td>3</td></tr><tr><td>Gawler River</td><td>110</td><td>2</td></tr><tr><td>Cockatoo Valley</td><td>502</td><td>2</td></tr><tr><td>Shea-Oak Log</td><td>102</td><td>1</td></tr></table>"
                    },
                    "metadata": {}
                }
            ],
            "execution_count": 5
        },
        {
            "cell_type": "markdown",
            "source": [
                "**Comments**: The towns of Tanunda and Angaston are the heart of the Barossa Valley region, containing 43.82% of the properties listed in the area, making them an important destination for visitors and potential investors. They offer a wide range of qualitative attributes such as rich history, renowned wine production, delicious food, art, scenic views, festivals, lively community, and a range of accommodation options. Their history, heritage sites, wineries, food, art, and events contribute to the unique and attractive atmosphere of the region. As we can see It has a range of accommodation options available and the region is accessible to everyone. All these attributes make the Barossa Valley region, and particularly the towns of Tanunda and Angaston, a great place to visit, live and invest. Also the average price in Tanunda is 416 dollars and in Angaston is 313 dollars. We have also noticed that regions that are farther away from the central axis of Tanunda-Angaston-Lyndoch have fewer properties available for rent on Airbnb. The average price of those regions such as Cockatoo Valley and Altona, which only have 2 and 4 properties listed respectively, may not be accurate due to the limited quantity of properties. To make our analysis more accurate, we will only consider from now regions that have more than 5 properties listed to provide more accurate occupancy rate and properties under 1500 dollars (atypical price) in order to provide a more reliable average price to each neighbourhood."
            ],
            "metadata": {
                "azdata_cell_guid": "08588699-7ad3-4338-a15d-37a1c3e1e8f0"
            },
            "attachments": {}
        },
        {
            "cell_type": "markdown",
            "source": [
                "**<u>\\-Resonable average price per Neighbourhood(Exclude Outliers)</u>**"
            ],
            "metadata": {
                "azdata_cell_guid": "a1c5070e-ac0e-42f6-bdcf-0eb35398e30c"
            },
            "attachments": {}
        },
        {
            "cell_type": "code",
            "source": [
                "-- NUMBER OF PROPERTIES LISTED PER NEIHGBOURHOOD(> 5 PROPERTIES) AND PRICE (< $1500)\r\n",
                "SELECT neighbourhood,\r\n",
                "AVG(price) as avg_price,\r\n",
                "count(id) as count_listings\r\n",
                "FROM [listings (1)]\r\n",
                "WHERE price < 1500\r\n",
                "GROUP BY neighbourhood\r\n",
                "HAVING count(id) > 5\r\n",
                "ORDER BY count_listings DESC\r\n",
                ""
            ],
            "metadata": {
                "azdata_cell_guid": "bee60f22-050b-4472-a5dc-2a6210f6fae7",
                "language": "sql",
                "tags": []
            },
            "outputs": [
                {
                    "output_type": "display_data",
                    "data": {
                        "text/html": "(14 rows affected)"
                    },
                    "metadata": {}
                },
                {
                    "output_type": "display_data",
                    "data": {
                        "text/html": "Total execution time: 00:00:00.010"
                    },
                    "metadata": {}
                },
                {
                    "output_type": "execute_result",
                    "execution_count": 139,
                    "data": {
                        "application/vnd.dataresource+json": {
                            "schema": {
                                "fields": [
                                    {
                                        "name": "neighbourhood"
                                    },
                                    {
                                        "name": "avg_price"
                                    },
                                    {
                                        "name": "count_listings"
                                    }
                                ]
                            },
                            "data": [
                                {
                                    "0": "Tanunda",
                                    "1": "359",
                                    "2": "86"
                                },
                                {
                                    "0": "Angaston",
                                    "1": "283",
                                    "2": "52"
                                },
                                {
                                    "0": "Lyndoch",
                                    "1": "408",
                                    "2": "21"
                                },
                                {
                                    "0": "Nuriootpa",
                                    "1": "275",
                                    "2": "17"
                                },
                                {
                                    "0": "Buchfelde",
                                    "1": "148",
                                    "2": "15"
                                },
                                {
                                    "0": "Marananga",
                                    "1": "426",
                                    "2": "14"
                                },
                                {
                                    "0": "Kapunda",
                                    "1": "373",
                                    "2": "14"
                                },
                                {
                                    "0": "Bethany",
                                    "1": "296",
                                    "2": "12"
                                },
                                {
                                    "0": "Concordia",
                                    "1": "165",
                                    "2": "11"
                                },
                                {
                                    "0": "Mount Crawford",
                                    "1": "202",
                                    "2": "8"
                                },
                                {
                                    "0": "Mount Pleasant",
                                    "1": "472",
                                    "2": "8"
                                },
                                {
                                    "0": "Springton",
                                    "1": "216",
                                    "2": "8"
                                },
                                {
                                    "0": "Williamstown",
                                    "1": "250",
                                    "2": "6"
                                },
                                {
                                    "0": "Hewett",
                                    "1": "257",
                                    "2": "6"
                                }
                            ]
                        },
                        "text/html": "<table><tr><th>neighbourhood</th><th>avg_price</th><th>count_listings</th></tr><tr><td>Tanunda</td><td>359</td><td>86</td></tr><tr><td>Angaston</td><td>283</td><td>52</td></tr><tr><td>Lyndoch</td><td>408</td><td>21</td></tr><tr><td>Nuriootpa</td><td>275</td><td>17</td></tr><tr><td>Buchfelde</td><td>148</td><td>15</td></tr><tr><td>Marananga</td><td>426</td><td>14</td></tr><tr><td>Kapunda</td><td>373</td><td>14</td></tr><tr><td>Bethany</td><td>296</td><td>12</td></tr><tr><td>Concordia</td><td>165</td><td>11</td></tr><tr><td>Mount Crawford</td><td>202</td><td>8</td></tr><tr><td>Mount Pleasant</td><td>472</td><td>8</td></tr><tr><td>Springton</td><td>216</td><td>8</td></tr><tr><td>Williamstown</td><td>250</td><td>6</td></tr><tr><td>Hewett</td><td>257</td><td>6</td></tr></table>"
                    },
                    "metadata": {
                        "azdata_chartOptions": {
                            "type": "horizontalBar",
                            "dataDirection": "vertical",
                            "columnsAsLabels": true,
                            "labelFirstColumn": false,
                            "legendPosition": "top"
                        }
                    }
                }
            ],
            "execution_count": 139
        },
        {
            "cell_type": "markdown",
            "source": [
                "**Comments:** The average value per neighbourhood can be affected by the number of listings in each neighbourhood as well as by outliers, such as properties with unusually high nightly rates. These high-priced properties do not accurately represent the average price and are not representative of the neighbourhood as a whole. To provide a more consistent average price per neighbourhood, we excluded properties with a nightly rate greater than $1500."
            ],
            "metadata": {
                "language": "sql",
                "azdata_cell_guid": "10d8ce3b-7b62-4d31-83e5-6f75a80aa69d"
            },
            "attachments": {}
        },
        {
            "cell_type": "markdown",
            "source": [
                "**<u>\\-Occupation rate in each neighbourhood of Barossa Valley (Exclude outliers)</u>**"
            ],
            "metadata": {
                "language": "sql",
                "azdata_cell_guid": "3af86b6e-4238-4d79-87b6-a1e90ead52fc"
            },
            "attachments": {}
        },
        {
            "cell_type": "code",
            "source": [
                "--AVERAGE OCCUPATION RATE PER NEIGHBOURHOOD(> 5 properties)\r\n",
                "WITH occupancy AS (\r\n",
                "    SELECT neighbourhood,\r\n",
                "    (365-AVG(availability_365)) as occupated_days\r\n",
                "    FROM [listings (1)]\r\n",
                "    GROUP BY neighbourhood\r\n",
                "    HAVING count(id) > 5\r\n",
                "    )\r\n",
                "SELECT neighbourhood,\r\n",
                "ROUND((occupated_days/CAST(365 as float)*100),2) as occupancy_rate\r\n",
                "FROM occupancy\r\n",
                "ORDER BY occupancy_rate DESC"
            ],
            "metadata": {
                "language": "sql",
                "azdata_cell_guid": "3cab5cf4-244f-4781-8d25-410534ff9a29",
                "tags": []
            },
            "outputs": [
                {
                    "output_type": "display_data",
                    "data": {
                        "text/html": "(14 rows affected)"
                    },
                    "metadata": {}
                },
                {
                    "output_type": "display_data",
                    "data": {
                        "text/html": "Total execution time: 00:00:00.013"
                    },
                    "metadata": {}
                },
                {
                    "output_type": "execute_result",
                    "execution_count": 140,
                    "data": {
                        "application/vnd.dataresource+json": {
                            "schema": {
                                "fields": [
                                    {
                                        "name": "neighbourhood"
                                    },
                                    {
                                        "name": "occupancy_rate"
                                    }
                                ]
                            },
                            "data": [
                                {
                                    "0": "Springton",
                                    "1": "74,79"
                                },
                                {
                                    "0": "Bethany",
                                    "1": "57,81"
                                },
                                {
                                    "0": "Nuriootpa",
                                    "1": "51,51"
                                },
                                {
                                    "0": "Tanunda",
                                    "1": "49,32"
                                },
                                {
                                    "0": "Buchfelde",
                                    "1": "37,53"
                                },
                                {
                                    "0": "Angaston",
                                    "1": "36,16"
                                },
                                {
                                    "0": "Concordia",
                                    "1": "35,34"
                                },
                                {
                                    "0": "Williamstown",
                                    "1": "35,34"
                                },
                                {
                                    "0": "Lyndoch",
                                    "1": "34,79"
                                },
                                {
                                    "0": "Marananga",
                                    "1": "32,33"
                                },
                                {
                                    "0": "Kapunda",
                                    "1": "28,49"
                                },
                                {
                                    "0": "Hewett",
                                    "1": "26,03"
                                },
                                {
                                    "0": "Mount Pleasant",
                                    "1": "21,92"
                                },
                                {
                                    "0": "Mount Crawford",
                                    "1": "21,1"
                                }
                            ]
                        },
                        "text/html": "<table><tr><th>neighbourhood</th><th>occupancy_rate</th></tr><tr><td>Springton</td><td>74,79</td></tr><tr><td>Bethany</td><td>57,81</td></tr><tr><td>Nuriootpa</td><td>51,51</td></tr><tr><td>Tanunda</td><td>49,32</td></tr><tr><td>Buchfelde</td><td>37,53</td></tr><tr><td>Angaston</td><td>36,16</td></tr><tr><td>Concordia</td><td>35,34</td></tr><tr><td>Williamstown</td><td>35,34</td></tr><tr><td>Lyndoch</td><td>34,79</td></tr><tr><td>Marananga</td><td>32,33</td></tr><tr><td>Kapunda</td><td>28,49</td></tr><tr><td>Hewett</td><td>26,03</td></tr><tr><td>Mount Pleasant</td><td>21,92</td></tr><tr><td>Mount Crawford</td><td>21,1</td></tr></table>"
                    },
                    "metadata": {}
                }
            ],
            "execution_count": 140
        },
        {
            "cell_type": "code",
            "source": [
                "-- ZOOM ON BETHANY AND SPRIGTON PROPERTIES\r\n",
                "SELECT id,price,neighbourhood\r\n",
                "FROM [listings (1)]\r\n",
                "WHERE neighbourhood = 'Bethany' OR neighbourhood = 'Springton'"
            ],
            "metadata": {
                "language": "sql",
                "azdata_cell_guid": "ec1be9d3-77f9-4376-8aa3-71d3691d384a",
                "tags": []
            },
            "outputs": [
                {
                    "output_type": "display_data",
                    "data": {
                        "text/html": "(20 rows affected)"
                    },
                    "metadata": {}
                },
                {
                    "output_type": "display_data",
                    "data": {
                        "text/html": "Total execution time: 00:00:00.008"
                    },
                    "metadata": {}
                },
                {
                    "output_type": "execute_result",
                    "execution_count": 142,
                    "data": {
                        "application/vnd.dataresource+json": {
                            "schema": {
                                "fields": [
                                    {
                                        "name": "id"
                                    },
                                    {
                                        "name": "price"
                                    },
                                    {
                                        "name": "neighbourhood"
                                    }
                                ]
                            },
                            "data": [
                                {
                                    "0": "14031240",
                                    "1": "330",
                                    "2": "Bethany"
                                },
                                {
                                    "0": "17737018",
                                    "1": "195",
                                    "2": "Springton"
                                },
                                {
                                    "0": "36464062",
                                    "1": "795",
                                    "2": "Bethany"
                                },
                                {
                                    "0": "40212692",
                                    "1": "250",
                                    "2": "Bethany"
                                },
                                {
                                    "0": "45548496",
                                    "1": "420",
                                    "2": "Springton"
                                },
                                {
                                    "0": "45714238",
                                    "1": "165",
                                    "2": "Springton"
                                },
                                {
                                    "0": "45714531",
                                    "1": "300",
                                    "2": "Springton"
                                },
                                {
                                    "0": "48061876",
                                    "1": "176",
                                    "2": "Springton"
                                },
                                {
                                    "0": "49448518",
                                    "1": "179",
                                    "2": "Springton"
                                },
                                {
                                    "0": "49913465",
                                    "1": "1029",
                                    "2": "Bethany"
                                },
                                {
                                    "0": "53055342",
                                    "1": "150",
                                    "2": "Springton"
                                },
                                {
                                    "0": "53245474",
                                    "1": "217",
                                    "2": "Bethany"
                                },
                                {
                                    "0": "53498238",
                                    "1": "150",
                                    "2": "Springton"
                                },
                                {
                                    "0": "702031267609659440",
                                    "1": "115",
                                    "2": "Bethany"
                                },
                                {
                                    "0": "703395754090693752",
                                    "1": "138",
                                    "2": "Bethany"
                                },
                                {
                                    "0": "703454945429923296",
                                    "1": "202",
                                    "2": "Bethany"
                                },
                                {
                                    "0": "703872734491160951",
                                    "1": "138",
                                    "2": "Bethany"
                                },
                                {
                                    "0": "703873092978064872",
                                    "1": "115",
                                    "2": "Bethany"
                                },
                                {
                                    "0": "703873217398549559",
                                    "1": "115",
                                    "2": "Bethany"
                                },
                                {
                                    "0": "703873326508107679",
                                    "1": "115",
                                    "2": "Bethany"
                                }
                            ]
                        },
                        "text/html": "<table><tr><th>id</th><th>price</th><th>neighbourhood</th></tr><tr><td>14031240</td><td>330</td><td>Bethany</td></tr><tr><td>17737018</td><td>195</td><td>Springton</td></tr><tr><td>36464062</td><td>795</td><td>Bethany</td></tr><tr><td>40212692</td><td>250</td><td>Bethany</td></tr><tr><td>45548496</td><td>420</td><td>Springton</td></tr><tr><td>45714238</td><td>165</td><td>Springton</td></tr><tr><td>45714531</td><td>300</td><td>Springton</td></tr><tr><td>48061876</td><td>176</td><td>Springton</td></tr><tr><td>49448518</td><td>179</td><td>Springton</td></tr><tr><td>49913465</td><td>1029</td><td>Bethany</td></tr><tr><td>53055342</td><td>150</td><td>Springton</td></tr><tr><td>53245474</td><td>217</td><td>Bethany</td></tr><tr><td>53498238</td><td>150</td><td>Springton</td></tr><tr><td>702031267609659440</td><td>115</td><td>Bethany</td></tr><tr><td>703395754090693752</td><td>138</td><td>Bethany</td></tr><tr><td>703454945429923296</td><td>202</td><td>Bethany</td></tr><tr><td>703872734491160951</td><td>138</td><td>Bethany</td></tr><tr><td>703873092978064872</td><td>115</td><td>Bethany</td></tr><tr><td>703873217398549559</td><td>115</td><td>Bethany</td></tr><tr><td>703873326508107679</td><td>115</td><td>Bethany</td></tr></table>"
                    },
                    "metadata": {}
                }
            ],
            "execution_count": 142
        },
        {
            "cell_type": "markdown",
            "source": [
                "**Comments:** The result of our analysis shows that the region of Bethany, Springton, and Nuriotpa in the Barossa Valley region of South Australia have high occupancy rates for short-term rentals on Airbnb. These regions are known for their attractions such as wineries, restaurants, and hotels. However, when compared to larger region like Tanunda and Angaston, the number of listings on Airbnb in these regions is relatively small. This means that the occupancy rate in these regions might appear higher than it actually is because of the fewer number of listings. Although, it's also worth noting that region like Tanunda and Angaston have a relatively medium occupancy rate which suggests that there is still demand for short-term rentals in these areas due the high count of properties available. It's important to consider the number of listings on Airbnb when evaluating the potential return on investment for a property in these areas."
            ],
            "metadata": {
                "language": "sql",
                "azdata_cell_guid": "81223add-f433-45b0-93c2-6dbd87f43a0f"
            },
            "attachments": {}
        },
        {
            "cell_type": "markdown",
            "source": [
                "**<u>\\-Financial rent performance (gross revenue) of properties in each neighbourhood</u>**"
            ],
            "metadata": {
                "language": "sql",
                "azdata_cell_guid": "b08b3f77-d64f-47b3-8eed-79940970e751"
            },
            "attachments": {}
        },
        {
            "cell_type": "code",
            "source": [
                "-- AVERAGE GROSS REVENUE PER NEIGHBOURHOOD\r\n",
                "WITH occupancy AS (\r\n",
                "    SELECT neighbourhood,\r\n",
                "    AVG(price) as avg_price,\r\n",
                "    (365-AVG(availability_365)) as occupated_days,\r\n",
                "    COUNT(id) AS count_listings\r\n",
                "    FROM [listings (1)]\r\n",
                "    WHERE price < 1500\r\n",
                "    GROUP BY neighbourhood\r\n",
                "    HAVING count(id) > 5\r\n",
                "    )\r\n",
                "    SELECT neighbourhood,\r\n",
                "    avg_price,\r\n",
                "    ROUND((count_listings)*(occupated_days)*(avg_price),2) as gross_revenue_year,\r\n",
                "    (ROUND((count_listings)*(occupated_days)*(avg_price),2))/365 as gross_revenue_daily_365days\r\n",
                "    FROM occupancy\r\n",
                "    ORDER BY gross_revenue_year DESC\r\n",
                "  \r\n",
                "   \r\n",
                "        \r\n",
                "    "
            ],
            "metadata": {
                "language": "sql",
                "azdata_cell_guid": "b91c6f2b-cae9-4d45-8e43-373438df5e36",
                "tags": [
                    "hide_input"
                ]
            },
            "outputs": [
                {
                    "output_type": "display_data",
                    "data": {
                        "text/html": "(14 rows affected)"
                    },
                    "metadata": {}
                },
                {
                    "output_type": "display_data",
                    "data": {
                        "text/html": "Total execution time: 00:00:00.012"
                    },
                    "metadata": {}
                },
                {
                    "output_type": "execute_result",
                    "execution_count": 141,
                    "data": {
                        "application/vnd.dataresource+json": {
                            "schema": {
                                "fields": [
                                    {
                                        "name": "neighbourhood"
                                    },
                                    {
                                        "name": "avg_price"
                                    },
                                    {
                                        "name": "gross_revenue_year"
                                    },
                                    {
                                        "name": "gross_revenue_daily_365days"
                                    }
                                ]
                            },
                            "data": [
                                {
                                    "0": "Tanunda",
                                    "1": "359",
                                    "2": "5372076",
                                    "3": "14718"
                                },
                                {
                                    "0": "Angaston",
                                    "1": "283",
                                    "2": "1957228",
                                    "3": "5362"
                                },
                                {
                                    "0": "Lyndoch",
                                    "1": "408",
                                    "2": "1088136",
                                    "3": "2981"
                                },
                                {
                                    "0": "Nuriootpa",
                                    "1": "275",
                                    "2": "878900",
                                    "3": "2407"
                                },
                                {
                                    "0": "Bethany",
                                    "1": "296",
                                    "2": "749472",
                                    "3": "2053"
                                },
                                {
                                    "0": "Marananga",
                                    "1": "426",
                                    "2": "703752",
                                    "3": "1928"
                                },
                                {
                                    "0": "Kapunda",
                                    "1": "373",
                                    "2": "558754",
                                    "3": "1530"
                                },
                                {
                                    "0": "Springton",
                                    "1": "216",
                                    "2": "471744",
                                    "3": "1292"
                                },
                                {
                                    "0": "Buchfelde",
                                    "1": "148",
                                    "2": "304140",
                                    "3": "833"
                                },
                                {
                                    "0": "Mount Pleasant",
                                    "1": "472",
                                    "2": "302080",
                                    "3": "827"
                                },
                                {
                                    "0": "Concordia",
                                    "1": "165",
                                    "2": "234135",
                                    "3": "641"
                                },
                                {
                                    "0": "Williamstown",
                                    "1": "250",
                                    "2": "193500",
                                    "3": "530"
                                },
                                {
                                    "0": "Hewett",
                                    "1": "257",
                                    "2": "146490",
                                    "3": "401"
                                },
                                {
                                    "0": "Mount Crawford",
                                    "1": "202",
                                    "2": "124432",
                                    "3": "340"
                                }
                            ]
                        },
                        "text/html": "<table><tr><th>neighbourhood</th><th>avg_price</th><th>gross_revenue_year</th><th>gross_revenue_daily_365days</th></tr><tr><td>Tanunda</td><td>359</td><td>5372076</td><td>14718</td></tr><tr><td>Angaston</td><td>283</td><td>1957228</td><td>5362</td></tr><tr><td>Lyndoch</td><td>408</td><td>1088136</td><td>2981</td></tr><tr><td>Nuriootpa</td><td>275</td><td>878900</td><td>2407</td></tr><tr><td>Bethany</td><td>296</td><td>749472</td><td>2053</td></tr><tr><td>Marananga</td><td>426</td><td>703752</td><td>1928</td></tr><tr><td>Kapunda</td><td>373</td><td>558754</td><td>1530</td></tr><tr><td>Springton</td><td>216</td><td>471744</td><td>1292</td></tr><tr><td>Buchfelde</td><td>148</td><td>304140</td><td>833</td></tr><tr><td>Mount Pleasant</td><td>472</td><td>302080</td><td>827</td></tr><tr><td>Concordia</td><td>165</td><td>234135</td><td>641</td></tr><tr><td>Williamstown</td><td>250</td><td>193500</td><td>530</td></tr><tr><td>Hewett</td><td>257</td><td>146490</td><td>401</td></tr><tr><td>Mount Crawford</td><td>202</td><td>124432</td><td>340</td></tr></table>"
                    },
                    "metadata": {}
                }
            ],
            "execution_count": 141
        },
        {
            "cell_type": "markdown",
            "source": [
                "**Comments:** The Barossa Valley region in South Australia presents a promising opportunity for property investment in the short-term rental market on Airbnb, with an annual revenue of over $700,000 for the top 5 regions and $5M forTanunda. The regions Bethany, Springton, and Nuriotpa have high occupancy rates. However, it's important to keep in mind that the number of listings in these regions is relatively small when compared to larger regions like Tanunda and Angaston. This means that the occupancy rate in these small regions might was impacted because of the fewer number of listings. For an accurate analysis and safe results, it's important to compare these regions to similar ones in the same region with a similar number of listings on Airbnb. Therefore, it's crucial to consider the number of listings, occupancy rate, and location when evaluating the potential revenue and return on investment for properties in these areas.Overall, a comprehensive analysis of all these factors is essential when evaluating the potential of a property for short-term rental in the Barossa Valley region."
            ],
            "metadata": {
                "language": "sql",
                "azdata_cell_guid": "8b5012c5-5367-4685-a105-e2cf5d12aab0"
            },
            "attachments": {}
        },
        {
            "cell_type": "markdown",
            "source": [
                "**<u>\\-The high prices properties and where are they located</u>**"
            ],
            "metadata": {
                "language": "sql",
                "azdata_cell_guid": "700fb77f-ce28-4045-af58-2d77bcc25f21"
            },
            "attachments": {}
        },
        {
            "cell_type": "code",
            "source": [
                "-- HIGH PRICES LISTINGS ON AIRBNB AT BAROSSA VALLEY\r\n",
                "SELECT id,\r\n",
                "neighbourhood,\r\n",
                "price\r\n",
                "FROM [listings (1)]\r\n",
                "WHERE price > 1200\r\n",
                ""
            ],
            "metadata": {
                "language": "sql",
                "azdata_cell_guid": "c8de2b06-8fe8-4975-8219-7070da6da58a"
            },
            "outputs": [
                {
                    "output_type": "display_data",
                    "data": {
                        "text/html": "(8 rows affected)"
                    },
                    "metadata": {}
                },
                {
                    "output_type": "display_data",
                    "data": {
                        "text/html": "Total execution time: 00:00:00.043"
                    },
                    "metadata": {}
                },
                {
                    "output_type": "execute_result",
                    "execution_count": 1,
                    "data": {
                        "application/vnd.dataresource+json": {
                            "schema": {
                                "fields": [
                                    {
                                        "name": "id"
                                    },
                                    {
                                        "name": "neighbourhood"
                                    },
                                    {
                                        "name": "price"
                                    }
                                ]
                            },
                            "data": [
                                {
                                    "0": "14969874",
                                    "1": "Tanunda",
                                    "2": "1414"
                                },
                                {
                                    "0": "20175507",
                                    "1": "Tanunda",
                                    "2": "1920"
                                },
                                {
                                    "0": "20176443",
                                    "1": "Tanunda",
                                    "2": "2800"
                                },
                                {
                                    "0": "25893345",
                                    "1": "Tanunda",
                                    "2": "1500"
                                },
                                {
                                    "0": "48999138",
                                    "1": "Kapunda",
                                    "2": "1500"
                                },
                                {
                                    "0": "52923843",
                                    "1": "Angaston",
                                    "2": "1886"
                                },
                                {
                                    "0": "634520727307763774",
                                    "1": "Altona",
                                    "2": "1603"
                                },
                                {
                                    "0": "668396960497325094",
                                    "1": "Lyndoch",
                                    "2": "1367"
                                }
                            ]
                        },
                        "text/html": "<table><tr><th>id</th><th>neighbourhood</th><th>price</th></tr><tr><td>14969874</td><td>Tanunda</td><td>1414</td></tr><tr><td>20175507</td><td>Tanunda</td><td>1920</td></tr><tr><td>20176443</td><td>Tanunda</td><td>2800</td></tr><tr><td>25893345</td><td>Tanunda</td><td>1500</td></tr><tr><td>48999138</td><td>Kapunda</td><td>1500</td></tr><tr><td>52923843</td><td>Angaston</td><td>1886</td></tr><tr><td>634520727307763774</td><td>Altona</td><td>1603</td></tr><tr><td>668396960497325094</td><td>Lyndoch</td><td>1367</td></tr></table>"
                    },
                    "metadata": {}
                }
            ],
            "execution_count": 1
        },
        {
            "cell_type": "markdown",
            "source": [
                "**Comments:** <span style=\"color: black; font-family: &quot;Calibri(Body)&quot;, serif; font-size: 10.5pt;\">Our analysis found that half of the luxury properties in the region are located in Tanunda, consistent with the high number of visitors to the area. The high demand for luxury properties in a popular tourist destination like Tanunda is likely due to both the area's high visitor numbers and its desirable location.</span>"
            ],
            "metadata": {
                "language": "sql",
                "azdata_cell_guid": "8de6ec0b-e6a5-45f2-80d0-13add15b6344"
            },
            "attachments": {}
        },
        {
            "cell_type": "markdown",
            "source": [
                "**<u>\\-Analysis on the most interesting type of properties to investment at Barossa Valley</u>**"
            ],
            "metadata": {
                "language": "sql",
                "azdata_cell_guid": "07449d4e-8814-48a4-9cfa-4442e3d523f0"
            },
            "attachments": {}
        },
        {
            "cell_type": "markdown",
            "source": [
                "**<u>\\-Types of properties on the dataset</u>**"
            ],
            "metadata": {
                "language": "sql",
                "azdata_cell_guid": "ff00c9d3-9b84-4dae-b997-16231ed90825"
            },
            "attachments": {}
        },
        {
            "cell_type": "code",
            "source": [
                "-- TYPES OF ROOM AVAILABLE\r\n",
                "SELECT DISTINCT(room_type)\r\n",
                "FROM [listings (1)]"
            ],
            "metadata": {
                "language": "sql",
                "azdata_cell_guid": "8d6dd666-92e9-4a14-8fd8-0fc5bd9ede93",
                "tags": []
            },
            "outputs": [
                {
                    "output_type": "display_data",
                    "data": {
                        "text/html": "(4 rows affected)"
                    },
                    "metadata": {}
                },
                {
                    "output_type": "display_data",
                    "data": {
                        "text/html": "Total execution time: 00:00:00.008"
                    },
                    "metadata": {}
                },
                {
                    "output_type": "execute_result",
                    "execution_count": 143,
                    "data": {
                        "application/vnd.dataresource+json": {
                            "schema": {
                                "fields": [
                                    {
                                        "name": "room_type"
                                    }
                                ]
                            },
                            "data": [
                                {
                                    "0": "Entire home/apt"
                                },
                                {
                                    "0": "Hotel room"
                                },
                                {
                                    "0": "Private room"
                                },
                                {
                                    "0": "Shared room"
                                }
                            ]
                        },
                        "text/html": "<table><tr><th>room_type</th></tr><tr><td>Entire home/apt</td></tr><tr><td>Hotel room</td></tr><tr><td>Private room</td></tr><tr><td>Shared room</td></tr></table>"
                    },
                    "metadata": {}
                }
            ],
            "execution_count": 143
        },
        {
            "cell_type": "markdown",
            "source": [
                "**Comments:** There are 4 type of room available for properties on airbnb list."
            ],
            "metadata": {
                "language": "sql",
                "azdata_cell_guid": "c1a65620-3558-466e-88b8-b813cde4c770"
            },
            "attachments": {}
        },
        {
            "cell_type": "code",
            "source": [
                "--EXPLORING THE MOST COMMON TYPES OF PROPERTIES (ROOM_TYPE)\r\n",
                "SELECT \r\n",
                "ROUND(COUNT(CASE WHEN room_type = 'Entire home/apt' THEN 1 END)/ CAST(COUNT(*) AS float),4)*100 AS \"Entire home/apt(%)\",\r\n",
                "ROUND(COUNT(CASE WHEN room_type = 'Hotel room' THEN 1 END)/ CAST(COUNT(*) AS float),4)*100 AS \"Hotel room(%)\",\r\n",
                "ROUND(COUNT(CASE WHEN room_type = 'Private room' THEN 1 END)/ CAST(COUNT(*) AS float),4)*100 AS \"Private room(%)\",\r\n",
                "ROUND(COUNT(CASE WHEN room_type = 'Shared room' THEN 1 END)/ CAST(COUNT(*) AS float),4)*100 AS \"Shared room(%)\"\r\n",
                "FROM [listings (1)];"
            ],
            "metadata": {
                "language": "sql",
                "azdata_cell_guid": "2a997674-205a-4a69-9c7d-1e1cd0f9076f",
                "tags": []
            },
            "outputs": [
                {
                    "output_type": "display_data",
                    "data": {
                        "text/html": "Warning: Null value is eliminated by an aggregate or other SET operation."
                    },
                    "metadata": {}
                },
                {
                    "output_type": "display_data",
                    "data": {
                        "text/html": "(1 row affected)"
                    },
                    "metadata": {}
                },
                {
                    "output_type": "display_data",
                    "data": {
                        "text/html": "Total execution time: 00:00:00.009"
                    },
                    "metadata": {}
                },
                {
                    "output_type": "execute_result",
                    "execution_count": 144,
                    "data": {
                        "application/vnd.dataresource+json": {
                            "schema": {
                                "fields": [
                                    {
                                        "name": "Entire home/apt(%)"
                                    },
                                    {
                                        "name": "Hotel room(%)"
                                    },
                                    {
                                        "name": "Private room(%)"
                                    },
                                    {
                                        "name": "Shared room(%)"
                                    }
                                ]
                            },
                            "data": [
                                {
                                    "0": "87,96000000000001",
                                    "1": "0,31",
                                    "2": "11,42",
                                    "3": "0,31"
                                }
                            ]
                        },
                        "text/html": "<table><tr><th>Entire home/apt(%)</th><th>Hotel room(%)</th><th>Private room(%)</th><th>Shared room(%)</th></tr><tr><td>87,96000000000001</td><td>0,31</td><td>11,42</td><td>0,31</td></tr></table>"
                    },
                    "metadata": {}
                }
            ],
            "execution_count": 144
        },
        {
            "cell_type": "markdown",
            "source": [
                "**Comments:** Between the types of rooms 87.96% is Entire Home/apt and 11.42% is Private room . Those two types of rooms are the most common at Barossa Valley."
            ],
            "metadata": {
                "language": "sql",
                "azdata_cell_guid": "620bfc8c-5113-4d17-9e8c-210e007d797b"
            },
            "attachments": {}
        },
        {
            "cell_type": "markdown",
            "source": [
                "**<u>\\-The two main type of properties available in the dataset and where they are located</u>**"
            ],
            "metadata": {
                "language": "sql",
                "azdata_cell_guid": "d744b2cf-dd0a-42aa-aa59-ab6f6f9b4e15"
            },
            "attachments": {}
        },
        {
            "cell_type": "code",
            "source": [
                "--NUMBER OF LISTINGS OF ENTIRE HOME/APT AND PRIVATE ROOM \r\n",
                "SELECT neighbourhood,\r\n",
                "COUNT(*) as listings_count,\r\n",
                "COUNT(CASE WHEN room_type = 'Entire home/apt' THEN 1 END) AS 'Entire home/apt_count',\r\n",
                "COUNT(CASE WHEN room_type = 'Private room' THEN 1 END) AS 'Private room_count'\r\n",
                "FROM [listings (1)]\r\n",
                "WHERE price < 1500\r\n",
                "GROUP BY neighbourhood\r\n",
                "HAVING COUNT(*) > 5 \r\n",
                "ORDER BY listings_count DESC\r\n",
                ""
            ],
            "metadata": {
                "language": "sql",
                "azdata_cell_guid": "8ac4e62e-4f4d-4eca-b7a3-5a656383fdb0",
                "tags": [
                    "hide_input"
                ]
            },
            "outputs": [
                {
                    "output_type": "display_data",
                    "data": {
                        "text/html": "Warning: Null value is eliminated by an aggregate or other SET operation."
                    },
                    "metadata": {}
                },
                {
                    "output_type": "display_data",
                    "data": {
                        "text/html": "(14 rows affected)"
                    },
                    "metadata": {}
                },
                {
                    "output_type": "display_data",
                    "data": {
                        "text/html": "Total execution time: 00:00:00.016"
                    },
                    "metadata": {}
                },
                {
                    "output_type": "execute_result",
                    "execution_count": 6,
                    "data": {
                        "application/vnd.dataresource+json": {
                            "schema": {
                                "fields": [
                                    {
                                        "name": "neighbourhood"
                                    },
                                    {
                                        "name": "listings_count"
                                    },
                                    {
                                        "name": "Entire home/apt_count"
                                    },
                                    {
                                        "name": "Private room_count"
                                    }
                                ]
                            },
                            "data": [
                                {
                                    "0": "Tanunda",
                                    "1": "86",
                                    "2": "81",
                                    "3": "5"
                                },
                                {
                                    "0": "Angaston",
                                    "1": "52",
                                    "2": "41",
                                    "3": "11"
                                },
                                {
                                    "0": "Lyndoch",
                                    "1": "21",
                                    "2": "19",
                                    "3": "2"
                                },
                                {
                                    "0": "Nuriootpa",
                                    "1": "17",
                                    "2": "13",
                                    "3": "4"
                                },
                                {
                                    "0": "Buchfelde",
                                    "1": "15",
                                    "2": "11",
                                    "3": "4"
                                },
                                {
                                    "0": "Marananga",
                                    "1": "14",
                                    "2": "14",
                                    "3": "0"
                                },
                                {
                                    "0": "Kapunda",
                                    "1": "14",
                                    "2": "11",
                                    "3": "3"
                                },
                                {
                                    "0": "Bethany",
                                    "1": "12",
                                    "2": "11",
                                    "3": "0"
                                },
                                {
                                    "0": "Concordia",
                                    "1": "11",
                                    "2": "11",
                                    "3": "0"
                                },
                                {
                                    "0": "Mount Crawford",
                                    "1": "8",
                                    "2": "7",
                                    "3": "1"
                                },
                                {
                                    "0": "Mount Pleasant",
                                    "1": "8",
                                    "2": "3",
                                    "3": "4"
                                },
                                {
                                    "0": "Springton",
                                    "1": "8",
                                    "2": "8",
                                    "3": "0"
                                },
                                {
                                    "0": "Williamstown",
                                    "1": "6",
                                    "2": "6",
                                    "3": "0"
                                },
                                {
                                    "0": "Hewett",
                                    "1": "6",
                                    "2": "6",
                                    "3": "0"
                                }
                            ]
                        },
                        "text/html": "<table><tr><th>neighbourhood</th><th>listings_count</th><th>Entire home/apt_count</th><th>Private room_count</th></tr><tr><td>Tanunda</td><td>86</td><td>81</td><td>5</td></tr><tr><td>Angaston</td><td>52</td><td>41</td><td>11</td></tr><tr><td>Lyndoch</td><td>21</td><td>19</td><td>2</td></tr><tr><td>Nuriootpa</td><td>17</td><td>13</td><td>4</td></tr><tr><td>Buchfelde</td><td>15</td><td>11</td><td>4</td></tr><tr><td>Marananga</td><td>14</td><td>14</td><td>0</td></tr><tr><td>Kapunda</td><td>14</td><td>11</td><td>3</td></tr><tr><td>Bethany</td><td>12</td><td>11</td><td>0</td></tr><tr><td>Concordia</td><td>11</td><td>11</td><td>0</td></tr><tr><td>Mount Crawford</td><td>8</td><td>7</td><td>1</td></tr><tr><td>Mount Pleasant</td><td>8</td><td>3</td><td>4</td></tr><tr><td>Springton</td><td>8</td><td>8</td><td>0</td></tr><tr><td>Williamstown</td><td>6</td><td>6</td><td>0</td></tr><tr><td>Hewett</td><td>6</td><td>6</td><td>0</td></tr></table>"
                    },
                    "metadata": {}
                }
            ],
            "execution_count": 6
        },
        {
            "cell_type": "markdown",
            "source": [
                "**Comments:** The region of Tanunda, Angaston, and Lyndoch is a prime location for rental properties. The data shows a high concentration of listings for both Entire homes/apartments, as well as Private rooms. The majority of these listings are for entire homes and apartments, indicating a strong demand for this type of accommodation in the area. This could be attributed to the area's proximity to popular attractions and overall quality of life. The diversity of housing options available in this region makes it an attractive location for individuals with different needs and preferences."
            ],
            "metadata": {
                "language": "sql",
                "azdata_cell_guid": "7fe903d5-a0fa-4271-b41e-41c02f1c917d"
            },
            "attachments": {}
        },
        {
            "cell_type": "markdown",
            "source": [
                "**<u>\\-Financial rent performance Entire home/apt</u>**"
            ],
            "metadata": {
                "language": "sql",
                "azdata_cell_guid": "f6a2ed3d-93cb-49e6-a6e0-adc5a3a8f536"
            },
            "attachments": {}
        },
        {
            "cell_type": "code",
            "source": [
                "-- ANNUAL_REVENUE, DAILY_REVENUE, DAILY_REVENUE_FOR_EACH_PROPERTY OF ENTIRE HOME/APT\r\n",
                "SELECT neighbourhood,\r\n",
                "COUNT(CASE WHEN room_type = 'Entire home/apt' THEN 1 END) AS 'Entire home/apt_count',\r\n",
                "(COUNT(CASE WHEN room_type = 'Entire home/apt' THEN 1 END)*AVG(Price))*(365-AVG(availability_365)) AS 'Entire home/apt_avg_revenue',\r\n",
                "(COUNT(CASE WHEN room_type = 'Entire home/apt' THEN 1 END)*AVG(Price))*(365-AVG(availability_365))/365 AS 'Entire home/apt_avg_revenue_daily_365days',\r\n",
                "((COUNT(CASE WHEN room_type = 'Entire home/apt' THEN 1 END)*AVG(Price))*(365-AVG(availability_365))/365)/COUNT(CASE WHEN room_type = 'Entire home/apt' THEN 1 END) AS 'Entire home/apt_avg_revenue_daily_365days_eachproperty'\r\n",
                "FROM [listings (1)]\r\n",
                "WHERE price < 1500 AND room_type = 'Entire home/apt'\r\n",
                "GROUP BY neighbourhood\r\n",
                "HAVING COUNT(*) > 5 \r\n",
                "ORDER BY [Entire home/apt_count] DESC\r\n",
                ""
            ],
            "metadata": {
                "language": "sql",
                "azdata_cell_guid": "9dd0c6dc-1049-4c32-add0-395320eb886c",
                "tags": []
            },
            "outputs": [
                {
                    "output_type": "display_data",
                    "data": {
                        "text/html": "(13 rows affected)"
                    },
                    "metadata": {}
                },
                {
                    "output_type": "display_data",
                    "data": {
                        "text/html": "Total execution time: 00:00:00.031"
                    },
                    "metadata": {}
                },
                {
                    "output_type": "execute_result",
                    "execution_count": 146,
                    "data": {
                        "application/vnd.dataresource+json": {
                            "schema": {
                                "fields": [
                                    {
                                        "name": "neighbourhood"
                                    },
                                    {
                                        "name": "Entire home/apt_count"
                                    },
                                    {
                                        "name": "Entire home/apt_avg_revenue"
                                    },
                                    {
                                        "name": "Entire home/apt_avg_revenue_daily_365days"
                                    },
                                    {
                                        "name": "Entire home/apt_avg_revenue_daily_365days_eachproperty"
                                    }
                                ]
                            },
                            "data": [
                                {
                                    "0": "Tanunda",
                                    "1": "81",
                                    "2": "5021352",
                                    "3": "13757",
                                    "4": "169"
                                },
                                {
                                    "0": "Angaston",
                                    "1": "41",
                                    "2": "1625650",
                                    "3": "4453",
                                    "4": "108"
                                },
                                {
                                    "0": "Lyndoch",
                                    "1": "19",
                                    "2": "955548",
                                    "3": "2617",
                                    "4": "137"
                                },
                                {
                                    "0": "Marananga",
                                    "1": "14",
                                    "2": "703752",
                                    "3": "1928",
                                    "4": "137"
                                },
                                {
                                    "0": "Nuriootpa",
                                    "1": "13",
                                    "2": "851838",
                                    "3": "2333",
                                    "4": "179"
                                },
                                {
                                    "0": "Bethany",
                                    "1": "11",
                                    "2": "660715",
                                    "3": "1810",
                                    "4": "164"
                                },
                                {
                                    "0": "Buchfelde",
                                    "1": "11",
                                    "2": "310189",
                                    "3": "849",
                                    "4": "77"
                                },
                                {
                                    "0": "Concordia",
                                    "1": "11",
                                    "2": "234135",
                                    "3": "641",
                                    "4": "58"
                                },
                                {
                                    "0": "Kapunda",
                                    "1": "11",
                                    "2": "476036",
                                    "3": "1304",
                                    "4": "118"
                                },
                                {
                                    "0": "Springton",
                                    "1": "8",
                                    "2": "471744",
                                    "3": "1292",
                                    "4": "161"
                                },
                                {
                                    "0": "Mount Crawford",
                                    "1": "7",
                                    "2": "102256",
                                    "3": "280",
                                    "4": "40"
                                },
                                {
                                    "0": "Hewett",
                                    "1": "6",
                                    "2": "146490",
                                    "3": "401",
                                    "4": "66"
                                },
                                {
                                    "0": "Williamstown",
                                    "1": "6",
                                    "2": "193500",
                                    "3": "530",
                                    "4": "88"
                                }
                            ]
                        },
                        "text/html": "<table><tr><th>neighbourhood</th><th>Entire home/apt_count</th><th>Entire home/apt_avg_revenue</th><th>Entire home/apt_avg_revenue_daily_365days</th><th>Entire home/apt_avg_revenue_daily_365days_eachproperty</th></tr><tr><td>Tanunda</td><td>81</td><td>5021352</td><td>13757</td><td>169</td></tr><tr><td>Angaston</td><td>41</td><td>1625650</td><td>4453</td><td>108</td></tr><tr><td>Lyndoch</td><td>19</td><td>955548</td><td>2617</td><td>137</td></tr><tr><td>Marananga</td><td>14</td><td>703752</td><td>1928</td><td>137</td></tr><tr><td>Nuriootpa</td><td>13</td><td>851838</td><td>2333</td><td>179</td></tr><tr><td>Bethany</td><td>11</td><td>660715</td><td>1810</td><td>164</td></tr><tr><td>Buchfelde</td><td>11</td><td>310189</td><td>849</td><td>77</td></tr><tr><td>Concordia</td><td>11</td><td>234135</td><td>641</td><td>58</td></tr><tr><td>Kapunda</td><td>11</td><td>476036</td><td>1304</td><td>118</td></tr><tr><td>Springton</td><td>8</td><td>471744</td><td>1292</td><td>161</td></tr><tr><td>Mount Crawford</td><td>7</td><td>102256</td><td>280</td><td>40</td></tr><tr><td>Hewett</td><td>6</td><td>146490</td><td>401</td><td>66</td></tr><tr><td>Williamstown</td><td>6</td><td>193500</td><td>530</td><td>88</td></tr></table>"
                    },
                    "metadata": {}
                }
            ],
            "execution_count": 146
        },
        {
            "cell_type": "markdown",
            "source": [
                "**Comments:** T<span lang=\"EN-AU\" style=\"font-size:11.0pt;line-height:\n",
                "107%;font-family:&quot;Calibri&quot;,sans-serif;mso-ascii-theme-font:minor-latin;\n",
                "mso-fareast-font-family:Calibri;mso-fareast-theme-font:minor-latin;mso-hansi-theme-font:\n",
                "minor-latin;mso-bidi-font-family:&quot;Times New Roman&quot;;mso-bidi-theme-font:minor-bidi;\n",
                "mso-ansi-language:EN-AU;mso-fareast-language:EN-US;mso-bidi-language:AR-SA\">he data indicates that, on average, in&nbsp;<span style=\"font-size: 14.6667px;\">the region of Tanunda, Angaston, and Lyndoch</span>, entire home/apt rentals represent an impressive 90.31% of the gross revenue generated from properties rented on Airbnb. Therefore, it is clear that this type of property is a crucial aspect of the rental market in this region. The revenue data also supports this, showing substantial revenue from entire home and apartment rentals in each neighborhood. The table provides a clear picture of the gross revenue generated by these properties in each neighborhood, not considering the general costs, tax and mortgate of property .</span>"
            ],
            "metadata": {
                "language": "sql",
                "azdata_cell_guid": "15cc9343-1aab-4cc0-a120-b127f41d18dd"
            },
            "attachments": {}
        },
        {
            "cell_type": "markdown",
            "source": [
                "**<u>\\-Financial rent performance(gross revenue) private room</u>**"
            ],
            "metadata": {
                "language": "sql",
                "azdata_cell_guid": "2f2b6a57-4f03-4484-8e86-8a5135525f75"
            },
            "attachments": {}
        },
        {
            "cell_type": "code",
            "source": [
                "-- ANNUAL_REVENUE, DAILY_REVENUE, DAILY_REVENUE_FOR_EACH_PROPERTY OF PRIVATE ROOM\r\n",
                "SELECT neighbourhood,\r\n",
                "COUNT(CASE WHEN room_type = 'Private Room' THEN 1 END) AS 'Private Room',\r\n",
                "(COUNT(CASE WHEN room_type = 'Private Room' THEN 1 END)*AVG(Price))*(365-AVG(availability_365)) AS 'Private_Room_avg_revenue',\r\n",
                "(COUNT(CASE WHEN room_type = 'Private Room' THEN 1 END)*AVG(Price))*(365-AVG(availability_365))/365 AS 'Private_Room_avg_revenue_daily_365days',\r\n",
                "((COUNT(CASE WHEN room_type = 'Private Room' THEN 1 END)*AVG(Price))*(365-AVG(availability_365))/365)/COUNT(CASE WHEN room_type = 'Private Room' THEN 1 END) AS 'Private Room_avg_revenue_daily_365days_eachproperty'\r\n",
                "FROM [listings (1)]\r\n",
                "WHERE price < 1500 AND room_type = 'Private Room'\r\n",
                "GROUP BY neighbourhood \r\n",
                ""
            ],
            "metadata": {
                "language": "sql",
                "azdata_cell_guid": "7a32cfcc-d443-423a-a259-07dd3d858d54",
                "tags": []
            },
            "outputs": [
                {
                    "output_type": "display_data",
                    "data": {
                        "text/html": "(11 rows affected)"
                    },
                    "metadata": {}
                },
                {
                    "output_type": "display_data",
                    "data": {
                        "text/html": "Total execution time: 00:00:00.027"
                    },
                    "metadata": {}
                },
                {
                    "output_type": "execute_result",
                    "execution_count": 147,
                    "data": {
                        "application/vnd.dataresource+json": {
                            "schema": {
                                "fields": [
                                    {
                                        "name": "neighbourhood"
                                    },
                                    {
                                        "name": "Private Room"
                                    },
                                    {
                                        "name": "Private_Room_avg_revenue"
                                    },
                                    {
                                        "name": "Private_Room_avg_revenue_daily_365days"
                                    },
                                    {
                                        "name": "Private Room_avg_revenue_daily_365days_eachproperty"
                                    }
                                ]
                            },
                            "data": [
                                {
                                    "0": "Angaston",
                                    "1": "11",
                                    "2": "243936",
                                    "3": "668",
                                    "4": "60"
                                },
                                {
                                    "0": "Buchfelde",
                                    "1": "4",
                                    "2": "21976",
                                    "3": "60",
                                    "4": "15"
                                },
                                {
                                    "0": "Cockatoo Valley",
                                    "1": "1",
                                    "2": "20580",
                                    "3": "56",
                                    "4": "56"
                                },
                                {
                                    "0": "Kapunda",
                                    "1": "3",
                                    "2": "59856",
                                    "3": "163",
                                    "4": "54"
                                },
                                {
                                    "0": "Lyndoch",
                                    "1": "2",
                                    "2": "130000",
                                    "3": "356",
                                    "4": "178"
                                },
                                {
                                    "0": "Mount Crawford",
                                    "1": "1",
                                    "2": "12870",
                                    "3": "35",
                                    "4": "35"
                                },
                                {
                                    "0": "Mount Pleasant",
                                    "1": "4",
                                    "2": "0",
                                    "3": "0",
                                    "4": "0"
                                },
                                {
                                    "0": "Nuriootpa",
                                    "1": "4",
                                    "2": "63656",
                                    "3": "174",
                                    "4": "43"
                                },
                                {
                                    "0": "Penrice",
                                    "1": "1",
                                    "2": "12220",
                                    "3": "33",
                                    "4": "33"
                                },
                                {
                                    "0": "Sandy Creek",
                                    "1": "1",
                                    "2": "54626",
                                    "3": "149",
                                    "4": "149"
                                },
                                {
                                    "0": "Tanunda",
                                    "1": "5",
                                    "2": "248825",
                                    "3": "681",
                                    "4": "136"
                                }
                            ]
                        },
                        "text/html": "<table><tr><th>neighbourhood</th><th>Private Room</th><th>Private_Room_avg_revenue</th><th>Private_Room_avg_revenue_daily_365days</th><th>Private Room_avg_revenue_daily_365days_eachproperty</th></tr><tr><td>Angaston</td><td>11</td><td>243936</td><td>668</td><td>60</td></tr><tr><td>Buchfelde</td><td>4</td><td>21976</td><td>60</td><td>15</td></tr><tr><td>Cockatoo Valley</td><td>1</td><td>20580</td><td>56</td><td>56</td></tr><tr><td>Kapunda</td><td>3</td><td>59856</td><td>163</td><td>54</td></tr><tr><td>Lyndoch</td><td>2</td><td>130000</td><td>356</td><td>178</td></tr><tr><td>Mount Crawford</td><td>1</td><td>12870</td><td>35</td><td>35</td></tr><tr><td>Mount Pleasant</td><td>4</td><td>0</td><td>0</td><td>0</td></tr><tr><td>Nuriootpa</td><td>4</td><td>63656</td><td>174</td><td>43</td></tr><tr><td>Penrice</td><td>1</td><td>12220</td><td>33</td><td>33</td></tr><tr><td>Sandy Creek</td><td>1</td><td>54626</td><td>149</td><td>149</td></tr><tr><td>Tanunda</td><td>5</td><td>248825</td><td>681</td><td>136</td></tr></table>"
                    },
                    "metadata": {}
                }
            ],
            "execution_count": 147
        },
        {
            "cell_type": "markdown",
            "source": [
                "**Comments:** Our analysis shows that in the region of Tanunda, Angaston, and Lyndoch, private room rentals play an important role in the rental market, even though the gross revenue generated from this type of property may be smaller than that of Entire home/apartments. The data indicates that the quantity of properties of this type is not expressive in Tanunda, and it is more common in Angaston."
            ],
            "metadata": {
                "language": "sql",
                "azdata_cell_guid": "7c5404d5-e31a-4167-9ec9-af2e262899fa"
            },
            "attachments": {}
        },
        {
            "cell_type": "code",
            "source": [
                "--CHECKING WHAT HAPPENED IN MOUNT PLEASANT\r\n",
                "select neighbourhood,\r\n",
                "room_type,\r\n",
                "price,\r\n",
                "availability_365 \r\n",
                "from [listings (1)]\r\n",
                "Where neighbourhood = 'Mount Pleasant' "
            ],
            "metadata": {
                "language": "sql",
                "azdata_cell_guid": "ea323d54-1a29-4ded-b57a-9be1709eb382",
                "tags": []
            },
            "outputs": [
                {
                    "output_type": "display_data",
                    "data": {
                        "text/html": "(8 rows affected)"
                    },
                    "metadata": {}
                },
                {
                    "output_type": "display_data",
                    "data": {
                        "text/html": "Total execution time: 00:00:00.013"
                    },
                    "metadata": {}
                },
                {
                    "output_type": "execute_result",
                    "execution_count": 148,
                    "data": {
                        "application/vnd.dataresource+json": {
                            "schema": {
                                "fields": [
                                    {
                                        "name": "neighbourhood"
                                    },
                                    {
                                        "name": "room_type"
                                    },
                                    {
                                        "name": "price"
                                    },
                                    {
                                        "name": "availability_365"
                                    }
                                ]
                            },
                            "data": [
                                {
                                    "0": "Mount Pleasant",
                                    "1": "Entire home/apt",
                                    "2": "315",
                                    "3": "91"
                                },
                                {
                                    "0": "Mount Pleasant",
                                    "1": "Entire home/apt",
                                    "2": "105",
                                    "3": "0"
                                },
                                {
                                    "0": "Mount Pleasant",
                                    "1": "Entire home/apt",
                                    "2": "1105",
                                    "3": "365"
                                },
                                {
                                    "0": "Mount Pleasant",
                                    "1": "Private room",
                                    "2": "235",
                                    "3": "365"
                                },
                                {
                                    "0": "Mount Pleasant",
                                    "1": "Shared room",
                                    "2": "288",
                                    "3": "365"
                                },
                                {
                                    "0": "Mount Pleasant",
                                    "1": "Private room",
                                    "2": "432",
                                    "3": "365"
                                },
                                {
                                    "0": "Mount Pleasant",
                                    "1": "Private room",
                                    "2": "720",
                                    "3": "365"
                                },
                                {
                                    "0": "Mount Pleasant",
                                    "1": "Private room",
                                    "2": "576",
                                    "3": "365"
                                }
                            ]
                        },
                        "text/html": "<table><tr><th>neighbourhood</th><th>room_type</th><th>price</th><th>availability_365</th></tr><tr><td>Mount Pleasant</td><td>Entire home/apt</td><td>315</td><td>91</td></tr><tr><td>Mount Pleasant</td><td>Entire home/apt</td><td>105</td><td>0</td></tr><tr><td>Mount Pleasant</td><td>Entire home/apt</td><td>1105</td><td>365</td></tr><tr><td>Mount Pleasant</td><td>Private room</td><td>235</td><td>365</td></tr><tr><td>Mount Pleasant</td><td>Shared room</td><td>288</td><td>365</td></tr><tr><td>Mount Pleasant</td><td>Private room</td><td>432</td><td>365</td></tr><tr><td>Mount Pleasant</td><td>Private room</td><td>720</td><td>365</td></tr><tr><td>Mount Pleasant</td><td>Private room</td><td>576</td><td>365</td></tr></table>"
                    },
                    "metadata": {}
                }
            ],
            "execution_count": 148
        },
        {
            "cell_type": "markdown",
            "source": [
                "**Comments:** The lack of occupancy in the four private rooms in Mount Pleasant throughout the year indicates a lower demand for this type of property."
            ],
            "metadata": {
                "language": "sql",
                "azdata_cell_guid": "61206911-d548-4b6b-b3ef-04b715fdb3d4"
            },
            "attachments": {}
        },
        {
            "cell_type": "code",
            "source": [
                ""
            ],
            "metadata": {
                "azdata_cell_guid": "081d538f-9d11-4fa4-ae5d-cca8f33cbc64",
                "language": "sql"
            },
            "outputs": [
                {
                    "output_type": "display_data",
                    "data": {
                        "text/html": "Commands completed successfully."
                    },
                    "metadata": {}
                },
                {
                    "output_type": "display_data",
                    "data": {
                        "text/html": "Total execution time: 00:00:00"
                    },
                    "metadata": {}
                }
            ],
            "execution_count": 149
        },
        {
            "cell_type": "markdown",
            "source": [
                "**<u>\\-Investigating who are the currently hosts and how and where they invest on the rental market</u>**"
            ],
            "metadata": {
                "language": "sql",
                "azdata_cell_guid": "dda8805c-64f3-4f62-b1f0-2b9821d6a1fa"
            },
            "attachments": {}
        },
        {
            "cell_type": "code",
            "source": [
                "-- OVERVIEW OF THE DATASET \r\n",
                "SELECT TOP(20)*\r\n",
                "FROM [listings (1)]"
            ],
            "metadata": {
                "language": "sql",
                "azdata_cell_guid": "2cae3ad9-6b4b-4e7a-8282-035d0b03f9b6"
            },
            "outputs": [
                {
                    "output_type": "display_data",
                    "data": {
                        "text/html": "(20 rows affected)"
                    },
                    "metadata": {}
                },
                {
                    "output_type": "display_data",
                    "data": {
                        "text/html": "Total execution time: 00:00:00.009"
                    },
                    "metadata": {}
                },
                {
                    "output_type": "execute_result",
                    "execution_count": 150,
                    "data": {
                        "application/vnd.dataresource+json": {
                            "schema": {
                                "fields": [
                                    {
                                        "name": "id"
                                    },
                                    {
                                        "name": "name"
                                    },
                                    {
                                        "name": "host_id"
                                    },
                                    {
                                        "name": "host_name"
                                    },
                                    {
                                        "name": "neighbourhood"
                                    },
                                    {
                                        "name": "latitude"
                                    },
                                    {
                                        "name": "longitude"
                                    },
                                    {
                                        "name": "room_type"
                                    },
                                    {
                                        "name": "price"
                                    },
                                    {
                                        "name": "minimum_nights"
                                    },
                                    {
                                        "name": "number_of_reviews"
                                    },
                                    {
                                        "name": "last_review"
                                    },
                                    {
                                        "name": "reviews_per_month"
                                    },
                                    {
                                        "name": "calculated_host_listings_count"
                                    },
                                    {
                                        "name": "availability_365"
                                    },
                                    {
                                        "name": "number_of_reviews_ltm"
                                    }
                                ]
                            },
                            "data": [
                                {
                                    "0": "1125097",
                                    "1": "Strathlyn Coach House Barossa",
                                    "2": "6172214",
                                    "3": "Heather",
                                    "4": "Angaston",
                                    "5": "-3449389",
                                    "6": "13902942",
                                    "7": "Entire home/apt",
                                    "8": "254",
                                    "9": "2",
                                    "10": "166",
                                    "11": "2022-09-19",
                                    "12": "151",
                                    "13": "3",
                                    "14": "302",
                                    "15": "24"
                                },
                                {
                                    "0": "1133195",
                                    "1": "Strathlyn Lemon Tree Spa  Barossa",
                                    "2": "6172214",
                                    "3": "Heather",
                                    "4": "Penrice",
                                    "5": "-3449403",
                                    "6": "13903202",
                                    "7": "Entire home/apt",
                                    "8": "236",
                                    "9": "2",
                                    "10": "59",
                                    "11": "2022-09-04",
                                    "12": "61",
                                    "13": "3",
                                    "14": "323",
                                    "15": "14"
                                },
                                {
                                    "0": "1133236",
                                    "1": "Strathlyn Spa Garden Suites Barossa",
                                    "2": "6172214",
                                    "3": "Heather",
                                    "4": "Penrice",
                                    "5": "-3449356",
                                    "6": "13903221",
                                    "7": "Private room",
                                    "8": "260",
                                    "9": "1",
                                    "10": "49",
                                    "11": "2022-09-18",
                                    "12": "47",
                                    "13": "3",
                                    "14": "318",
                                    "15": "15"
                                },
                                {
                                    "0": "1178384",
                                    "1": "Country cottage getaway",
                                    "2": "2122575",
                                    "3": "Tanya",
                                    "4": "Nuriootpa",
                                    "5": "-3446694",
                                    "6": "1389936",
                                    "7": "Private room",
                                    "8": "104",
                                    "9": "1",
                                    "10": "0",
                                    "11": "NULL",
                                    "12": "NULL",
                                    "13": "1",
                                    "14": "335",
                                    "15": "0"
                                },
                                {
                                    "0": "1710462",
                                    "1": "Shea-Oak Log Studio Shed",
                                    "2": "6645956",
                                    "3": "Kylie And Tom",
                                    "4": "Shea-Oak Log",
                                    "5": "-3451049",
                                    "6": "13881731",
                                    "7": "Entire home/apt",
                                    "8": "102",
                                    "9": "2",
                                    "10": "497",
                                    "11": "2022-09-06",
                                    "12": "459",
                                    "13": "1",
                                    "14": "330",
                                    "15": "30"
                                },
                                {
                                    "0": "1787389",
                                    "1": "Barossa Valley Apt 1 offers 2 bedrooms 2 bathroom",
                                    "2": "9380091",
                                    "3": "Kym",
                                    "4": "Tanunda",
                                    "5": "-3452835",
                                    "6": "13895364",
                                    "7": "Entire home/apt",
                                    "8": "400",
                                    "9": "2",
                                    "10": "17",
                                    "11": "2020-12-04",
                                    "12": "21",
                                    "13": "17",
                                    "14": "50",
                                    "15": "0"
                                },
                                {
                                    "0": "2028951",
                                    "1": "2 bedrooms with Woodfire, Barossa Country Cottages",
                                    "2": "10421165",
                                    "3": "Mark And Fiona",
                                    "4": "Lyndoch",
                                    "5": "-3460374",
                                    "6": "13888348",
                                    "7": "Entire home/apt",
                                    "8": "209",
                                    "9": "2",
                                    "10": "8",
                                    "11": "2022-09-05",
                                    "12": "145",
                                    "13": "2",
                                    "14": "309",
                                    "15": "8"
                                },
                                {
                                    "0": "2327616",
                                    "1": "Gawler River Farm B and B.",
                                    "2": "6713275",
                                    "3": "Bill",
                                    "4": "Gawler River",
                                    "5": "-3460563",
                                    "6": "13864823",
                                    "7": "Entire home/apt",
                                    "8": "90",
                                    "9": "1",
                                    "10": "125",
                                    "11": "2022-09-21",
                                    "12": "135",
                                    "13": "1",
                                    "14": "343",
                                    "15": "29"
                                },
                                {
                                    "0": "2567051",
                                    "1": "The Miners Cottage Barossa Valley",
                                    "2": "10726293",
                                    "3": "Rebecca",
                                    "4": "Cockatoo Valley",
                                    "5": "-3463884",
                                    "6": "13884564",
                                    "7": "Private room",
                                    "8": "210",
                                    "9": "2",
                                    "10": "31",
                                    "11": "2022-08-22",
                                    "12": "32",
                                    "13": "1",
                                    "14": "267",
                                    "15": "5"
                                },
                                {
                                    "0": "3506622",
                                    "1": "A nice room in a big 4 b/room house",
                                    "2": "17656515",
                                    "3": "Andrew",
                                    "4": "Buchfelde",
                                    "5": "-3461874",
                                    "6": "13873199",
                                    "7": "Private room",
                                    "8": "85",
                                    "9": "1",
                                    "10": "0",
                                    "11": "NULL",
                                    "12": "NULL",
                                    "13": "1",
                                    "14": "365",
                                    "15": "0"
                                },
                                {
                                    "0": "5289072",
                                    "1": "Mt McKenzie Raspberry Farm",
                                    "2": "27321203",
                                    "3": "Phillip",
                                    "4": "Flaxman Valley",
                                    "5": "-3456405",
                                    "6": "13907988",
                                    "7": "Entire home/apt",
                                    "8": "200",
                                    "9": "3",
                                    "10": "119",
                                    "11": "2022-08-24",
                                    "12": "141",
                                    "13": "1",
                                    "14": "134",
                                    "15": "20"
                                },
                                {
                                    "0": "5426792",
                                    "1": "\"The Shed\"",
                                    "2": "28149709",
                                    "3": "Andrew & Belinda",
                                    "4": "Nuriootpa",
                                    "5": "-3446397",
                                    "6": "13900191",
                                    "7": "Entire home/apt",
                                    "8": "63",
                                    "9": "1",
                                    "10": "138",
                                    "11": "2022-09-11",
                                    "12": "166",
                                    "13": "1",
                                    "14": "219",
                                    "15": "15"
                                },
                                {
                                    "0": "5537173",
                                    "1": "1837 Barossa Luxury  Vineyard Cottage S Australia",
                                    "2": "28712482",
                                    "3": "Nelly",
                                    "4": "Lyndoch",
                                    "5": "-3458347",
                                    "6": "13886353",
                                    "7": "Entire home/apt",
                                    "8": "425",
                                    "9": "2",
                                    "10": "34",
                                    "11": "2022-09-17",
                                    "12": "70",
                                    "13": "3",
                                    "14": "303",
                                    "15": "11"
                                },
                                {
                                    "0": "6157653",
                                    "1": "Barossa Barn Bed & Breakfast",
                                    "2": "31945359",
                                    "3": "Julie",
                                    "4": "Penrice",
                                    "5": "-344877",
                                    "6": "13904407",
                                    "7": "Entire home/apt",
                                    "8": "277",
                                    "9": "2",
                                    "10": "28",
                                    "11": "2022-04-19",
                                    "12": "32",
                                    "13": "1",
                                    "14": "80",
                                    "15": "3"
                                },
                                {
                                    "0": "6170279",
                                    "1": "Little Para Cottage",
                                    "2": "32013001",
                                    "3": "Wendy",
                                    "4": "Tanunda",
                                    "5": "-3451062",
                                    "6": "13897196",
                                    "7": "Entire home/apt",
                                    "8": "206",
                                    "9": "2",
                                    "10": "160",
                                    "11": "2022-09-11",
                                    "12": "177",
                                    "13": "1",
                                    "14": "6",
                                    "15": "16"
                                },
                                {
                                    "0": "6170887",
                                    "1": "Elderton Wines Guest House",
                                    "2": "32017867",
                                    "3": "Elderton",
                                    "4": "Nuriootpa",
                                    "5": "-3447628",
                                    "6": "13899761",
                                    "7": "Entire home/apt",
                                    "8": "350",
                                    "9": "1",
                                    "10": "30",
                                    "11": "2022-08-08",
                                    "12": "34",
                                    "13": "1",
                                    "14": "214",
                                    "15": "4"
                                },
                                {
                                    "0": "6296823",
                                    "1": "Cosy 2-bedroom Cottage in the heart of the Barossa",
                                    "2": "32743215",
                                    "3": "Veritas Retreat Barossa",
                                    "4": "Tanunda",
                                    "5": "-3450314",
                                    "6": "13895909",
                                    "7": "Entire home/apt",
                                    "8": "290",
                                    "9": "2",
                                    "10": "80",
                                    "11": "2022-09-19",
                                    "12": "89",
                                    "13": "2",
                                    "14": "270",
                                    "15": "11"
                                },
                                {
                                    "0": "6861247",
                                    "1": "Rustic on 13th",
                                    "2": "35954891",
                                    "3": "Kirsten",
                                    "4": "Buchfelde",
                                    "5": "-3460501",
                                    "6": "13874353",
                                    "7": "Entire home/apt",
                                    "8": "239",
                                    "9": "4",
                                    "10": "46",
                                    "11": "2022-05-05",
                                    "12": "63",
                                    "13": "1",
                                    "14": "152",
                                    "15": "2"
                                },
                                {
                                    "0": "7055506",
                                    "1": "Vineyard Cottage - Under the Vines",
                                    "2": "10626104",
                                    "3": "Karen",
                                    "4": "Nuriootpa",
                                    "5": "-3450166",
                                    "6": "13899752",
                                    "7": "Entire home/apt",
                                    "8": "243",
                                    "9": "2",
                                    "10": "180",
                                    "11": "2021-10-17",
                                    "12": "207",
                                    "13": "2",
                                    "14": "0",
                                    "15": "1"
                                },
                                {
                                    "0": "7297171",
                                    "1": "Pembury Chase Barossa Valley",
                                    "2": "26147078",
                                    "3": "Jonathan And Kate",
                                    "4": "Angaston",
                                    "5": "-3450182",
                                    "6": "1390374",
                                    "7": "Private room",
                                    "8": "95",
                                    "9": "1",
                                    "10": "150",
                                    "11": "2019-04-28",
                                    "12": "174",
                                    "13": "6",
                                    "14": "0",
                                    "15": "0"
                                }
                            ]
                        },
                        "text/html": "<table><tr><th>id</th><th>name</th><th>host_id</th><th>host_name</th><th>neighbourhood</th><th>latitude</th><th>longitude</th><th>room_type</th><th>price</th><th>minimum_nights</th><th>number_of_reviews</th><th>last_review</th><th>reviews_per_month</th><th>calculated_host_listings_count</th><th>availability_365</th><th>number_of_reviews_ltm</th></tr><tr><td>1125097</td><td>Strathlyn Coach House Barossa</td><td>6172214</td><td>Heather</td><td>Angaston</td><td>-3449389</td><td>13902942</td><td>Entire home/apt</td><td>254</td><td>2</td><td>166</td><td>2022-09-19</td><td>151</td><td>3</td><td>302</td><td>24</td></tr><tr><td>1133195</td><td>Strathlyn Lemon Tree Spa  Barossa</td><td>6172214</td><td>Heather</td><td>Penrice</td><td>-3449403</td><td>13903202</td><td>Entire home/apt</td><td>236</td><td>2</td><td>59</td><td>2022-09-04</td><td>61</td><td>3</td><td>323</td><td>14</td></tr><tr><td>1133236</td><td>Strathlyn Spa Garden Suites Barossa</td><td>6172214</td><td>Heather</td><td>Penrice</td><td>-3449356</td><td>13903221</td><td>Private room</td><td>260</td><td>1</td><td>49</td><td>2022-09-18</td><td>47</td><td>3</td><td>318</td><td>15</td></tr><tr><td>1178384</td><td>Country cottage getaway</td><td>2122575</td><td>Tanya</td><td>Nuriootpa</td><td>-3446694</td><td>1389936</td><td>Private room</td><td>104</td><td>1</td><td>0</td><td>NULL</td><td>NULL</td><td>1</td><td>335</td><td>0</td></tr><tr><td>1710462</td><td>Shea-Oak Log Studio Shed</td><td>6645956</td><td>Kylie And Tom</td><td>Shea-Oak Log</td><td>-3451049</td><td>13881731</td><td>Entire home/apt</td><td>102</td><td>2</td><td>497</td><td>2022-09-06</td><td>459</td><td>1</td><td>330</td><td>30</td></tr><tr><td>1787389</td><td>Barossa Valley Apt 1 offers 2 bedrooms 2 bathroom</td><td>9380091</td><td>Kym</td><td>Tanunda</td><td>-3452835</td><td>13895364</td><td>Entire home/apt</td><td>400</td><td>2</td><td>17</td><td>2020-12-04</td><td>21</td><td>17</td><td>50</td><td>0</td></tr><tr><td>2028951</td><td>2 bedrooms with Woodfire, Barossa Country Cottages</td><td>10421165</td><td>Mark And Fiona</td><td>Lyndoch</td><td>-3460374</td><td>13888348</td><td>Entire home/apt</td><td>209</td><td>2</td><td>8</td><td>2022-09-05</td><td>145</td><td>2</td><td>309</td><td>8</td></tr><tr><td>2327616</td><td>Gawler River Farm B and B.</td><td>6713275</td><td>Bill</td><td>Gawler River</td><td>-3460563</td><td>13864823</td><td>Entire home/apt</td><td>90</td><td>1</td><td>125</td><td>2022-09-21</td><td>135</td><td>1</td><td>343</td><td>29</td></tr><tr><td>2567051</td><td>The Miners Cottage Barossa Valley</td><td>10726293</td><td>Rebecca</td><td>Cockatoo Valley</td><td>-3463884</td><td>13884564</td><td>Private room</td><td>210</td><td>2</td><td>31</td><td>2022-08-22</td><td>32</td><td>1</td><td>267</td><td>5</td></tr><tr><td>3506622</td><td>A nice room in a big 4 b/room house</td><td>17656515</td><td>Andrew</td><td>Buchfelde</td><td>-3461874</td><td>13873199</td><td>Private room</td><td>85</td><td>1</td><td>0</td><td>NULL</td><td>NULL</td><td>1</td><td>365</td><td>0</td></tr><tr><td>5289072</td><td>Mt McKenzie Raspberry Farm</td><td>27321203</td><td>Phillip</td><td>Flaxman Valley</td><td>-3456405</td><td>13907988</td><td>Entire home/apt</td><td>200</td><td>3</td><td>119</td><td>2022-08-24</td><td>141</td><td>1</td><td>134</td><td>20</td></tr><tr><td>5426792</td><td>&quot;The Shed&quot;</td><td>28149709</td><td>Andrew &amp; Belinda</td><td>Nuriootpa</td><td>-3446397</td><td>13900191</td><td>Entire home/apt</td><td>63</td><td>1</td><td>138</td><td>2022-09-11</td><td>166</td><td>1</td><td>219</td><td>15</td></tr><tr><td>5537173</td><td>1837 Barossa Luxury  Vineyard Cottage S Australia</td><td>28712482</td><td>Nelly</td><td>Lyndoch</td><td>-3458347</td><td>13886353</td><td>Entire home/apt</td><td>425</td><td>2</td><td>34</td><td>2022-09-17</td><td>70</td><td>3</td><td>303</td><td>11</td></tr><tr><td>6157653</td><td>Barossa Barn Bed &amp; Breakfast</td><td>31945359</td><td>Julie</td><td>Penrice</td><td>-344877</td><td>13904407</td><td>Entire home/apt</td><td>277</td><td>2</td><td>28</td><td>2022-04-19</td><td>32</td><td>1</td><td>80</td><td>3</td></tr><tr><td>6170279</td><td>Little Para Cottage</td><td>32013001</td><td>Wendy</td><td>Tanunda</td><td>-3451062</td><td>13897196</td><td>Entire home/apt</td><td>206</td><td>2</td><td>160</td><td>2022-09-11</td><td>177</td><td>1</td><td>6</td><td>16</td></tr><tr><td>6170887</td><td>Elderton Wines Guest House</td><td>32017867</td><td>Elderton</td><td>Nuriootpa</td><td>-3447628</td><td>13899761</td><td>Entire home/apt</td><td>350</td><td>1</td><td>30</td><td>2022-08-08</td><td>34</td><td>1</td><td>214</td><td>4</td></tr><tr><td>6296823</td><td>Cosy 2-bedroom Cottage in the heart of the Barossa</td><td>32743215</td><td>Veritas Retreat Barossa</td><td>Tanunda</td><td>-3450314</td><td>13895909</td><td>Entire home/apt</td><td>290</td><td>2</td><td>80</td><td>2022-09-19</td><td>89</td><td>2</td><td>270</td><td>11</td></tr><tr><td>6861247</td><td>Rustic on 13th</td><td>35954891</td><td>Kirsten</td><td>Buchfelde</td><td>-3460501</td><td>13874353</td><td>Entire home/apt</td><td>239</td><td>4</td><td>46</td><td>2022-05-05</td><td>63</td><td>1</td><td>152</td><td>2</td></tr><tr><td>7055506</td><td>Vineyard Cottage - Under the Vines</td><td>10626104</td><td>Karen</td><td>Nuriootpa</td><td>-3450166</td><td>13899752</td><td>Entire home/apt</td><td>243</td><td>2</td><td>180</td><td>2021-10-17</td><td>207</td><td>2</td><td>0</td><td>1</td></tr><tr><td>7297171</td><td>Pembury Chase Barossa Valley</td><td>26147078</td><td>Jonathan And Kate</td><td>Angaston</td><td>-3450182</td><td>1390374</td><td>Private room</td><td>95</td><td>1</td><td>150</td><td>2019-04-28</td><td>174</td><td>6</td><td>0</td><td>0</td></tr></table>"
                    },
                    "metadata": {}
                }
            ],
            "execution_count": 150
        },
        {
            "cell_type": "markdown",
            "source": [
                "**<u>\\-Selecting the 10 best hosts of the Airbnb list</u>**"
            ],
            "metadata": {
                "language": "sql",
                "azdata_cell_guid": "74cc2f51-c47a-401e-b63c-5959ffd9e7e2"
            },
            "attachments": {}
        },
        {
            "cell_type": "code",
            "source": [
                "--TOP 10 HOSTS WITH MORE PROPERTIES AT BAROSSA VALLEY\r\n",
                "SELECT TOP(10)host_id, \r\n",
                "host_name,\r\n",
                "SUM(calculated_host_listings_count)/COUNT(host_id) as num_of_listings\r\n",
                "FROM [listings (1)]\r\n",
                "GROUP BY host_id,host_name\r\n",
                "ORDER BY num_of_listings DESC\r\n",
                "\r\n",
                ""
            ],
            "metadata": {
                "azdata_cell_guid": "e8711665-e90f-4e87-9f23-65ae4e1d234b",
                "language": "sql",
                "tags": []
            },
            "outputs": [
                {
                    "output_type": "display_data",
                    "data": {
                        "text/html": "(10 rows affected)"
                    },
                    "metadata": {}
                },
                {
                    "output_type": "display_data",
                    "data": {
                        "text/html": "Total execution time: 00:00:00.014"
                    },
                    "metadata": {}
                },
                {
                    "output_type": "execute_result",
                    "execution_count": 151,
                    "data": {
                        "application/vnd.dataresource+json": {
                            "schema": {
                                "fields": [
                                    {
                                        "name": "host_id"
                                    },
                                    {
                                        "name": "host_name"
                                    },
                                    {
                                        "name": "num_of_listings"
                                    }
                                ]
                            },
                            "data": [
                                {
                                    "0": "9380091",
                                    "1": "Kym",
                                    "2": "17"
                                },
                                {
                                    "0": "439331891",
                                    "1": "Emma&Roger",
                                    "2": "8"
                                },
                                {
                                    "0": "383527612",
                                    "1": "Jean-Claude",
                                    "2": "7"
                                },
                                {
                                    "0": "461601857",
                                    "1": "The Wine",
                                    "2": "7"
                                },
                                {
                                    "0": "38878329",
                                    "1": "Andrew",
                                    "2": "6"
                                },
                                {
                                    "0": "162433043",
                                    "1": "Danielle",
                                    "2": "6"
                                },
                                {
                                    "0": "472161981",
                                    "1": "Heather",
                                    "2": "6"
                                },
                                {
                                    "0": "26147078",
                                    "1": "Jonathan And Kate",
                                    "2": "6"
                                },
                                {
                                    "0": "63693332",
                                    "1": "GaryLeonie",
                                    "2": "5"
                                },
                                {
                                    "0": "262121622",
                                    "1": "Jerry",
                                    "2": "5"
                                }
                            ]
                        },
                        "text/html": "<table><tr><th>host_id</th><th>host_name</th><th>num_of_listings</th></tr><tr><td>9380091</td><td>Kym</td><td>17</td></tr><tr><td>439331891</td><td>Emma&amp;Roger</td><td>8</td></tr><tr><td>383527612</td><td>Jean-Claude</td><td>7</td></tr><tr><td>461601857</td><td>The Wine</td><td>7</td></tr><tr><td>38878329</td><td>Andrew</td><td>6</td></tr><tr><td>162433043</td><td>Danielle</td><td>6</td></tr><tr><td>472161981</td><td>Heather</td><td>6</td></tr><tr><td>26147078</td><td>Jonathan And Kate</td><td>6</td></tr><tr><td>63693332</td><td>GaryLeonie</td><td>5</td></tr><tr><td>262121622</td><td>Jerry</td><td>5</td></tr></table>"
                    },
                    "metadata": {}
                }
            ],
            "execution_count": 151
        },
        {
            "cell_type": "markdown",
            "source": [
                "**<u>\\-Where the 10 best hosts are located</u>**"
            ],
            "metadata": {
                "language": "sql",
                "azdata_cell_guid": "49c21928-611a-4c60-96b1-bca0c1ceecef"
            },
            "attachments": {}
        },
        {
            "cell_type": "code",
            "source": [
                "WITH top10hosts as ( SELECT TOP(10)host_id, \r\n",
                "host_name,\r\n",
                "SUM(calculated_host_listings_count)/COUNT(host_id) as num_of_listings\r\n",
                "FROM [listings (1)]\r\n",
                "GROUP BY host_id,host_name\r\n",
                "ORDER BY num_of_listings DESC\r\n",
                ") \r\n",
                "SELECT top10hosts.host_name, \r\n",
                "neighbourhood\r\n",
                "FROM [listings (1)]\r\n",
                "JOIN top10hosts\r\n",
                "ON [listings (1)].host_id = top10hosts.host_id\r\n",
                "\r\n",
                ""
            ],
            "metadata": {
                "azdata_cell_guid": "86aa66ff-5b06-43ab-97bf-08d827c9f8a9",
                "language": "sql",
                "tags": []
            },
            "outputs": [
                {
                    "output_type": "display_data",
                    "data": {
                        "text/html": "(73 rows affected)"
                    },
                    "metadata": {}
                },
                {
                    "output_type": "display_data",
                    "data": {
                        "text/html": "Total execution time: 00:00:00.018"
                    },
                    "metadata": {}
                },
                {
                    "output_type": "execute_result",
                    "execution_count": 152,
                    "data": {
                        "application/vnd.dataresource+json": {
                            "schema": {
                                "fields": [
                                    {
                                        "name": "host_name"
                                    },
                                    {
                                        "name": "neighbourhood"
                                    }
                                ]
                            },
                            "data": [
                                {
                                    "0": "Kym",
                                    "1": "Tanunda"
                                },
                                {
                                    "0": "Jonathan And Kate",
                                    "1": "Angaston"
                                },
                                {
                                    "0": "Jonathan And Kate",
                                    "1": "Angaston"
                                },
                                {
                                    "0": "Kym",
                                    "1": "Tanunda"
                                },
                                {
                                    "0": "Kym",
                                    "1": "Tanunda"
                                },
                                {
                                    "0": "Kym",
                                    "1": "Tanunda"
                                },
                                {
                                    "0": "Kym",
                                    "1": "Tanunda"
                                },
                                {
                                    "0": "Kym",
                                    "1": "Tanunda"
                                },
                                {
                                    "0": "Kym",
                                    "1": "Tanunda"
                                },
                                {
                                    "0": "Kym",
                                    "1": "Tanunda"
                                },
                                {
                                    "0": "Kym",
                                    "1": "Tanunda"
                                },
                                {
                                    "0": "Kym",
                                    "1": "Tanunda"
                                },
                                {
                                    "0": "Kym",
                                    "1": "Tanunda"
                                },
                                {
                                    "0": "Kym",
                                    "1": "Tanunda"
                                },
                                {
                                    "0": "Kym",
                                    "1": "Tanunda"
                                },
                                {
                                    "0": "Kym",
                                    "1": "Tanunda"
                                },
                                {
                                    "0": "Jonathan And Kate",
                                    "1": "Angaston"
                                },
                                {
                                    "0": "Kym",
                                    "1": "Tanunda"
                                },
                                {
                                    "0": "Kym",
                                    "1": "Tanunda"
                                },
                                {
                                    "0": "GaryLeonie",
                                    "1": "Buchfelde"
                                },
                                {
                                    "0": "Andrew",
                                    "1": "Concordia"
                                },
                                {
                                    "0": "Jonathan And Kate",
                                    "1": "Angaston"
                                },
                                {
                                    "0": "Jonathan And Kate",
                                    "1": "Lyndoch"
                                },
                                {
                                    "0": "Jerry",
                                    "1": "Tanunda"
                                },
                                {
                                    "0": "Jerry",
                                    "1": "Angaston"
                                },
                                {
                                    "0": "Jerry",
                                    "1": "Angaston"
                                },
                                {
                                    "0": "Jerry",
                                    "1": "Angaston"
                                },
                                {
                                    "0": "Jerry",
                                    "1": "Angaston"
                                },
                                {
                                    "0": "Andrew",
                                    "1": "Hewett"
                                },
                                {
                                    "0": "Danielle",
                                    "1": "Angaston"
                                },
                                {
                                    "0": "Danielle",
                                    "1": "Angaston"
                                },
                                {
                                    "0": "Danielle",
                                    "1": "Angaston"
                                },
                                {
                                    "0": "Danielle",
                                    "1": "Angaston"
                                },
                                {
                                    "0": "Danielle",
                                    "1": "Angaston"
                                },
                                {
                                    "0": "Danielle",
                                    "1": "Angaston"
                                },
                                {
                                    "0": "Jonathan And Kate",
                                    "1": "Angaston"
                                },
                                {
                                    "0": "GaryLeonie",
                                    "1": "Hewett"
                                },
                                {
                                    "0": "Andrew",
                                    "1": "Concordia"
                                },
                                {
                                    "0": "Andrew",
                                    "1": "Concordia"
                                },
                                {
                                    "0": "GaryLeonie",
                                    "1": "Kalbeeba"
                                },
                                {
                                    "0": "Andrew",
                                    "1": "Concordia"
                                },
                                {
                                    "0": "GaryLeonie",
                                    "1": "Hewett"
                                },
                                {
                                    "0": "Jean-Claude",
                                    "1": "Kapunda"
                                },
                                {
                                    "0": "Jean-Claude",
                                    "1": "Kapunda"
                                },
                                {
                                    "0": "Jean-Claude",
                                    "1": "Kapunda"
                                },
                                {
                                    "0": "GaryLeonie",
                                    "1": "Hewett"
                                },
                                {
                                    "0": "Jean-Claude",
                                    "1": "Kapunda"
                                },
                                {
                                    "0": "Jean-Claude",
                                    "1": "Kapunda"
                                },
                                {
                                    "0": "Jean-Claude",
                                    "1": "Kapunda"
                                },
                                {
                                    "0": "Andrew",
                                    "1": "Concordia"
                                },
                                {
                                    "0": "Emma&Roger",
                                    "1": "Nuriootpa"
                                },
                                {
                                    "0": "Kym",
                                    "1": "Tanunda"
                                },
                                {
                                    "0": "Jean-Claude",
                                    "1": "Kapunda"
                                },
                                {
                                    "0": "The Wine",
                                    "1": "Tanunda"
                                },
                                {
                                    "0": "The Wine",
                                    "1": "Tanunda"
                                },
                                {
                                    "0": "The Wine",
                                    "1": "Tanunda"
                                },
                                {
                                    "0": "The Wine",
                                    "1": "Tanunda"
                                },
                                {
                                    "0": "The Wine",
                                    "1": "Tanunda"
                                },
                                {
                                    "0": "The Wine",
                                    "1": "Tanunda"
                                },
                                {
                                    "0": "The Wine",
                                    "1": "Tanunda"
                                },
                                {
                                    "0": "Heather",
                                    "1": "Mount Pleasant"
                                },
                                {
                                    "0": "Emma&Roger",
                                    "1": "Bethany"
                                },
                                {
                                    "0": "Emma&Roger",
                                    "1": "Bethany"
                                },
                                {
                                    "0": "Emma&Roger",
                                    "1": "Bethany"
                                },
                                {
                                    "0": "Emma&Roger",
                                    "1": "Bethany"
                                },
                                {
                                    "0": "Emma&Roger",
                                    "1": "Bethany"
                                },
                                {
                                    "0": "Emma&Roger",
                                    "1": "Bethany"
                                },
                                {
                                    "0": "Emma&Roger",
                                    "1": "Bethany"
                                },
                                {
                                    "0": "Heather",
                                    "1": "Mount Pleasant"
                                },
                                {
                                    "0": "Heather",
                                    "1": "Mount Pleasant"
                                },
                                {
                                    "0": "Heather",
                                    "1": "Mount Pleasant"
                                },
                                {
                                    "0": "Heather",
                                    "1": "Mount Pleasant"
                                },
                                {
                                    "0": "Heather",
                                    "1": "Mount Pleasant"
                                }
                            ]
                        },
                        "text/html": "<table><tr><th>host_name</th><th>neighbourhood</th></tr><tr><td>Kym</td><td>Tanunda</td></tr><tr><td>Jonathan And Kate</td><td>Angaston</td></tr><tr><td>Jonathan And Kate</td><td>Angaston</td></tr><tr><td>Kym</td><td>Tanunda</td></tr><tr><td>Kym</td><td>Tanunda</td></tr><tr><td>Kym</td><td>Tanunda</td></tr><tr><td>Kym</td><td>Tanunda</td></tr><tr><td>Kym</td><td>Tanunda</td></tr><tr><td>Kym</td><td>Tanunda</td></tr><tr><td>Kym</td><td>Tanunda</td></tr><tr><td>Kym</td><td>Tanunda</td></tr><tr><td>Kym</td><td>Tanunda</td></tr><tr><td>Kym</td><td>Tanunda</td></tr><tr><td>Kym</td><td>Tanunda</td></tr><tr><td>Kym</td><td>Tanunda</td></tr><tr><td>Kym</td><td>Tanunda</td></tr><tr><td>Jonathan And Kate</td><td>Angaston</td></tr><tr><td>Kym</td><td>Tanunda</td></tr><tr><td>Kym</td><td>Tanunda</td></tr><tr><td>GaryLeonie</td><td>Buchfelde</td></tr><tr><td>Andrew</td><td>Concordia</td></tr><tr><td>Jonathan And Kate</td><td>Angaston</td></tr><tr><td>Jonathan And Kate</td><td>Lyndoch</td></tr><tr><td>Jerry</td><td>Tanunda</td></tr><tr><td>Jerry</td><td>Angaston</td></tr><tr><td>Jerry</td><td>Angaston</td></tr><tr><td>Jerry</td><td>Angaston</td></tr><tr><td>Jerry</td><td>Angaston</td></tr><tr><td>Andrew</td><td>Hewett</td></tr><tr><td>Danielle</td><td>Angaston</td></tr><tr><td>Danielle</td><td>Angaston</td></tr><tr><td>Danielle</td><td>Angaston</td></tr><tr><td>Danielle</td><td>Angaston</td></tr><tr><td>Danielle</td><td>Angaston</td></tr><tr><td>Danielle</td><td>Angaston</td></tr><tr><td>Jonathan And Kate</td><td>Angaston</td></tr><tr><td>GaryLeonie</td><td>Hewett</td></tr><tr><td>Andrew</td><td>Concordia</td></tr><tr><td>Andrew</td><td>Concordia</td></tr><tr><td>GaryLeonie</td><td>Kalbeeba</td></tr><tr><td>Andrew</td><td>Concordia</td></tr><tr><td>GaryLeonie</td><td>Hewett</td></tr><tr><td>Jean-Claude</td><td>Kapunda</td></tr><tr><td>Jean-Claude</td><td>Kapunda</td></tr><tr><td>Jean-Claude</td><td>Kapunda</td></tr><tr><td>GaryLeonie</td><td>Hewett</td></tr><tr><td>Jean-Claude</td><td>Kapunda</td></tr><tr><td>Jean-Claude</td><td>Kapunda</td></tr><tr><td>Jean-Claude</td><td>Kapunda</td></tr><tr><td>Andrew</td><td>Concordia</td></tr><tr><td>Emma&amp;Roger</td><td>Nuriootpa</td></tr><tr><td>Kym</td><td>Tanunda</td></tr><tr><td>Jean-Claude</td><td>Kapunda</td></tr><tr><td>The Wine</td><td>Tanunda</td></tr><tr><td>The Wine</td><td>Tanunda</td></tr><tr><td>The Wine</td><td>Tanunda</td></tr><tr><td>The Wine</td><td>Tanunda</td></tr><tr><td>The Wine</td><td>Tanunda</td></tr><tr><td>The Wine</td><td>Tanunda</td></tr><tr><td>The Wine</td><td>Tanunda</td></tr><tr><td>Heather</td><td>Mount Pleasant</td></tr><tr><td>Emma&amp;Roger</td><td>Bethany</td></tr><tr><td>Emma&amp;Roger</td><td>Bethany</td></tr><tr><td>Emma&amp;Roger</td><td>Bethany</td></tr><tr><td>Emma&amp;Roger</td><td>Bethany</td></tr><tr><td>Emma&amp;Roger</td><td>Bethany</td></tr><tr><td>Emma&amp;Roger</td><td>Bethany</td></tr><tr><td>Emma&amp;Roger</td><td>Bethany</td></tr><tr><td>Heather</td><td>Mount Pleasant</td></tr><tr><td>Heather</td><td>Mount Pleasant</td></tr><tr><td>Heather</td><td>Mount Pleasant</td></tr><tr><td>Heather</td><td>Mount Pleasant</td></tr><tr><td>Heather</td><td>Mount Pleasant</td></tr></table>"
                    },
                    "metadata": {}
                }
            ],
            "execution_count": 152
        },
        {
            "cell_type": "code",
            "source": [
                "WITH top10hosts as (\r\n",
                "    SELECT TOP(10)host_id, \r\n",
                "    host_name,\r\n",
                "    SUM(calculated_host_listings_count)/COUNT(host_id) as num_of_listings\r\n",
                "    FROM [listings (1)]\r\n",
                "    GROUP BY host_id,host_name\r\n",
                "    ORDER BY num_of_listings DESC\r\n",
                "), \r\n",
                "neighbourtop10 AS (\r\n",
                "    SELECT top10hosts.host_name, \r\n",
                "    neighbourhood\r\n",
                "    FROM [listings (1)]\r\n",
                "    JOIN top10hosts\r\n",
                "    ON [listings (1)].host_id = top10hosts.host_id\r\n",
                ") \r\n",
                "    SELECT ROUND((COUNT(CASE WHEN neighbourhood = 'Tanunda' THEN 1 END) * 100.0) / CAST(COUNT(*) AS float),2) AS 'Tanunda(%)',\r\n",
                "    ROUND((COUNT(CASE WHEN neighbourhood = 'Angaston' THEN 1 END) * 100.0) / CAST(COUNT(*) AS float),2) AS 'Angaston(%)',\r\n",
                "    ROUND((COUNT(CASE WHEN neighbourhood = 'Buchfelde' THEN 1 END) * 100.0) / CAST(COUNT(*) AS float),2) AS 'Buchfelde(%)',\r\n",
                "    ROUND((COUNT(CASE WHEN neighbourhood = 'Lyndoch' THEN 1 END) * 100.0) / CAST(COUNT(*) AS float),2) AS 'Lyndoch(%)',\r\n",
                "    ROUND((COUNT(CASE WHEN neighbourhood = 'Concordia' THEN 1 END) * 100.0) / CAST(COUNT(*) AS float),2) AS 'Concordia(%)',\r\n",
                "    ROUND((COUNT(CASE WHEN neighbourhood = 'Mount Pleasant' THEN 1 END) * 100.0) / CAST(COUNT(*) AS float),2) AS 'Mount Pleasant(%)',\r\n",
                "    ROUND((COUNT(CASE WHEN neighbourhood = 'Nuriootpa' THEN 1 END) * 100.0) / CAST(COUNT(*) AS float),2) AS 'Nuriootpa(%)',\r\n",
                "    ROUND((COUNT(CASE WHEN neighbourhood = 'Bethany' THEN 1 END) * 100.0) / CAST(COUNT(*) AS float),2) AS 'Bethany(%)'\r\n",
                "FROM neighbourtop10"
            ],
            "metadata": {
                "language": "sql",
                "azdata_cell_guid": "97581474-778d-4357-95af-baab7f8a741f"
            },
            "outputs": [
                {
                    "output_type": "display_data",
                    "data": {
                        "text/html": "Warning: Null value is eliminated by an aggregate or other SET operation."
                    },
                    "metadata": {}
                },
                {
                    "output_type": "display_data",
                    "data": {
                        "text/html": "(1 row affected)"
                    },
                    "metadata": {}
                },
                {
                    "output_type": "display_data",
                    "data": {
                        "text/html": "Total execution time: 00:00:00.017"
                    },
                    "metadata": {}
                },
                {
                    "output_type": "execute_result",
                    "execution_count": 153,
                    "data": {
                        "application/vnd.dataresource+json": {
                            "schema": {
                                "fields": [
                                    {
                                        "name": "Tanunda(%)"
                                    },
                                    {
                                        "name": "Angaston(%)"
                                    },
                                    {
                                        "name": "Buchfelde(%)"
                                    },
                                    {
                                        "name": "Lyndoch(%)"
                                    },
                                    {
                                        "name": "Concordia(%)"
                                    },
                                    {
                                        "name": "Mount Pleasant(%)"
                                    },
                                    {
                                        "name": "Nuriootpa(%)"
                                    },
                                    {
                                        "name": "Bethany(%)"
                                    }
                                ]
                            },
                            "data": [
                                {
                                    "0": "34,25",
                                    "1": "20,55",
                                    "2": "1,37",
                                    "3": "1,37",
                                    "4": "6,85",
                                    "5": "8,22",
                                    "6": "1,37",
                                    "7": "9,59"
                                }
                            ]
                        },
                        "text/html": "<table><tr><th>Tanunda(%)</th><th>Angaston(%)</th><th>Buchfelde(%)</th><th>Lyndoch(%)</th><th>Concordia(%)</th><th>Mount Pleasant(%)</th><th>Nuriootpa(%)</th><th>Bethany(%)</th></tr><tr><td>34,25</td><td>20,55</td><td>1,37</td><td>1,37</td><td>6,85</td><td>8,22</td><td>1,37</td><td>9,59</td></tr></table>"
                    },
                    "metadata": {}
                }
            ],
            "execution_count": 153
        },
        {
            "cell_type": "markdown",
            "source": [
                "**Comments:** To gain a more comprehensive understanding of the property market in the Barossa Valley on Airbnb, we selected the top 10 hosts. By analyzing the number of listings and location of these hosts, we aim to identify patterns and trends in the market. Additionally, by examining the revenue generated by these hosts, we hope to gain insight into the financial performance of the market and how it may be impacted by various factors. From our analysis, it appears that Tanunda and Angaston are the preferred locations in the region for the main hosts on the list. This information can be useful for those looking to invest in or enter the Barossa Valley property market on Airbnb, as well as for current hosts looking to improve their performance."
            ],
            "metadata": {
                "language": "sql",
                "azdata_cell_guid": "109ec13c-bd5b-4e84-9916-9a3989735d03"
            },
            "attachments": {}
        },
        {
            "cell_type": "markdown",
            "source": [
                "**<u>\\-Financial rent performance of the 10 best hosts(gross revenue)</u>**"
            ],
            "metadata": {
                "language": "sql",
                "azdata_cell_guid": "859eb658-b543-4502-824b-06e7def6c6dd"
            },
            "attachments": {}
        },
        {
            "cell_type": "code",
            "source": [
                "-- TOP 10 FINANCIAL PERFORMANCE\r\n",
                "SELECT TOP(10)\r\n",
                "host_name,\r\n",
                "COUNT(host_id) as num_of_listings,\r\n",
                "AVG(price) as avg_price,\r\n",
                "COUNT(host_name)*AVG(price)*(365-AVG(availability_365)) as annual_revenue_host,\r\n",
                "(COUNT(host_name)*AVG(price)*(365-AVG(availability_365)))/ 365.0 as daily_revenue_host_365days\r\n",
                "FROM [listings (1)]\r\n",
                "GROUP BY host_name\r\n",
                "ORDER BY num_of_listings DESC"
            ],
            "metadata": {
                "azdata_cell_guid": "eb1f2455-a706-491e-93d4-f61bc4370249",
                "language": "sql"
            },
            "outputs": [
                {
                    "output_type": "display_data",
                    "data": {
                        "text/html": "(10 rows affected)"
                    },
                    "metadata": {}
                },
                {
                    "output_type": "display_data",
                    "data": {
                        "text/html": "Total execution time: 00:00:00.014"
                    },
                    "metadata": {}
                },
                {
                    "output_type": "execute_result",
                    "execution_count": 154,
                    "data": {
                        "application/vnd.dataresource+json": {
                            "schema": {
                                "fields": [
                                    {
                                        "name": "host_name"
                                    },
                                    {
                                        "name": "num_of_listings"
                                    },
                                    {
                                        "name": "avg_price"
                                    },
                                    {
                                        "name": "annual_revenue_host"
                                    },
                                    {
                                        "name": "daily_revenue_host_365days"
                                    }
                                ]
                            },
                            "data": [
                                {
                                    "0": "Kym",
                                    "1": "17",
                                    "2": "749",
                                    "3": "3985429",
                                    "4": "10918.983561"
                                },
                                {
                                    "0": "Heather",
                                    "1": "11",
                                    "2": "414",
                                    "3": "241362",
                                    "4": "661.265753"
                                },
                                {
                                    "0": "Emma&Roger",
                                    "1": "8",
                                    "2": "168",
                                    "3": "318528",
                                    "4": "872.679452"
                                },
                                {
                                    "0": "Andrew",
                                    "1": "7",
                                    "2": "221",
                                    "3": "35581",
                                    "4": "97.482191"
                                },
                                {
                                    "0": "Jean-Claude",
                                    "1": "7",
                                    "2": "538",
                                    "3": "154406",
                                    "4": "423.030136"
                                },
                                {
                                    "0": "The Wine",
                                    "1": "7",
                                    "2": "250",
                                    "3": "56000",
                                    "4": "153.424657"
                                },
                                {
                                    "0": "Danielle",
                                    "1": "6",
                                    "2": "129",
                                    "3": "28638",
                                    "4": "78.460273"
                                },
                                {
                                    "0": "Jonathan And Kate",
                                    "1": "6",
                                    "2": "198",
                                    "3": "262548",
                                    "4": "719.309589"
                                },
                                {
                                    "0": "Karen",
                                    "1": "6",
                                    "2": "231",
                                    "3": "234234",
                                    "4": "641.736986"
                                },
                                {
                                    "0": "GaryLeonie",
                                    "1": "5",
                                    "2": "221",
                                    "3": "139230",
                                    "4": "381.452054"
                                }
                            ]
                        },
                        "text/html": "<table><tr><th>host_name</th><th>num_of_listings</th><th>avg_price</th><th>annual_revenue_host</th><th>daily_revenue_host_365days</th></tr><tr><td>Kym</td><td>17</td><td>749</td><td>3985429</td><td>10918.983561</td></tr><tr><td>Heather</td><td>11</td><td>414</td><td>241362</td><td>661.265753</td></tr><tr><td>Emma&amp;Roger</td><td>8</td><td>168</td><td>318528</td><td>872.679452</td></tr><tr><td>Andrew</td><td>7</td><td>221</td><td>35581</td><td>97.482191</td></tr><tr><td>Jean-Claude</td><td>7</td><td>538</td><td>154406</td><td>423.030136</td></tr><tr><td>The Wine</td><td>7</td><td>250</td><td>56000</td><td>153.424657</td></tr><tr><td>Danielle</td><td>6</td><td>129</td><td>28638</td><td>78.460273</td></tr><tr><td>Jonathan And Kate</td><td>6</td><td>198</td><td>262548</td><td>719.309589</td></tr><tr><td>Karen</td><td>6</td><td>231</td><td>234234</td><td>641.736986</td></tr><tr><td>GaryLeonie</td><td>5</td><td>221</td><td>139230</td><td>381.452054</td></tr></table>"
                    },
                    "metadata": {}
                }
            ],
            "execution_count": 154
        },
        {
            "cell_type": "markdown",
            "source": [
                "**Comments:** In this analysis, we have taken into account all properties listed by the top 10 hosts on Airbnb in the Barossa Valley, including outliers that have a higher number of listings than 1500. This approach allows us to provide more specific information for each host and better understand their individual performance. However, when we evaluate the revenue generated by the entire neighborhood, we exclude these outliers as they do not accurately represent the performance of the neighborhood as a whole.It appears that Kym, one of the top 10 hosts on Airbnb in the Barossa Valley, has significantly higher revenue numbers compared to the others. This suggests that there may be something unique or different about this host's properties or business strategy."
            ],
            "metadata": {
                "language": "sql",
                "azdata_cell_guid": "78cdd923-8a25-4b03-98c5-2d1e59a0ce3d"
            },
            "attachments": {}
        },
        {
            "cell_type": "markdown",
            "source": [
                "**<u>\\-Checking the type,prices and where the properties of the best host 'Kym' is located.</u>**"
            ],
            "metadata": {
                "language": "sql",
                "azdata_cell_guid": "4b020ba2-5a16-4bff-848e-cfcaf7764955"
            },
            "attachments": {}
        },
        {
            "cell_type": "code",
            "source": [
                "--HOST \"KYM\" TOP (1)\r\n",
                "SELECT id, neighbourhood, \r\n",
                "room_type,\r\n",
                "host_name,\r\n",
                "price,\r\n",
                "availability_365\r\n",
                "FRom [listings (1)]\r\n",
                "WHERE host_name = 'Kym'"
            ],
            "metadata": {
                "azdata_cell_guid": "c9836691-d441-409c-9841-8fd8bfae6bec",
                "language": "sql"
            },
            "outputs": [
                {
                    "output_type": "display_data",
                    "data": {
                        "text/html": "(17 rows affected)"
                    },
                    "metadata": {}
                },
                {
                    "output_type": "display_data",
                    "data": {
                        "text/html": "Total execution time: 00:00:00.014"
                    },
                    "metadata": {}
                },
                {
                    "output_type": "execute_result",
                    "execution_count": 155,
                    "data": {
                        "application/vnd.dataresource+json": {
                            "schema": {
                                "fields": [
                                    {
                                        "name": "id"
                                    },
                                    {
                                        "name": "neighbourhood"
                                    },
                                    {
                                        "name": "room_type"
                                    },
                                    {
                                        "name": "host_name"
                                    },
                                    {
                                        "name": "price"
                                    },
                                    {
                                        "name": "availability_365"
                                    }
                                ]
                            },
                            "data": [
                                {
                                    "0": "1787389",
                                    "1": "Tanunda",
                                    "2": "Entire home/apt",
                                    "3": "Kym",
                                    "4": "400",
                                    "5": "50"
                                },
                                {
                                    "0": "10285222",
                                    "1": "Tanunda",
                                    "2": "Entire home/apt",
                                    "3": "Kym",
                                    "4": "275",
                                    "5": "4"
                                },
                                {
                                    "0": "10287444",
                                    "1": "Tanunda",
                                    "2": "Entire home/apt",
                                    "3": "Kym",
                                    "4": "350",
                                    "5": "3"
                                },
                                {
                                    "0": "10298152",
                                    "1": "Tanunda",
                                    "2": "Entire home/apt",
                                    "3": "Kym",
                                    "4": "350",
                                    "5": "12"
                                },
                                {
                                    "0": "10348508",
                                    "1": "Tanunda",
                                    "2": "Entire home/apt",
                                    "3": "Kym",
                                    "4": "350",
                                    "5": "16"
                                },
                                {
                                    "0": "10619599",
                                    "1": "Tanunda",
                                    "2": "Entire home/apt",
                                    "3": "Kym",
                                    "4": "275",
                                    "5": "4"
                                },
                                {
                                    "0": "10634089",
                                    "1": "Tanunda",
                                    "2": "Private room",
                                    "3": "Kym",
                                    "4": "275",
                                    "5": "4"
                                },
                                {
                                    "0": "11428035",
                                    "1": "Tanunda",
                                    "2": "Entire home/apt",
                                    "3": "Kym",
                                    "4": "500",
                                    "5": "269"
                                },
                                {
                                    "0": "14827811",
                                    "1": "Tanunda",
                                    "2": "Entire home/apt",
                                    "3": "Kym",
                                    "4": "400",
                                    "5": "54"
                                },
                                {
                                    "0": "14842846",
                                    "1": "Tanunda",
                                    "2": "Entire home/apt",
                                    "3": "Kym",
                                    "4": "379",
                                    "5": "58"
                                },
                                {
                                    "0": "14843749",
                                    "1": "Tanunda",
                                    "2": "Entire home/apt",
                                    "3": "Kym",
                                    "4": "400",
                                    "5": "53"
                                },
                                {
                                    "0": "14969874",
                                    "1": "Tanunda",
                                    "2": "Entire home/apt",
                                    "3": "Kym",
                                    "4": "1414",
                                    "5": "42"
                                },
                                {
                                    "0": "20175507",
                                    "1": "Tanunda",
                                    "2": "Entire home/apt",
                                    "3": "Kym",
                                    "4": "1920",
                                    "5": "28"
                                },
                                {
                                    "0": "20176443",
                                    "1": "Tanunda",
                                    "2": "Entire home/apt",
                                    "3": "Kym",
                                    "4": "2800",
                                    "5": "0"
                                },
                                {
                                    "0": "24813904",
                                    "1": "Tanunda",
                                    "2": "Entire home/apt",
                                    "3": "Kym",
                                    "4": "850",
                                    "5": "294"
                                },
                                {
                                    "0": "25893345",
                                    "1": "Tanunda",
                                    "2": "Entire home/apt",
                                    "3": "Kym",
                                    "4": "1500",
                                    "5": "1"
                                },
                                {
                                    "0": "542934522374568605",
                                    "1": "Tanunda",
                                    "2": "Entire home/apt",
                                    "3": "Kym",
                                    "4": "300",
                                    "5": "6"
                                }
                            ]
                        },
                        "text/html": "<table><tr><th>id</th><th>neighbourhood</th><th>room_type</th><th>host_name</th><th>price</th><th>availability_365</th></tr><tr><td>1787389</td><td>Tanunda</td><td>Entire home/apt</td><td>Kym</td><td>400</td><td>50</td></tr><tr><td>10285222</td><td>Tanunda</td><td>Entire home/apt</td><td>Kym</td><td>275</td><td>4</td></tr><tr><td>10287444</td><td>Tanunda</td><td>Entire home/apt</td><td>Kym</td><td>350</td><td>3</td></tr><tr><td>10298152</td><td>Tanunda</td><td>Entire home/apt</td><td>Kym</td><td>350</td><td>12</td></tr><tr><td>10348508</td><td>Tanunda</td><td>Entire home/apt</td><td>Kym</td><td>350</td><td>16</td></tr><tr><td>10619599</td><td>Tanunda</td><td>Entire home/apt</td><td>Kym</td><td>275</td><td>4</td></tr><tr><td>10634089</td><td>Tanunda</td><td>Private room</td><td>Kym</td><td>275</td><td>4</td></tr><tr><td>11428035</td><td>Tanunda</td><td>Entire home/apt</td><td>Kym</td><td>500</td><td>269</td></tr><tr><td>14827811</td><td>Tanunda</td><td>Entire home/apt</td><td>Kym</td><td>400</td><td>54</td></tr><tr><td>14842846</td><td>Tanunda</td><td>Entire home/apt</td><td>Kym</td><td>379</td><td>58</td></tr><tr><td>14843749</td><td>Tanunda</td><td>Entire home/apt</td><td>Kym</td><td>400</td><td>53</td></tr><tr><td>14969874</td><td>Tanunda</td><td>Entire home/apt</td><td>Kym</td><td>1414</td><td>42</td></tr><tr><td>20175507</td><td>Tanunda</td><td>Entire home/apt</td><td>Kym</td><td>1920</td><td>28</td></tr><tr><td>20176443</td><td>Tanunda</td><td>Entire home/apt</td><td>Kym</td><td>2800</td><td>0</td></tr><tr><td>24813904</td><td>Tanunda</td><td>Entire home/apt</td><td>Kym</td><td>850</td><td>294</td></tr><tr><td>25893345</td><td>Tanunda</td><td>Entire home/apt</td><td>Kym</td><td>1500</td><td>1</td></tr><tr><td>542934522374568605</td><td>Tanunda</td><td>Entire home/apt</td><td>Kym</td><td>300</td><td>6</td></tr></table>"
                    },
                    "metadata": {}
                }
            ],
            "execution_count": 155
        },
        {
            "cell_type": "markdown",
            "source": [
                "**Comments:**  By taking a closer look at Kym's properties, we can understand the reason behind their high revenue. Kym has listed 3 of the 4 most expensive night-rent properties in the Barossa Valley, with rates of $1500, $1920 and $2800 respectively. This suggests that their high revenue is likely due to their luxury properties and premium pricing strategy."
            ],
            "metadata": {
                "language": "sql",
                "azdata_cell_guid": "50ac4ce6-239d-4954-9a0e-9de84d6df63d"
            },
            "attachments": {}
        },
        {
            "cell_type": "markdown",
            "source": [
                "**<u>\\- Examining the properties that have a nightly rental rate less than $100.</u>**"
            ],
            "metadata": {
                "language": "sql",
                "azdata_cell_guid": "16a9c56d-fc27-4b88-bff8-2c998c0133e7"
            },
            "attachments": {}
        },
        {
            "cell_type": "code",
            "source": [
                "-- Properties under 100 dolars\r\n",
                "SELECT neighbourhood,\r\n",
                "room_type,\r\n",
                "host_name,\r\n",
                "price, \r\n",
                "availability_365\r\n",
                "FROM [listings (1)]\r\n",
                "WHERE price <= 100"
            ],
            "metadata": {
                "language": "sql",
                "azdata_cell_guid": "a8854313-b26e-4dd4-a868-669a4aab202e"
            },
            "outputs": [
                {
                    "output_type": "display_data",
                    "data": {
                        "text/html": "(10 rows affected)"
                    },
                    "metadata": {}
                },
                {
                    "output_type": "display_data",
                    "data": {
                        "text/html": "Total execution time: 00:00:00.014"
                    },
                    "metadata": {}
                },
                {
                    "output_type": "execute_result",
                    "execution_count": 156,
                    "data": {
                        "application/vnd.dataresource+json": {
                            "schema": {
                                "fields": [
                                    {
                                        "name": "neighbourhood"
                                    },
                                    {
                                        "name": "room_type"
                                    },
                                    {
                                        "name": "host_name"
                                    },
                                    {
                                        "name": "price"
                                    },
                                    {
                                        "name": "availability_365"
                                    }
                                ]
                            },
                            "data": [
                                {
                                    "0": "Gawler River",
                                    "1": "Entire home/apt",
                                    "2": "Bill",
                                    "3": "90",
                                    "4": "343"
                                },
                                {
                                    "0": "Buchfelde",
                                    "1": "Private room",
                                    "2": "Andrew",
                                    "3": "85",
                                    "4": "365"
                                },
                                {
                                    "0": "Nuriootpa",
                                    "1": "Entire home/apt",
                                    "2": "Andrew & Belinda",
                                    "3": "63",
                                    "4": "219"
                                },
                                {
                                    "0": "Angaston",
                                    "1": "Private room",
                                    "2": "Jonathan And Kate",
                                    "3": "95",
                                    "4": "0"
                                },
                                {
                                    "0": "Angaston",
                                    "1": "Private room",
                                    "2": "Anthea",
                                    "3": "80",
                                    "4": "0"
                                },
                                {
                                    "0": "Buchfelde",
                                    "1": "Private room",
                                    "2": "Mary",
                                    "3": "90",
                                    "4": "129"
                                },
                                {
                                    "0": "Mount Crawford",
                                    "1": "Entire home/apt",
                                    "2": "Alan",
                                    "3": "100",
                                    "4": "69"
                                },
                                {
                                    "0": "Buchfelde",
                                    "1": "Private room",
                                    "2": "Ted",
                                    "3": "80",
                                    "4": "356"
                                },
                                {
                                    "0": "Nuriootpa",
                                    "1": "Private room",
                                    "2": "Jane",
                                    "3": "92",
                                    "4": "327"
                                },
                                {
                                    "0": "Buchfelde",
                                    "1": "Private room",
                                    "2": "Michelle",
                                    "3": "75",
                                    "4": "344"
                                }
                            ]
                        },
                        "text/html": "<table><tr><th>neighbourhood</th><th>room_type</th><th>host_name</th><th>price</th><th>availability_365</th></tr><tr><td>Gawler River</td><td>Entire home/apt</td><td>Bill</td><td>90</td><td>343</td></tr><tr><td>Buchfelde</td><td>Private room</td><td>Andrew</td><td>85</td><td>365</td></tr><tr><td>Nuriootpa</td><td>Entire home/apt</td><td>Andrew &amp; Belinda</td><td>63</td><td>219</td></tr><tr><td>Angaston</td><td>Private room</td><td>Jonathan And Kate</td><td>95</td><td>0</td></tr><tr><td>Angaston</td><td>Private room</td><td>Anthea</td><td>80</td><td>0</td></tr><tr><td>Buchfelde</td><td>Private room</td><td>Mary</td><td>90</td><td>129</td></tr><tr><td>Mount Crawford</td><td>Entire home/apt</td><td>Alan</td><td>100</td><td>69</td></tr><tr><td>Buchfelde</td><td>Private room</td><td>Ted</td><td>80</td><td>356</td></tr><tr><td>Nuriootpa</td><td>Private room</td><td>Jane</td><td>92</td><td>327</td></tr><tr><td>Buchfelde</td><td>Private room</td><td>Michelle</td><td>75</td><td>344</td></tr></table>"
                    },
                    "metadata": {}
                }
            ],
            "execution_count": 156
        },
        {
            "cell_type": "code",
            "source": [
                "SELECT neighbourhood,\r\n",
                "Count(id) as count_listing\r\n",
                "FROM [listings (1)]\r\n",
                "WHERE price < = 100\r\n",
                "Group BY neighbourhood\r\n",
                "Order by count_listing DESC"
            ],
            "metadata": {
                "language": "sql",
                "azdata_cell_guid": "65696193-afd6-4ec2-83c9-c4612db16a2f"
            },
            "outputs": [
                {
                    "output_type": "display_data",
                    "data": {
                        "text/html": "(5 rows affected)"
                    },
                    "metadata": {}
                },
                {
                    "output_type": "display_data",
                    "data": {
                        "text/html": "Total execution time: 00:00:00.008"
                    },
                    "metadata": {}
                },
                {
                    "output_type": "execute_result",
                    "execution_count": 157,
                    "data": {
                        "application/vnd.dataresource+json": {
                            "schema": {
                                "fields": [
                                    {
                                        "name": "neighbourhood"
                                    },
                                    {
                                        "name": "count_listing"
                                    }
                                ]
                            },
                            "data": [
                                {
                                    "0": "Buchfelde",
                                    "1": "4"
                                },
                                {
                                    "0": "Angaston",
                                    "1": "2"
                                },
                                {
                                    "0": "Nuriootpa",
                                    "1": "2"
                                },
                                {
                                    "0": "Gawler River",
                                    "1": "1"
                                },
                                {
                                    "0": "Mount Crawford",
                                    "1": "1"
                                }
                            ]
                        },
                        "text/html": "<table><tr><th>neighbourhood</th><th>count_listing</th></tr><tr><td>Buchfelde</td><td>4</td></tr><tr><td>Angaston</td><td>2</td></tr><tr><td>Nuriootpa</td><td>2</td></tr><tr><td>Gawler River</td><td>1</td></tr><tr><td>Mount Crawford</td><td>1</td></tr></table>"
                    },
                    "metadata": {}
                }
            ],
            "execution_count": 157
        },
        {
            "cell_type": "markdown",
            "source": [
                "**Comments:** There are few options of properties under 100 dolars available.Buchfelde is on the outskirts of Adelaide , heading towards the center of Barossa Valley.This is one option for solo backpakers and adventurers."
            ],
            "metadata": {
                "language": "sql",
                "azdata_cell_guid": "cff8f78e-cb64-469f-bb67-ce1ab222b419"
            },
            "attachments": {}
        },
        {
            "cell_type": "markdown",
            "source": [
                "**4\\. CONCLUSION**"
            ],
            "metadata": {
                "language": "sql",
                "azdata_cell_guid": "9c8ea121-ca78-428c-a536-e3496656b32f"
            },
            "attachments": {}
        },
        {
            "cell_type": "markdown",
            "source": [
                "<span lang=\"EN-AU\" style=\"font-size:10.5pt;\n",
                "font-family:&quot;Calibri(Body)&quot;,serif;mso-fareast-font-family:&quot;Times New Roman&quot;;\n",
                "mso-bidi-font-family:&quot;Segoe UI&quot;;color:black;mso-color-alt:windowtext;\n",
                "mso-ansi-language:EN-AU;mso-fareast-language:PT-BR\">-The dataset provides an overview of the Airbnb rental market in the Barossa Valley region. It allows us to analyze listings, prices, location, and occupancy rate, which can give us an understanding of the overall situation in the market. By combining this information with qualitative points such as wineries, restaurants, and visitor turnover, we can gain insights into the safest places to invest and the types of properties that are most commonly rented. It is important to note that the cost of properties is not included in the analysis as this information is not provided in the dataset. Therefore, to make informed investment decisions, it is necessary to consider the intersection of these characteristics with the financial gross rent performance of the regions.</span>\n",
                "\n",
                "<span lang=\"EN-AU\" style=\"font-size:10.5pt;\n",
                "font-family:&quot;Calibri(Body)&quot;,serif;mso-fareast-font-family:&quot;Times New Roman&quot;;\n",
                "mso-bidi-font-family:&quot;Segoe UI&quot;;color:black;mso-color-alt:windowtext;\n",
                "mso-ansi-language:EN-AU;mso-fareast-language:PT-BR\">-</span><span style=\"color: black; font-family: &quot;Calibri(Body)&quot;, serif; font-size: 10.5pt;\">The analysis of the Barossa Valley region in South Australia shows that the mean price of night rental properties on Airbnb is $342, with a minimum price of $63 and a maximum price of $2800.</span><span style=\"color: black; font-family: &quot;Calibri(Body)&quot;, serif; font-size: 10.5pt;\">The interquartile range (IQR) is $233.50, indicating that 50% of the listings are between $190.75 and $424.25, this range represents a reasonable range of prices that one visitor could pay per night for a property in the Barossa Valley.</span>\n",
                "\n",
                "<span style=\"color: black; font-family: &quot;Calibri(Body)&quot;, serif; font-size: 10.5pt;\">-T</span><span style=\"color: black; font-family: &quot;Calibri(Body)&quot;, serif; font-size: 10.5pt;\">here are a few high-priced properties with a maximum price of $2800. These high-priced properties represent a small percentage of the total listings and are mostly located in the town of Tanunda. This suggests that Tanunda might be known for its luxury options and amenities for visitors and tourists, which draws a specific type of visitors willing to pay higher prices for more upscale accommodations. This also indicates that Tanunda might have a higher number of high-end properties, and these luxury options might not be as prevalent in other towns of the region</span>\n",
                "\n",
                " <span style=\"color: black; font-family: &quot;Calibri(Body)&quot;, serif; font-size: 10.5pt;\">&nbsp;-</span><span style=\"color: black; font-family: &quot;Calibri(Body)&quot;, serif; font-size: 10.5pt;\">Tanunda is a particularly attractive location for property investment in the short-term rental market on Airbnb. The town of Tanunda offers a wide range of qualitative attributes such as rich history, renowned wine production, delicious food, art, scenic views, festivals, lively community, and a range of accommodation options. These features contribute to the unique and attractive atmosphere of the region, making it a great place to visit, live, and invest.Furthermore, even with moderate occupancy rate, the properties in Tanunda generate an outstanding annual gross revenue of $5M, which is significantly higher compared to other regions in the Barossa Valley. This is due to the large quantity of listings in the region and the presence of luxury options and amenities, making Tanunda a safe place to invest in a property rental on Airbnb, considering all of these attributes.&nbsp;</span> <span style=\"color: black; font-family: &quot;Calibri(Body)&quot;, serif; font-size: 10.5pt;\"><br></span>\n",
                "\n",
                "<span style=\"color: black; font-family: &quot;Calibri(Body)&quot;, serif; font-size: 10.5pt;\">-</span><span style=\"color: black; font-family: &quot;Calibri(Body)&quot;, serif; font-size: 10.5pt;\">The analysis shows that the towns of Tanunda, Angaston, and Lyndoch are the principal locations in the heart of the Barossa Valley region. Angaston and Lyndoch have shown to be consistent options for investment as rental properties on Airbnb, despite the low occupancy rate in those regions. This is due to their high gross revenue of $1,957,228 and $1,088,136 respectively, which is a result of a good number of listings in those regions. This suggests that even with moderate occupancy rate, these regions are still able to generate a significant amount of revenue, making them a reliable option for investment.</span>\n",
                "\n",
                "<span style=\"color: black; font-family: &quot;Calibri(Body)&quot;, serif; font-size: 10.5pt;\">-</span><span style=\"color: black; font-family: &quot;Calibri(Body)&quot;, serif; font-size: 10.5pt;\">Nuriotpa is well located in the Barossa Valley, with fewer listings on Airbnb and lower average prices compared to other regions. However, it still offers potential for revenue generation and is a good option for budget-conscious travelers looking for affordable accommodation.</span>\n",
                "\n",
                "<span style=\"color: black; font-family: &quot;Calibri(Body)&quot;, serif; font-size: 10.5pt;\">-</span><span style=\"color: black; font-family: &quot;Calibri(Body)&quot;, serif; font-size: 10.5pt;\">Bethany and Springton have some of the highest occupancy rates in the Barossa Valley, due to their attractiveness as regions. Bethany is well-known for its wineries and is located in the center of the Barossa Valley, while Springton is located in the merge of the Eden Valley road. However, due to their small size, the number of listings available on Airbnb is limited, which might be reflected in the occupancy rate. Despite the small number of listings, Bethany still has a gross gross revenue of $749,472. Therefore, it's important to note that the occupancy rate in these regions cannot be directly compared to the occupancy rate of other regions with a larger number of listings, but it's still important to consider the revenue generated by the region.</span>\n",
                "\n",
                "<span style=\"color: black; font-family: &quot;Calibri(Body)&quot;, serif; font-size: 10.5pt;\">-T</span><span style=\"color: black; font-family: &quot;Calibri(Body)&quot;, serif; font-size: 10.5pt;\">he most common type of properties available for rent on Airbnb in the Barossa Valley region are Entire Home/Apt, representing 87.96% of the properties listed. While Private Rooms also play a significant role in the rental market, it is clear that the Entire Home/Apt is the more popular option for visitors and investors in the region, as it offers a wide variety of prices and locations.</span>\n",
                "\n",
                "<span style=\"color: black; font-family: &quot;Calibri(Body)&quot;, serif; font-size: 10.5pt;\">-T</span><span style=\"color: black; font-family: &quot;Calibri(Body)&quot;, serif; font-size: 10.5pt;\">he top ten hosts with the most listings on Airbnb in the Barossa Valley region, have a high proportion of their properties located in the towns of Tanunda, Angaston and Bethany respectively, with 34.25%, 20.55% and 9.59%. This suggests that these hosts have a significant presence in these regions and could indicate a competitive market in those specific areas.</span>\n",
                "\n",
                "\\-T<span style=\"color: black; font-family: &quot;Calibri(Body)&quot;, serif; font-size: 10.5pt;\">he host \"Kym\" has a significant presence on Airbnb in the Barossa Valley region, with 17 listings, which is among the highest number of listings in the region. Kym's properties have generated an outstanding annual gross revenue of $3M, which is a result of his strategy to invest in luxury properties in the region. Furthermore, Kym also owns 3 of the most expensive properties on the listings, located in Tanunda.</span>"
            ],
            "metadata": {
                "language": "sql",
                "azdata_cell_guid": "c2f6322c-9df1-4a19-acb1-8b1b2458e471"
            },
            "attachments": {}
        },
        {
            "cell_type": "markdown",
            "source": [
                "**5\\. REFERENCES**"
            ],
            "metadata": {
                "language": "sql",
                "azdata_cell_guid": "3f21a97b-e304-4cde-b04f-7c4d38b4de8d"
            },
            "attachments": {}
        },
        {
            "cell_type": "markdown",
            "source": [
                "<span lang=\"EN-AU\" style=\"font-size:10.5pt;\n",
                "font-family:&quot;Calibri(Body)&quot;,serif;mso-fareast-font-family:&quot;Times New Roman&quot;;\n",
                "mso-bidi-font-family:&quot;Segoe UI&quot;;color:black;mso-color-alt:windowtext;\n",
                "mso-ansi-language:EN-AU;mso-fareast-language:PT-BR\">Inside Airbnb (n.d.). Inside Airbnb: Data [online]. Inside Airbnb. Available at: http://insideairbnb.com/get-the-data/ [15/01/2023].<br></span>\n",
                "\n",
                "<span lang=\"EN-AU\" style=\"font-size:10.5pt;\n",
                "font-family:&quot;Calibri(Body)&quot;,serif;mso-fareast-font-family:&quot;Times New Roman&quot;;\n",
                "mso-bidi-font-family:&quot;Segoe UI&quot;;color:black;mso-color-alt:windowtext;\n",
                "mso-ansi-language:EN-AU;mso-fareast-language:PT-BR\">South Australia (n.d.). Destinations: Barossa [online]. South Australia. Available at: https://southaustralia.com/destinations/barossa [22/01/2023].</span>\n",
                "\n",
                "<span style=\"color: black; font-family: &quot;Calibri(Body)&quot;, serif; font-size: 10.5pt;\">Australia.com (n.d.). Guide to the Barossa Valley [online]. Australia. Available at: https://www.australia.com/en/places/adelaide-and-surrounds/guide-to-the-barossa-valley.html [23/01/2023].</span>\n",
                "\n",
                "<span lang=\"EN-AU\" style=\"font-size:10.5pt;\n",
                "font-family:&quot;Calibri(Body)&quot;,serif;mso-fareast-font-family:&quot;Times New Roman&quot;;\n",
                "mso-bidi-font-family:&quot;Segoe UI&quot;;color:black;mso-color-alt:windowtext;\n",
                "mso-ansi-language:EN-AU;mso-fareast-language:PT-BR\"><br></span>"
            ],
            "metadata": {
                "language": "sql",
                "azdata_cell_guid": "62493c16-1fbd-4a02-a39b-99b7ca273523"
            },
            "attachments": {}
        }
    ]
}