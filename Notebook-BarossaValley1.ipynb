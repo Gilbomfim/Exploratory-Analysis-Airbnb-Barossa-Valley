{
    "metadata": {
        "kernelspec": {
            "name": "SQL",
            "display_name": "SQL",
            "language": "sql"
        },
        "language_info": {
            "name": "sql",
            "version": ""
        }
    },
    "nbformat_minor": 2,
    "nbformat": 4,
    "cells": [
        {
            "cell_type": "markdown",
            "source": [
                "**EXPLORATORY ANALYSIS ON AIRBNB BAROSSA VALLEY DATASET**"
            ],
            "metadata": {
                "azdata_cell_guid": "4a80198f-e098-46b1-b6b9-cc1fc98d75fd",
                "language": ""
            },
            "attachments": {}
        },
        {
            "cell_type": "markdown",
            "source": [
                "**<span lang=\"EN-AU\" style=\"font-size: 10.5pt; font-family: &quot;Calibri(Body)&quot;, serif; color: black;\">What to expect from this project?</span>**\n",
                "\n",
                "<span lang=\"EN-AU\" style=\"font-size: 10.5pt; font-family: &quot;Calibri(Body)&quot;, serif; color: black;\">-Data Cleaning and Pre-processing</span>\n",
                "\n",
                "<span lang=\"EN-AU\" style=\"font-size: 10.5pt; font-family: &quot;Calibri(Body)&quot;, serif; color: black;\">-Statistical Analysis</span>\n",
                "\n",
                "<span lang=\"EN-AU\" style=\"font-size: 10.5pt; font-family: &quot;Calibri(Body)&quot;, serif; color: black;\">-Exploratory Analysis</span>"
            ],
            "metadata": {
                "azdata_cell_guid": "6b256b4e-c2d7-4d94-8240-936c969cd9a2"
            },
            "attachments": {}
        },
        {
            "cell_type": "markdown",
            "source": [
                "**<span lang=\"EN-AU\" style=\"font-size:\n",
                "10.5pt;font-family:&quot;Calibri(Body)&quot;,serif;mso-fareast-font-family:&quot;Times New Roman&quot;;\n",
                "mso-bidi-font-family:&quot;Segoe UI&quot;;color:black;mso-color-alt:windowtext;\n",
                "mso-ansi-language:EN-AU;mso-fareast-language:PT-BR\">Context</span>**\n",
                "\n",
                "<span lang=\"EN-AU\" style=\"font-size:10.5pt;\n",
                "font-family:&quot;Calibri(Body)&quot;,serif;mso-fareast-font-family:&quot;Times New Roman&quot;;\n",
                "mso-bidi-font-family:&quot;Segoe UI&quot;;color:black;mso-color-alt:windowtext;\n",
                "mso-ansi-language:EN-AU;mso-fareast-language:PT-BR\">In this project, we aim to use SQL to clean and analyze the Airbnb Barossa Valley dataset, a popular tourist destination known for its picturesque landscapes, renowned wineries, and rich cultural heritage. We will focus on different aspects such as the most popular types of properties, average rental prices, and busiest seasons for tourism. By gaining a deeper understanding of the Airbnb rental market in the Barossa Valley, we hope to provide valuable insights for property owners, tourists, and other stakeholders interested in the region. Additionally, identifying patterns and trends in the market will provide valuable information for those looking to invest in or enter the Barossa Valley property market on Airbnb.</span>\n",
                "\n",
                "<span style=\"font-size: 10.5pt; color: black; font-family: &quot;Calibri(Body)&quot;, serif;\"><b>Actions we will take in this project:</b></span>\n",
                "\n",
                "<span lang=\"EN-AU\" style=\"font-size:10.5pt;\n",
                "font-family:&quot;Calibri(Body)&quot;,serif;mso-fareast-font-family:&quot;Times New Roman&quot;;\n",
                "mso-bidi-font-family:&quot;Segoe UI&quot;;color:black;mso-color-alt:windowtext;\n",
                "mso-ansi-language:EN-AU;mso-fareast-language:PT-BR\">-Clean and organize the dataset using SQL</span>\n",
                "\n",
                "<span style=\"color: black; font-family: &quot;Calibri(Body)&quot;, serif; font-size: 10.5pt;\">-Analyze the most popular types of properties available for rent</span>\n",
                "\n",
                "<span lang=\"EN-AU\" style=\"font-size:10.5pt;\n",
                "font-family:&quot;Calibri(Body)&quot;,serif;mso-fareast-font-family:&quot;Times New Roman&quot;;\n",
                "mso-bidi-font-family:&quot;Segoe UI&quot;;color:black;mso-color-alt:windowtext;\n",
                "mso-ansi-language:EN-AU;mso-fareast-language:PT-BR\">-Determine the average rental prices for properties in the Barossa Valley</span>\n",
                "\n",
                "<span lang=\"EN-AU\" style=\"font-size:10.5pt;\n",
                "font-family:&quot;Calibri(Body)&quot;,serif;mso-fareast-font-family:&quot;Times New Roman&quot;;\n",
                "mso-bidi-font-family:&quot;Segoe UI&quot;;color:black;mso-color-alt:windowtext;\n",
                "mso-ansi-language:EN-AU;mso-fareast-language:PT-BR\">-Determine the financial performance for Airbnb properties in the Barossa Valley<br></span>\n",
                "\n",
                "<span lang=\"EN-AU\" style=\"font-size:10.5pt;\n",
                "font-family:&quot;Calibri(Body)&quot;,serif;mso-fareast-font-family:&quot;Times New Roman&quot;;\n",
                "mso-bidi-font-family:&quot;Segoe UI&quot;;color:black;mso-color-alt:windowtext;\n",
                "mso-ansi-language:EN-AU;mso-fareast-language:PT-BR\">-Determine the financial performance for Airbnb hosts in the Barossa Valley<br></span>\n",
                "\n",
                "<span style=\"color: black; font-family: &quot;Calibri(Body)&quot;, serif; font-size: 10.5pt;\">-Investigate patterns and trends in the Barossa Valley property market on Airbnb</span>\n",
                "\n",
                "<span lang=\"EN-AU\" style=\"font-size:10.5pt;\n",
                "font-family:&quot;Calibri(Body)&quot;,serif;mso-fareast-font-family:&quot;Times New Roman&quot;;\n",
                "mso-bidi-font-family:&quot;Segoe UI&quot;;color:black;mso-color-alt:windowtext;\n",
                "mso-ansi-language:EN-AU;mso-fareast-language:PT-BR\">-Provide valuable insights for property owners, tourists, and other stakeholders interested in the region.</span>\n",
                "\n",
                "<span lang=\"EN-AU\" style=\"font-size:10.5pt;\n",
                "font-family:&quot;Calibri(Body)&quot;,serif;mso-fareast-font-family:&quot;Times New Roman&quot;;\n",
                "mso-bidi-font-family:&quot;Segoe UI&quot;;color:black;mso-color-alt:windowtext;\n",
                "mso-ansi-language:EN-AU;mso-fareast-language:PT-BR\">-Identify opportunities for investment in the Barossa Valley property market on Airbnb.</span>"
            ],
            "metadata": {
                "azdata_cell_guid": "0edb51bd-79d8-4409-af9f-d9fed5ede212"
            },
            "attachments": {}
        },
        {
            "cell_type": "markdown",
            "source": [
                "**<span style=\"font-size:10.5pt;font-family:&quot;Calibri body&quot;,serif;mso-fareast-font-family:\n",
                "&quot;Times New Roman&quot;;mso-bidi-font-family:&quot;Segoe UI&quot;;color:black;mso-fareast-language:\n",
                "PT-BR\">Table of Contents</span>**\n",
                "\n",
                "<span style=\"font-size: 10.5pt; font-family: &quot;Calibri body&quot;, serif; color: black;\">1.<span style=\"font-variant-numeric: normal; font-variant-east-asian: normal; font-stretch: normal; font-size: 7pt; line-height: normal; font-family: &quot;Times New Roman&quot;;\">&nbsp;&nbsp;&nbsp;&nbsp;&nbsp; </span></span> **<span style=\"font-size:10.5pt;font-family:\n",
                "&quot;Calibri body&quot;,serif;mso-fareast-font-family:&quot;Times New Roman&quot;;mso-bidi-font-family:\n",
                "&quot;Segoe UI&quot;;color:black;mso-fareast-language:PT-BR\">Data Quality Check and Cleaning</span>**\n",
                "\n",
                " <span lang=\"EN-AU\" style=\"font-size:10.5pt;font-family:&quot;Calibri body&quot;,serif;mso-fareast-font-family:\n",
                "&quot;Times New Roman&quot;;mso-bidi-font-family:&quot;Segoe UI&quot;;color:black;mso-ansi-language:\n",
                "EN-AU;mso-fareast-language:PT-BR\">&nbsp;Diagnosticing data issues | Dropping columns&nbsp; | Dropping missing values</span>\n",
                "\n",
                "<span style=\"font-size: 10.5pt; font-family: &quot;Calibri body&quot;, serif; color: black;\">2.<span style=\"font-variant-numeric: normal; font-variant-east-asian: normal; font-stretch: normal; font-size: 7pt; line-height: normal; font-family: &quot;Times New Roman&quot;;\">&nbsp;&nbsp;&nbsp;&nbsp;&nbsp; </span></span> **<span style=\"font-size:10.5pt;font-family:\n",
                "&quot;Calibri body&quot;,serif;mso-fareast-font-family:&quot;Times New Roman&quot;;mso-bidi-font-family:\n",
                "&quot;Segoe UI&quot;;color:black;mso-fareast-language:PT-BR\">Descriptive Analysis</span>**\n",
                "\n",
                "<span lang=\"EN-AU\" style=\"font-size:10.5pt;font-family:&quot;Calibri body&quot;,serif;mso-fareast-font-family:\n",
                "&quot;Times New Roman&quot;;mso-bidi-font-family:&quot;Segoe UI&quot;;color:black;mso-ansi-language:\n",
                "EN-AU;mso-fareast-language:PT-BR\">Summary statistic of price|&nbsp; Frequency table of rental price&nbsp;</span> \n",
                "\n",
                "<span style=\"font-size:10.5pt;font-family:&quot;Calibri body&quot;,serif;mso-fareast-font-family:\n",
                "&quot;Calibri body&quot;;mso-bidi-font-family:&quot;Calibri body&quot;;color:black;mso-fareast-language:\n",
                "PT-BR\">3.<span style=\"font-variant-numeric: normal; font-variant-east-asian: normal; font-stretch: normal; font-size: 7pt; line-height: normal; font-family: &quot;Times New Roman&quot;;\">&nbsp;&nbsp;&nbsp;&nbsp;&nbsp; </span></span> **<span style=\"font-size:10.5pt;font-family:\n",
                "&quot;Calibri body&quot;,serif;mso-fareast-font-family:&quot;Times New Roman&quot;;mso-bidi-font-family:\n",
                "&quot;Segoe UI&quot;;color:black;mso-fareast-language:PT-BR\">Exploratory Analysis</span>**\n",
                "\n",
                "<span style=\"font-size: 10.5pt; font-family: &quot;Calibri body&quot;, serif; color: black;\">The best locations to invest| The best types of properties</span>\n",
                "\n",
                "<span style=\"color: rgb(0, 0, 0); font-family: &quot;Calibri body&quot;, serif;\">|B</span><span style=\"font-size: 10.5pt; color: black; font-family: &quot;Calibri(Body)&quot;, serif;\">ehavior of the best hosts in the market</span><span style=\"color: rgb(0, 0, 0); font-family: &quot;Calibri body&quot;, serif;\">| Properties under $100</span>\n",
                "\n",
                "<span style=\"font-size: 10.5pt; font-family: &quot;Calibri body&quot;, serif; color: black;\">4.<span style=\"font-variant-numeric: normal; font-variant-east-asian: normal; font-stretch: normal; font-size: 7pt; line-height: normal; font-family: &quot;Times New Roman&quot;;\">&nbsp;&nbsp;&nbsp;&nbsp;&nbsp; </span></span> **<span style=\"font-size:10.5pt;font-family:\n",
                "&quot;Calibri body&quot;,serif;mso-fareast-font-family:&quot;Times New Roman&quot;;mso-bidi-font-family:\n",
                "&quot;Segoe UI&quot;;color:black;mso-fareast-language:PT-BR\">Conclusion</span>**\n",
                "\n",
                "<span style=\"font-size:10.5pt;font-family:&quot;Calibri body&quot;,serif;mso-fareast-font-family:\n",
                "&quot;Calibri body&quot;;mso-bidi-font-family:&quot;Calibri body&quot;;color:black;mso-fareast-language:\n",
                "PT-BR\">5.<span style=\"font-variant-numeric: normal; font-variant-east-asian: normal; font-stretch: normal; font-size: 7pt; line-height: normal; font-family: &quot;Times New Roman&quot;;\">&nbsp;&nbsp;&nbsp;&nbsp;&nbsp; </span></span> **<span style=\"font-size:10.5pt;font-family:\n",
                "&quot;Calibri body&quot;,serif;mso-fareast-font-family:&quot;Times New Roman&quot;;mso-bidi-font-family:\n",
                "&quot;Segoe UI&quot;;color:black;mso-fareast-language:PT-BR\">References</span>**"
            ],
            "metadata": {
                "azdata_cell_guid": "8fdc8d89-118c-4200-b64b-579a284515b6"
            },
            "attachments": {}
        },
        {
            "cell_type": "markdown",
            "source": [
                "**DATA QUALITY CHECK AND CLEANING THE DATASET**"
            ],
            "metadata": {
                "azdata_cell_guid": "21b99ff0-b428-42aa-a0c1-41dd04a3a298"
            },
            "attachments": {}
        },
        {
            "cell_type": "code",
            "source": [
                "-- AN OVERVIEW OF BAROSSA VALLEY AIRBNB DATASET, THE FIRST 20 ROWS.\r\n",
                "select TOP(10)*\r\n",
                "FROM [listings (1)]"
            ],
            "metadata": {
                "azdata_cell_guid": "fee58223-431a-43c1-969f-abd6b091d051",
                "language": "sql",
                "tags": []
            },
            "outputs": [
                {
                    "output_type": "display_data",
                    "data": {
                        "text/html": "(10 rows affected)"
                    },
                    "metadata": {}
                },
                {
                    "output_type": "display_data",
                    "data": {
                        "text/html": "Total execution time: 00:00:00.009"
                    },
                    "metadata": {}
                },
                {
                    "output_type": "execute_result",
                    "metadata": {},
                    "execution_count": 2,
                    "data": {
                        "application/vnd.dataresource+json": {
                            "schema": {
                                "fields": [
                                    {
                                        "name": "id"
                                    },
                                    {
                                        "name": "name"
                                    },
                                    {
                                        "name": "host_id"
                                    },
                                    {
                                        "name": "host_name"
                                    },
                                    {
                                        "name": "neighbourhood"
                                    },
                                    {
                                        "name": "latitude"
                                    },
                                    {
                                        "name": "longitude"
                                    },
                                    {
                                        "name": "room_type"
                                    },
                                    {
                                        "name": "price"
                                    },
                                    {
                                        "name": "minimum_nights"
                                    },
                                    {
                                        "name": "number_of_reviews"
                                    },
                                    {
                                        "name": "last_review"
                                    },
                                    {
                                        "name": "reviews_per_month"
                                    },
                                    {
                                        "name": "calculated_host_listings_count"
                                    },
                                    {
                                        "name": "availability_365"
                                    },
                                    {
                                        "name": "number_of_reviews_ltm"
                                    }
                                ]
                            },
                            "data": [
                                {
                                    "0": "1125097",
                                    "1": "Strathlyn Coach House Barossa",
                                    "2": "6172214",
                                    "3": "Heather",
                                    "4": "Angaston",
                                    "5": "-3449389",
                                    "6": "13902942",
                                    "7": "Entire home/apt",
                                    "8": "254",
                                    "9": "2",
                                    "10": "166",
                                    "11": "2022-09-19",
                                    "12": "151",
                                    "13": "3",
                                    "14": "302",
                                    "15": "24"
                                },
                                {
                                    "0": "1133195",
                                    "1": "Strathlyn Lemon Tree Spa  Barossa",
                                    "2": "6172214",
                                    "3": "Heather",
                                    "4": "Penrice",
                                    "5": "-3449403",
                                    "6": "13903202",
                                    "7": "Entire home/apt",
                                    "8": "236",
                                    "9": "2",
                                    "10": "59",
                                    "11": "2022-09-04",
                                    "12": "61",
                                    "13": "3",
                                    "14": "323",
                                    "15": "14"
                                },
                                {
                                    "0": "1133236",
                                    "1": "Strathlyn Spa Garden Suites Barossa",
                                    "2": "6172214",
                                    "3": "Heather",
                                    "4": "Penrice",
                                    "5": "-3449356",
                                    "6": "13903221",
                                    "7": "Private room",
                                    "8": "260",
                                    "9": "1",
                                    "10": "49",
                                    "11": "2022-09-18",
                                    "12": "47",
                                    "13": "3",
                                    "14": "318",
                                    "15": "15"
                                },
                                {
                                    "0": "1178384",
                                    "1": "Country cottage getaway",
                                    "2": "2122575",
                                    "3": "Tanya",
                                    "4": "Nuriootpa",
                                    "5": "-3446694",
                                    "6": "1389936",
                                    "7": "Private room",
                                    "8": "104",
                                    "9": "1",
                                    "10": "0",
                                    "11": "NULL",
                                    "12": "NULL",
                                    "13": "1",
                                    "14": "335",
                                    "15": "0"
                                },
                                {
                                    "0": "1710462",
                                    "1": "Shea-Oak Log Studio Shed",
                                    "2": "6645956",
                                    "3": "Kylie And Tom",
                                    "4": "Shea-Oak Log",
                                    "5": "-3451049",
                                    "6": "13881731",
                                    "7": "Entire home/apt",
                                    "8": "102",
                                    "9": "2",
                                    "10": "497",
                                    "11": "2022-09-06",
                                    "12": "459",
                                    "13": "1",
                                    "14": "330",
                                    "15": "30"
                                },
                                {
                                    "0": "1787389",
                                    "1": "Barossa Valley Apt 1 offers 2 bedrooms 2 bathroom",
                                    "2": "9380091",
                                    "3": "Kym",
                                    "4": "Tanunda",
                                    "5": "-3452835",
                                    "6": "13895364",
                                    "7": "Entire home/apt",
                                    "8": "400",
                                    "9": "2",
                                    "10": "17",
                                    "11": "2020-12-04",
                                    "12": "21",
                                    "13": "17",
                                    "14": "50",
                                    "15": "0"
                                },
                                {
                                    "0": "2028951",
                                    "1": "2 bedrooms with Woodfire, Barossa Country Cottages",
                                    "2": "10421165",
                                    "3": "Mark And Fiona",
                                    "4": "Lyndoch",
                                    "5": "-3460374",
                                    "6": "13888348",
                                    "7": "Entire home/apt",
                                    "8": "209",
                                    "9": "2",
                                    "10": "8",
                                    "11": "2022-09-05",
                                    "12": "145",
                                    "13": "2",
                                    "14": "309",
                                    "15": "8"
                                },
                                {
                                    "0": "2327616",
                                    "1": "Gawler River Farm B and B.",
                                    "2": "6713275",
                                    "3": "Bill",
                                    "4": "Gawler River",
                                    "5": "-3460563",
                                    "6": "13864823",
                                    "7": "Entire home/apt",
                                    "8": "90",
                                    "9": "1",
                                    "10": "125",
                                    "11": "2022-09-21",
                                    "12": "135",
                                    "13": "1",
                                    "14": "343",
                                    "15": "29"
                                },
                                {
                                    "0": "2567051",
                                    "1": "The Miners Cottage Barossa Valley",
                                    "2": "10726293",
                                    "3": "Rebecca",
                                    "4": "Cockatoo Valley",
                                    "5": "-3463884",
                                    "6": "13884564",
                                    "7": "Private room",
                                    "8": "210",
                                    "9": "2",
                                    "10": "31",
                                    "11": "2022-08-22",
                                    "12": "32",
                                    "13": "1",
                                    "14": "267",
                                    "15": "5"
                                },
                                {
                                    "0": "3506622",
                                    "1": "A nice room in a big 4 b/room house",
                                    "2": "17656515",
                                    "3": "Andrew",
                                    "4": "Buchfelde",
                                    "5": "-3461874",
                                    "6": "13873199",
                                    "7": "Private room",
                                    "8": "85",
                                    "9": "1",
                                    "10": "0",
                                    "11": "NULL",
                                    "12": "NULL",
                                    "13": "1",
                                    "14": "365",
                                    "15": "0"
                                }
                            ]
                        },
                        "text/html": [
                            "<table>",
                            "<tr><th>id</th><th>name</th><th>host_id</th><th>host_name</th><th>neighbourhood</th><th>latitude</th><th>longitude</th><th>room_type</th><th>price</th><th>minimum_nights</th><th>number_of_reviews</th><th>last_review</th><th>reviews_per_month</th><th>calculated_host_listings_count</th><th>availability_365</th><th>number_of_reviews_ltm</th></tr>",
                            "<tr><td>1125097</td><td>Strathlyn Coach House Barossa</td><td>6172214</td><td>Heather</td><td>Angaston</td><td>-3449389</td><td>13902942</td><td>Entire home/apt</td><td>254</td><td>2</td><td>166</td><td>2022-09-19</td><td>151</td><td>3</td><td>302</td><td>24</td></tr>",
                            "<tr><td>1133195</td><td>Strathlyn Lemon Tree Spa  Barossa</td><td>6172214</td><td>Heather</td><td>Penrice</td><td>-3449403</td><td>13903202</td><td>Entire home/apt</td><td>236</td><td>2</td><td>59</td><td>2022-09-04</td><td>61</td><td>3</td><td>323</td><td>14</td></tr>",
                            "<tr><td>1133236</td><td>Strathlyn Spa Garden Suites Barossa</td><td>6172214</td><td>Heather</td><td>Penrice</td><td>-3449356</td><td>13903221</td><td>Private room</td><td>260</td><td>1</td><td>49</td><td>2022-09-18</td><td>47</td><td>3</td><td>318</td><td>15</td></tr>",
                            "<tr><td>1178384</td><td>Country cottage getaway</td><td>2122575</td><td>Tanya</td><td>Nuriootpa</td><td>-3446694</td><td>1389936</td><td>Private room</td><td>104</td><td>1</td><td>0</td><td>NULL</td><td>NULL</td><td>1</td><td>335</td><td>0</td></tr>",
                            "<tr><td>1710462</td><td>Shea-Oak Log Studio Shed</td><td>6645956</td><td>Kylie And Tom</td><td>Shea-Oak Log</td><td>-3451049</td><td>13881731</td><td>Entire home/apt</td><td>102</td><td>2</td><td>497</td><td>2022-09-06</td><td>459</td><td>1</td><td>330</td><td>30</td></tr>",
                            "<tr><td>1787389</td><td>Barossa Valley Apt 1 offers 2 bedrooms 2 bathroom</td><td>9380091</td><td>Kym</td><td>Tanunda</td><td>-3452835</td><td>13895364</td><td>Entire home/apt</td><td>400</td><td>2</td><td>17</td><td>2020-12-04</td><td>21</td><td>17</td><td>50</td><td>0</td></tr>",
                            "<tr><td>2028951</td><td>2 bedrooms with Woodfire, Barossa Country Cottages</td><td>10421165</td><td>Mark And Fiona</td><td>Lyndoch</td><td>-3460374</td><td>13888348</td><td>Entire home/apt</td><td>209</td><td>2</td><td>8</td><td>2022-09-05</td><td>145</td><td>2</td><td>309</td><td>8</td></tr>",
                            "<tr><td>2327616</td><td>Gawler River Farm B and B.</td><td>6713275</td><td>Bill</td><td>Gawler River</td><td>-3460563</td><td>13864823</td><td>Entire home/apt</td><td>90</td><td>1</td><td>125</td><td>2022-09-21</td><td>135</td><td>1</td><td>343</td><td>29</td></tr>",
                            "<tr><td>2567051</td><td>The Miners Cottage Barossa Valley</td><td>10726293</td><td>Rebecca</td><td>Cockatoo Valley</td><td>-3463884</td><td>13884564</td><td>Private room</td><td>210</td><td>2</td><td>31</td><td>2022-08-22</td><td>32</td><td>1</td><td>267</td><td>5</td></tr>",
                            "<tr><td>3506622</td><td>A nice room in a big 4 b/room house</td><td>17656515</td><td>Andrew</td><td>Buchfelde</td><td>-3461874</td><td>13873199</td><td>Private room</td><td>85</td><td>1</td><td>0</td><td>NULL</td><td>NULL</td><td>1</td><td>365</td><td>0</td></tr>",
                            "</table>"
                        ]
                    }
                }
            ],
            "execution_count": 2
        },
        {
            "cell_type": "code",
            "source": [
                "--INSPECTING THE DUPLICATES ON THE PRYMARY KEY COLUMN \"ID\".\r\n",
                "-- Verifying if there is only one unique id for each property in the list. \r\n",
                "SELECT COUNT(DISTINCT id)as 'Unique rows',\r\n",
                "COUNT(*) as 'Total Rows'\r\n",
                "FROM [listings (1)]"
            ],
            "metadata": {
                "azdata_cell_guid": "d07b3c5d-4746-4744-90b2-6b87a1f876ee",
                "language": "sql",
                "tags": []
            },
            "outputs": [
                {
                    "output_type": "display_data",
                    "data": {
                        "text/html": "(1 row affected)"
                    },
                    "metadata": {}
                },
                {
                    "output_type": "display_data",
                    "data": {
                        "text/html": "Total execution time: 00:00:00.009"
                    },
                    "metadata": {}
                },
                {
                    "output_type": "execute_result",
                    "execution_count": 131,
                    "data": {
                        "application/vnd.dataresource+json": {
                            "schema": {
                                "fields": [
                                    {
                                        "name": "Unique rows"
                                    },
                                    {
                                        "name": "Total Rows"
                                    }
                                ]
                            },
                            "data": [
                                {
                                    "0": "324",
                                    "1": "324"
                                }
                            ]
                        },
                        "text/html": "<table><tr><th>Unique rows</th><th>Total Rows</th></tr><tr><td>324</td><td>324</td></tr></table>"
                    },
                    "metadata": {}
                }
            ],
            "execution_count": 131
        },
        {
            "cell_type": "code",
            "source": [
                "--CHECKING THE NULL VALUES ON THE DATASET.\r\n",
                "--Percentage of null values on reviews_per_month, price, availability_365,neighbourhood.\r\n",
                "SELECT ROUND((COUNT(CASE WHEN reviews_per_month IS NULL THEN 1 END) * 100.0) / COUNT(*),2) as reviews_per_month_null_percentage,\r\n",
                "       (COUNT(CASE WHEN  price IS NULL THEN 1 END) * 100.0) / COUNT(*) as price_null_percentage,\r\n",
                "       (COUNT(CASE WHEN availability_365 IS NULL THEN 1 END) * 100.0) / COUNT(*) as availability_365_null_percentage,\r\n",
                "       (COUNT(CASE WHEN neighbourhood IS NULL THEN 1 END) * 100.0) / COUNT(*) as neighbourhood_null_percentage\r\n",
                "FROM [listings (1)]\r\n",
                "\r\n",
                ""
            ],
            "metadata": {
                "language": "sql",
                "azdata_cell_guid": "391686e8-14e7-420c-afe9-6d508e7cd9d3",
                "tags": []
            },
            "outputs": [
                {
                    "output_type": "display_data",
                    "data": {
                        "text/html": "Warning: Null value is eliminated by an aggregate or other SET operation."
                    },
                    "metadata": {}
                },
                {
                    "output_type": "display_data",
                    "data": {
                        "text/html": "(1 row affected)"
                    },
                    "metadata": {}
                },
                {
                    "output_type": "display_data",
                    "data": {
                        "text/html": "Total execution time: 00:00:00.019"
                    },
                    "metadata": {}
                },
                {
                    "output_type": "execute_result",
                    "execution_count": 132,
                    "data": {
                        "application/vnd.dataresource+json": {
                            "schema": {
                                "fields": [
                                    {
                                        "name": "reviews_per_month_null_percentage"
                                    },
                                    {
                                        "name": "price_null_percentage"
                                    },
                                    {
                                        "name": "availability_365_null_percentage"
                                    },
                                    {
                                        "name": "neighbourhood_null_percentage"
                                    }
                                ]
                            },
                            "data": [
                                {
                                    "0": "11.730000000000",
                                    "1": "0.000000000000",
                                    "2": "0.000000000000",
                                    "3": "0.000000000000"
                                }
                            ]
                        },
                        "text/html": "<table><tr><th>reviews_per_month_null_percentage</th><th>price_null_percentage</th><th>availability_365_null_percentage</th><th>neighbourhood_null_percentage</th></tr><tr><td>11.730000000000</td><td>0.000000000000</td><td>0.000000000000</td><td>0.000000000000</td></tr></table>"
                    },
                    "metadata": {}
                }
            ],
            "execution_count": 132
        },
        {
            "cell_type": "markdown",
            "source": [
                "**Comments:** The \"reviews per month\" feature in our analysis has a null value rate of 11.73%, which is greater than the 5% acceptance rate we have set for our analysis. However, this does not significantly impact our overall analysis, and we will proceed with including it in our analysis. During the specific analysis of reviews, we will exclude properties with null values for this feature."
            ],
            "metadata": {
                "language": "sql",
                "azdata_cell_guid": "a5615c71-0f0c-410c-b415-75c1d791fea0"
            },
            "attachments": {}
        },
        {
            "cell_type": "markdown",
            "source": [
                "**2\\. DESCRIPTIVE ANALYSIS - SUMMARY STATISTICS**\n",
                "\n",
                "In order to gain a deeper understanding of the rental prices of properties in <span style=\"background-color: rgb(255, 255, 0);\">Barossa&nbsp;</span>  Valley, we will analyze the summary statistics and the table of frequencies including the mean, median, and standard deviation. These measures will give us a better idea of the distribution of prices in the region. With this information, we will be able to identify patterns and make more informed decisions about the real estate market in <mark>Baro</mark>ssa Valley. Understanding the distribution of prices will help us to better understand the prices of properties in the region and make better investment decisions."
            ],
            "metadata": {
                "language": "sql",
                "azdata_cell_guid": "37377c01-2de7-4f82-afb5-e5d403f6582a"
            },
            "attachments": {}
        },
        {
            "cell_type": "code",
            "source": [
                "-- OVERVIEW OF THE DATASET.\r\n",
                "SELECT TOP(10)*\r\n",
                "FROM [listings (1)]"
            ],
            "metadata": {
                "language": "sql",
                "azdata_cell_guid": "1f4725b3-0286-47b9-a2c3-f5389b88a76d",
                "tags": []
            },
            "outputs": [
                {
                    "output_type": "display_data",
                    "data": {
                        "text/html": "(10 rows affected)"
                    },
                    "metadata": {}
                },
                {
                    "output_type": "display_data",
                    "data": {
                        "text/html": "Total execution time: 00:00:00.033"
                    },
                    "metadata": {}
                },
                {
                    "output_type": "execute_result",
                    "metadata": {},
                    "execution_count": 3,
                    "data": {
                        "application/vnd.dataresource+json": {
                            "schema": {
                                "fields": [
                                    {
                                        "name": "id"
                                    },
                                    {
                                        "name": "name"
                                    },
                                    {
                                        "name": "host_id"
                                    },
                                    {
                                        "name": "host_name"
                                    },
                                    {
                                        "name": "neighbourhood"
                                    },
                                    {
                                        "name": "latitude"
                                    },
                                    {
                                        "name": "longitude"
                                    },
                                    {
                                        "name": "room_type"
                                    },
                                    {
                                        "name": "price"
                                    },
                                    {
                                        "name": "minimum_nights"
                                    },
                                    {
                                        "name": "number_of_reviews"
                                    },
                                    {
                                        "name": "last_review"
                                    },
                                    {
                                        "name": "reviews_per_month"
                                    },
                                    {
                                        "name": "calculated_host_listings_count"
                                    },
                                    {
                                        "name": "availability_365"
                                    },
                                    {
                                        "name": "number_of_reviews_ltm"
                                    }
                                ]
                            },
                            "data": [
                                {
                                    "0": "1125097",
                                    "1": "Strathlyn Coach House Barossa",
                                    "2": "6172214",
                                    "3": "Heather",
                                    "4": "Angaston",
                                    "5": "-3449389",
                                    "6": "13902942",
                                    "7": "Entire home/apt",
                                    "8": "254",
                                    "9": "2",
                                    "10": "166",
                                    "11": "2022-09-19",
                                    "12": "151",
                                    "13": "3",
                                    "14": "302",
                                    "15": "24"
                                },
                                {
                                    "0": "1133195",
                                    "1": "Strathlyn Lemon Tree Spa  Barossa",
                                    "2": "6172214",
                                    "3": "Heather",
                                    "4": "Penrice",
                                    "5": "-3449403",
                                    "6": "13903202",
                                    "7": "Entire home/apt",
                                    "8": "236",
                                    "9": "2",
                                    "10": "59",
                                    "11": "2022-09-04",
                                    "12": "61",
                                    "13": "3",
                                    "14": "323",
                                    "15": "14"
                                },
                                {
                                    "0": "1133236",
                                    "1": "Strathlyn Spa Garden Suites Barossa",
                                    "2": "6172214",
                                    "3": "Heather",
                                    "4": "Penrice",
                                    "5": "-3449356",
                                    "6": "13903221",
                                    "7": "Private room",
                                    "8": "260",
                                    "9": "1",
                                    "10": "49",
                                    "11": "2022-09-18",
                                    "12": "47",
                                    "13": "3",
                                    "14": "318",
                                    "15": "15"
                                },
                                {
                                    "0": "1178384",
                                    "1": "Country cottage getaway",
                                    "2": "2122575",
                                    "3": "Tanya",
                                    "4": "Nuriootpa",
                                    "5": "-3446694",
                                    "6": "1389936",
                                    "7": "Private room",
                                    "8": "104",
                                    "9": "1",
                                    "10": "0",
                                    "11": "NULL",
                                    "12": "NULL",
                                    "13": "1",
                                    "14": "335",
                                    "15": "0"
                                },
                                {
                                    "0": "1710462",
                                    "1": "Shea-Oak Log Studio Shed",
                                    "2": "6645956",
                                    "3": "Kylie And Tom",
                                    "4": "Shea-Oak Log",
                                    "5": "-3451049",
                                    "6": "13881731",
                                    "7": "Entire home/apt",
                                    "8": "102",
                                    "9": "2",
                                    "10": "497",
                                    "11": "2022-09-06",
                                    "12": "459",
                                    "13": "1",
                                    "14": "330",
                                    "15": "30"
                                },
                                {
                                    "0": "1787389",
                                    "1": "Barossa Valley Apt 1 offers 2 bedrooms 2 bathroom",
                                    "2": "9380091",
                                    "3": "Kym",
                                    "4": "Tanunda",
                                    "5": "-3452835",
                                    "6": "13895364",
                                    "7": "Entire home/apt",
                                    "8": "400",
                                    "9": "2",
                                    "10": "17",
                                    "11": "2020-12-04",
                                    "12": "21",
                                    "13": "17",
                                    "14": "50",
                                    "15": "0"
                                },
                                {
                                    "0": "2028951",
                                    "1": "2 bedrooms with Woodfire, Barossa Country Cottages",
                                    "2": "10421165",
                                    "3": "Mark And Fiona",
                                    "4": "Lyndoch",
                                    "5": "-3460374",
                                    "6": "13888348",
                                    "7": "Entire home/apt",
                                    "8": "209",
                                    "9": "2",
                                    "10": "8",
                                    "11": "2022-09-05",
                                    "12": "145",
                                    "13": "2",
                                    "14": "309",
                                    "15": "8"
                                },
                                {
                                    "0": "2327616",
                                    "1": "Gawler River Farm B and B.",
                                    "2": "6713275",
                                    "3": "Bill",
                                    "4": "Gawler River",
                                    "5": "-3460563",
                                    "6": "13864823",
                                    "7": "Entire home/apt",
                                    "8": "90",
                                    "9": "1",
                                    "10": "125",
                                    "11": "2022-09-21",
                                    "12": "135",
                                    "13": "1",
                                    "14": "343",
                                    "15": "29"
                                },
                                {
                                    "0": "2567051",
                                    "1": "The Miners Cottage Barossa Valley",
                                    "2": "10726293",
                                    "3": "Rebecca",
                                    "4": "Cockatoo Valley",
                                    "5": "-3463884",
                                    "6": "13884564",
                                    "7": "Private room",
                                    "8": "210",
                                    "9": "2",
                                    "10": "31",
                                    "11": "2022-08-22",
                                    "12": "32",
                                    "13": "1",
                                    "14": "267",
                                    "15": "5"
                                },
                                {
                                    "0": "3506622",
                                    "1": "A nice room in a big 4 b/room house",
                                    "2": "17656515",
                                    "3": "Andrew",
                                    "4": "Buchfelde",
                                    "5": "-3461874",
                                    "6": "13873199",
                                    "7": "Private room",
                                    "8": "85",
                                    "9": "1",
                                    "10": "0",
                                    "11": "NULL",
                                    "12": "NULL",
                                    "13": "1",
                                    "14": "365",
                                    "15": "0"
                                }
                            ]
                        },
                        "text/html": [
                            "<table>",
                            "<tr><th>id</th><th>name</th><th>host_id</th><th>host_name</th><th>neighbourhood</th><th>latitude</th><th>longitude</th><th>room_type</th><th>price</th><th>minimum_nights</th><th>number_of_reviews</th><th>last_review</th><th>reviews_per_month</th><th>calculated_host_listings_count</th><th>availability_365</th><th>number_of_reviews_ltm</th></tr>",
                            "<tr><td>1125097</td><td>Strathlyn Coach House Barossa</td><td>6172214</td><td>Heather</td><td>Angaston</td><td>-3449389</td><td>13902942</td><td>Entire home/apt</td><td>254</td><td>2</td><td>166</td><td>2022-09-19</td><td>151</td><td>3</td><td>302</td><td>24</td></tr>",
                            "<tr><td>1133195</td><td>Strathlyn Lemon Tree Spa  Barossa</td><td>6172214</td><td>Heather</td><td>Penrice</td><td>-3449403</td><td>13903202</td><td>Entire home/apt</td><td>236</td><td>2</td><td>59</td><td>2022-09-04</td><td>61</td><td>3</td><td>323</td><td>14</td></tr>",
                            "<tr><td>1133236</td><td>Strathlyn Spa Garden Suites Barossa</td><td>6172214</td><td>Heather</td><td>Penrice</td><td>-3449356</td><td>13903221</td><td>Private room</td><td>260</td><td>1</td><td>49</td><td>2022-09-18</td><td>47</td><td>3</td><td>318</td><td>15</td></tr>",
                            "<tr><td>1178384</td><td>Country cottage getaway</td><td>2122575</td><td>Tanya</td><td>Nuriootpa</td><td>-3446694</td><td>1389936</td><td>Private room</td><td>104</td><td>1</td><td>0</td><td>NULL</td><td>NULL</td><td>1</td><td>335</td><td>0</td></tr>",
                            "<tr><td>1710462</td><td>Shea-Oak Log Studio Shed</td><td>6645956</td><td>Kylie And Tom</td><td>Shea-Oak Log</td><td>-3451049</td><td>13881731</td><td>Entire home/apt</td><td>102</td><td>2</td><td>497</td><td>2022-09-06</td><td>459</td><td>1</td><td>330</td><td>30</td></tr>",
                            "<tr><td>1787389</td><td>Barossa Valley Apt 1 offers 2 bedrooms 2 bathroom</td><td>9380091</td><td>Kym</td><td>Tanunda</td><td>-3452835</td><td>13895364</td><td>Entire home/apt</td><td>400</td><td>2</td><td>17</td><td>2020-12-04</td><td>21</td><td>17</td><td>50</td><td>0</td></tr>",
                            "<tr><td>2028951</td><td>2 bedrooms with Woodfire, Barossa Country Cottages</td><td>10421165</td><td>Mark And Fiona</td><td>Lyndoch</td><td>-3460374</td><td>13888348</td><td>Entire home/apt</td><td>209</td><td>2</td><td>8</td><td>2022-09-05</td><td>145</td><td>2</td><td>309</td><td>8</td></tr>",
                            "<tr><td>2327616</td><td>Gawler River Farm B and B.</td><td>6713275</td><td>Bill</td><td>Gawler River</td><td>-3460563</td><td>13864823</td><td>Entire home/apt</td><td>90</td><td>1</td><td>125</td><td>2022-09-21</td><td>135</td><td>1</td><td>343</td><td>29</td></tr>",
                            "<tr><td>2567051</td><td>The Miners Cottage Barossa Valley</td><td>10726293</td><td>Rebecca</td><td>Cockatoo Valley</td><td>-3463884</td><td>13884564</td><td>Private room</td><td>210</td><td>2</td><td>31</td><td>2022-08-22</td><td>32</td><td>1</td><td>267</td><td>5</td></tr>",
                            "<tr><td>3506622</td><td>A nice room in a big 4 b/room house</td><td>17656515</td><td>Andrew</td><td>Buchfelde</td><td>-3461874</td><td>13873199</td><td>Private room</td><td>85</td><td>1</td><td>0</td><td>NULL</td><td>NULL</td><td>1</td><td>365</td><td>0</td></tr>",
                            "</table>"
                        ]
                    }
                }
            ],
            "execution_count": 3
        },
        {
            "cell_type": "markdown",
            "source": [
                "**<u>\\-Summary Statistics of the data properties rent price</u>**"
            ],
            "metadata": {
                "language": "sql",
                "azdata_cell_guid": "9759fdce-2c3a-47f3-805b-471515583716"
            },
            "attachments": {}
        },
        {
            "cell_type": "code",
            "source": [
                "--SUMMARY STATISTICS OF RENT PRICE.  \r\n",
                "SELECT SUM(price) as sum_price,\r\n",
                "AVG(price) as mean_price,\r\n",
                "MAX(price) as max_price,\r\n",
                "MIN(price) as min_price,\r\n",
                "VAR(price) as variance_price,\r\n",
                "STDEV(price) as standart_dev_price,\r\n",
                "MAX(price)- MIN(price) as range_price\r\n",
                "FROM [listings (1)]\r\n",
                ""
            ],
            "metadata": {
                "azdata_cell_guid": "8683c1b4-97cc-47c4-89ee-ea3252b5c92e",
                "language": "sql",
                "tags": []
            },
            "outputs": [
                {
                    "output_type": "display_data",
                    "data": {
                        "text/html": "(1 row affected)"
                    },
                    "metadata": {}
                },
                {
                    "output_type": "display_data",
                    "data": {
                        "text/html": "Total execution time: 00:00:00.014"
                    },
                    "metadata": {}
                },
                {
                    "output_type": "execute_result",
                    "execution_count": 134,
                    "data": {
                        "application/vnd.dataresource+json": {
                            "schema": {
                                "fields": [
                                    {
                                        "name": "sum_price"
                                    },
                                    {
                                        "name": "mean_price"
                                    },
                                    {
                                        "name": "max_price"
                                    },
                                    {
                                        "name": "min_price"
                                    },
                                    {
                                        "name": "variance_price"
                                    },
                                    {
                                        "name": "standart_dev_price"
                                    },
                                    {
                                        "name": "range_price"
                                    }
                                ]
                            },
                            "data": [
                                {
                                    "0": "111062",
                                    "1": "342",
                                    "2": "2800",
                                    "3": "63",
                                    "4": "91814,76432366318",
                                    "5": "303,0095119359509",
                                    "6": "2737"
                                }
                            ]
                        },
                        "text/html": "<table><tr><th>sum_price</th><th>mean_price</th><th>max_price</th><th>min_price</th><th>variance_price</th><th>standart_dev_price</th><th>range_price</th></tr><tr><td>111062</td><td>342</td><td>2800</td><td>63</td><td>91814,76432366318</td><td>303,0095119359509</td><td>2737</td></tr></table>"
                    },
                    "metadata": {}
                }
            ],
            "execution_count": 134
        },
        {
            "cell_type": "code",
            "source": [
                "--INTERQUATILE RANGE AND MEDIAN OF RENT PRICE \r\n",
                "SELECT TOP(1) price,\r\n",
                "PERCENTILE_CONT(0.25) WITHIN GROUP (ORDER BY price) OVER() AS first_quartile,\r\n",
                "PERCENTILE_CONT(0.5) WITHIN GROUP (ORDER BY price) OVER() AS median_price,\r\n",
                "PERCENTILE_CONT(0.75) WITHIN GROUP (ORDER BY price) OVER() AS third_quartile\r\n",
                "FROM [listings (1)]\r\n",
                "GROUP BY price;"
            ],
            "metadata": {
                "language": "sql",
                "azdata_cell_guid": "05491161-fd03-4dc7-b1b7-75556c71c955",
                "tags": []
            },
            "outputs": [
                {
                    "output_type": "display_data",
                    "data": {
                        "text/html": "(1 row affected)"
                    },
                    "metadata": {}
                },
                {
                    "output_type": "display_data",
                    "data": {
                        "text/html": "Total execution time: 00:00:00.033"
                    },
                    "metadata": {}
                },
                {
                    "output_type": "execute_result",
                    "execution_count": 135,
                    "data": {
                        "application/vnd.dataresource+json": {
                            "schema": {
                                "fields": [
                                    {
                                        "name": "price"
                                    },
                                    {
                                        "name": "first_quartile"
                                    },
                                    {
                                        "name": "median_price"
                                    },
                                    {
                                        "name": "third_quartile"
                                    }
                                ]
                            },
                            "data": [
                                {
                                    "0": "63",
                                    "1": "190,75",
                                    "2": "271,5",
                                    "3": "424,25"
                                }
                            ]
                        },
                        "text/html": "<table><tr><th>price</th><th>first_quartile</th><th>median_price</th><th>third_quartile</th></tr><tr><td>63</td><td>190,75</td><td>271,5</td><td>424,25</td></tr></table>"
                    },
                    "metadata": {}
                }
            ],
            "execution_count": 135
        },
        {
            "cell_type": "markdown",
            "source": [
                "**<u>\\-Frequency table of the properties rent price</u>**"
            ],
            "metadata": {
                "language": "sql",
                "azdata_cell_guid": "7aa8d3be-9a19-46c8-8679-38fcdf2eba81"
            },
            "attachments": {}
        },
        {
            "cell_type": "markdown",
            "source": [
                "**Comments:** As a result, the distribution of the data is right-skewed, with the majority of the values concentrated on the lower end and a few outliers on the higher end. The mean is greater than the median. Additionally, the interquartile range (IQR) is $233.50, indicating that 50% of the data is concentrated between $190.75 and $424.25."
            ],
            "metadata": {
                "language": "sql",
                "azdata_cell_guid": "c2302886-fbff-4c08-b970-13152a99e3a9"
            },
            "attachments": {}
        },
        {
            "cell_type": "code",
            "source": [
                "-- FREQUENCY TABLE OF THE PRICE RENT AIRBNB AT BAROSSA VALLEY.\r\n",
                "WITH frequency_Table AS (\r\n",
                "    SELECT\r\n",
                "      CASE \r\n",
                "        WHEN price < 150 THEN '0-150'\r\n",
                "        WHEN price BETWEEN 151 AND 300 THEN '151-300'\r\n",
                "        WHEN price BETWEEN 301 AND 450 THEN '301-450'\r\n",
                "        WHEN price BETWEEN 451 AND 600 THEN '451-600'\r\n",
                "        WHEN price BETWEEN 601 AND 750 THEN '601-750'\r\n",
                "        WHEN price BETWEEN 751 AND 900 THEN '751-900'\r\n",
                "        WHEN price BETWEEN 901 AND 1050 THEN '901-1050'\r\n",
                "        WHEN price BETWEEN 1051 AND 1200 THEN '1051-1200'\r\n",
                "        WHEN price BETWEEN 1201 AND 1500 THEN '1201-1500'\r\n",
                "        WHEN price > 1500 THEN '>= 1500'\r\n",
                "        ELSE 'Other'\r\n",
                "      END AS price_range,\r\n",
                "        COUNT(*) as frequency\r\n",
                "    FROM [listings (1)]\r\n",
                "    GROUP BY price\r\n",
                ")\r\n",
                "-- IT WAS NOT POSSIBLE SORT THE CREATED RANGE COLUMN ABOVE (price_range) BECAUSE '0-150' IT IS STRING DATA TYPE. SO I CREATED OTHER COLUMN WITH THE CORRECT SORT ORDER.\r\n",
                "SELECT price_range, \r\n",
                "SUM(frequency) as count_freq,\r\n",
                "CASE \r\n",
                "    WHEN price_range = '0-150' THEN 1\r\n",
                "    WHEN price_range = '151-300' THEN 2\r\n",
                "    WHEN price_range = '301-450' THEN 3\r\n",
                "    WHEN price_range = '451-600' THEN 4\r\n",
                "    WHEN price_range = '601-750' THEN 5\r\n",
                "    WHEN price_range = '751-900' THEN 6\r\n",
                "    WHEN price_range = '901-1050' THEN 7\r\n",
                "    WHEN price_range = '1051-1200' THEN 8\r\n",
                "     WHEN price_range = '1201-1500' THEN 9\r\n",
                "    WHEN price_range = '>= 1500' THEN 10\r\n",
                "    ELSE 11\r\n",
                "  END AS sort_order\r\n",
                "FROM frequency_Table\r\n",
                "GROUP BY price_range\r\n",
                "ORDER BY sort_order;"
            ],
            "metadata": {
                "language": "sql",
                "azdata_cell_guid": "9a4f5d37-efd1-4f32-8e8a-94b43ae3e3df",
                "tags": []
            },
            "outputs": [
                {
                    "output_type": "display_data",
                    "data": {
                        "text/html": "(11 rows affected)"
                    },
                    "metadata": {}
                },
                {
                    "output_type": "display_data",
                    "data": {
                        "text/html": "Total execution time: 00:00:00.020"
                    },
                    "metadata": {}
                },
                {
                    "output_type": "execute_result",
                    "execution_count": 136,
                    "data": {
                        "application/vnd.dataresource+json": {
                            "schema": {
                                "fields": [
                                    {
                                        "name": "price_range"
                                    },
                                    {
                                        "name": "count_freq"
                                    },
                                    {
                                        "name": "sort_order"
                                    }
                                ]
                            },
                            "data": [
                                {
                                    "0": "0-150",
                                    "1": "50",
                                    "2": "1"
                                },
                                {
                                    "0": "151-300",
                                    "1": "150",
                                    "2": "2"
                                },
                                {
                                    "0": "301-450",
                                    "1": "59",
                                    "2": "3"
                                },
                                {
                                    "0": "451-600",
                                    "1": "23",
                                    "2": "4"
                                },
                                {
                                    "0": "601-750",
                                    "1": "10",
                                    "2": "5"
                                },
                                {
                                    "0": "751-900",
                                    "1": "13",
                                    "2": "6"
                                },
                                {
                                    "0": "901-1050",
                                    "1": "4",
                                    "2": "7"
                                },
                                {
                                    "0": "1051-1200",
                                    "1": "1",
                                    "2": "8"
                                },
                                {
                                    "0": "1201-1500",
                                    "1": "4",
                                    "2": "9"
                                },
                                {
                                    "0": ">= 1500",
                                    "1": "4",
                                    "2": "10"
                                },
                                {
                                    "0": "Other",
                                    "1": "6",
                                    "2": "11"
                                }
                            ]
                        },
                        "text/html": "<table><tr><th>price_range</th><th>count_freq</th><th>sort_order</th></tr><tr><td>0-150</td><td>50</td><td>1</td></tr><tr><td>151-300</td><td>150</td><td>2</td></tr><tr><td>301-450</td><td>59</td><td>3</td></tr><tr><td>451-600</td><td>23</td><td>4</td></tr><tr><td>601-750</td><td>10</td><td>5</td></tr><tr><td>751-900</td><td>13</td><td>6</td></tr><tr><td>901-1050</td><td>4</td><td>7</td></tr><tr><td>1051-1200</td><td>1</td><td>8</td></tr><tr><td>1201-1500</td><td>4</td><td>9</td></tr><tr><td>&gt;= 1500</td><td>4</td><td>10</td></tr><tr><td>Other</td><td>6</td><td>11</td></tr></table>"
                    },
                    "metadata": {}
                }
            ],
            "execution_count": 136
        },
        {
            "cell_type": "markdown",
            "source": [
                "**Comments:** In summary, the analysis of the price distribution of properties in <mark><mark><mark>Baro</mark></mark></mark>ssa Valley suggests a wide availability of fair-cost options for accommodation. The data shows that the majority of properties, 79.93%, have a price range that falls between $0 to $450 per night, with 46% of the properties having a price range between $150 to $300 per night. The average price of rent in <mark><mark><mark><mark><mark>Baro</mark></mark></mark></mark></mark>ssa Valley is $342 per night, which is considered as a fair price for accommodation. This indicates that <mark><mark><mark><mark><mark><mark><mark><mark><mark>Baro</mark></mark></mark></mark></mark></mark></mark></mark></mark>ssa Valley is a destination where visitors can find a variety of fair-cost options for accommodation and budget travelers can also find suitable options. Also, it is worth noting that while there are only a few properties that have a high cost, costing more than $1500 per night, they should not be considered as typical prices in <mark><mark><mark><mark><mark><mark>Ba<mark>ro</mark></mark></mark></mark></mark></mark></mark><mark>ssa</mark> Valley."
            ],
            "metadata": {
                "language": "sql",
                "azdata_cell_guid": "41370a52-9c06-44b1-96d2-fdf0b677a900"
            },
            "attachments": {}
        },
        {
            "cell_type": "markdown",
            "source": [
                "**3\\. EXPLORATORY ANALYSIS**"
            ],
            "metadata": {
                "azdata_cell_guid": "3f9d40ed-5a86-4f77-a7c3-ce7e13105577"
            },
            "attachments": {}
        },
        {
            "cell_type": "markdown",
            "source": [
                "**<u>\\- Exploring the best regions for a investment in the Barossa Valley rental market on Airbnb.</u>**"
            ],
            "metadata": {
                "azdata_cell_guid": "d2443d83-b536-45de-8165-2b4536878c9e"
            },
            "attachments": {}
        },
        {
            "cell_type": "markdown",
            "source": [
                "**<u>\\-Count of listings per neighbourhood</u>**"
            ],
            "metadata": {
                "azdata_cell_guid": "4d2c340a-d534-4d56-ada0-93001a9c5eee"
            },
            "attachments": {}
        },
        {
            "cell_type": "code",
            "source": [
                "--INVESTIGATING THE QUANTITY OF LISTINGS PER NEIHGBOURHOOD\r\n",
                "SELECT neighbourhood,\r\n",
                "COUNT(id) as listings_count\r\n",
                "FROM [listings (1)]\r\n",
                "GROUP BY neighbourhood\r\n",
                "ORDER BY listings_count DESC"
            ],
            "metadata": {
                "azdata_cell_guid": "79ed97c8-5bf3-4b3c-a11e-d4fb2cb35dd7",
                "language": "sql",
                "tags": []
            },
            "outputs": [
                {
                    "output_type": "display_data",
                    "data": {
                        "text/html": "(26 rows affected)"
                    },
                    "metadata": {}
                },
                {
                    "output_type": "display_data",
                    "data": {
                        "text/html": "Total execution time: 00:00:00.010"
                    },
                    "metadata": {}
                },
                {
                    "output_type": "execute_result",
                    "execution_count": 137,
                    "data": {
                        "application/vnd.dataresource+json": {
                            "schema": {
                                "fields": [
                                    {
                                        "name": "neighbourhood"
                                    },
                                    {
                                        "name": "listings_count"
                                    }
                                ]
                            },
                            "data": [
                                {
                                    "0": "Tanunda",
                                    "1": "89"
                                },
                                {
                                    "0": "Angaston",
                                    "1": "53"
                                },
                                {
                                    "0": "Lyndoch",
                                    "1": "21"
                                },
                                {
                                    "0": "Nuriootpa",
                                    "1": "17"
                                },
                                {
                                    "0": "Kapunda",
                                    "1": "15"
                                },
                                {
                                    "0": "Buchfelde",
                                    "1": "15"
                                },
                                {
                                    "0": "Marananga",
                                    "1": "14"
                                },
                                {
                                    "0": "Bethany",
                                    "1": "12"
                                },
                                {
                                    "0": "Concordia",
                                    "1": "11"
                                },
                                {
                                    "0": "Mount Crawford",
                                    "1": "8"
                                },
                                {
                                    "0": "Mount Pleasant",
                                    "1": "8"
                                },
                                {
                                    "0": "Springton",
                                    "1": "8"
                                },
                                {
                                    "0": "Williamstown",
                                    "1": "6"
                                },
                                {
                                    "0": "Hewett",
                                    "1": "6"
                                },
                                {
                                    "0": "Moculta",
                                    "1": "5"
                                },
                                {
                                    "0": "Light Pass",
                                    "1": "5"
                                },
                                {
                                    "0": "Penrice",
                                    "1": "5"
                                },
                                {
                                    "0": "Kalbeeba",
                                    "1": "4"
                                },
                                {
                                    "0": "Altona",
                                    "1": "4"
                                },
                                {
                                    "0": "Greenock",
                                    "1": "4"
                                },
                                {
                                    "0": "Eden Valley",
                                    "1": "3"
                                },
                                {
                                    "0": "Flaxman Valley",
                                    "1": "3"
                                },
                                {
                                    "0": "Sandy Creek",
                                    "1": "3"
                                },
                                {
                                    "0": "Gawler River",
                                    "1": "2"
                                },
                                {
                                    "0": "Cockatoo Valley",
                                    "1": "2"
                                },
                                {
                                    "0": "Shea-Oak Log",
                                    "1": "1"
                                }
                            ]
                        },
                        "text/html": "<table><tr><th>neighbourhood</th><th>listings_count</th></tr><tr><td>Tanunda</td><td>89</td></tr><tr><td>Angaston</td><td>53</td></tr><tr><td>Lyndoch</td><td>21</td></tr><tr><td>Nuriootpa</td><td>17</td></tr><tr><td>Kapunda</td><td>15</td></tr><tr><td>Buchfelde</td><td>15</td></tr><tr><td>Marananga</td><td>14</td></tr><tr><td>Bethany</td><td>12</td></tr><tr><td>Concordia</td><td>11</td></tr><tr><td>Mount Crawford</td><td>8</td></tr><tr><td>Mount Pleasant</td><td>8</td></tr><tr><td>Springton</td><td>8</td></tr><tr><td>Williamstown</td><td>6</td></tr><tr><td>Hewett</td><td>6</td></tr><tr><td>Moculta</td><td>5</td></tr><tr><td>Light Pass</td><td>5</td></tr><tr><td>Penrice</td><td>5</td></tr><tr><td>Kalbeeba</td><td>4</td></tr><tr><td>Altona</td><td>4</td></tr><tr><td>Greenock</td><td>4</td></tr><tr><td>Eden Valley</td><td>3</td></tr><tr><td>Flaxman Valley</td><td>3</td></tr><tr><td>Sandy Creek</td><td>3</td></tr><tr><td>Gawler River</td><td>2</td></tr><tr><td>Cockatoo Valley</td><td>2</td></tr><tr><td>Shea-Oak Log</td><td>1</td></tr></table>"
                    },
                    "metadata": {
                        "azdata_chartOptions": {
                            "type": "horizontalBar",
                            "dataDirection": "vertical",
                            "columnsAsLabels": true,
                            "labelFirstColumn": true,
                            "legendPosition": "bottom"
                        }
                    }
                }
            ],
            "execution_count": 137
        },
        {
            "cell_type": "markdown",
            "source": [
                "**<u>\\-Average price per Neighbourhood</u>**"
            ],
            "metadata": {
                "language": "sql",
                "azdata_cell_guid": "a9ad8835-9d72-4015-9aab-36ff43b94f6d"
            },
            "attachments": {}
        },
        {
            "cell_type": "code",
            "source": [
                "--INVESTIGATING THE AVERAGE PRICE AND NUMBER OF PROPERTIES LISTED PER NEIHGBOURHOOD \r\n",
                "SELECT neighbourhood,\r\n",
                "AVG(price) as avg_price,\r\n",
                "count(id) as count_listings\r\n",
                "FROM [listings (1)]\r\n",
                "GROUP BY neighbourhood\r\n",
                "ORDER BY count_listings DESC"
            ],
            "metadata": {
                "language": "sql",
                "azdata_cell_guid": "5eb4fcf7-eb1b-44dc-b803-1ff60e549a18",
                "tags": []
            },
            "outputs": [
                {
                    "output_type": "display_data",
                    "data": {
                        "text/html": "(26 rows affected)"
                    },
                    "metadata": {}
                },
                {
                    "output_type": "display_data",
                    "data": {
                        "text/html": "Total execution time: 00:00:00.030"
                    },
                    "metadata": {}
                },
                {
                    "output_type": "execute_result",
                    "execution_count": 5,
                    "data": {
                        "application/vnd.dataresource+json": {
                            "schema": {
                                "fields": [
                                    {
                                        "name": "neighbourhood"
                                    },
                                    {
                                        "name": "avg_price"
                                    },
                                    {
                                        "name": "count_listings"
                                    }
                                ]
                            },
                            "data": [
                                {
                                    "0": "Tanunda",
                                    "1": "416",
                                    "2": "89"
                                },
                                {
                                    "0": "Angaston",
                                    "1": "313",
                                    "2": "53"
                                },
                                {
                                    "0": "Lyndoch",
                                    "1": "408",
                                    "2": "21"
                                },
                                {
                                    "0": "Nuriootpa",
                                    "1": "275",
                                    "2": "17"
                                },
                                {
                                    "0": "Kapunda",
                                    "1": "448",
                                    "2": "15"
                                },
                                {
                                    "0": "Buchfelde",
                                    "1": "148",
                                    "2": "15"
                                },
                                {
                                    "0": "Marananga",
                                    "1": "426",
                                    "2": "14"
                                },
                                {
                                    "0": "Bethany",
                                    "1": "296",
                                    "2": "12"
                                },
                                {
                                    "0": "Concordia",
                                    "1": "165",
                                    "2": "11"
                                },
                                {
                                    "0": "Mount Crawford",
                                    "1": "202",
                                    "2": "8"
                                },
                                {
                                    "0": "Mount Pleasant",
                                    "1": "472",
                                    "2": "8"
                                },
                                {
                                    "0": "Springton",
                                    "1": "216",
                                    "2": "8"
                                },
                                {
                                    "0": "Williamstown",
                                    "1": "250",
                                    "2": "6"
                                },
                                {
                                    "0": "Hewett",
                                    "1": "257",
                                    "2": "6"
                                },
                                {
                                    "0": "Moculta",
                                    "1": "320",
                                    "2": "5"
                                },
                                {
                                    "0": "Light Pass",
                                    "1": "391",
                                    "2": "5"
                                },
                                {
                                    "0": "Penrice",
                                    "1": "261",
                                    "2": "5"
                                },
                                {
                                    "0": "Kalbeeba",
                                    "1": "216",
                                    "2": "4"
                                },
                                {
                                    "0": "Altona",
                                    "1": "913",
                                    "2": "4"
                                },
                                {
                                    "0": "Greenock",
                                    "1": "245",
                                    "2": "4"
                                },
                                {
                                    "0": "Eden Valley",
                                    "1": "181",
                                    "2": "3"
                                },
                                {
                                    "0": "Flaxman Valley",
                                    "1": "217",
                                    "2": "3"
                                },
                                {
                                    "0": "Sandy Creek",
                                    "1": "240",
                                    "2": "3"
                                },
                                {
                                    "0": "Gawler River",
                                    "1": "110",
                                    "2": "2"
                                },
                                {
                                    "0": "Cockatoo Valley",
                                    "1": "502",
                                    "2": "2"
                                },
                                {
                                    "0": "Shea-Oak Log",
                                    "1": "102",
                                    "2": "1"
                                }
                            ]
                        },
                        "text/html": "<table><tr><th>neighbourhood</th><th>avg_price</th><th>count_listings</th></tr><tr><td>Tanunda</td><td>416</td><td>89</td></tr><tr><td>Angaston</td><td>313</td><td>53</td></tr><tr><td>Lyndoch</td><td>408</td><td>21</td></tr><tr><td>Nuriootpa</td><td>275</td><td>17</td></tr><tr><td>Kapunda</td><td>448</td><td>15</td></tr><tr><td>Buchfelde</td><td>148</td><td>15</td></tr><tr><td>Marananga</td><td>426</td><td>14</td></tr><tr><td>Bethany</td><td>296</td><td>12</td></tr><tr><td>Concordia</td><td>165</td><td>11</td></tr><tr><td>Mount Crawford</td><td>202</td><td>8</td></tr><tr><td>Mount Pleasant</td><td>472</td><td>8</td></tr><tr><td>Springton</td><td>216</td><td>8</td></tr><tr><td>Williamstown</td><td>250</td><td>6</td></tr><tr><td>Hewett</td><td>257</td><td>6</td></tr><tr><td>Moculta</td><td>320</td><td>5</td></tr><tr><td>Light Pass</td><td>391</td><td>5</td></tr><tr><td>Penrice</td><td>261</td><td>5</td></tr><tr><td>Kalbeeba</td><td>216</td><td>4</td></tr><tr><td>Altona</td><td>913</td><td>4</td></tr><tr><td>Greenock</td><td>245</td><td>4</td></tr><tr><td>Eden Valley</td><td>181</td><td>3</td></tr><tr><td>Flaxman Valley</td><td>217</td><td>3</td></tr><tr><td>Sandy Creek</td><td>240</td><td>3</td></tr><tr><td>Gawler River</td><td>110</td><td>2</td></tr><tr><td>Cockatoo Valley</td><td>502</td><td>2</td></tr><tr><td>Shea-Oak Log</td><td>102</td><td>1</td></tr></table>"
                    },
                    "metadata": {}
                }
            ],
            "execution_count": 5
        },
        {
            "cell_type": "markdown",
            "source": [
                "**Comments**: The towns of Tanunda and Angaston are the heart of the Barossa Valley region, containing 43.82% of the properties listed in the area, making them an important destination for visitors and potential investors. They offer a wide range of qualitative attributes such as rich history, renowned wine production, delicious food, art, scenic views, festivals, lively community, and a range of accommodation options. Their history, heritage sites, wineries, food, art, and events contribute to the unique and attractive atmosphere of the region. As we can see It has a range of accommodation options available and the region is accessible to everyone. All these attributes make the Barossa Valley region, and particularly the towns of Tanunda and Angaston, a great place to visit, live and invest. Also the average price in Tanunda is 416 dollars and in Angaston is 313 dollars. We have also noticed that regions that are farther away from the central axis of Tanunda-Angaston-Lyndoch have fewer properties available for rent on Airbnb. The average price of those regions such as Cockatoo Valley and Altona, which only have 2 and 4 properties listed respectively, may not be accurate due to the limited quantity of properties. To make our analysis more accurate, we will only consider from now regions that have more than 5 properties listed to provide more accurate occupancy rate and properties under 1500 dollars (atypical price) in order to provide a more reliable average price to each neighbourhood."
            ],
            "metadata": {
                "azdata_cell_guid": "08588699-7ad3-4338-a15d-37a1c3e1e8f0"
            },
            "attachments": {}
        },
        {
            "cell_type": "markdown",
            "source": [
                "**<u>\\-Resonable average price per Neighbourhood(Exclude Outliers)</u>**"
            ],
            "metadata": {
                "azdata_cell_guid": "a1c5070e-ac0e-42f6-bdcf-0eb35398e30c"
            },
            "attachments": {}
        },
        {
            "cell_type": "code",
            "source": [
                "-- NUMBER OF PROPERTIES LISTED PER NEIHGBOURHOOD(> 5 PROPERTIES) AND PRICE (< $1500)\r\n",
                "SELECT neighbourhood,\r\n",
                "AVG(price) as avg_price,\r\n",
                "count(id) as count_listings\r\n",
                "FROM [listings (1)]\r\n",
                "WHERE price < 1500\r\n",
                "GROUP BY neighbourhood\r\n",
                "HAVING count(id) > 5\r\n",
                "ORDER BY count_listings DESC\r\n",
                ""
            ],
            "metadata": {
                "azdata_cell_guid": "bee60f22-050b-4472-a5dc-2a6210f6fae7",
                "language": "sql",
                "tags": []
            },
            "outputs": [
                {
                    "output_type": "display_data",
                    "data": {
                        "text/html": "(14 rows affected)"
                    },
                    "metadata": {}
                },
                {
                    "output_type": "display_data",
                    "data": {
                        "text/html": "Total execution time: 00:00:00.010"
                    },
                    "metadata": {}
                },
                {
                    "output_type": "execute_result",
                    "execution_count": 139,
                    "data": {
                        "application/vnd.dataresource+json": {
                            "schema": {
                                "fields": [
                                    {
                                        "name": "neighbourhood"
                                    },
                                    {
                                        "name": "avg_price"
                                    },
                                    {
                                        "name": "count_listings"
                                    }
                                ]
                            },
                            "data": [
                                {
                                    "0": "Tanunda",
                                    "1": "359",
                                    "2": "86"
                                },
                                {
                                    "0": "Angaston",
                                    "1": "283",
                                    "2": "52"
                                },
                                {
                                    "0": "Lyndoch",
                                    "1": "408",
                                    "2": "21"
                                },
                                {
                                    "0": "Nuriootpa",
                                    "1": "275",
                                    "2": "17"
                                },
                                {
                                    "0": "Buchfelde",
                                    "1": "148",
                                    "2": "15"
                                },
                                {
                                    "0": "Marananga",
                                    "1": "426",
                                    "2": "14"
                                },
                                {
                                    "0": "Kapunda",
                                    "1": "373",
                                    "2": "14"
                                },
                                {
                                    "0": "Bethany",
                                    "1": "296",
                                    "2": "12"
                                },
                                {
                                    "0": "Concordia",
                                    "1": "165",
                                    "2": "11"
                                },
                                {
                                    "0": "Mount Crawford",
                                    "1": "202",
                                    "2": "8"
                                },
                                {
                                    "0": "Mount Pleasant",
                                    "1": "472",
                                    "2": "8"
                                },
                                {
                                    "0": "Springton",
                                    "1": "216",
                                    "2": "8"
                                },
                                {
                                    "0": "Williamstown",
                                    "1": "250",
                                    "2": "6"
                                },
                                {
                                    "0": "Hewett",
                                    "1": "257",
                                    "2": "6"
                                }
                            ]
                        },
                        "text/html": "<table><tr><th>neighbourhood</th><th>avg_price</th><th>count_listings</th></tr><tr><td>Tanunda</td><td>359</td><td>86</td></tr><tr><td>Angaston</td><td>283</td><td>52</td></tr><tr><td>Lyndoch</td><td>408</td><td>21</td></tr><tr><td>Nuriootpa</td><td>275</td><td>17</td></tr><tr><td>Buchfelde</td><td>148</td><td>15</td></tr><tr><td>Marananga</td><td>426</td><td>14</td></tr><tr><td>Kapunda</td><td>373</td><td>14</td></tr><tr><td>Bethany</td><td>296</td><td>12</td></tr><tr><td>Concordia</td><td>165</td><td>11</td></tr><tr><td>Mount Crawford</td><td>202</td><td>8</td></tr><tr><td>Mount Pleasant</td><td>472</td><td>8</td></tr><tr><td>Springton</td><td>216</td><td>8</td></tr><tr><td>Williamstown</td><td>250</td><td>6</td></tr><tr><td>Hewett</td><td>257</td><td>6</td></tr></table>"
                    },
                    "metadata": {
                        "azdata_chartOptions": {
                            "type": "horizontalBar",
                            "dataDirection": "vertical",
                            "columnsAsLabels": true,
                            "labelFirstColumn": false,
                            "legendPosition": "top"
                        }
                    }
                }
            ],
            "execution_count": 139
        },
        {
            "cell_type": "markdown",
            "source": [
                "**Comments:** The average value per neighbourhood can be affected by the number of listings in each neighbourhood as well as by outliers, such as properties with unusually high nightly rates. These high-priced properties do not accurately represent the average price and are not representative of the neighbourhood as a whole. To provide a more consistent average price per neighbourhood, we excluded properties with a nightly rate greater than $1500."
            ],
            "metadata": {
                "language": "sql",
                "azdata_cell_guid": "10d8ce3b-7b62-4d31-83e5-6f75a80aa69d"
            },
            "attachments": {}
        },
        {
            "cell_type": "markdown",
            "source": [
                "**<u>\\-Occupation rate in each neighbourhood of Barossa Valley (Exclude outliers)</u>**"
            ],
            "metadata": {
                "language": "sql",
                "azdata_cell_guid": "3af86b6e-4238-4d79-87b6-a1e90ead52fc"
            },
            "attachments": {}
        },
        {
            "cell_type": "code",
            "source": [
                "--AVERAGE OCCUPATION RATE PER NEIGHBOURHOOD(> 5 properties)\r\n",
                "WITH occupancy AS (\r\n",
                "    SELECT neighbourhood,\r\n",
                "    (365-AVG(availability_365)) as occupated_days\r\n",
                "    FROM [listings (1)]\r\n",
                "    GROUP BY neighbourhood\r\n",
                "    HAVING count(id) > 5\r\n",
                "    )\r\n",
                "SELECT neighbourhood,\r\n",
                "ROUND((occupated_days/CAST(365 as float)*100),2) as occupancy_rate\r\n",
                "FROM occupancy\r\n",
                "ORDER BY occupancy_rate DESC"
            ],
            "metadata": {
                "language": "sql",
                "azdata_cell_guid": "3cab5cf4-244f-4781-8d25-410534ff9a29",
                "tags": []
            },
            "outputs": [
                {
                    "output_type": "display_data",
                    "data": {
                        "text/html": "(14 rows affected)"
                    },
                    "metadata": {}
                },
                {
                    "output_type": "display_data",
                    "data": {
                        "text/html": "Total execution time: 00:00:00.013"
                    },
                    "metadata": {}
                },
                {
                    "output_type": "execute_result",
                    "execution_count": 140,
                    "data": {
                        "application/vnd.dataresource+json": {
                            "schema": {
                                "fields": [
                                    {
                                        "name": "neighbourhood"
                                    },
                                    {
                                        "name": "occupancy_rate"
                                    }
                                ]
                            },
                            "data": [
                                {
                                    "0": "Springton",
                                    "1": "74,79"
                                },
                                {
                                    "0": "Bethany",
                                    "1": "57,81"
                                },
                                {
                                    "0": "Nuriootpa",
                                    "1": "51,51"
                                },
                                {
                                    "0": "Tanunda",
                                    "1": "49,32"
                                },
                                {
                                    "0": "Buchfelde",
                                    "1": "37,53"
                                },
                                {
                                    "0": "Angaston",
                                    "1": "36,16"
                                },
                                {
                                    "0": "Concordia",
                                    "1": "35,34"
                                },
                                {
                                    "0": "Williamstown",
                                    "1": "35,34"
                                },
                                {
                                    "0": "Lyndoch",
                                    "1": "34,79"
                                },
                                {
                                    "0": "Marananga",
                                    "1": "32,33"
                                },
                                {
                                    "0": "Kapunda",
                                    "1": "28,49"
                                },
                                {
                                    "0": "Hewett",
                                    "1": "26,03"
                                },
                                {
                                    "0": "Mount Pleasant",
                                    "1": "21,92"
                                },
                                {
                                    "0": "Mount Crawford",
                                    "1": "21,1"
                                }
                            ]
                        },
                        "text/html": "<table><tr><th>neighbourhood</th><th>occupancy_rate</th></tr><tr><td>Springton</td><td>74,79</td></tr><tr><td>Bethany</td><td>57,81</td></tr><tr><td>Nuriootpa</td><td>51,51</td></tr><tr><td>Tanunda</td><td>49,32</td></tr><tr><td>Buchfelde</td><td>37,53</td></tr><tr><td>Angaston</td><td>36,16</td></tr><tr><td>Concordia</td><td>35,34</td></tr><tr><td>Williamstown</td><td>35,34</td></tr><tr><td>Lyndoch</td><td>34,79</td></tr><tr><td>Marananga</td><td>32,33</td></tr><tr><td>Kapunda</td><td>28,49</td></tr><tr><td>Hewett</td><td>26,03</td></tr><tr><td>Mount Pleasant</td><td>21,92</td></tr><tr><td>Mount Crawford</td><td>21,1</td></tr></table>"
                    },
                    "metadata": {}
                }
            ],
            "execution_count": 140
        },
        {
            "cell_type": "code",
            "source": [
                "-- ZOOM ON BETHANY AND SPRIGTON PROPERTIES\r\n",
                "SELECT TOP(10)id,price,neighbourhood\r\n",
                "FROM [listings (1)]\r\n",
                "WHERE neighbourhood = 'Bethany' OR neighbourhood = 'Springton'"
            ],
            "metadata": {
                "language": "sql",
                "azdata_cell_guid": "ec1be9d3-77f9-4376-8aa3-71d3691d384a",
                "tags": []
            },
            "outputs": [
                {
                    "output_type": "display_data",
                    "data": {
                        "text/html": "(10 rows affected)"
                    },
                    "metadata": {}
                },
                {
                    "output_type": "display_data",
                    "data": {
                        "text/html": "Total execution time: 00:00:00.010"
                    },
                    "metadata": {}
                },
                {
                    "output_type": "execute_result",
                    "metadata": {},
                    "execution_count": 10,
                    "data": {
                        "application/vnd.dataresource+json": {
                            "schema": {
                                "fields": [
                                    {
                                        "name": "id"
                                    },
                                    {
                                        "name": "price"
                                    },
                                    {
                                        "name": "neighbourhood"
                                    }
                                ]
                            },
                            "data": [
                                {
                                    "0": "14031240",
                                    "1": "330",
                                    "2": "Bethany"
                                },
                                {
                                    "0": "17737018",
                                    "1": "195",
                                    "2": "Springton"
                                },
                                {
                                    "0": "36464062",
                                    "1": "795",
                                    "2": "Bethany"
                                },
                                {
                                    "0": "40212692",
                                    "1": "250",
                                    "2": "Bethany"
                                },
                                {
                                    "0": "45548496",
                                    "1": "420",
                                    "2": "Springton"
                                },
                                {
                                    "0": "45714238",
                                    "1": "165",
                                    "2": "Springton"
                                },
                                {
                                    "0": "45714531",
                                    "1": "300",
                                    "2": "Springton"
                                },
                                {
                                    "0": "48061876",
                                    "1": "176",
                                    "2": "Springton"
                                },
                                {
                                    "0": "49448518",
                                    "1": "179",
                                    "2": "Springton"
                                },
                                {
                                    "0": "49913465",
                                    "1": "1029",
                                    "2": "Bethany"
                                }
                            ]
                        },
                        "text/html": [
                            "<table>",
                            "<tr><th>id</th><th>price</th><th>neighbourhood</th></tr>",
                            "<tr><td>14031240</td><td>330</td><td>Bethany</td></tr>",
                            "<tr><td>17737018</td><td>195</td><td>Springton</td></tr>",
                            "<tr><td>36464062</td><td>795</td><td>Bethany</td></tr>",
                            "<tr><td>40212692</td><td>250</td><td>Bethany</td></tr>",
                            "<tr><td>45548496</td><td>420</td><td>Springton</td></tr>",
                            "<tr><td>45714238</td><td>165</td><td>Springton</td></tr>",
                            "<tr><td>45714531</td><td>300</td><td>Springton</td></tr>",
                            "<tr><td>48061876</td><td>176</td><td>Springton</td></tr>",
                            "<tr><td>49448518</td><td>179</td><td>Springton</td></tr>",
                            "<tr><td>49913465</td><td>1029</td><td>Bethany</td></tr>",
                            "</table>"
                        ]
                    }
                }
            ],
            "execution_count": 10
        },
        {
            "cell_type": "markdown",
            "source": [
                "**Comments:** The result of our analysis shows that the region of Bethany, Springton, and Nuriotpa in the Barossa Valley region of South Australia have high occupancy rates for short-term rentals on Airbnb. These regions are known for their attractions such as wineries, restaurants, and hotels. However, when compared to larger region like Tanunda and Angaston, the number of listings on Airbnb in these regions is relatively small. This means that the occupancy rate in these regions might appear higher than it actually is because of the fewer number of listings. Although, it's also worth noting that region like Tanunda and Angaston have a relatively medium occupancy rate which suggests that there is still demand for short-term rentals in these areas due the high count of properties available. It's important to consider the number of listings on Airbnb when evaluating the potential return on investment for a property in these areas."
            ],
            "metadata": {
                "language": "sql",
                "azdata_cell_guid": "81223add-f433-45b0-93c2-6dbd87f43a0f"
            },
            "attachments": {}
        },
        {
            "cell_type": "markdown",
            "source": [
                "**<u>\\-Financial rent performance (gross revenue) of properties in each neighbourhood</u>**"
            ],
            "metadata": {
                "language": "sql",
                "azdata_cell_guid": "b08b3f77-d64f-47b3-8eed-79940970e751"
            },
            "attachments": {}
        },
        {
            "cell_type": "code",
            "source": [
                "-- AVERAGE GROSS REVENUE PER NEIGHBOURHOOD\r\n",
                "WITH occupancy AS (\r\n",
                "    SELECT neighbourhood,\r\n",
                "    AVG(price) as avg_price,\r\n",
                "    (365-AVG(availability_365)) as occupated_days,\r\n",
                "    COUNT(id) AS count_listings\r\n",
                "    FROM [listings (1)]\r\n",
                "    WHERE price < 1500\r\n",
                "    GROUP BY neighbourhood\r\n",
                "    HAVING count(id) > 5\r\n",
                "    )\r\n",
                "    SELECT neighbourhood,\r\n",
                "    avg_price,\r\n",
                "    ROUND((count_listings)*(occupated_days)*(avg_price),2) as gross_revenue_year,\r\n",
                "    (ROUND((count_listings)*(occupated_days)*(avg_price),2))/365 as gross_revenue_daily_365days\r\n",
                "    FROM occupancy\r\n",
                "    ORDER BY gross_revenue_year DESC\r\n",
                "  \r\n",
                "   \r\n",
                "        \r\n",
                "    "
            ],
            "metadata": {
                "language": "sql",
                "azdata_cell_guid": "b91c6f2b-cae9-4d45-8e43-373438df5e36",
                "tags": [
                    "hide_input"
                ]
            },
            "outputs": [
                {
                    "output_type": "display_data",
                    "data": {
                        "text/html": "(14 rows affected)"
                    },
                    "metadata": {}
                },
                {
                    "output_type": "display_data",
                    "data": {
                        "text/html": "Total execution time: 00:00:00.012"
                    },
                    "metadata": {}
                },
                {
                    "output_type": "execute_result",
                    "execution_count": 141,
                    "data": {
                        "application/vnd.dataresource+json": {
                            "schema": {
                                "fields": [
                                    {
                                        "name": "neighbourhood"
                                    },
                                    {
                                        "name": "avg_price"
                                    },
                                    {
                                        "name": "gross_revenue_year"
                                    },
                                    {
                                        "name": "gross_revenue_daily_365days"
                                    }
                                ]
                            },
                            "data": [
                                {
                                    "0": "Tanunda",
                                    "1": "359",
                                    "2": "5372076",
                                    "3": "14718"
                                },
                                {
                                    "0": "Angaston",
                                    "1": "283",
                                    "2": "1957228",
                                    "3": "5362"
                                },
                                {
                                    "0": "Lyndoch",
                                    "1": "408",
                                    "2": "1088136",
                                    "3": "2981"
                                },
                                {
                                    "0": "Nuriootpa",
                                    "1": "275",
                                    "2": "878900",
                                    "3": "2407"
                                },
                                {
                                    "0": "Bethany",
                                    "1": "296",
                                    "2": "749472",
                                    "3": "2053"
                                },
                                {
                                    "0": "Marananga",
                                    "1": "426",
                                    "2": "703752",
                                    "3": "1928"
                                },
                                {
                                    "0": "Kapunda",
                                    "1": "373",
                                    "2": "558754",
                                    "3": "1530"
                                },
                                {
                                    "0": "Springton",
                                    "1": "216",
                                    "2": "471744",
                                    "3": "1292"
                                },
                                {
                                    "0": "Buchfelde",
                                    "1": "148",
                                    "2": "304140",
                                    "3": "833"
                                },
                                {
                                    "0": "Mount Pleasant",
                                    "1": "472",
                                    "2": "302080",
                                    "3": "827"
                                },
                                {
                                    "0": "Concordia",
                                    "1": "165",
                                    "2": "234135",
                                    "3": "641"
                                },
                                {
                                    "0": "Williamstown",
                                    "1": "250",
                                    "2": "193500",
                                    "3": "530"
                                },
                                {
                                    "0": "Hewett",
                                    "1": "257",
                                    "2": "146490",
                                    "3": "401"
                                },
                                {
                                    "0": "Mount Crawford",
                                    "1": "202",
                                    "2": "124432",
                                    "3": "340"
                                }
                            ]
                        },
                        "text/html": "<table><tr><th>neighbourhood</th><th>avg_price</th><th>gross_revenue_year</th><th>gross_revenue_daily_365days</th></tr><tr><td>Tanunda</td><td>359</td><td>5372076</td><td>14718</td></tr><tr><td>Angaston</td><td>283</td><td>1957228</td><td>5362</td></tr><tr><td>Lyndoch</td><td>408</td><td>1088136</td><td>2981</td></tr><tr><td>Nuriootpa</td><td>275</td><td>878900</td><td>2407</td></tr><tr><td>Bethany</td><td>296</td><td>749472</td><td>2053</td></tr><tr><td>Marananga</td><td>426</td><td>703752</td><td>1928</td></tr><tr><td>Kapunda</td><td>373</td><td>558754</td><td>1530</td></tr><tr><td>Springton</td><td>216</td><td>471744</td><td>1292</td></tr><tr><td>Buchfelde</td><td>148</td><td>304140</td><td>833</td></tr><tr><td>Mount Pleasant</td><td>472</td><td>302080</td><td>827</td></tr><tr><td>Concordia</td><td>165</td><td>234135</td><td>641</td></tr><tr><td>Williamstown</td><td>250</td><td>193500</td><td>530</td></tr><tr><td>Hewett</td><td>257</td><td>146490</td><td>401</td></tr><tr><td>Mount Crawford</td><td>202</td><td>124432</td><td>340</td></tr></table>"
                    },
                    "metadata": {}
                }
            ],
            "execution_count": 141
        },
        {
            "cell_type": "markdown",
            "source": [
                "**Comments:** The Barossa Valley region in South Australia presents a promising opportunity for property investment in the short-term rental market on Airbnb, with an annual revenue of over $700,000 for the top 5 regions and $5M forTanunda. The regions Bethany, Springton, and Nuriotpa have high occupancy rates. However, it's important to keep in mind that the number of listings in these regions is relatively small when compared to larger regions like Tanunda and Angaston. This means that the occupancy rate in these small regions might was impacted because of the fewer number of listings. For an accurate analysis and safe results, it's important to compare these regions to similar ones in the same region with a similar number of listings on Airbnb. Therefore, it's crucial to consider the number of listings, occupancy rate, and location when evaluating the potential revenue and return on investment for properties in these areas.Overall, a comprehensive analysis of all these factors is essential when evaluating the potential of a property for short-term rental in the Barossa Valley region."
            ],
            "metadata": {
                "language": "sql",
                "azdata_cell_guid": "8b5012c5-5367-4685-a105-e2cf5d12aab0"
            },
            "attachments": {}
        },
        {
            "cell_type": "markdown",
            "source": [
                "**<u>\\-The high prices properties and where are they located</u>**"
            ],
            "metadata": {
                "language": "sql",
                "azdata_cell_guid": "700fb77f-ce28-4045-af58-2d77bcc25f21"
            },
            "attachments": {}
        },
        {
            "cell_type": "code",
            "source": [
                "-- HIGH PRICES LISTINGS ON AIRBNB AT BAROSSA VALLEY\r\n",
                "SELECT id,\r\n",
                "neighbourhood,\r\n",
                "price\r\n",
                "FROM [listings (1)]\r\n",
                "WHERE price > 1200\r\n",
                ""
            ],
            "metadata": {
                "language": "sql",
                "azdata_cell_guid": "c8de2b06-8fe8-4975-8219-7070da6da58a"
            },
            "outputs": [
                {
                    "output_type": "display_data",
                    "data": {
                        "text/html": "(8 rows affected)"
                    },
                    "metadata": {}
                },
                {
                    "output_type": "display_data",
                    "data": {
                        "text/html": "Total execution time: 00:00:00.008"
                    },
                    "metadata": {}
                },
                {
                    "output_type": "execute_result",
                    "metadata": {},
                    "execution_count": 9,
                    "data": {
                        "application/vnd.dataresource+json": {
                            "schema": {
                                "fields": [
                                    {
                                        "name": "id"
                                    },
                                    {
                                        "name": "neighbourhood"
                                    },
                                    {
                                        "name": "price"
                                    }
                                ]
                            },
                            "data": [
                                {
                                    "0": "14969874",
                                    "1": "Tanunda",
                                    "2": "1414"
                                },
                                {
                                    "0": "20175507",
                                    "1": "Tanunda",
                                    "2": "1920"
                                },
                                {
                                    "0": "20176443",
                                    "1": "Tanunda",
                                    "2": "2800"
                                },
                                {
                                    "0": "25893345",
                                    "1": "Tanunda",
                                    "2": "1500"
                                },
                                {
                                    "0": "48999138",
                                    "1": "Kapunda",
                                    "2": "1500"
                                },
                                {
                                    "0": "52923843",
                                    "1": "Angaston",
                                    "2": "1886"
                                },
                                {
                                    "0": "634520727307763774",
                                    "1": "Altona",
                                    "2": "1603"
                                },
                                {
                                    "0": "668396960497325094",
                                    "1": "Lyndoch",
                                    "2": "1367"
                                }
                            ]
                        },
                        "text/html": [
                            "<table>",
                            "<tr><th>id</th><th>neighbourhood</th><th>price</th></tr>",
                            "<tr><td>14969874</td><td>Tanunda</td><td>1414</td></tr>",
                            "<tr><td>20175507</td><td>Tanunda</td><td>1920</td></tr>",
                            "<tr><td>20176443</td><td>Tanunda</td><td>2800</td></tr>",
                            "<tr><td>25893345</td><td>Tanunda</td><td>1500</td></tr>",
                            "<tr><td>48999138</td><td>Kapunda</td><td>1500</td></tr>",
                            "<tr><td>52923843</td><td>Angaston</td><td>1886</td></tr>",
                            "<tr><td>634520727307763774</td><td>Altona</td><td>1603</td></tr>",
                            "<tr><td>668396960497325094</td><td>Lyndoch</td><td>1367</td></tr>",
                            "</table>"
                        ]
                    }
                }
            ],
            "execution_count": 9
        },
        {
            "cell_type": "markdown",
            "source": [
                "**Comments:** <span style=\"color: black; font-family: &quot;Calibri(Body)&quot;, serif; font-size: 10.5pt;\">Our analysis found that half of the luxury properties in the region are located in Tanunda, consistent with the high number of visitors to the area. The high demand for luxury properties in a popular tourist destination like Tanunda is likely due to both the area's high visitor numbers and its desirable location.</span>"
            ],
            "metadata": {
                "language": "sql",
                "azdata_cell_guid": "8de6ec0b-e6a5-45f2-80d0-13add15b6344"
            },
            "attachments": {}
        },
        {
            "cell_type": "markdown",
            "source": [
                "**<u>\\-Analysis on the most interesting type of properties to investment at Barossa Valley</u>**"
            ],
            "metadata": {
                "language": "sql",
                "azdata_cell_guid": "07449d4e-8814-48a4-9cfa-4442e3d523f0"
            },
            "attachments": {}
        },
        {
            "cell_type": "markdown",
            "source": [
                "**<u>\\-Types of properties on the dataset</u>**"
            ],
            "metadata": {
                "language": "sql",
                "azdata_cell_guid": "ff00c9d3-9b84-4dae-b997-16231ed90825"
            },
            "attachments": {}
        },
        {
            "cell_type": "code",
            "source": [
                "-- TYPES OF ROOM AVAILABLE\r\n",
                "SELECT DISTINCT(room_type)\r\n",
                "FROM [listings (1)]"
            ],
            "metadata": {
                "language": "sql",
                "azdata_cell_guid": "8d6dd666-92e9-4a14-8fd8-0fc5bd9ede93",
                "tags": []
            },
            "outputs": [
                {
                    "output_type": "display_data",
                    "data": {
                        "text/html": "(4 rows affected)"
                    },
                    "metadata": {}
                },
                {
                    "output_type": "display_data",
                    "data": {
                        "text/html": "Total execution time: 00:00:00.008"
                    },
                    "metadata": {}
                },
                {
                    "output_type": "execute_result",
                    "execution_count": 143,
                    "data": {
                        "application/vnd.dataresource+json": {
                            "schema": {
                                "fields": [
                                    {
                                        "name": "room_type"
                                    }
                                ]
                            },
                            "data": [
                                {
                                    "0": "Entire home/apt"
                                },
                                {
                                    "0": "Hotel room"
                                },
                                {
                                    "0": "Private room"
                                },
                                {
                                    "0": "Shared room"
                                }
                            ]
                        },
                        "text/html": "<table><tr><th>room_type</th></tr><tr><td>Entire home/apt</td></tr><tr><td>Hotel room</td></tr><tr><td>Private room</td></tr><tr><td>Shared room</td></tr></table>"
                    },
                    "metadata": {}
                }
            ],
            "execution_count": 143
        },
        {
            "cell_type": "markdown",
            "source": [
                "**Comments:** There are 4 type of room available for properties on airbnb list."
            ],
            "metadata": {
                "language": "sql",
                "azdata_cell_guid": "c1a65620-3558-466e-88b8-b813cde4c770"
            },
            "attachments": {}
        },
        {
            "cell_type": "code",
            "source": [
                "--EXPLORING THE MOST COMMON TYPES OF PROPERTIES (ROOM_TYPE)\r\n",
                "SELECT \r\n",
                "ROUND(COUNT(CASE WHEN room_type = 'Entire home/apt' THEN 1 END)/ CAST(COUNT(*) AS float),4)*100 AS \"Entire home/apt(%)\",\r\n",
                "ROUND(COUNT(CASE WHEN room_type = 'Hotel room' THEN 1 END)/ CAST(COUNT(*) AS float),4)*100 AS \"Hotel room(%)\",\r\n",
                "ROUND(COUNT(CASE WHEN room_type = 'Private room' THEN 1 END)/ CAST(COUNT(*) AS float),4)*100 AS \"Private room(%)\",\r\n",
                "ROUND(COUNT(CASE WHEN room_type = 'Shared room' THEN 1 END)/ CAST(COUNT(*) AS float),4)*100 AS \"Shared room(%)\"\r\n",
                "FROM [listings (1)];"
            ],
            "metadata": {
                "language": "sql",
                "azdata_cell_guid": "2a997674-205a-4a69-9c7d-1e1cd0f9076f",
                "tags": []
            },
            "outputs": [
                {
                    "output_type": "display_data",
                    "data": {
                        "text/html": "Warning: Null value is eliminated by an aggregate or other SET operation."
                    },
                    "metadata": {}
                },
                {
                    "output_type": "display_data",
                    "data": {
                        "text/html": "(1 row affected)"
                    },
                    "metadata": {}
                },
                {
                    "output_type": "display_data",
                    "data": {
                        "text/html": "Total execution time: 00:00:00.009"
                    },
                    "metadata": {}
                },
                {
                    "output_type": "execute_result",
                    "execution_count": 144,
                    "data": {
                        "application/vnd.dataresource+json": {
                            "schema": {
                                "fields": [
                                    {
                                        "name": "Entire home/apt(%)"
                                    },
                                    {
                                        "name": "Hotel room(%)"
                                    },
                                    {
                                        "name": "Private room(%)"
                                    },
                                    {
                                        "name": "Shared room(%)"
                                    }
                                ]
                            },
                            "data": [
                                {
                                    "0": "87,96000000000001",
                                    "1": "0,31",
                                    "2": "11,42",
                                    "3": "0,31"
                                }
                            ]
                        },
                        "text/html": "<table><tr><th>Entire home/apt(%)</th><th>Hotel room(%)</th><th>Private room(%)</th><th>Shared room(%)</th></tr><tr><td>87,96000000000001</td><td>0,31</td><td>11,42</td><td>0,31</td></tr></table>"
                    },
                    "metadata": {}
                }
            ],
            "execution_count": 144
        },
        {
            "cell_type": "markdown",
            "source": [
                "**Comments:** Between the types of rooms 87.96% is Entire Home/apt and 11.42% is Private room . Those two types of rooms are the most common at Barossa Valley."
            ],
            "metadata": {
                "language": "sql",
                "azdata_cell_guid": "620bfc8c-5113-4d17-9e8c-210e007d797b"
            },
            "attachments": {}
        },
        {
            "cell_type": "markdown",
            "source": [
                "**<u>\\-The two main type of properties available in the dataset and where they are located</u>**"
            ],
            "metadata": {
                "language": "sql",
                "azdata_cell_guid": "d744b2cf-dd0a-42aa-aa59-ab6f6f9b4e15"
            },
            "attachments": {}
        },
        {
            "cell_type": "code",
            "source": [
                "--NUMBER OF LISTINGS OF ENTIRE HOME/APT AND PRIVATE ROOM \r\n",
                "SELECT neighbourhood,\r\n",
                "COUNT(*) as listings_count,\r\n",
                "COUNT(CASE WHEN room_type = 'Entire home/apt' THEN 1 END) AS 'Entire home/apt_count',\r\n",
                "COUNT(CASE WHEN room_type = 'Private room' THEN 1 END) AS 'Private room_count'\r\n",
                "FROM [listings (1)]\r\n",
                "WHERE price < 1500\r\n",
                "GROUP BY neighbourhood\r\n",
                "HAVING COUNT(*) > 5 \r\n",
                "ORDER BY listings_count DESC\r\n",
                ""
            ],
            "metadata": {
                "language": "sql",
                "azdata_cell_guid": "8ac4e62e-4f4d-4eca-b7a3-5a656383fdb0",
                "tags": [
                    "hide_input"
                ]
            },
            "outputs": [
                {
                    "output_type": "display_data",
                    "data": {
                        "text/html": "Warning: Null value is eliminated by an aggregate or other SET operation."
                    },
                    "metadata": {}
                },
                {
                    "output_type": "display_data",
                    "data": {
                        "text/html": "(14 rows affected)"
                    },
                    "metadata": {}
                },
                {
                    "output_type": "display_data",
                    "data": {
                        "text/html": "Total execution time: 00:00:00.016"
                    },
                    "metadata": {}
                },
                {
                    "output_type": "execute_result",
                    "execution_count": 6,
                    "data": {
                        "application/vnd.dataresource+json": {
                            "schema": {
                                "fields": [
                                    {
                                        "name": "neighbourhood"
                                    },
                                    {
                                        "name": "listings_count"
                                    },
                                    {
                                        "name": "Entire home/apt_count"
                                    },
                                    {
                                        "name": "Private room_count"
                                    }
                                ]
                            },
                            "data": [
                                {
                                    "0": "Tanunda",
                                    "1": "86",
                                    "2": "81",
                                    "3": "5"
                                },
                                {
                                    "0": "Angaston",
                                    "1": "52",
                                    "2": "41",
                                    "3": "11"
                                },
                                {
                                    "0": "Lyndoch",
                                    "1": "21",
                                    "2": "19",
                                    "3": "2"
                                },
                                {
                                    "0": "Nuriootpa",
                                    "1": "17",
                                    "2": "13",
                                    "3": "4"
                                },
                                {
                                    "0": "Buchfelde",
                                    "1": "15",
                                    "2": "11",
                                    "3": "4"
                                },
                                {
                                    "0": "Marananga",
                                    "1": "14",
                                    "2": "14",
                                    "3": "0"
                                },
                                {
                                    "0": "Kapunda",
                                    "1": "14",
                                    "2": "11",
                                    "3": "3"
                                },
                                {
                                    "0": "Bethany",
                                    "1": "12",
                                    "2": "11",
                                    "3": "0"
                                },
                                {
                                    "0": "Concordia",
                                    "1": "11",
                                    "2": "11",
                                    "3": "0"
                                },
                                {
                                    "0": "Mount Crawford",
                                    "1": "8",
                                    "2": "7",
                                    "3": "1"
                                },
                                {
                                    "0": "Mount Pleasant",
                                    "1": "8",
                                    "2": "3",
                                    "3": "4"
                                },
                                {
                                    "0": "Springton",
                                    "1": "8",
                                    "2": "8",
                                    "3": "0"
                                },
                                {
                                    "0": "Williamstown",
                                    "1": "6",
                                    "2": "6",
                                    "3": "0"
                                },
                                {
                                    "0": "Hewett",
                                    "1": "6",
                                    "2": "6",
                                    "3": "0"
                                }
                            ]
                        },
                        "text/html": "<table><tr><th>neighbourhood</th><th>listings_count</th><th>Entire home/apt_count</th><th>Private room_count</th></tr><tr><td>Tanunda</td><td>86</td><td>81</td><td>5</td></tr><tr><td>Angaston</td><td>52</td><td>41</td><td>11</td></tr><tr><td>Lyndoch</td><td>21</td><td>19</td><td>2</td></tr><tr><td>Nuriootpa</td><td>17</td><td>13</td><td>4</td></tr><tr><td>Buchfelde</td><td>15</td><td>11</td><td>4</td></tr><tr><td>Marananga</td><td>14</td><td>14</td><td>0</td></tr><tr><td>Kapunda</td><td>14</td><td>11</td><td>3</td></tr><tr><td>Bethany</td><td>12</td><td>11</td><td>0</td></tr><tr><td>Concordia</td><td>11</td><td>11</td><td>0</td></tr><tr><td>Mount Crawford</td><td>8</td><td>7</td><td>1</td></tr><tr><td>Mount Pleasant</td><td>8</td><td>3</td><td>4</td></tr><tr><td>Springton</td><td>8</td><td>8</td><td>0</td></tr><tr><td>Williamstown</td><td>6</td><td>6</td><td>0</td></tr><tr><td>Hewett</td><td>6</td><td>6</td><td>0</td></tr></table>"
                    },
                    "metadata": {}
                }
            ],
            "execution_count": 6
        },
        {
            "cell_type": "markdown",
            "source": [
                "**Comments:** The region of Tanunda, Angaston, and Lyndoch is a prime location for rental properties. The data shows a high concentration of listings for both Entire homes/apartments, as well as Private rooms. The majority of these listings are for entire homes and apartments, indicating a strong demand for this type of accommodation in the area. This could be attributed to the area's proximity to popular attractions and overall quality of life. The diversity of housing options available in this region makes it an attractive location for individuals with different needs and preferences."
            ],
            "metadata": {
                "language": "sql",
                "azdata_cell_guid": "7fe903d5-a0fa-4271-b41e-41c02f1c917d"
            },
            "attachments": {}
        },
        {
            "cell_type": "markdown",
            "source": [
                "**<u>\\-Financial rent performance Entire home/apt</u>**"
            ],
            "metadata": {
                "language": "sql",
                "azdata_cell_guid": "f6a2ed3d-93cb-49e6-a6e0-adc5a3a8f536"
            },
            "attachments": {}
        },
        {
            "cell_type": "code",
            "source": [
                "-- ANNUAL_REVENUE, DAILY_REVENUE, DAILY_REVENUE_FOR_EACH_PROPERTY OF ENTIRE HOME/APT\r\n",
                "SELECT neighbourhood,\r\n",
                "COUNT(CASE WHEN room_type = 'Entire home/apt' THEN 1 END) AS 'Entire home/apt_count',\r\n",
                "(COUNT(CASE WHEN room_type = 'Entire home/apt' THEN 1 END)*AVG(Price))*(365-AVG(availability_365)) AS 'Entire home/apt_avg_revenue',\r\n",
                "(COUNT(CASE WHEN room_type = 'Entire home/apt' THEN 1 END)*AVG(Price))*(365-AVG(availability_365))/365 AS 'Entire home/apt_avg_revenue_daily_365days',\r\n",
                "((COUNT(CASE WHEN room_type = 'Entire home/apt' THEN 1 END)*AVG(Price))*(365-AVG(availability_365))/365)/COUNT(CASE WHEN room_type = 'Entire home/apt' THEN 1 END) AS 'Entire home/apt_avg_revenue_daily_365days_eachproperty'\r\n",
                "FROM [listings (1)]\r\n",
                "WHERE price < 1500 AND room_type = 'Entire home/apt'\r\n",
                "GROUP BY neighbourhood\r\n",
                "HAVING COUNT(*) > 5 \r\n",
                "ORDER BY [Entire home/apt_count] DESC\r\n",
                ""
            ],
            "metadata": {
                "language": "sql",
                "azdata_cell_guid": "9dd0c6dc-1049-4c32-add0-395320eb886c",
                "tags": []
            },
            "outputs": [
                {
                    "output_type": "display_data",
                    "data": {
                        "text/html": "(13 rows affected)"
                    },
                    "metadata": {}
                },
                {
                    "output_type": "display_data",
                    "data": {
                        "text/html": "Total execution time: 00:00:00.031"
                    },
                    "metadata": {}
                },
                {
                    "output_type": "execute_result",
                    "execution_count": 146,
                    "data": {
                        "application/vnd.dataresource+json": {
                            "schema": {
                                "fields": [
                                    {
                                        "name": "neighbourhood"
                                    },
                                    {
                                        "name": "Entire home/apt_count"
                                    },
                                    {
                                        "name": "Entire home/apt_avg_revenue"
                                    },
                                    {
                                        "name": "Entire home/apt_avg_revenue_daily_365days"
                                    },
                                    {
                                        "name": "Entire home/apt_avg_revenue_daily_365days_eachproperty"
                                    }
                                ]
                            },
                            "data": [
                                {
                                    "0": "Tanunda",
                                    "1": "81",
                                    "2": "5021352",
                                    "3": "13757",
                                    "4": "169"
                                },
                                {
                                    "0": "Angaston",
                                    "1": "41",
                                    "2": "1625650",
                                    "3": "4453",
                                    "4": "108"
                                },
                                {
                                    "0": "Lyndoch",
                                    "1": "19",
                                    "2": "955548",
                                    "3": "2617",
                                    "4": "137"
                                },
                                {
                                    "0": "Marananga",
                                    "1": "14",
                                    "2": "703752",
                                    "3": "1928",
                                    "4": "137"
                                },
                                {
                                    "0": "Nuriootpa",
                                    "1": "13",
                                    "2": "851838",
                                    "3": "2333",
                                    "4": "179"
                                },
                                {
                                    "0": "Bethany",
                                    "1": "11",
                                    "2": "660715",
                                    "3": "1810",
                                    "4": "164"
                                },
                                {
                                    "0": "Buchfelde",
                                    "1": "11",
                                    "2": "310189",
                                    "3": "849",
                                    "4": "77"
                                },
                                {
                                    "0": "Concordia",
                                    "1": "11",
                                    "2": "234135",
                                    "3": "641",
                                    "4": "58"
                                },
                                {
                                    "0": "Kapunda",
                                    "1": "11",
                                    "2": "476036",
                                    "3": "1304",
                                    "4": "118"
                                },
                                {
                                    "0": "Springton",
                                    "1": "8",
                                    "2": "471744",
                                    "3": "1292",
                                    "4": "161"
                                },
                                {
                                    "0": "Mount Crawford",
                                    "1": "7",
                                    "2": "102256",
                                    "3": "280",
                                    "4": "40"
                                },
                                {
                                    "0": "Hewett",
                                    "1": "6",
                                    "2": "146490",
                                    "3": "401",
                                    "4": "66"
                                },
                                {
                                    "0": "Williamstown",
                                    "1": "6",
                                    "2": "193500",
                                    "3": "530",
                                    "4": "88"
                                }
                            ]
                        },
                        "text/html": "<table><tr><th>neighbourhood</th><th>Entire home/apt_count</th><th>Entire home/apt_avg_revenue</th><th>Entire home/apt_avg_revenue_daily_365days</th><th>Entire home/apt_avg_revenue_daily_365days_eachproperty</th></tr><tr><td>Tanunda</td><td>81</td><td>5021352</td><td>13757</td><td>169</td></tr><tr><td>Angaston</td><td>41</td><td>1625650</td><td>4453</td><td>108</td></tr><tr><td>Lyndoch</td><td>19</td><td>955548</td><td>2617</td><td>137</td></tr><tr><td>Marananga</td><td>14</td><td>703752</td><td>1928</td><td>137</td></tr><tr><td>Nuriootpa</td><td>13</td><td>851838</td><td>2333</td><td>179</td></tr><tr><td>Bethany</td><td>11</td><td>660715</td><td>1810</td><td>164</td></tr><tr><td>Buchfelde</td><td>11</td><td>310189</td><td>849</td><td>77</td></tr><tr><td>Concordia</td><td>11</td><td>234135</td><td>641</td><td>58</td></tr><tr><td>Kapunda</td><td>11</td><td>476036</td><td>1304</td><td>118</td></tr><tr><td>Springton</td><td>8</td><td>471744</td><td>1292</td><td>161</td></tr><tr><td>Mount Crawford</td><td>7</td><td>102256</td><td>280</td><td>40</td></tr><tr><td>Hewett</td><td>6</td><td>146490</td><td>401</td><td>66</td></tr><tr><td>Williamstown</td><td>6</td><td>193500</td><td>530</td><td>88</td></tr></table>"
                    },
                    "metadata": {}
                }
            ],
            "execution_count": 146
        },
        {
            "cell_type": "markdown",
            "source": [
                "**Comments:** T<span lang=\"EN-AU\" style=\"font-size:11.0pt;line-height:\n",
                "107%;font-family:&quot;Calibri&quot;,sans-serif;mso-ascii-theme-font:minor-latin;\n",
                "mso-fareast-font-family:Calibri;mso-fareast-theme-font:minor-latin;mso-hansi-theme-font:\n",
                "minor-latin;mso-bidi-font-family:&quot;Times New Roman&quot;;mso-bidi-theme-font:minor-bidi;\n",
                "mso-ansi-language:EN-AU;mso-fareast-language:EN-US;mso-bidi-language:AR-SA\">he data indicates that, on average, in&nbsp;<span style=\"font-size: 14.6667px;\">the region of Tanunda, Angaston, and Lyndoch</span>, entire home/apt rentals represent an impressive 90.31% of the gross revenue generated from properties rented on Airbnb. Therefore, it is clear that this type of property is a crucial aspect of the rental market in this region. The revenue data also supports this, showing substantial revenue from entire home and apartment rentals in each neighborhood. The table provides a clear picture of the gross revenue generated by these properties in each neighborhood, not considering the general costs, tax and mortgate of property .</span>"
            ],
            "metadata": {
                "language": "sql",
                "azdata_cell_guid": "15cc9343-1aab-4cc0-a120-b127f41d18dd"
            },
            "attachments": {}
        },
        {
            "cell_type": "markdown",
            "source": [
                "**<u>\\-Financial rent performance(gross revenue) private room</u>**"
            ],
            "metadata": {
                "language": "sql",
                "azdata_cell_guid": "2f2b6a57-4f03-4484-8e86-8a5135525f75"
            },
            "attachments": {}
        },
        {
            "cell_type": "code",
            "source": [
                "-- ANNUAL_REVENUE, DAILY_REVENUE, DAILY_REVENUE_FOR_EACH_PROPERTY OF PRIVATE ROOM\r\n",
                "SELECT neighbourhood,\r\n",
                "COUNT(CASE WHEN room_type = 'Private Room' THEN 1 END) AS 'Private Room',\r\n",
                "(COUNT(CASE WHEN room_type = 'Private Room' THEN 1 END)*AVG(Price))*(365-AVG(availability_365)) AS 'Private_Room_avg_revenue',\r\n",
                "(COUNT(CASE WHEN room_type = 'Private Room' THEN 1 END)*AVG(Price))*(365-AVG(availability_365))/365 AS 'Private_Room_avg_revenue_daily_365days',\r\n",
                "((COUNT(CASE WHEN room_type = 'Private Room' THEN 1 END)*AVG(Price))*(365-AVG(availability_365))/365)/COUNT(CASE WHEN room_type = 'Private Room' THEN 1 END) AS 'Private Room_avg_revenue_daily_365days_eachproperty'\r\n",
                "FROM [listings (1)]\r\n",
                "WHERE price < 1500 AND room_type = 'Private Room'\r\n",
                "GROUP BY neighbourhood \r\n",
                ""
            ],
            "metadata": {
                "language": "sql",
                "azdata_cell_guid": "7a32cfcc-d443-423a-a259-07dd3d858d54",
                "tags": []
            },
            "outputs": [
                {
                    "output_type": "display_data",
                    "data": {
                        "text/html": "(11 rows affected)"
                    },
                    "metadata": {}
                },
                {
                    "output_type": "display_data",
                    "data": {
                        "text/html": "Total execution time: 00:00:00.032"
                    },
                    "metadata": {}
                },
                {
                    "output_type": "execute_result",
                    "metadata": {},
                    "execution_count": 8,
                    "data": {
                        "application/vnd.dataresource+json": {
                            "schema": {
                                "fields": [
                                    {
                                        "name": "neighbourhood"
                                    },
                                    {
                                        "name": "Private Room"
                                    },
                                    {
                                        "name": "Private_Room_avg_revenue"
                                    },
                                    {
                                        "name": "Private_Room_avg_revenue_daily_365days"
                                    },
                                    {
                                        "name": "Private Room_avg_revenue_daily_365days_eachproperty"
                                    }
                                ]
                            },
                            "data": [
                                {
                                    "0": "Angaston",
                                    "1": "11",
                                    "2": "243936",
                                    "3": "668",
                                    "4": "60"
                                },
                                {
                                    "0": "Buchfelde",
                                    "1": "4",
                                    "2": "21976",
                                    "3": "60",
                                    "4": "15"
                                },
                                {
                                    "0": "Cockatoo Valley",
                                    "1": "1",
                                    "2": "20580",
                                    "3": "56",
                                    "4": "56"
                                },
                                {
                                    "0": "Kapunda",
                                    "1": "3",
                                    "2": "59856",
                                    "3": "163",
                                    "4": "54"
                                },
                                {
                                    "0": "Lyndoch",
                                    "1": "2",
                                    "2": "130000",
                                    "3": "356",
                                    "4": "178"
                                },
                                {
                                    "0": "Mount Crawford",
                                    "1": "1",
                                    "2": "12870",
                                    "3": "35",
                                    "4": "35"
                                },
                                {
                                    "0": "Mount Pleasant",
                                    "1": "4",
                                    "2": "0",
                                    "3": "0",
                                    "4": "0"
                                },
                                {
                                    "0": "Nuriootpa",
                                    "1": "4",
                                    "2": "63656",
                                    "3": "174",
                                    "4": "43"
                                },
                                {
                                    "0": "Penrice",
                                    "1": "1",
                                    "2": "12220",
                                    "3": "33",
                                    "4": "33"
                                },
                                {
                                    "0": "Sandy Creek",
                                    "1": "1",
                                    "2": "54626",
                                    "3": "149",
                                    "4": "149"
                                },
                                {
                                    "0": "Tanunda",
                                    "1": "5",
                                    "2": "248825",
                                    "3": "681",
                                    "4": "136"
                                }
                            ]
                        },
                        "text/html": [
                            "<table>",
                            "<tr><th>neighbourhood</th><th>Private Room</th><th>Private_Room_avg_revenue</th><th>Private_Room_avg_revenue_daily_365days</th><th>Private Room_avg_revenue_daily_365days_eachproperty</th></tr>",
                            "<tr><td>Angaston</td><td>11</td><td>243936</td><td>668</td><td>60</td></tr>",
                            "<tr><td>Buchfelde</td><td>4</td><td>21976</td><td>60</td><td>15</td></tr>",
                            "<tr><td>Cockatoo Valley</td><td>1</td><td>20580</td><td>56</td><td>56</td></tr>",
                            "<tr><td>Kapunda</td><td>3</td><td>59856</td><td>163</td><td>54</td></tr>",
                            "<tr><td>Lyndoch</td><td>2</td><td>130000</td><td>356</td><td>178</td></tr>",
                            "<tr><td>Mount Crawford</td><td>1</td><td>12870</td><td>35</td><td>35</td></tr>",
                            "<tr><td>Mount Pleasant</td><td>4</td><td>0</td><td>0</td><td>0</td></tr>",
                            "<tr><td>Nuriootpa</td><td>4</td><td>63656</td><td>174</td><td>43</td></tr>",
                            "<tr><td>Penrice</td><td>1</td><td>12220</td><td>33</td><td>33</td></tr>",
                            "<tr><td>Sandy Creek</td><td>1</td><td>54626</td><td>149</td><td>149</td></tr>",
                            "<tr><td>Tanunda</td><td>5</td><td>248825</td><td>681</td><td>136</td></tr>",
                            "</table>"
                        ]
                    }
                }
            ],
            "execution_count": 8
        },
        {
            "cell_type": "markdown",
            "source": [
                "**Comments:** Our analysis shows that in the region of Tanunda, Angaston, and Lyndoch, private room rentals play an important role in the rental market, even though the gross revenue generated from this type of property may be smaller than that of Entire home/apartments. The data indicates that the quantity of properties of this type is not expressive in Tanunda, and it is more common in Angaston."
            ],
            "metadata": {
                "language": "sql",
                "azdata_cell_guid": "7c5404d5-e31a-4167-9ec9-af2e262899fa"
            },
            "attachments": {}
        },
        {
            "cell_type": "code",
            "source": [
                "--CHECKING WHAT HAPPENED IN MOUNT PLEASANT\r\n",
                "select neighbourhood,\r\n",
                "room_type,\r\n",
                "price,\r\n",
                "availability_365 \r\n",
                "from [listings (1)]\r\n",
                "Where neighbourhood = 'Mount Pleasant' "
            ],
            "metadata": {
                "language": "sql",
                "azdata_cell_guid": "ea323d54-1a29-4ded-b57a-9be1709eb382",
                "tags": []
            },
            "outputs": [
                {
                    "output_type": "display_data",
                    "data": {
                        "text/html": "(8 rows affected)"
                    },
                    "metadata": {}
                },
                {
                    "output_type": "display_data",
                    "data": {
                        "text/html": "Total execution time: 00:00:00.013"
                    },
                    "metadata": {}
                },
                {
                    "output_type": "execute_result",
                    "execution_count": 148,
                    "data": {
                        "application/vnd.dataresource+json": {
                            "schema": {
                                "fields": [
                                    {
                                        "name": "neighbourhood"
                                    },
                                    {
                                        "name": "room_type"
                                    },
                                    {
                                        "name": "price"
                                    },
                                    {
                                        "name": "availability_365"
                                    }
                                ]
                            },
                            "data": [
                                {
                                    "0": "Mount Pleasant",
                                    "1": "Entire home/apt",
                                    "2": "315",
                                    "3": "91"
                                },
                                {
                                    "0": "Mount Pleasant",
                                    "1": "Entire home/apt",
                                    "2": "105",
                                    "3": "0"
                                },
                                {
                                    "0": "Mount Pleasant",
                                    "1": "Entire home/apt",
                                    "2": "1105",
                                    "3": "365"
                                },
                                {
                                    "0": "Mount Pleasant",
                                    "1": "Private room",
                                    "2": "235",
                                    "3": "365"
                                },
                                {
                                    "0": "Mount Pleasant",
                                    "1": "Shared room",
                                    "2": "288",
                                    "3": "365"
                                },
                                {
                                    "0": "Mount Pleasant",
                                    "1": "Private room",
                                    "2": "432",
                                    "3": "365"
                                },
                                {
                                    "0": "Mount Pleasant",
                                    "1": "Private room",
                                    "2": "720",
                                    "3": "365"
                                },
                                {
                                    "0": "Mount Pleasant",
                                    "1": "Private room",
                                    "2": "576",
                                    "3": "365"
                                }
                            ]
                        },
                        "text/html": "<table><tr><th>neighbourhood</th><th>room_type</th><th>price</th><th>availability_365</th></tr><tr><td>Mount Pleasant</td><td>Entire home/apt</td><td>315</td><td>91</td></tr><tr><td>Mount Pleasant</td><td>Entire home/apt</td><td>105</td><td>0</td></tr><tr><td>Mount Pleasant</td><td>Entire home/apt</td><td>1105</td><td>365</td></tr><tr><td>Mount Pleasant</td><td>Private room</td><td>235</td><td>365</td></tr><tr><td>Mount Pleasant</td><td>Shared room</td><td>288</td><td>365</td></tr><tr><td>Mount Pleasant</td><td>Private room</td><td>432</td><td>365</td></tr><tr><td>Mount Pleasant</td><td>Private room</td><td>720</td><td>365</td></tr><tr><td>Mount Pleasant</td><td>Private room</td><td>576</td><td>365</td></tr></table>"
                    },
                    "metadata": {}
                }
            ],
            "execution_count": 148
        },
        {
            "cell_type": "markdown",
            "source": [
                "**Comments:** The lack of occupancy in the four private rooms in Mount Pleasant throughout the year indicates a lower demand for this type of property."
            ],
            "metadata": {
                "language": "sql",
                "azdata_cell_guid": "61206911-d548-4b6b-b3ef-04b715fdb3d4"
            },
            "attachments": {}
        },
        {
            "cell_type": "markdown",
            "source": [
                "**<u>\\-Investigating who are the currently hosts and how and where they invest on the rental market</u>**"
            ],
            "metadata": {
                "language": "sql",
                "azdata_cell_guid": "dda8805c-64f3-4f62-b1f0-2b9821d6a1fa"
            },
            "attachments": {}
        },
        {
            "cell_type": "code",
            "source": [
                "-- OVERVIEW OF THE DATASET \r\n",
                "SELECT TOP(10)*\r\n",
                "FROM [listings (1)]"
            ],
            "metadata": {
                "language": "sql",
                "azdata_cell_guid": "2cae3ad9-6b4b-4e7a-8282-035d0b03f9b6"
            },
            "outputs": [
                {
                    "output_type": "display_data",
                    "data": {
                        "text/html": "(10 rows affected)"
                    },
                    "metadata": {}
                },
                {
                    "output_type": "display_data",
                    "data": {
                        "text/html": "Total execution time: 00:00:00.023"
                    },
                    "metadata": {}
                },
                {
                    "output_type": "execute_result",
                    "metadata": {},
                    "execution_count": 5,
                    "data": {
                        "application/vnd.dataresource+json": {
                            "schema": {
                                "fields": [
                                    {
                                        "name": "id"
                                    },
                                    {
                                        "name": "name"
                                    },
                                    {
                                        "name": "host_id"
                                    },
                                    {
                                        "name": "host_name"
                                    },
                                    {
                                        "name": "neighbourhood"
                                    },
                                    {
                                        "name": "latitude"
                                    },
                                    {
                                        "name": "longitude"
                                    },
                                    {
                                        "name": "room_type"
                                    },
                                    {
                                        "name": "price"
                                    },
                                    {
                                        "name": "minimum_nights"
                                    },
                                    {
                                        "name": "number_of_reviews"
                                    },
                                    {
                                        "name": "last_review"
                                    },
                                    {
                                        "name": "reviews_per_month"
                                    },
                                    {
                                        "name": "calculated_host_listings_count"
                                    },
                                    {
                                        "name": "availability_365"
                                    },
                                    {
                                        "name": "number_of_reviews_ltm"
                                    }
                                ]
                            },
                            "data": [
                                {
                                    "0": "1125097",
                                    "1": "Strathlyn Coach House Barossa",
                                    "2": "6172214",
                                    "3": "Heather",
                                    "4": "Angaston",
                                    "5": "-3449389",
                                    "6": "13902942",
                                    "7": "Entire home/apt",
                                    "8": "254",
                                    "9": "2",
                                    "10": "166",
                                    "11": "2022-09-19",
                                    "12": "151",
                                    "13": "3",
                                    "14": "302",
                                    "15": "24"
                                },
                                {
                                    "0": "1133195",
                                    "1": "Strathlyn Lemon Tree Spa  Barossa",
                                    "2": "6172214",
                                    "3": "Heather",
                                    "4": "Penrice",
                                    "5": "-3449403",
                                    "6": "13903202",
                                    "7": "Entire home/apt",
                                    "8": "236",
                                    "9": "2",
                                    "10": "59",
                                    "11": "2022-09-04",
                                    "12": "61",
                                    "13": "3",
                                    "14": "323",
                                    "15": "14"
                                },
                                {
                                    "0": "1133236",
                                    "1": "Strathlyn Spa Garden Suites Barossa",
                                    "2": "6172214",
                                    "3": "Heather",
                                    "4": "Penrice",
                                    "5": "-3449356",
                                    "6": "13903221",
                                    "7": "Private room",
                                    "8": "260",
                                    "9": "1",
                                    "10": "49",
                                    "11": "2022-09-18",
                                    "12": "47",
                                    "13": "3",
                                    "14": "318",
                                    "15": "15"
                                },
                                {
                                    "0": "1178384",
                                    "1": "Country cottage getaway",
                                    "2": "2122575",
                                    "3": "Tanya",
                                    "4": "Nuriootpa",
                                    "5": "-3446694",
                                    "6": "1389936",
                                    "7": "Private room",
                                    "8": "104",
                                    "9": "1",
                                    "10": "0",
                                    "11": "NULL",
                                    "12": "NULL",
                                    "13": "1",
                                    "14": "335",
                                    "15": "0"
                                },
                                {
                                    "0": "1710462",
                                    "1": "Shea-Oak Log Studio Shed",
                                    "2": "6645956",
                                    "3": "Kylie And Tom",
                                    "4": "Shea-Oak Log",
                                    "5": "-3451049",
                                    "6": "13881731",
                                    "7": "Entire home/apt",
                                    "8": "102",
                                    "9": "2",
                                    "10": "497",
                                    "11": "2022-09-06",
                                    "12": "459",
                                    "13": "1",
                                    "14": "330",
                                    "15": "30"
                                },
                                {
                                    "0": "1787389",
                                    "1": "Barossa Valley Apt 1 offers 2 bedrooms 2 bathroom",
                                    "2": "9380091",
                                    "3": "Kym",
                                    "4": "Tanunda",
                                    "5": "-3452835",
                                    "6": "13895364",
                                    "7": "Entire home/apt",
                                    "8": "400",
                                    "9": "2",
                                    "10": "17",
                                    "11": "2020-12-04",
                                    "12": "21",
                                    "13": "17",
                                    "14": "50",
                                    "15": "0"
                                },
                                {
                                    "0": "2028951",
                                    "1": "2 bedrooms with Woodfire, Barossa Country Cottages",
                                    "2": "10421165",
                                    "3": "Mark And Fiona",
                                    "4": "Lyndoch",
                                    "5": "-3460374",
                                    "6": "13888348",
                                    "7": "Entire home/apt",
                                    "8": "209",
                                    "9": "2",
                                    "10": "8",
                                    "11": "2022-09-05",
                                    "12": "145",
                                    "13": "2",
                                    "14": "309",
                                    "15": "8"
                                },
                                {
                                    "0": "2327616",
                                    "1": "Gawler River Farm B and B.",
                                    "2": "6713275",
                                    "3": "Bill",
                                    "4": "Gawler River",
                                    "5": "-3460563",
                                    "6": "13864823",
                                    "7": "Entire home/apt",
                                    "8": "90",
                                    "9": "1",
                                    "10": "125",
                                    "11": "2022-09-21",
                                    "12": "135",
                                    "13": "1",
                                    "14": "343",
                                    "15": "29"
                                },
                                {
                                    "0": "2567051",
                                    "1": "The Miners Cottage Barossa Valley",
                                    "2": "10726293",
                                    "3": "Rebecca",
                                    "4": "Cockatoo Valley",
                                    "5": "-3463884",
                                    "6": "13884564",
                                    "7": "Private room",
                                    "8": "210",
                                    "9": "2",
                                    "10": "31",
                                    "11": "2022-08-22",
                                    "12": "32",
                                    "13": "1",
                                    "14": "267",
                                    "15": "5"
                                },
                                {
                                    "0": "3506622",
                                    "1": "A nice room in a big 4 b/room house",
                                    "2": "17656515",
                                    "3": "Andrew",
                                    "4": "Buchfelde",
                                    "5": "-3461874",
                                    "6": "13873199",
                                    "7": "Private room",
                                    "8": "85",
                                    "9": "1",
                                    "10": "0",
                                    "11": "NULL",
                                    "12": "NULL",
                                    "13": "1",
                                    "14": "365",
                                    "15": "0"
                                }
                            ]
                        },
                        "text/html": [
                            "<table>",
                            "<tr><th>id</th><th>name</th><th>host_id</th><th>host_name</th><th>neighbourhood</th><th>latitude</th><th>longitude</th><th>room_type</th><th>price</th><th>minimum_nights</th><th>number_of_reviews</th><th>last_review</th><th>reviews_per_month</th><th>calculated_host_listings_count</th><th>availability_365</th><th>number_of_reviews_ltm</th></tr>",
                            "<tr><td>1125097</td><td>Strathlyn Coach House Barossa</td><td>6172214</td><td>Heather</td><td>Angaston</td><td>-3449389</td><td>13902942</td><td>Entire home/apt</td><td>254</td><td>2</td><td>166</td><td>2022-09-19</td><td>151</td><td>3</td><td>302</td><td>24</td></tr>",
                            "<tr><td>1133195</td><td>Strathlyn Lemon Tree Spa  Barossa</td><td>6172214</td><td>Heather</td><td>Penrice</td><td>-3449403</td><td>13903202</td><td>Entire home/apt</td><td>236</td><td>2</td><td>59</td><td>2022-09-04</td><td>61</td><td>3</td><td>323</td><td>14</td></tr>",
                            "<tr><td>1133236</td><td>Strathlyn Spa Garden Suites Barossa</td><td>6172214</td><td>Heather</td><td>Penrice</td><td>-3449356</td><td>13903221</td><td>Private room</td><td>260</td><td>1</td><td>49</td><td>2022-09-18</td><td>47</td><td>3</td><td>318</td><td>15</td></tr>",
                            "<tr><td>1178384</td><td>Country cottage getaway</td><td>2122575</td><td>Tanya</td><td>Nuriootpa</td><td>-3446694</td><td>1389936</td><td>Private room</td><td>104</td><td>1</td><td>0</td><td>NULL</td><td>NULL</td><td>1</td><td>335</td><td>0</td></tr>",
                            "<tr><td>1710462</td><td>Shea-Oak Log Studio Shed</td><td>6645956</td><td>Kylie And Tom</td><td>Shea-Oak Log</td><td>-3451049</td><td>13881731</td><td>Entire home/apt</td><td>102</td><td>2</td><td>497</td><td>2022-09-06</td><td>459</td><td>1</td><td>330</td><td>30</td></tr>",
                            "<tr><td>1787389</td><td>Barossa Valley Apt 1 offers 2 bedrooms 2 bathroom</td><td>9380091</td><td>Kym</td><td>Tanunda</td><td>-3452835</td><td>13895364</td><td>Entire home/apt</td><td>400</td><td>2</td><td>17</td><td>2020-12-04</td><td>21</td><td>17</td><td>50</td><td>0</td></tr>",
                            "<tr><td>2028951</td><td>2 bedrooms with Woodfire, Barossa Country Cottages</td><td>10421165</td><td>Mark And Fiona</td><td>Lyndoch</td><td>-3460374</td><td>13888348</td><td>Entire home/apt</td><td>209</td><td>2</td><td>8</td><td>2022-09-05</td><td>145</td><td>2</td><td>309</td><td>8</td></tr>",
                            "<tr><td>2327616</td><td>Gawler River Farm B and B.</td><td>6713275</td><td>Bill</td><td>Gawler River</td><td>-3460563</td><td>13864823</td><td>Entire home/apt</td><td>90</td><td>1</td><td>125</td><td>2022-09-21</td><td>135</td><td>1</td><td>343</td><td>29</td></tr>",
                            "<tr><td>2567051</td><td>The Miners Cottage Barossa Valley</td><td>10726293</td><td>Rebecca</td><td>Cockatoo Valley</td><td>-3463884</td><td>13884564</td><td>Private room</td><td>210</td><td>2</td><td>31</td><td>2022-08-22</td><td>32</td><td>1</td><td>267</td><td>5</td></tr>",
                            "<tr><td>3506622</td><td>A nice room in a big 4 b/room house</td><td>17656515</td><td>Andrew</td><td>Buchfelde</td><td>-3461874</td><td>13873199</td><td>Private room</td><td>85</td><td>1</td><td>0</td><td>NULL</td><td>NULL</td><td>1</td><td>365</td><td>0</td></tr>",
                            "</table>"
                        ]
                    }
                }
            ],
            "execution_count": 5
        },
        {
            "cell_type": "markdown",
            "source": [
                "**<u>\\-Selecting the 10 best hosts of the Airbnb list</u>**"
            ],
            "metadata": {
                "language": "sql",
                "azdata_cell_guid": "74cc2f51-c47a-401e-b63c-5959ffd9e7e2"
            },
            "attachments": {}
        },
        {
            "cell_type": "code",
            "source": [
                "--TOP 10 HOSTS WITH MORE PROPERTIES AT BAROSSA VALLEY\r\n",
                "SELECT TOP(10)host_id, \r\n",
                "host_name,\r\n",
                "SUM(calculated_host_listings_count)/COUNT(host_id) as num_of_listings\r\n",
                "FROM [listings (1)]\r\n",
                "GROUP BY host_id,host_name\r\n",
                "ORDER BY num_of_listings DESC\r\n",
                "\r\n",
                ""
            ],
            "metadata": {
                "azdata_cell_guid": "e8711665-e90f-4e87-9f23-65ae4e1d234b",
                "language": "sql",
                "tags": []
            },
            "outputs": [
                {
                    "output_type": "display_data",
                    "data": {
                        "text/html": "(10 rows affected)"
                    },
                    "metadata": {}
                },
                {
                    "output_type": "display_data",
                    "data": {
                        "text/html": "Total execution time: 00:00:00.014"
                    },
                    "metadata": {}
                },
                {
                    "output_type": "execute_result",
                    "execution_count": 151,
                    "data": {
                        "application/vnd.dataresource+json": {
                            "schema": {
                                "fields": [
                                    {
                                        "name": "host_id"
                                    },
                                    {
                                        "name": "host_name"
                                    },
                                    {
                                        "name": "num_of_listings"
                                    }
                                ]
                            },
                            "data": [
                                {
                                    "0": "9380091",
                                    "1": "Kym",
                                    "2": "17"
                                },
                                {
                                    "0": "439331891",
                                    "1": "Emma&Roger",
                                    "2": "8"
                                },
                                {
                                    "0": "383527612",
                                    "1": "Jean-Claude",
                                    "2": "7"
                                },
                                {
                                    "0": "461601857",
                                    "1": "The Wine",
                                    "2": "7"
                                },
                                {
                                    "0": "38878329",
                                    "1": "Andrew",
                                    "2": "6"
                                },
                                {
                                    "0": "162433043",
                                    "1": "Danielle",
                                    "2": "6"
                                },
                                {
                                    "0": "472161981",
                                    "1": "Heather",
                                    "2": "6"
                                },
                                {
                                    "0": "26147078",
                                    "1": "Jonathan And Kate",
                                    "2": "6"
                                },
                                {
                                    "0": "63693332",
                                    "1": "GaryLeonie",
                                    "2": "5"
                                },
                                {
                                    "0": "262121622",
                                    "1": "Jerry",
                                    "2": "5"
                                }
                            ]
                        },
                        "text/html": "<table><tr><th>host_id</th><th>host_name</th><th>num_of_listings</th></tr><tr><td>9380091</td><td>Kym</td><td>17</td></tr><tr><td>439331891</td><td>Emma&amp;Roger</td><td>8</td></tr><tr><td>383527612</td><td>Jean-Claude</td><td>7</td></tr><tr><td>461601857</td><td>The Wine</td><td>7</td></tr><tr><td>38878329</td><td>Andrew</td><td>6</td></tr><tr><td>162433043</td><td>Danielle</td><td>6</td></tr><tr><td>472161981</td><td>Heather</td><td>6</td></tr><tr><td>26147078</td><td>Jonathan And Kate</td><td>6</td></tr><tr><td>63693332</td><td>GaryLeonie</td><td>5</td></tr><tr><td>262121622</td><td>Jerry</td><td>5</td></tr></table>"
                    },
                    "metadata": {}
                }
            ],
            "execution_count": 151
        },
        {
            "cell_type": "markdown",
            "source": [
                "**<u>\\-Where the 10 best hosts are located</u>**"
            ],
            "metadata": {
                "language": "sql",
                "azdata_cell_guid": "49c21928-611a-4c60-96b1-bca0c1ceecef"
            },
            "attachments": {}
        },
        {
            "cell_type": "code",
            "source": [
                "WITH top10hosts as ( SELECT TOP(10)host_id, \r\n",
                "host_name,\r\n",
                "SUM(calculated_host_listings_count)/COUNT(host_id) as num_of_listings\r\n",
                "FROM [listings (1)]\r\n",
                "GROUP BY host_id,host_name\r\n",
                "ORDER BY num_of_listings DESC\r\n",
                ") \r\n",
                "SELECT top10hosts.host_name, \r\n",
                "neighbourhood\r\n",
                "FROM [listings (1)]\r\n",
                "JOIN top10hosts\r\n",
                "ON [listings (1)].host_id = top10hosts.host_id\r\n",
                "\r\n",
                ""
            ],
            "metadata": {
                "azdata_cell_guid": "86aa66ff-5b06-43ab-97bf-08d827c9f8a9",
                "language": "sql",
                "tags": []
            },
            "outputs": [
                {
                    "output_type": "display_data",
                    "data": {
                        "text/html": "(73 rows affected)"
                    },
                    "metadata": {}
                },
                {
                    "output_type": "display_data",
                    "data": {
                        "text/html": "Total execution time: 00:00:00.018"
                    },
                    "metadata": {}
                },
                {
                    "output_type": "execute_result",
                    "execution_count": 152,
                    "data": {
                        "application/vnd.dataresource+json": {
                            "schema": {
                                "fields": [
                                    {
                                        "name": "host_name"
                                    },
                                    {
                                        "name": "neighbourhood"
                                    }
                                ]
                            },
                            "data": [
                                {
                                    "0": "Kym",
                                    "1": "Tanunda"
                                },
                                {
                                    "0": "Jonathan And Kate",
                                    "1": "Angaston"
                                },
                                {
                                    "0": "Jonathan And Kate",
                                    "1": "Angaston"
                                },
                                {
                                    "0": "Kym",
                                    "1": "Tanunda"
                                },
                                {
                                    "0": "Kym",
                                    "1": "Tanunda"
                                },
                                {
                                    "0": "Kym",
                                    "1": "Tanunda"
                                },
                                {
                                    "0": "Kym",
                                    "1": "Tanunda"
                                },
                                {
                                    "0": "Kym",
                                    "1": "Tanunda"
                                },
                                {
                                    "0": "Kym",
                                    "1": "Tanunda"
                                },
                                {
                                    "0": "Kym",
                                    "1": "Tanunda"
                                },
                                {
                                    "0": "Kym",
                                    "1": "Tanunda"
                                },
                                {
                                    "0": "Kym",
                                    "1": "Tanunda"
                                },
                                {
                                    "0": "Kym",
                                    "1": "Tanunda"
                                },
                                {
                                    "0": "Kym",
                                    "1": "Tanunda"
                                },
                                {
                                    "0": "Kym",
                                    "1": "Tanunda"
                                },
                                {
                                    "0": "Kym",
                                    "1": "Tanunda"
                                },
                                {
                                    "0": "Jonathan And Kate",
                                    "1": "Angaston"
                                },
                                {
                                    "0": "Kym",
                                    "1": "Tanunda"
                                },
                                {
                                    "0": "Kym",
                                    "1": "Tanunda"
                                },
                                {
                                    "0": "GaryLeonie",
                                    "1": "Buchfelde"
                                },
                                {
                                    "0": "Andrew",
                                    "1": "Concordia"
                                },
                                {
                                    "0": "Jonathan And Kate",
                                    "1": "Angaston"
                                },
                                {
                                    "0": "Jonathan And Kate",
                                    "1": "Lyndoch"
                                },
                                {
                                    "0": "Jerry",
                                    "1": "Tanunda"
                                },
                                {
                                    "0": "Jerry",
                                    "1": "Angaston"
                                },
                                {
                                    "0": "Jerry",
                                    "1": "Angaston"
                                },
                                {
                                    "0": "Jerry",
                                    "1": "Angaston"
                                },
                                {
                                    "0": "Jerry",
                                    "1": "Angaston"
                                },
                                {
                                    "0": "Andrew",
                                    "1": "Hewett"
                                },
                                {
                                    "0": "Danielle",
                                    "1": "Angaston"
                                },
                                {
                                    "0": "Danielle",
                                    "1": "Angaston"
                                },
                                {
                                    "0": "Danielle",
                                    "1": "Angaston"
                                },
                                {
                                    "0": "Danielle",
                                    "1": "Angaston"
                                },
                                {
                                    "0": "Danielle",
                                    "1": "Angaston"
                                },
                                {
                                    "0": "Danielle",
                                    "1": "Angaston"
                                },
                                {
                                    "0": "Jonathan And Kate",
                                    "1": "Angaston"
                                },
                                {
                                    "0": "GaryLeonie",
                                    "1": "Hewett"
                                },
                                {
                                    "0": "Andrew",
                                    "1": "Concordia"
                                },
                                {
                                    "0": "Andrew",
                                    "1": "Concordia"
                                },
                                {
                                    "0": "GaryLeonie",
                                    "1": "Kalbeeba"
                                },
                                {
                                    "0": "Andrew",
                                    "1": "Concordia"
                                },
                                {
                                    "0": "GaryLeonie",
                                    "1": "Hewett"
                                },
                                {
                                    "0": "Jean-Claude",
                                    "1": "Kapunda"
                                },
                                {
                                    "0": "Jean-Claude",
                                    "1": "Kapunda"
                                },
                                {
                                    "0": "Jean-Claude",
                                    "1": "Kapunda"
                                },
                                {
                                    "0": "GaryLeonie",
                                    "1": "Hewett"
                                },
                                {
                                    "0": "Jean-Claude",
                                    "1": "Kapunda"
                                },
                                {
                                    "0": "Jean-Claude",
                                    "1": "Kapunda"
                                },
                                {
                                    "0": "Jean-Claude",
                                    "1": "Kapunda"
                                },
                                {
                                    "0": "Andrew",
                                    "1": "Concordia"
                                },
                                {
                                    "0": "Emma&Roger",
                                    "1": "Nuriootpa"
                                },
                                {
                                    "0": "Kym",
                                    "1": "Tanunda"
                                },
                                {
                                    "0": "Jean-Claude",
                                    "1": "Kapunda"
                                },
                                {
                                    "0": "The Wine",
                                    "1": "Tanunda"
                                },
                                {
                                    "0": "The Wine",
                                    "1": "Tanunda"
                                },
                                {
                                    "0": "The Wine",
                                    "1": "Tanunda"
                                },
                                {
                                    "0": "The Wine",
                                    "1": "Tanunda"
                                },
                                {
                                    "0": "The Wine",
                                    "1": "Tanunda"
                                },
                                {
                                    "0": "The Wine",
                                    "1": "Tanunda"
                                },
                                {
                                    "0": "The Wine",
                                    "1": "Tanunda"
                                },
                                {
                                    "0": "Heather",
                                    "1": "Mount Pleasant"
                                },
                                {
                                    "0": "Emma&Roger",
                                    "1": "Bethany"
                                },
                                {
                                    "0": "Emma&Roger",
                                    "1": "Bethany"
                                },
                                {
                                    "0": "Emma&Roger",
                                    "1": "Bethany"
                                },
                                {
                                    "0": "Emma&Roger",
                                    "1": "Bethany"
                                },
                                {
                                    "0": "Emma&Roger",
                                    "1": "Bethany"
                                },
                                {
                                    "0": "Emma&Roger",
                                    "1": "Bethany"
                                },
                                {
                                    "0": "Emma&Roger",
                                    "1": "Bethany"
                                },
                                {
                                    "0": "Heather",
                                    "1": "Mount Pleasant"
                                },
                                {
                                    "0": "Heather",
                                    "1": "Mount Pleasant"
                                },
                                {
                                    "0": "Heather",
                                    "1": "Mount Pleasant"
                                },
                                {
                                    "0": "Heather",
                                    "1": "Mount Pleasant"
                                },
                                {
                                    "0": "Heather",
                                    "1": "Mount Pleasant"
                                }
                            ]
                        },
                        "text/html": "<table><tr><th>host_name</th><th>neighbourhood</th></tr><tr><td>Kym</td><td>Tanunda</td></tr><tr><td>Jonathan And Kate</td><td>Angaston</td></tr><tr><td>Jonathan And Kate</td><td>Angaston</td></tr><tr><td>Kym</td><td>Tanunda</td></tr><tr><td>Kym</td><td>Tanunda</td></tr><tr><td>Kym</td><td>Tanunda</td></tr><tr><td>Kym</td><td>Tanunda</td></tr><tr><td>Kym</td><td>Tanunda</td></tr><tr><td>Kym</td><td>Tanunda</td></tr><tr><td>Kym</td><td>Tanunda</td></tr><tr><td>Kym</td><td>Tanunda</td></tr><tr><td>Kym</td><td>Tanunda</td></tr><tr><td>Kym</td><td>Tanunda</td></tr><tr><td>Kym</td><td>Tanunda</td></tr><tr><td>Kym</td><td>Tanunda</td></tr><tr><td>Kym</td><td>Tanunda</td></tr><tr><td>Jonathan And Kate</td><td>Angaston</td></tr><tr><td>Kym</td><td>Tanunda</td></tr><tr><td>Kym</td><td>Tanunda</td></tr><tr><td>GaryLeonie</td><td>Buchfelde</td></tr><tr><td>Andrew</td><td>Concordia</td></tr><tr><td>Jonathan And Kate</td><td>Angaston</td></tr><tr><td>Jonathan And Kate</td><td>Lyndoch</td></tr><tr><td>Jerry</td><td>Tanunda</td></tr><tr><td>Jerry</td><td>Angaston</td></tr><tr><td>Jerry</td><td>Angaston</td></tr><tr><td>Jerry</td><td>Angaston</td></tr><tr><td>Jerry</td><td>Angaston</td></tr><tr><td>Andrew</td><td>Hewett</td></tr><tr><td>Danielle</td><td>Angaston</td></tr><tr><td>Danielle</td><td>Angaston</td></tr><tr><td>Danielle</td><td>Angaston</td></tr><tr><td>Danielle</td><td>Angaston</td></tr><tr><td>Danielle</td><td>Angaston</td></tr><tr><td>Danielle</td><td>Angaston</td></tr><tr><td>Jonathan And Kate</td><td>Angaston</td></tr><tr><td>GaryLeonie</td><td>Hewett</td></tr><tr><td>Andrew</td><td>Concordia</td></tr><tr><td>Andrew</td><td>Concordia</td></tr><tr><td>GaryLeonie</td><td>Kalbeeba</td></tr><tr><td>Andrew</td><td>Concordia</td></tr><tr><td>GaryLeonie</td><td>Hewett</td></tr><tr><td>Jean-Claude</td><td>Kapunda</td></tr><tr><td>Jean-Claude</td><td>Kapunda</td></tr><tr><td>Jean-Claude</td><td>Kapunda</td></tr><tr><td>GaryLeonie</td><td>Hewett</td></tr><tr><td>Jean-Claude</td><td>Kapunda</td></tr><tr><td>Jean-Claude</td><td>Kapunda</td></tr><tr><td>Jean-Claude</td><td>Kapunda</td></tr><tr><td>Andrew</td><td>Concordia</td></tr><tr><td>Emma&amp;Roger</td><td>Nuriootpa</td></tr><tr><td>Kym</td><td>Tanunda</td></tr><tr><td>Jean-Claude</td><td>Kapunda</td></tr><tr><td>The Wine</td><td>Tanunda</td></tr><tr><td>The Wine</td><td>Tanunda</td></tr><tr><td>The Wine</td><td>Tanunda</td></tr><tr><td>The Wine</td><td>Tanunda</td></tr><tr><td>The Wine</td><td>Tanunda</td></tr><tr><td>The Wine</td><td>Tanunda</td></tr><tr><td>The Wine</td><td>Tanunda</td></tr><tr><td>Heather</td><td>Mount Pleasant</td></tr><tr><td>Emma&amp;Roger</td><td>Bethany</td></tr><tr><td>Emma&amp;Roger</td><td>Bethany</td></tr><tr><td>Emma&amp;Roger</td><td>Bethany</td></tr><tr><td>Emma&amp;Roger</td><td>Bethany</td></tr><tr><td>Emma&amp;Roger</td><td>Bethany</td></tr><tr><td>Emma&amp;Roger</td><td>Bethany</td></tr><tr><td>Emma&amp;Roger</td><td>Bethany</td></tr><tr><td>Heather</td><td>Mount Pleasant</td></tr><tr><td>Heather</td><td>Mount Pleasant</td></tr><tr><td>Heather</td><td>Mount Pleasant</td></tr><tr><td>Heather</td><td>Mount Pleasant</td></tr><tr><td>Heather</td><td>Mount Pleasant</td></tr></table>"
                    },
                    "metadata": {}
                }
            ],
            "execution_count": 152
        },
        {
            "cell_type": "code",
            "source": [
                "WITH top10hosts as (\r\n",
                "    SELECT TOP(10)host_id, \r\n",
                "    host_name,\r\n",
                "    SUM(calculated_host_listings_count)/COUNT(host_id) as num_of_listings\r\n",
                "    FROM [listings (1)]\r\n",
                "    GROUP BY host_id,host_name\r\n",
                "    ORDER BY num_of_listings DESC\r\n",
                "), \r\n",
                "neighbourtop10 AS (\r\n",
                "    SELECT top10hosts.host_name, \r\n",
                "    neighbourhood\r\n",
                "    FROM [listings (1)]\r\n",
                "    JOIN top10hosts\r\n",
                "    ON [listings (1)].host_id = top10hosts.host_id\r\n",
                ") \r\n",
                "    SELECT ROUND((COUNT(CASE WHEN neighbourhood = 'Tanunda' THEN 1 END) * 100.0) / CAST(COUNT(*) AS float),2) AS 'Tanunda(%)',\r\n",
                "    ROUND((COUNT(CASE WHEN neighbourhood = 'Angaston' THEN 1 END) * 100.0) / CAST(COUNT(*) AS float),2) AS 'Angaston(%)',\r\n",
                "    ROUND((COUNT(CASE WHEN neighbourhood = 'Buchfelde' THEN 1 END) * 100.0) / CAST(COUNT(*) AS float),2) AS 'Buchfelde(%)',\r\n",
                "    ROUND((COUNT(CASE WHEN neighbourhood = 'Lyndoch' THEN 1 END) * 100.0) / CAST(COUNT(*) AS float),2) AS 'Lyndoch(%)',\r\n",
                "    ROUND((COUNT(CASE WHEN neighbourhood = 'Concordia' THEN 1 END) * 100.0) / CAST(COUNT(*) AS float),2) AS 'Concordia(%)',\r\n",
                "    ROUND((COUNT(CASE WHEN neighbourhood = 'Mount Pleasant' THEN 1 END) * 100.0) / CAST(COUNT(*) AS float),2) AS 'Mount Pleasant(%)',\r\n",
                "    ROUND((COUNT(CASE WHEN neighbourhood = 'Nuriootpa' THEN 1 END) * 100.0) / CAST(COUNT(*) AS float),2) AS 'Nuriootpa(%)',\r\n",
                "    ROUND((COUNT(CASE WHEN neighbourhood = 'Bethany' THEN 1 END) * 100.0) / CAST(COUNT(*) AS float),2) AS 'Bethany(%)'\r\n",
                "FROM neighbourtop10"
            ],
            "metadata": {
                "language": "sql",
                "azdata_cell_guid": "97581474-778d-4357-95af-baab7f8a741f"
            },
            "outputs": [
                {
                    "output_type": "display_data",
                    "data": {
                        "text/html": "Warning: Null value is eliminated by an aggregate or other SET operation."
                    },
                    "metadata": {}
                },
                {
                    "output_type": "display_data",
                    "data": {
                        "text/html": "(1 row affected)"
                    },
                    "metadata": {}
                },
                {
                    "output_type": "display_data",
                    "data": {
                        "text/html": "Total execution time: 00:00:00.017"
                    },
                    "metadata": {}
                },
                {
                    "output_type": "execute_result",
                    "execution_count": 153,
                    "data": {
                        "application/vnd.dataresource+json": {
                            "schema": {
                                "fields": [
                                    {
                                        "name": "Tanunda(%)"
                                    },
                                    {
                                        "name": "Angaston(%)"
                                    },
                                    {
                                        "name": "Buchfelde(%)"
                                    },
                                    {
                                        "name": "Lyndoch(%)"
                                    },
                                    {
                                        "name": "Concordia(%)"
                                    },
                                    {
                                        "name": "Mount Pleasant(%)"
                                    },
                                    {
                                        "name": "Nuriootpa(%)"
                                    },
                                    {
                                        "name": "Bethany(%)"
                                    }
                                ]
                            },
                            "data": [
                                {
                                    "0": "34,25",
                                    "1": "20,55",
                                    "2": "1,37",
                                    "3": "1,37",
                                    "4": "6,85",
                                    "5": "8,22",
                                    "6": "1,37",
                                    "7": "9,59"
                                }
                            ]
                        },
                        "text/html": "<table><tr><th>Tanunda(%)</th><th>Angaston(%)</th><th>Buchfelde(%)</th><th>Lyndoch(%)</th><th>Concordia(%)</th><th>Mount Pleasant(%)</th><th>Nuriootpa(%)</th><th>Bethany(%)</th></tr><tr><td>34,25</td><td>20,55</td><td>1,37</td><td>1,37</td><td>6,85</td><td>8,22</td><td>1,37</td><td>9,59</td></tr></table>"
                    },
                    "metadata": {}
                }
            ],
            "execution_count": 153
        },
        {
            "cell_type": "markdown",
            "source": [
                "**Comments:** To gain a more comprehensive understanding of the property market in the Barossa Valley on Airbnb, we selected the top 10 hosts. By analyzing the number of listings and location of these hosts, we aim to identify patterns and trends in the market. Additionally, by examining the revenue generated by these hosts, we hope to gain insight into the financial performance of the market and how it may be impacted by various factors. From our analysis, it appears that Tanunda and Angaston are the preferred locations in the region for the main hosts on the list. This information can be useful for those looking to invest in or enter the Barossa Valley property market on Airbnb, as well as for current hosts looking to improve their performance."
            ],
            "metadata": {
                "language": "sql",
                "azdata_cell_guid": "109ec13c-bd5b-4e84-9916-9a3989735d03"
            },
            "attachments": {}
        },
        {
            "cell_type": "markdown",
            "source": [
                "**<u>\\-Financial rent performance of the 10 best hosts(gross revenue)</u>**"
            ],
            "metadata": {
                "language": "sql",
                "azdata_cell_guid": "859eb658-b543-4502-824b-06e7def6c6dd"
            },
            "attachments": {}
        },
        {
            "cell_type": "code",
            "source": [
                "-- TOP 10 FINANCIAL PERFORMANCE\r\n",
                "SELECT TOP(10)\r\n",
                "host_name,\r\n",
                "COUNT(host_id) as num_of_listings,\r\n",
                "AVG(price) as avg_price,\r\n",
                "COUNT(host_name)*AVG(price)*(365-AVG(availability_365)) as annual_revenue_host,\r\n",
                "(COUNT(host_name)*AVG(price)*(365-AVG(availability_365)))/ 365.0 as daily_revenue_host_365days\r\n",
                "FROM [listings (1)]\r\n",
                "GROUP BY host_name\r\n",
                "ORDER BY num_of_listings DESC"
            ],
            "metadata": {
                "azdata_cell_guid": "eb1f2455-a706-491e-93d4-f61bc4370249",
                "language": "sql"
            },
            "outputs": [
                {
                    "output_type": "display_data",
                    "data": {
                        "text/html": "(10 rows affected)"
                    },
                    "metadata": {}
                },
                {
                    "output_type": "display_data",
                    "data": {
                        "text/html": "Total execution time: 00:00:00.014"
                    },
                    "metadata": {}
                },
                {
                    "output_type": "execute_result",
                    "execution_count": 154,
                    "data": {
                        "application/vnd.dataresource+json": {
                            "schema": {
                                "fields": [
                                    {
                                        "name": "host_name"
                                    },
                                    {
                                        "name": "num_of_listings"
                                    },
                                    {
                                        "name": "avg_price"
                                    },
                                    {
                                        "name": "annual_revenue_host"
                                    },
                                    {
                                        "name": "daily_revenue_host_365days"
                                    }
                                ]
                            },
                            "data": [
                                {
                                    "0": "Kym",
                                    "1": "17",
                                    "2": "749",
                                    "3": "3985429",
                                    "4": "10918.983561"
                                },
                                {
                                    "0": "Heather",
                                    "1": "11",
                                    "2": "414",
                                    "3": "241362",
                                    "4": "661.265753"
                                },
                                {
                                    "0": "Emma&Roger",
                                    "1": "8",
                                    "2": "168",
                                    "3": "318528",
                                    "4": "872.679452"
                                },
                                {
                                    "0": "Andrew",
                                    "1": "7",
                                    "2": "221",
                                    "3": "35581",
                                    "4": "97.482191"
                                },
                                {
                                    "0": "Jean-Claude",
                                    "1": "7",
                                    "2": "538",
                                    "3": "154406",
                                    "4": "423.030136"
                                },
                                {
                                    "0": "The Wine",
                                    "1": "7",
                                    "2": "250",
                                    "3": "56000",
                                    "4": "153.424657"
                                },
                                {
                                    "0": "Danielle",
                                    "1": "6",
                                    "2": "129",
                                    "3": "28638",
                                    "4": "78.460273"
                                },
                                {
                                    "0": "Jonathan And Kate",
                                    "1": "6",
                                    "2": "198",
                                    "3": "262548",
                                    "4": "719.309589"
                                },
                                {
                                    "0": "Karen",
                                    "1": "6",
                                    "2": "231",
                                    "3": "234234",
                                    "4": "641.736986"
                                },
                                {
                                    "0": "GaryLeonie",
                                    "1": "5",
                                    "2": "221",
                                    "3": "139230",
                                    "4": "381.452054"
                                }
                            ]
                        },
                        "text/html": "<table><tr><th>host_name</th><th>num_of_listings</th><th>avg_price</th><th>annual_revenue_host</th><th>daily_revenue_host_365days</th></tr><tr><td>Kym</td><td>17</td><td>749</td><td>3985429</td><td>10918.983561</td></tr><tr><td>Heather</td><td>11</td><td>414</td><td>241362</td><td>661.265753</td></tr><tr><td>Emma&amp;Roger</td><td>8</td><td>168</td><td>318528</td><td>872.679452</td></tr><tr><td>Andrew</td><td>7</td><td>221</td><td>35581</td><td>97.482191</td></tr><tr><td>Jean-Claude</td><td>7</td><td>538</td><td>154406</td><td>423.030136</td></tr><tr><td>The Wine</td><td>7</td><td>250</td><td>56000</td><td>153.424657</td></tr><tr><td>Danielle</td><td>6</td><td>129</td><td>28638</td><td>78.460273</td></tr><tr><td>Jonathan And Kate</td><td>6</td><td>198</td><td>262548</td><td>719.309589</td></tr><tr><td>Karen</td><td>6</td><td>231</td><td>234234</td><td>641.736986</td></tr><tr><td>GaryLeonie</td><td>5</td><td>221</td><td>139230</td><td>381.452054</td></tr></table>"
                    },
                    "metadata": {}
                }
            ],
            "execution_count": 154
        },
        {
            "cell_type": "markdown",
            "source": [
                "**Comments:** In this analysis, we have taken into account all properties listed by the top 10 hosts on Airbnb in the Barossa Valley, including outliers that have a higher number of listings than 1500. This approach allows us to provide more specific information for each host and better understand their individual performance. However, when we evaluate the revenue generated by the entire neighborhood, we exclude these outliers as they do not accurately represent the performance of the neighborhood as a whole.It appears that Kym, one of the top 10 hosts on Airbnb in the Barossa Valley, has significantly higher revenue numbers compared to the others. This suggests that there may be something unique or different about this host's properties or business strategy."
            ],
            "metadata": {
                "language": "sql",
                "azdata_cell_guid": "78cdd923-8a25-4b03-98c5-2d1e59a0ce3d"
            },
            "attachments": {}
        },
        {
            "cell_type": "markdown",
            "source": [
                "**<u>\\-Checking the type,prices and where the properties of the best host 'Kym' is located.</u>**"
            ],
            "metadata": {
                "language": "sql",
                "azdata_cell_guid": "4b020ba2-5a16-4bff-848e-cfcaf7764955"
            },
            "attachments": {}
        },
        {
            "cell_type": "code",
            "source": [
                "--HOST \"KYM\" TOP (1)\r\n",
                "SELECT id, neighbourhood, \r\n",
                "room_type,\r\n",
                "host_name,\r\n",
                "price,\r\n",
                "availability_365\r\n",
                "FRom [listings (1)]\r\n",
                "WHERE host_name = 'Kym'"
            ],
            "metadata": {
                "azdata_cell_guid": "c9836691-d441-409c-9841-8fd8bfae6bec",
                "language": "sql"
            },
            "outputs": [
                {
                    "output_type": "display_data",
                    "data": {
                        "text/html": "(17 rows affected)"
                    },
                    "metadata": {}
                },
                {
                    "output_type": "display_data",
                    "data": {
                        "text/html": "Total execution time: 00:00:00.014"
                    },
                    "metadata": {}
                },
                {
                    "output_type": "execute_result",
                    "execution_count": 155,
                    "data": {
                        "application/vnd.dataresource+json": {
                            "schema": {
                                "fields": [
                                    {
                                        "name": "id"
                                    },
                                    {
                                        "name": "neighbourhood"
                                    },
                                    {
                                        "name": "room_type"
                                    },
                                    {
                                        "name": "host_name"
                                    },
                                    {
                                        "name": "price"
                                    },
                                    {
                                        "name": "availability_365"
                                    }
                                ]
                            },
                            "data": [
                                {
                                    "0": "1787389",
                                    "1": "Tanunda",
                                    "2": "Entire home/apt",
                                    "3": "Kym",
                                    "4": "400",
                                    "5": "50"
                                },
                                {
                                    "0": "10285222",
                                    "1": "Tanunda",
                                    "2": "Entire home/apt",
                                    "3": "Kym",
                                    "4": "275",
                                    "5": "4"
                                },
                                {
                                    "0": "10287444",
                                    "1": "Tanunda",
                                    "2": "Entire home/apt",
                                    "3": "Kym",
                                    "4": "350",
                                    "5": "3"
                                },
                                {
                                    "0": "10298152",
                                    "1": "Tanunda",
                                    "2": "Entire home/apt",
                                    "3": "Kym",
                                    "4": "350",
                                    "5": "12"
                                },
                                {
                                    "0": "10348508",
                                    "1": "Tanunda",
                                    "2": "Entire home/apt",
                                    "3": "Kym",
                                    "4": "350",
                                    "5": "16"
                                },
                                {
                                    "0": "10619599",
                                    "1": "Tanunda",
                                    "2": "Entire home/apt",
                                    "3": "Kym",
                                    "4": "275",
                                    "5": "4"
                                },
                                {
                                    "0": "10634089",
                                    "1": "Tanunda",
                                    "2": "Private room",
                                    "3": "Kym",
                                    "4": "275",
                                    "5": "4"
                                },
                                {
                                    "0": "11428035",
                                    "1": "Tanunda",
                                    "2": "Entire home/apt",
                                    "3": "Kym",
                                    "4": "500",
                                    "5": "269"
                                },
                                {
                                    "0": "14827811",
                                    "1": "Tanunda",
                                    "2": "Entire home/apt",
                                    "3": "Kym",
                                    "4": "400",
                                    "5": "54"
                                },
                                {
                                    "0": "14842846",
                                    "1": "Tanunda",
                                    "2": "Entire home/apt",
                                    "3": "Kym",
                                    "4": "379",
                                    "5": "58"
                                },
                                {
                                    "0": "14843749",
                                    "1": "Tanunda",
                                    "2": "Entire home/apt",
                                    "3": "Kym",
                                    "4": "400",
                                    "5": "53"
                                },
                                {
                                    "0": "14969874",
                                    "1": "Tanunda",
                                    "2": "Entire home/apt",
                                    "3": "Kym",
                                    "4": "1414",
                                    "5": "42"
                                },
                                {
                                    "0": "20175507",
                                    "1": "Tanunda",
                                    "2": "Entire home/apt",
                                    "3": "Kym",
                                    "4": "1920",
                                    "5": "28"
                                },
                                {
                                    "0": "20176443",
                                    "1": "Tanunda",
                                    "2": "Entire home/apt",
                                    "3": "Kym",
                                    "4": "2800",
                                    "5": "0"
                                },
                                {
                                    "0": "24813904",
                                    "1": "Tanunda",
                                    "2": "Entire home/apt",
                                    "3": "Kym",
                                    "4": "850",
                                    "5": "294"
                                },
                                {
                                    "0": "25893345",
                                    "1": "Tanunda",
                                    "2": "Entire home/apt",
                                    "3": "Kym",
                                    "4": "1500",
                                    "5": "1"
                                },
                                {
                                    "0": "542934522374568605",
                                    "1": "Tanunda",
                                    "2": "Entire home/apt",
                                    "3": "Kym",
                                    "4": "300",
                                    "5": "6"
                                }
                            ]
                        },
                        "text/html": "<table><tr><th>id</th><th>neighbourhood</th><th>room_type</th><th>host_name</th><th>price</th><th>availability_365</th></tr><tr><td>1787389</td><td>Tanunda</td><td>Entire home/apt</td><td>Kym</td><td>400</td><td>50</td></tr><tr><td>10285222</td><td>Tanunda</td><td>Entire home/apt</td><td>Kym</td><td>275</td><td>4</td></tr><tr><td>10287444</td><td>Tanunda</td><td>Entire home/apt</td><td>Kym</td><td>350</td><td>3</td></tr><tr><td>10298152</td><td>Tanunda</td><td>Entire home/apt</td><td>Kym</td><td>350</td><td>12</td></tr><tr><td>10348508</td><td>Tanunda</td><td>Entire home/apt</td><td>Kym</td><td>350</td><td>16</td></tr><tr><td>10619599</td><td>Tanunda</td><td>Entire home/apt</td><td>Kym</td><td>275</td><td>4</td></tr><tr><td>10634089</td><td>Tanunda</td><td>Private room</td><td>Kym</td><td>275</td><td>4</td></tr><tr><td>11428035</td><td>Tanunda</td><td>Entire home/apt</td><td>Kym</td><td>500</td><td>269</td></tr><tr><td>14827811</td><td>Tanunda</td><td>Entire home/apt</td><td>Kym</td><td>400</td><td>54</td></tr><tr><td>14842846</td><td>Tanunda</td><td>Entire home/apt</td><td>Kym</td><td>379</td><td>58</td></tr><tr><td>14843749</td><td>Tanunda</td><td>Entire home/apt</td><td>Kym</td><td>400</td><td>53</td></tr><tr><td>14969874</td><td>Tanunda</td><td>Entire home/apt</td><td>Kym</td><td>1414</td><td>42</td></tr><tr><td>20175507</td><td>Tanunda</td><td>Entire home/apt</td><td>Kym</td><td>1920</td><td>28</td></tr><tr><td>20176443</td><td>Tanunda</td><td>Entire home/apt</td><td>Kym</td><td>2800</td><td>0</td></tr><tr><td>24813904</td><td>Tanunda</td><td>Entire home/apt</td><td>Kym</td><td>850</td><td>294</td></tr><tr><td>25893345</td><td>Tanunda</td><td>Entire home/apt</td><td>Kym</td><td>1500</td><td>1</td></tr><tr><td>542934522374568605</td><td>Tanunda</td><td>Entire home/apt</td><td>Kym</td><td>300</td><td>6</td></tr></table>"
                    },
                    "metadata": {}
                }
            ],
            "execution_count": 155
        },
        {
            "cell_type": "markdown",
            "source": [
                "**Comments:**  By taking a closer look at Kym's properties, we can understand the reason behind their high revenue. Kym has listed 3 of the 4 most expensive night-rent properties in the Barossa Valley, with rates of $1500, $1920 and $2800 respectively. This suggests that their high revenue is likely due to their luxury properties and premium pricing strategy."
            ],
            "metadata": {
                "language": "sql",
                "azdata_cell_guid": "50ac4ce6-239d-4954-9a0e-9de84d6df63d"
            },
            "attachments": {}
        },
        {
            "cell_type": "markdown",
            "source": [
                "**<u>\\- Examining the properties that have a nightly rental rate less than $100.</u>**"
            ],
            "metadata": {
                "language": "sql",
                "azdata_cell_guid": "16a9c56d-fc27-4b88-bff8-2c998c0133e7"
            },
            "attachments": {}
        },
        {
            "cell_type": "code",
            "source": [
                "-- Properties under 100 dolars\r\n",
                "SELECT neighbourhood,\r\n",
                "room_type,\r\n",
                "host_name,\r\n",
                "price, \r\n",
                "availability_365\r\n",
                "FROM [listings (1)]\r\n",
                "WHERE price <= 100"
            ],
            "metadata": {
                "language": "sql",
                "azdata_cell_guid": "a8854313-b26e-4dd4-a868-669a4aab202e"
            },
            "outputs": [
                {
                    "output_type": "display_data",
                    "data": {
                        "text/html": "(10 rows affected)"
                    },
                    "metadata": {}
                },
                {
                    "output_type": "display_data",
                    "data": {
                        "text/html": "Total execution time: 00:00:00.014"
                    },
                    "metadata": {}
                },
                {
                    "output_type": "execute_result",
                    "execution_count": 156,
                    "data": {
                        "application/vnd.dataresource+json": {
                            "schema": {
                                "fields": [
                                    {
                                        "name": "neighbourhood"
                                    },
                                    {
                                        "name": "room_type"
                                    },
                                    {
                                        "name": "host_name"
                                    },
                                    {
                                        "name": "price"
                                    },
                                    {
                                        "name": "availability_365"
                                    }
                                ]
                            },
                            "data": [
                                {
                                    "0": "Gawler River",
                                    "1": "Entire home/apt",
                                    "2": "Bill",
                                    "3": "90",
                                    "4": "343"
                                },
                                {
                                    "0": "Buchfelde",
                                    "1": "Private room",
                                    "2": "Andrew",
                                    "3": "85",
                                    "4": "365"
                                },
                                {
                                    "0": "Nuriootpa",
                                    "1": "Entire home/apt",
                                    "2": "Andrew & Belinda",
                                    "3": "63",
                                    "4": "219"
                                },
                                {
                                    "0": "Angaston",
                                    "1": "Private room",
                                    "2": "Jonathan And Kate",
                                    "3": "95",
                                    "4": "0"
                                },
                                {
                                    "0": "Angaston",
                                    "1": "Private room",
                                    "2": "Anthea",
                                    "3": "80",
                                    "4": "0"
                                },
                                {
                                    "0": "Buchfelde",
                                    "1": "Private room",
                                    "2": "Mary",
                                    "3": "90",
                                    "4": "129"
                                },
                                {
                                    "0": "Mount Crawford",
                                    "1": "Entire home/apt",
                                    "2": "Alan",
                                    "3": "100",
                                    "4": "69"
                                },
                                {
                                    "0": "Buchfelde",
                                    "1": "Private room",
                                    "2": "Ted",
                                    "3": "80",
                                    "4": "356"
                                },
                                {
                                    "0": "Nuriootpa",
                                    "1": "Private room",
                                    "2": "Jane",
                                    "3": "92",
                                    "4": "327"
                                },
                                {
                                    "0": "Buchfelde",
                                    "1": "Private room",
                                    "2": "Michelle",
                                    "3": "75",
                                    "4": "344"
                                }
                            ]
                        },
                        "text/html": "<table><tr><th>neighbourhood</th><th>room_type</th><th>host_name</th><th>price</th><th>availability_365</th></tr><tr><td>Gawler River</td><td>Entire home/apt</td><td>Bill</td><td>90</td><td>343</td></tr><tr><td>Buchfelde</td><td>Private room</td><td>Andrew</td><td>85</td><td>365</td></tr><tr><td>Nuriootpa</td><td>Entire home/apt</td><td>Andrew &amp; Belinda</td><td>63</td><td>219</td></tr><tr><td>Angaston</td><td>Private room</td><td>Jonathan And Kate</td><td>95</td><td>0</td></tr><tr><td>Angaston</td><td>Private room</td><td>Anthea</td><td>80</td><td>0</td></tr><tr><td>Buchfelde</td><td>Private room</td><td>Mary</td><td>90</td><td>129</td></tr><tr><td>Mount Crawford</td><td>Entire home/apt</td><td>Alan</td><td>100</td><td>69</td></tr><tr><td>Buchfelde</td><td>Private room</td><td>Ted</td><td>80</td><td>356</td></tr><tr><td>Nuriootpa</td><td>Private room</td><td>Jane</td><td>92</td><td>327</td></tr><tr><td>Buchfelde</td><td>Private room</td><td>Michelle</td><td>75</td><td>344</td></tr></table>"
                    },
                    "metadata": {}
                }
            ],
            "execution_count": 156
        },
        {
            "cell_type": "code",
            "source": [
                "SELECT neighbourhood,\r\n",
                "Count(id) as count_listing\r\n",
                "FROM [listings (1)]\r\n",
                "WHERE price < = 100\r\n",
                "Group BY neighbourhood\r\n",
                "Order by count_listing DESC"
            ],
            "metadata": {
                "language": "sql",
                "azdata_cell_guid": "65696193-afd6-4ec2-83c9-c4612db16a2f"
            },
            "outputs": [
                {
                    "output_type": "display_data",
                    "data": {
                        "text/html": "(5 rows affected)"
                    },
                    "metadata": {}
                },
                {
                    "output_type": "display_data",
                    "data": {
                        "text/html": "Total execution time: 00:00:00.008"
                    },
                    "metadata": {}
                },
                {
                    "output_type": "execute_result",
                    "execution_count": 157,
                    "data": {
                        "application/vnd.dataresource+json": {
                            "schema": {
                                "fields": [
                                    {
                                        "name": "neighbourhood"
                                    },
                                    {
                                        "name": "count_listing"
                                    }
                                ]
                            },
                            "data": [
                                {
                                    "0": "Buchfelde",
                                    "1": "4"
                                },
                                {
                                    "0": "Angaston",
                                    "1": "2"
                                },
                                {
                                    "0": "Nuriootpa",
                                    "1": "2"
                                },
                                {
                                    "0": "Gawler River",
                                    "1": "1"
                                },
                                {
                                    "0": "Mount Crawford",
                                    "1": "1"
                                }
                            ]
                        },
                        "text/html": "<table><tr><th>neighbourhood</th><th>count_listing</th></tr><tr><td>Buchfelde</td><td>4</td></tr><tr><td>Angaston</td><td>2</td></tr><tr><td>Nuriootpa</td><td>2</td></tr><tr><td>Gawler River</td><td>1</td></tr><tr><td>Mount Crawford</td><td>1</td></tr></table>"
                    },
                    "metadata": {}
                }
            ],
            "execution_count": 157
        },
        {
            "cell_type": "markdown",
            "source": [
                "**Comments:** There are few options of properties under 100 dolars available.Buchfelde is on the outskirts of Adelaide , heading towards the center of Barossa Valley.This is one option for solo backpakers and adventurers."
            ],
            "metadata": {
                "language": "sql",
                "azdata_cell_guid": "cff8f78e-cb64-469f-bb67-ce1ab222b419"
            },
            "attachments": {}
        },
        {
            "cell_type": "markdown",
            "source": [
                "**4\\. CONCLUSION**"
            ],
            "metadata": {
                "language": "sql",
                "azdata_cell_guid": "9c8ea121-ca78-428c-a536-e3496656b32f"
            },
            "attachments": {}
        },
        {
            "cell_type": "markdown",
            "source": [
                "<span lang=\"EN-AU\" style=\"font-size:10.5pt;\n",
                "font-family:&quot;Calibri(Body)&quot;,serif;mso-fareast-font-family:&quot;Times New Roman&quot;;\n",
                "mso-bidi-font-family:&quot;Segoe UI&quot;;color:black;mso-color-alt:windowtext;\n",
                "mso-ansi-language:EN-AU;mso-fareast-language:PT-BR\">-The dataset provides an overview of the Airbnb rental market in the Barossa Valley region. It allows us to analyze listings, prices, location, and occupancy rate, which can give us an understanding of the overall situation in the market. By combining this information with qualitative points such as wineries, restaurants, and visitor turnover, we can gain insights into the safest places to invest and the types of properties that are most commonly rented. It is important to note that the cost of properties is not included in the analysis as this information is not provided in the dataset. Therefore, to make informed investment decisions, it is necessary to consider the intersection of these characteristics with the financial gross rent performance of the regions.</span>\n",
                "\n",
                "<span lang=\"EN-AU\" style=\"font-size:10.5pt;\n",
                "font-family:&quot;Calibri(Body)&quot;,serif;mso-fareast-font-family:&quot;Times New Roman&quot;;\n",
                "mso-bidi-font-family:&quot;Segoe UI&quot;;color:black;mso-color-alt:windowtext;\n",
                "mso-ansi-language:EN-AU;mso-fareast-language:PT-BR\">-</span><span style=\"color: black; font-family: &quot;Calibri(Body)&quot;, serif; font-size: 10.5pt;\">The analysis of the Barossa Valley region in South Australia shows that the mean price of night rental properties on Airbnb is $342, with a minimum price of $63 and a maximum price of $2800.</span><span style=\"color: black; font-family: &quot;Calibri(Body)&quot;, serif; font-size: 10.5pt;\">The interquartile range (IQR) is $233.50, indicating that 50% of the listings are between $190.75 and $424.25, this range represents a reasonable range of prices that one visitor could pay per night for a property in the Barossa Valley.</span>\n",
                "\n",
                "<span style=\"color: black; font-family: &quot;Calibri(Body)&quot;, serif; font-size: 10.5pt;\">-T</span><span style=\"color: black; font-family: &quot;Calibri(Body)&quot;, serif; font-size: 10.5pt;\">here are a few high-priced properties with a maximum price of $2800. These high-priced properties represent a small percentage of the total listings and are mostly located in the town of Tanunda. This suggests that Tanunda might be known for its luxury options and amenities for visitors and tourists, which draws a specific type of visitors willing to pay higher prices for more upscale accommodations. This also indicates that Tanunda might have a higher number of high-end properties, and these luxury options might not be as prevalent in other towns of the region</span>\n",
                "\n",
                " <span style=\"color: black; font-family: &quot;Calibri(Body)&quot;, serif; font-size: 10.5pt;\">&nbsp;-</span><span style=\"color: black; font-family: &quot;Calibri(Body)&quot;, serif; font-size: 10.5pt;\">Tanunda is a particularly attractive location for property investment in the short-term rental market on Airbnb. The town of Tanunda offers a wide range of qualitative attributes such as rich history, renowned wine production, delicious food, art, scenic views, festivals, lively community, and a range of accommodation options. These features contribute to the unique and attractive atmosphere of the region, making it a great place to visit, live, and invest.Furthermore, even with moderate occupancy rate, the properties in Tanunda generate an outstanding annual gross revenue of $5M, which is significantly higher compared to other regions in the Barossa Valley. This is due to the large quantity of listings in the region and the presence of luxury options and amenities, making Tanunda a safe place to invest in a property rental on Airbnb, considering all of these attributes.&nbsp;</span> <span style=\"color: black; font-family: &quot;Calibri(Body)&quot;, serif; font-size: 10.5pt;\"><br></span>\n",
                "\n",
                "<span style=\"color: black; font-family: &quot;Calibri(Body)&quot;, serif; font-size: 10.5pt;\">-</span><span style=\"color: black; font-family: &quot;Calibri(Body)&quot;, serif; font-size: 10.5pt;\">The analysis shows that the towns of Tanunda, Angaston, and Lyndoch are the principal locations in the heart of the Barossa Valley region. Angaston and Lyndoch have shown to be consistent options for investment as rental properties on Airbnb, despite the low occupancy rate in those regions. This is due to their high gross revenue of $1,957,228 and $1,088,136 respectively, which is a result of a good number of listings in those regions. This suggests that even with moderate occupancy rate, these regions are still able to generate a significant amount of revenue, making them a reliable option for investment.</span>\n",
                "\n",
                "<span style=\"color: black; font-family: &quot;Calibri(Body)&quot;, serif; font-size: 10.5pt;\">-</span><span style=\"color: black; font-family: &quot;Calibri(Body)&quot;, serif; font-size: 10.5pt;\">Nuriotpa is well located in the Barossa Valley, with fewer listings on Airbnb and lower average prices compared to other regions. However, it still offers potential for revenue generation and is a good option for budget-conscious travelers looking for affordable accommodation.</span>\n",
                "\n",
                "<span style=\"color: black; font-family: &quot;Calibri(Body)&quot;, serif; font-size: 10.5pt;\">-</span><span style=\"color: black; font-family: &quot;Calibri(Body)&quot;, serif; font-size: 10.5pt;\">Bethany and Springton have some of the highest occupancy rates in the Barossa Valley, due to their attractiveness as regions. Bethany is well-known for its wineries and is located in the center of the Barossa Valley, while Springton is located in the merge of the Eden Valley road. However, due to their small size, the number of listings available on Airbnb is limited, which might be reflected in the occupancy rate. Despite the small number of listings, Bethany still has a gross gross revenue of $749,472. Therefore, it's important to note that the occupancy rate in these regions cannot be directly compared to the occupancy rate of other regions with a larger number of listings, but it's still important to consider the revenue generated by the region.</span>\n",
                "\n",
                "<span style=\"color: black; font-family: &quot;Calibri(Body)&quot;, serif; font-size: 10.5pt;\">-T</span><span style=\"color: black; font-family: &quot;Calibri(Body)&quot;, serif; font-size: 10.5pt;\">he most common type of properties available for rent on Airbnb in the Barossa Valley region are Entire Home/Apt, representing 87.96% of the properties listed. While Private Rooms also play a significant role in the rental market, it is clear that the Entire Home/Apt is the more popular option for visitors and investors in the region, as it offers a wide variety of prices and locations.</span>\n",
                "\n",
                "<span style=\"color: black; font-family: &quot;Calibri(Body)&quot;, serif; font-size: 10.5pt;\">-T</span><span style=\"color: black; font-family: &quot;Calibri(Body)&quot;, serif; font-size: 10.5pt;\">he top ten hosts with the most listings on Airbnb in the Barossa Valley region, have a high proportion of their properties located in the towns of Tanunda, Angaston and Bethany respectively, with 34.25%, 20.55% and 9.59%. This suggests that these hosts have a significant presence in these regions and could indicate a competitive market in those specific areas.</span>\n",
                "\n",
                "\\-T<span style=\"color: black; font-family: &quot;Calibri(Body)&quot;, serif; font-size: 10.5pt;\">he host \"Kym\" has a significant presence on Airbnb in the Barossa Valley region, with 17 listings, which is among the highest number of listings in the region. Kym's properties have generated an outstanding annual gross revenue of $3M, which is a result of his strategy to invest in luxury properties in the region. Furthermore, Kym also owns 3 of the most expensive properties on the listings, located in Tanunda.</span>"
            ],
            "metadata": {
                "language": "sql",
                "azdata_cell_guid": "c2f6322c-9df1-4a19-acb1-8b1b2458e471"
            },
            "attachments": {}
        },
        {
            "cell_type": "markdown",
            "source": [
                "**5\\. REFERENCES**"
            ],
            "metadata": {
                "language": "sql",
                "azdata_cell_guid": "3f21a97b-e304-4cde-b04f-7c4d38b4de8d"
            },
            "attachments": {}
        },
        {
            "cell_type": "markdown",
            "source": [
                "<span lang=\"EN-AU\" style=\"font-size:10.5pt;\n",
                "font-family:&quot;Calibri(Body)&quot;,serif;mso-fareast-font-family:&quot;Times New Roman&quot;;\n",
                "mso-bidi-font-family:&quot;Segoe UI&quot;;color:black;mso-color-alt:windowtext;\n",
                "mso-ansi-language:EN-AU;mso-fareast-language:PT-BR\">Inside Airbnb (n.d.). Inside Airbnb: Data [online]. Inside Airbnb. Available at: http://insideairbnb.com/get-the-data/ [15/01/2023].<br></span>\n",
                "\n",
                "<span lang=\"EN-AU\" style=\"font-size:10.5pt;\n",
                "font-family:&quot;Calibri(Body)&quot;,serif;mso-fareast-font-family:&quot;Times New Roman&quot;;\n",
                "mso-bidi-font-family:&quot;Segoe UI&quot;;color:black;mso-color-alt:windowtext;\n",
                "mso-ansi-language:EN-AU;mso-fareast-language:PT-BR\">South Australia (n.d.). Destinations: Barossa [online]. South Australia. Available at: https://southaustralia.com/destinations/barossa [22/01/2023].</span>\n",
                "\n",
                "<span style=\"color: black; font-family: &quot;Calibri(Body)&quot;, serif; font-size: 10.5pt;\">Australia.com (n.d.). Guide to the Barossa Valley [online]. Australia. Available at: https://www.australia.com/en/places/adelaide-and-surrounds/guide-to-the-barossa-valley.html [23/01/2023].</span>\n",
                "\n",
                "<span lang=\"EN-AU\" style=\"font-size:10.5pt;\n",
                "font-family:&quot;Calibri(Body)&quot;,serif;mso-fareast-font-family:&quot;Times New Roman&quot;;\n",
                "mso-bidi-font-family:&quot;Segoe UI&quot;;color:black;mso-color-alt:windowtext;\n",
                "mso-ansi-language:EN-AU;mso-fareast-language:PT-BR\"><br></span>"
            ],
            "metadata": {
                "language": "sql",
                "azdata_cell_guid": "62493c16-1fbd-4a02-a39b-99b7ca273523"
            },
            "attachments": {}
        }
    ]
}